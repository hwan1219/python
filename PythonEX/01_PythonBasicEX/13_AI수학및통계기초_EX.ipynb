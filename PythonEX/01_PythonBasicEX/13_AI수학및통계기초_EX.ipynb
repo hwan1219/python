{
 "cells": [
  {
   "cell_type": "code",
   "execution_count": null,
   "metadata": {},
   "outputs": [],
   "source": [
    "# Q1\n",
    "'''\n",
    "- 행렬 계산기 구현\n",
    "목표: 두 개의 2x2 행렬을 정의하고, 행렬 연산(덧셈, 뺄셈, 곱셈, 전치)을 수행\n",
    "행렬 A: [1,2], [3,4]\n",
    "행렬 B: [3,4], [7,8]\n",
    "'''"
   ]
  },
  {
   "cell_type": "code",
   "execution_count": null,
   "metadata": {},
   "outputs": [],
   "source": [
    "# Q2\n",
    "'''\n",
    "- 벡터 내적과 코사인 유사도\n",
    "목표: 두 벡터의 내적과 크기를 이용해 코사인 유사도를 계산\n",
    "코사인 유사도는 문서 유사도 계산, 검색 엔진 등에 자주 쓰이는 개념\n",
    "벡터1: [1, 2]\n",
    "벡터2: [2, 3]\n",
    "'''"
   ]
  },
  {
   "cell_type": "code",
   "execution_count": null,
   "metadata": {},
   "outputs": [],
   "source": [
    "# Q3\n",
    "'''\n",
    "- 함수 미분 시각화\n",
    "목표: 함수 f(x) = x^2 와 그 도함수 f'(x)를 시각화하여 미분 개념을 직관적으로 이해\n",
    "수치 미분(np.gradient)을 통해 도함수를 근사\n",
    "'''"
   ]
  },
  {
   "cell_type": "code",
   "execution_count": null,
   "metadata": {},
   "outputs": [],
   "source": [
    "# Q4\n",
    "'''\n",
    "- 정규분포 시뮬레이션\n",
    "목표: 평균: 0, 표준편차: 1 인 정규분포에서 데이터를 추출(샘플 1000개)하고 히스토그램으로 시각화\n",
    "'''"
   ]
  },
  {
   "cell_type": "code",
   "execution_count": null,
   "metadata": {},
   "outputs": [],
   "source": [
    "# Q5\n",
    "'''\n",
    "목표: 주사위를 10,000번 던져서 눈금(1~6)의 빈도 분포를 확인\n",
    "'''"
   ]
  },
  {
   "cell_type": "code",
   "execution_count": null,
   "metadata": {},
   "outputs": [],
   "source": [
    "# Q6\n",
    "'''\n",
    "- 기초 통계량 계산기\n",
    "목표: 주어진 데이터 리스트에 대해 평균, 중앙값, 분산, 표준편차를 계산\n",
    "임의의 데이터 리스트: 3, 7, 2, 9, 4\n",
    "'''"
   ]
  }
 ],
 "metadata": {
  "kernelspec": {
   "display_name": "Python 3",
   "language": "python",
   "name": "python3"
  },
  "language_info": {
   "name": "python",
   "version": "3.12.9"
  }
 },
 "nbformat": 4,
 "nbformat_minor": 2
}
