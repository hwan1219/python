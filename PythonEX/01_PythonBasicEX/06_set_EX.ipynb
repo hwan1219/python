{
 "cells": [
  {
   "cell_type": "code",
   "execution_count": null,
   "metadata": {},
   "outputs": [],
   "source": [
    "# Q1\n",
    "\"\"\"\n",
    "- 공통 요소 추출기\n",
    "두개의 숫자 리스트가 주어졌을 때, 두 리스트에 모두 존재하는 숫자들을 구하세요\n",
    "list1 = [1, 2, 3, 4, 5]\n",
    "list2 = [4, 5, 6, 7, 8]\n",
    "공통요소: {4, 5}\n",
    "\"\"\""
   ]
  },
  {
   "cell_type": "code",
   "execution_count": null,
   "metadata": {},
   "outputs": [],
   "source": [
    "# Q2\n",
    "\"\"\"\n",
    "- 중복 제거 이름 필터\n",
    "이름 리스트에 중복된 이름이 있을 때, 중복을 제거하고 유일한 이름만 출력\n",
    "names = ['Alice', 'Bob', 'Charlie', 'Alice', 'Bob']\n",
    "중복 제거 결과: {'Alice', 'Charlie', 'Bob'}\n",
    "\"\"\""
   ]
  },
  {
   "cell_type": "code",
   "execution_count": null,
   "metadata": {},
   "outputs": [],
   "source": [
    "# Q3\n",
    "\"\"\"\n",
    "- 과목 선택 분석기\n",
    "여러 학생이 선택한 과목 중 모두가 공통으로 선택한 과목을 구하세요\n",
    "student = [\n",
    "  {'Math', 'Science', 'English'},\n",
    "  {'Math', 'Art', 'Science'},\n",
    "  {'Math', 'Science'}\n",
    "]\n",
    "모두가 선택한 과목 : {'Math', 'Science'}\n",
    "\"\"\""
   ]
  },
  {
   "cell_type": "code",
   "execution_count": null,
   "metadata": {},
   "outputs": [],
   "source": [
    "# Q4\n",
    "\"\"\"\n",
    "- 알파벳 추출기\n",
    "문장에서 중복되지 않은 알파벳만 소문자로 출력하세요\n",
    "text = \"Hello, Set in Python!\"\n",
    "문자에 포함된 알파벳: {'n', 't', 'i' , 'p', 'h', 'y', 's', 'e', 'l', 'o'}\n",
    "\"\"\""
   ]
  },
  {
   "cell_type": "code",
   "execution_count": null,
   "metadata": {},
   "outputs": [],
   "source": [
    "# Q5\n",
    "\"\"\"\n",
    "- 대소문자 무시 중복 체크\n",
    "단어 리스트에서 대소문자를 구분하지 않고 중복된 단어를 제거\n",
    "words = ['Python', 'python', 'PYTHON', 'Java', 'JAVA']\n",
    "대소문자 구분 없이 중복 제거 결과: {'python', 'java'}\n",
    "\"\"\""
   ]
  },
  {
   "cell_type": "code",
   "execution_count": null,
   "metadata": {},
   "outputs": [],
   "source": [
    "# Q6\n",
    "\"\"\"\n",
    "- 빠진 번호 찾기\n",
    "1부터 10까지의 숫자 중 주어진 리스트에 없는 숫자를 찾아 출력하세요\n",
    "numbers = [1, 2, 3, 5, 6, 8, 10]\n",
    "빠진 번호: {9, 4, 7}\n",
    "\"\"\""
   ]
  },
  {
   "cell_type": "code",
   "execution_count": null,
   "metadata": {},
   "outputs": [],
   "source": [
    "# Q7\n",
    "\"\"\"\n",
    "- 뉴스 기사 키워드 분석기\n",
    "여러 뉴스 기사에서 공통 키워드와 유일 키워드를 추출\n",
    "각 뉴스 기사에서 추출한 키워드\n",
    "article1 = {'AI', 'Python', 'OpenAI', 'ChatGPT'}\n",
    "article2 = {'Python', 'AI', 'Deep Learning', 'NLP'}\n",
    "article3 = {'Python', 'AI', 'Robotics', 'Automation'}\n",
    "공통 키워드: {'AI', 'Python'}\n",
    "유일 키워드: {'Deep Learning', 'Robotics', 'Automation', 'chatGPT', 'OpenAI', 'NLP'}\n",
    "\"\"\""
   ]
  }
 ],
 "metadata": {
  "kernelspec": {
   "display_name": "Python 3",
   "language": "python",
   "name": "python3"
  },
  "language_info": {
   "name": "python",
   "version": "3.12.9"
  }
 },
 "nbformat": 4,
 "nbformat_minor": 2
}
