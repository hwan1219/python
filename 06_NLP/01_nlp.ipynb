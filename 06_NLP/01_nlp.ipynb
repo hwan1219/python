{
 "cells": [
  {
   "cell_type": "code",
   "execution_count": null,
   "metadata": {},
   "outputs": [],
   "source": [
    "#\n",
    "#\n",
    "# 1 ~ 4\n",
    "#\n",
    "#"
   ]
  },
  {
   "cell_type": "code",
   "execution_count": null,
   "metadata": {},
   "outputs": [],
   "source": [
    "# 5-1 기본 실습\n",
    "\n",
    "# SimpleRNN (기본 순환 구조)\n",
    "'''\n",
    "숫자 시퀀스 예측\n",
    "입력: [1, 2, 3] → 출력: 4\n",
    "입력: [2, 3, 4] → 출력: 5\n",
    "입력: [3, 4, 5] → 출력: 6\n",
    "'''\n",
    "\n",
    "import numpy as np\n",
    "import tensorflow as tf\n",
    "from tensorflow.keras.models import Sequential\n",
    "from tensorflow.keras.layers import Input, SimpleRNN, Dense\n",
    "\n",
    "# 시계열 데이터처럼 연속된 숫자를 기반으로 다음 값을 예측하는 문제\n",
    "\n",
    "# 1. 데이터 준비\n",
    "# 입력 시퀀스 (4개 샘플, 각 샘플은 길이 3인 시퀀스)\n",
    "# 정답 (각 시퀀스의 다음 숫자)\n",
    "def create_data(i):\n",
    "  train_list = []\n",
    "  val_list = []\n",
    "  for j in range(1, i+1):\n",
    "    train = [j, j+1, j+2]\n",
    "    train_list.append(train)\n",
    "    val = j+3\n",
    "    val_list.append(val)\n",
    "  train_list = np.array(train_list)\n",
    "  val_list = np.array(val_list)\n",
    "  return train_list, val_list\n",
    "X, y = create_data(4)\n",
    "\n",
    "# RNN 입력형태로 reshape: (샘플 수, 타임스텝 수, 특성 수)\n",
    "# 숫자 하나씩 보므로 특성(feature)은 1\n",
    "X = X.reshape((-1, 3, 1))\n",
    "\n",
    "# 2. 모델 구성\n",
    "model = Sequential()\n",
    "# Input 레이어로 입력 형태를 명시 (3타임스텝, 1특성)\n",
    "# SimpleRNN 레이어 (유닛 10개, 활성화함수: relu)\n",
    "# Dense 출력층 (출력 노드 1개: 다음 숫자 1개 예측)\n",
    "model.add(Input(shape=(3, 1)))\n",
    "model.add(SimpleRNN(32, activation='relu'))\n",
    "model.add(Dense(1))\n",
    "\n",
    "# 3. 모델 컴파일\n",
    "# optimizer = 'adam': 최적화 알고리즘\n",
    "# loss = 'mse': 회귀 문제이므로 평균제곱오차 사용\n",
    "model.compile(\n",
    "  optimizer = 'adam',\n",
    "  loss = 'mse',\n",
    "  metrics = ['mae']\n",
    ")\n",
    "\n",
    "# 4. 모델 학습\n",
    "# epochs = 200: 반복 횟수\n",
    "# verbose = 0: 진행 상황 출력 생략(0)\n",
    "model.fit(\n",
    "  X, y,\n",
    "  epochs = 200,\n",
    "  verbose = 1\n",
    ")\n",
    "\n",
    "# 5. 예측\n",
    "# 예측 대상 시퀀스: [5, 6, 7]\n",
    "# 샘플 수 차원 추가 필요\n",
    "test_input = np.array([5, 6, 7]).reshape((1, 3, 1))\n",
    "\n",
    "# 예측 수행\n",
    "predicted = model.predict(test_input, verbose=0)\n",
    "print(\"예측결과:\", predicted[0][0])"
   ]
  },
  {
   "cell_type": "code",
   "execution_count": null,
   "metadata": {},
   "outputs": [],
   "source": []
  },
  {
   "cell_type": "code",
   "execution_count": null,
   "metadata": {},
   "outputs": [],
   "source": []
  },
  {
   "cell_type": "code",
   "execution_count": null,
   "metadata": {},
   "outputs": [],
   "source": []
  },
  {
   "cell_type": "code",
   "execution_count": null,
   "metadata": {},
   "outputs": [],
   "source": []
  }
 ],
 "metadata": {
  "kernelspec": {
   "display_name": "Python 3",
   "language": "python",
   "name": "python3"
  },
  "language_info": {
   "codemirror_mode": {
    "name": "ipython",
    "version": 3
   },
   "file_extension": ".py",
   "mimetype": "text/x-python",
   "name": "python",
   "nbconvert_exporter": "python",
   "pygments_lexer": "ipython3",
   "version": "3.12.9"
  }
 },
 "nbformat": 4,
 "nbformat_minor": 2
}
