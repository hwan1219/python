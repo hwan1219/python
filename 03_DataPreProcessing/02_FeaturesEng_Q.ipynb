{
 "cells": [
  {
   "cell_type": "code",
   "execution_count": null,
   "metadata": {},
   "outputs": [],
   "source": [
    "# 특성 공학(Features Engineering)\n",
    "\n",
    "# features = 컬럼(변수)\n",
    "# 모델 성능 향상을 위해 feature 를 선택/생성/변환"
   ]
  },
  {
   "cell_type": "code",
   "execution_count": null,
   "metadata": {},
   "outputs": [],
   "source": [
    "# 데이터 로딩\n",
    "\n",
    "import seaborn as sns\n",
    "import pandas as pd\n",
    "\n",
    "pd.set_option('display.width', 200)\n",
    "\n",
    "df = sns.load_dataset('titanic')\n",
    "\n",
    "print(\"데이터셋 크기:\", df.shape)\n",
    "print(df.head(3))"
   ]
  },
  {
   "cell_type": "code",
   "execution_count": null,
   "metadata": {},
   "outputs": [],
   "source": [
    "# 결측치 확인\n",
    "\n",
    "import seaborn as sns\n",
    "\n",
    "df = sns.load_dataset('titanic')\n",
    "\n",
    "missing = df.isnull().sum().sort_values(ascending=False)\n",
    "print(missing)"
   ]
  },
  {
   "cell_type": "code",
   "execution_count": null,
   "metadata": {},
   "outputs": [],
   "source": [
    "# 불필요한 변수 제거\n",
    "\n",
    "# deck - 결측치 많음\n",
    "# alive - survived 와 중복\n",
    "# embark_town - embarked 와 중복\n",
    "# who/adult_male - sex 와 중복\n",
    "\n",
    "import seaborn as sns\n",
    "\n",
    "df = sns.load_dataset('titanic')\n",
    "\n",
    "df_clean = df.drop(columns=['deck', 'alive', 'embark_town', 'who', 'adult_male'])\n",
    "\n",
    "print('정제된 변수 목록:')\n",
    "\n",
    "# print(df_clean.columns.tolist())\n",
    "for clean in df_clean:\n",
    "  print(clean)\n",
    "# for문에서 실제로 반복되는 대상은 df_clean 자체가 아니라, df_clean.__iter__()가 반환하는 값\n",
    "# 그리고 그 값은 df_clean.columns (컬럼 이름들)"
   ]
  },
  {
   "cell_type": "code",
   "execution_count": null,
   "metadata": {},
   "outputs": [],
   "source": [
    "# 2. 수치형 변수 전처리 (스케일링, 이상치 처리 등)\n",
    "\n",
    "import pandas as pd\n",
    "import seaborn as sns\n",
    "from sklearn.preprocessing import StandardScaler\n",
    "\n",
    "pd.set_option('display.width', 200)\n",
    "\n",
    "# 데이터 로드\n",
    "df = sns.load_dataset('titanic')\n",
    "df = df.dropna(subset=['age', 'fare'])\n",
    "df = df.drop(columns=['deck', 'alive', 'embark_town', 'who', 'adult_male'])\n",
    "print(df.head())\n",
    "\n",
    "# 스케일링 적용\n",
    "scaler = StandardScaler()\n",
    "df[['age_scaled', 'fare_scaled']] = scaler.fit_transform(df[['age', 'fare']])\n",
    "display(df[['age_scaled', 'fare_scaled']].describe())\n",
    "\n",
    "# 이상치 확인 - IQR 방식\n",
    "Q1 = df['fare'].quantile(0.25)\n",
    "Q3 = df['fare'].quantile(0.75)\n",
    "IQR = Q3-Q1\n",
    "lower = Q1 - IQR * 1.5\n",
    "upper = Q3 + IQR * 1.5\n",
    "\n",
    "# 이상치 제거\n",
    "df_out = df[\n",
    "  (df['fare'] > lower) & (df['fare'] < upper)\n",
    "]\n",
    "print(\"이상치 제거 후 데이터 크기:\", df_out.shape)"
   ]
  },
  {
   "cell_type": "code",
   "execution_count": null,
   "metadata": {},
   "outputs": [],
   "source": [
    "# 2-3 수치형 변수 전처리\n",
    "# age, fare 의 이상치 제거 및 스케일링 적용\n",
    "\n",
    "from sklearn.preprocessing import StandardScaler\n",
    "\n",
    "df = sns.load_dataset('titanic')\n",
    "\n",
    "df = df.dropna(subset=['age', 'fare'])\n",
    "\n",
    "df2 = df.dropna(subset=['age', 'fare'])\n",
    "scaler = StandardScaler()\n",
    "df2[['age_scaled', 'fare_scaled']] = scaler.fit_transform(df2[['age', 'fare']])\n",
    "df2[['age_scaled', 'fare_scaled']].describe()"
   ]
  },
  {
   "cell_type": "code",
   "execution_count": null,
   "metadata": {},
   "outputs": [],
   "source": [
    "# 범주형 변수 처리\n",
    "\n",
    "# 수치가 아닌 분류(Classification)를 나타내는 변수\n",
    "# ex) sex, embarked, class, pclass\n",
    "\n",
    "# 변수 처리 방법\n",
    "# 설명, \\n, 예시 / 사용 시기\n",
    "\n",
    "# Label Encoding - 범주를 정수로 매핑, 알파벳 순 변환\n",
    "# male → 1, female → 0 / 순서가 있을 때\n",
    "\n",
    "# One_Hot Encoding - 각 범주마다 이진 컬럼 생성\n",
    "# 아래 사진 참고 / 순서가 없을 때\n",
    "\n",
    "# get_dummies - Pandas 함수, One-Hot 방식\n",
    "# pd.get_dummies(df, ...) / 간편하게 처리하고 싶을 때"
   ]
  },
  {
   "cell_type": "code",
   "execution_count": null,
   "metadata": {},
   "outputs": [],
   "source": [
    "from IPython.display import Image\n",
    "Image(filename='image/OneHot_Encoding.jpg', width=1000)"
   ]
  },
  {
   "cell_type": "code",
   "execution_count": null,
   "metadata": {},
   "outputs": [],
   "source": [
    "# 데이터 로드\n",
    "\n",
    "import seaborn as sns\n",
    "\n",
    "df = sns.load_dataset('titanic')\n",
    "\n",
    "df = df.drop(columns=['deck', 'alive', 'embark_town', 'who', 'adult_male'])\n",
    "df = df.dropna(subset=[\"age\", \"fare\", \"embarked\", \"sex\", \"class\"])"
   ]
  },
  {
   "cell_type": "code",
   "execution_count": null,
   "metadata": {},
   "outputs": [],
   "source": [
    "# Label Encoding for 'sex'\n",
    "\n",
    "import seaborn as sns\n",
    "from sklearn.preprocessing import LabelEncoder\n",
    "\n",
    "df = sns.load_dataset('titanic')\n",
    "\n",
    "df = df.drop(columns=['deck', 'alive', 'embark_town', 'who', 'adult_male'])\n",
    "df = df.dropna(subset=[\"age\", \"fare\", \"embarked\", \"sex\", \"class\"])\n",
    "\n",
    "le = LabelEncoder()\n",
    "df['sex_encoded'] = le.fit_transform(df['sex'])\n",
    "display(df[['sex', 'sex_encoded']].head())\n",
    "# 알파벳 순서대로 변환 A = 0, B = 1"
   ]
  },
  {
   "cell_type": "code",
   "execution_count": null,
   "metadata": {},
   "outputs": [],
   "source": [
    "# One-hot encoding for 'embarked' and 'class'\n",
    "\n",
    "import pandas as pd\n",
    "import seaborn as sns\n",
    "from sklearn.preprocessing import LabelEncoder\n",
    "\n",
    "df = sns.load_dataset('titanic')\n",
    "\n",
    "df = df.drop(columns=['deck', 'alive', 'embark_town', 'who', 'adult_male'])\n",
    "df = df.dropna(subset=[\"age\", \"fare\", \"embarked\", \"sex\", \"class\"])\n",
    "\n",
    "df_onehot = pd.get_dummies(df, columns=['embarked', 'class'], drop_first=True)\n",
    "display(df_onehot)\n",
    "\n",
    "print(\"One-Hot Encoding 후 컬럼:\")\n",
    "for col_list in df_onehot:\n",
    "  print(col_list)"
   ]
  },
  {
   "cell_type": "code",
   "execution_count": null,
   "metadata": {},
   "outputs": [],
   "source": []
  }
 ],
 "metadata": {
  "kernelspec": {
   "display_name": "Python 3",
   "language": "python",
   "name": "python3"
  },
  "language_info": {
   "codemirror_mode": {
    "name": "ipython",
    "version": 3
   },
   "file_extension": ".py",
   "mimetype": "text/x-python",
   "name": "python",
   "nbconvert_exporter": "python",
   "pygments_lexer": "ipython3",
   "version": "3.12.9"
  }
 },
 "nbformat": 4,
 "nbformat_minor": 2
}
