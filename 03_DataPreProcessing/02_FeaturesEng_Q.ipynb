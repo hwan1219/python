{
 "cells": [
  {
   "cell_type": "code",
   "execution_count": null,
   "metadata": {},
   "outputs": [],
   "source": [
    "# 특성 공학(Features Engineering)\n",
    "\n",
    "# features = 컬럼(변수)\n",
    "# 모델 성능 향상을 위해 feature 를 선택/생성/변환"
   ]
  },
  {
   "cell_type": "code",
   "execution_count": null,
   "metadata": {},
   "outputs": [],
   "source": [
    "# 데이터 로딩\n",
    "\n",
    "import seaborn as sns\n",
    "import pandas as pd\n",
    "\n",
    "pd.set_option('display.width', 200)\n",
    "\n",
    "df = sns.load_dataset('titanic')\n",
    "\n",
    "print(\"데이터셋 크기:\", df.shape)\n",
    "print(df.head(3))"
   ]
  },
  {
   "cell_type": "code",
   "execution_count": null,
   "metadata": {},
   "outputs": [],
   "source": [
    "# 결측치 확인\n",
    "\n",
    "import seaborn as sns\n",
    "\n",
    "df = sns.load_dataset('titanic')\n",
    "\n",
    "missing = df.isnull().sum().sort_values(ascending=False)\n",
    "print(missing)"
   ]
  },
  {
   "cell_type": "code",
   "execution_count": null,
   "metadata": {},
   "outputs": [],
   "source": [
    "# 불필요한 변수 제거\n",
    "\n",
    "# deck - 결측치 많음\n",
    "# alive - survived 와 중복\n",
    "# embark_town - embarked 와 중복\n",
    "# who/adult_male - sex 와 중복\n",
    "\n",
    "import seaborn as sns\n",
    "\n",
    "df = sns.load_dataset('titanic')\n",
    "\n",
    "df_clean = df.drop(columns=['deck', 'alive', 'embark_town', 'who', 'adult_male'])\n",
    "\n",
    "print('정제된 변수 목록:')\n",
    "\n",
    "# print(df_clean.columns.tolist())\n",
    "for clean in df_clean:\n",
    "  print(clean)\n",
    "# for문에서 실제로 반복되는 대상은 df_clean 자체가 아니라, df_clean.__iter__()가 반환하는 값\n",
    "# 그리고 그 값은 df_clean.columns (컬럼 이름들)"
   ]
  },
  {
   "cell_type": "code",
   "execution_count": null,
   "metadata": {},
   "outputs": [],
   "source": [
    "# 2. 수치형 변수 전처리 (스케일링, 이상치 처리 등)\n",
    "\n",
    "import pandas as pd\n",
    "import seaborn as sns\n",
    "from sklearn.preprocessing import StandardScaler\n",
    "\n",
    "pd.set_option('display.width', 200)\n",
    "\n",
    "# 데이터 로드\n",
    "df = sns.load_dataset('titanic')\n",
    "df = df.dropna(subset=['age', 'fare'])\n",
    "df = df.drop(columns=['deck', 'alive', 'embark_town', 'who', 'adult_male'])\n",
    "print(df.head())\n",
    "\n",
    "# 스케일링 적용\n",
    "scaler = StandardScaler()\n",
    "df[['age_scaled', 'fare_scaled']] = scaler.fit_transform(df[['age', 'fare']])\n",
    "display(df[['age_scaled', 'fare_scaled']].describe())\n",
    "\n",
    "# 이상치 확인 - IQR 방식\n",
    "Q1 = df['fare'].quantile(0.25)\n",
    "Q3 = df['fare'].quantile(0.75)\n",
    "IQR = Q3-Q1\n",
    "lower = Q1 - IQR * 1.5\n",
    "upper = Q3 + IQR * 1.5\n",
    "\n",
    "# 이상치 제거\n",
    "df_out = df[\n",
    "  (df['fare'] > lower) & (df['fare'] < upper)\n",
    "]\n",
    "print(\"이상치 제거 후 데이터 크기:\", df_out.shape)"
   ]
  },
  {
   "cell_type": "code",
   "execution_count": null,
   "metadata": {},
   "outputs": [],
   "source": [
    "# 2-3 수치형 변수 전처리\n",
    "# age, fare 의 이상치 제거 및 스케일링 적용\n",
    "\n",
    "from sklearn.preprocessing import StandardScaler\n",
    "\n",
    "df = sns.load_dataset('titanic')\n",
    "\n",
    "df = df.dropna(subset=['age', 'fare'])\n",
    "\n",
    "df2 = df.dropna(subset=['age', 'fare'])\n",
    "scaler = StandardScaler()\n",
    "df2[['age_scaled', 'fare_scaled']] = scaler.fit_transform(df2[['age', 'fare']])\n",
    "df2[['age_scaled', 'fare_scaled']].describe()"
   ]
  },
  {
   "cell_type": "code",
   "execution_count": null,
   "metadata": {},
   "outputs": [],
   "source": [
    "# 범주형 변수 처리\n",
    "\n",
    "# 수치가 아닌 분류(Classification)를 나타내는 변수\n",
    "# ex) sex, embarked, class, pclass\n",
    "\n",
    "# 변수 처리 방법\n",
    "# 설명, \\n, 예시 / 사용 시기\n",
    "\n",
    "# Label Encoding - 범주를 정수로 매핑, 알파벳 순 변환\n",
    "# male → 1, female → 0 / 순서가 있을 때\n",
    "\n",
    "# One_Hot Encoding - 각 범주마다 이진 컬럼 생성\n",
    "# 아래 사진 참고 / 순서가 없을 때\n",
    "\n",
    "# get_dummies - Pandas 함수, One-Hot 방식\n",
    "# pd.get_dummies(df, ...) / 간편하게 처리하고 싶을 때"
   ]
  },
  {
   "cell_type": "code",
   "execution_count": null,
   "metadata": {},
   "outputs": [],
   "source": [
    "from IPython.display import Image\n",
    "Image(filename='image/OneHot_Encoding.jpg', width=1000)"
   ]
  },
  {
   "cell_type": "code",
   "execution_count": null,
   "metadata": {},
   "outputs": [],
   "source": [
    "# 데이터 로드\n",
    "\n",
    "import seaborn as sns\n",
    "\n",
    "df = sns.load_dataset('titanic')\n",
    "\n",
    "df = df.drop(columns=['deck', 'alive', 'embark_town', 'who', 'adult_male'])\n",
    "df = df.dropna(subset=[\"age\", \"fare\", \"embarked\", \"sex\", \"class\"])"
   ]
  },
  {
   "cell_type": "code",
   "execution_count": null,
   "metadata": {},
   "outputs": [],
   "source": [
    "# Label Encoding for 'sex'\n",
    "\n",
    "import seaborn as sns\n",
    "from sklearn.preprocessing import LabelEncoder\n",
    "\n",
    "df = sns.load_dataset('titanic')\n",
    "\n",
    "df = df.drop(columns=['deck', 'alive', 'embark_town', 'who', 'adult_male'])\n",
    "df = df.dropna(subset=[\"age\", \"fare\", \"embarked\", \"sex\", \"class\"])\n",
    "\n",
    "le = LabelEncoder()\n",
    "df['sex_encoded'] = le.fit_transform(df['sex'])\n",
    "display(df[['sex', 'sex_encoded']].head())\n",
    "# 알파벳 순서대로 변환 A = 0, B = 1"
   ]
  },
  {
   "cell_type": "code",
   "execution_count": null,
   "metadata": {},
   "outputs": [],
   "source": [
    "# One-hot encoding for 'embarked' and 'class'\n",
    "# get_dummies 메서드는 One-hot encoding을 자동으로 해주는 pandas의 내장 함수\n",
    "\n",
    "import pandas as pd\n",
    "import seaborn as sns\n",
    "\n",
    "df = sns.load_dataset('titanic')\n",
    "\n",
    "df = df.drop(columns=['deck', 'alive', 'embark_town', 'who', 'adult_male'])\n",
    "df = df.dropna(subset=[\"age\", \"fare\", \"embarked\", \"sex\", \"class\"])\n",
    "\n",
    "df_onehot = pd.get_dummies(df, columns=['embarked', 'class'], drop_first=True)\n",
    "display(df_onehot.head())\n",
    "\n",
    "print(\"One-Hot Encoding 후 컬럼:\")\n",
    "for col_list in df_onehot:\n",
    "  print(col_list)"
   ]
  },
  {
   "cell_type": "code",
   "execution_count": null,
   "metadata": {},
   "outputs": [],
   "source": [
    "# 3-3 과제 - 범주형 변수 처리\n",
    "# sec, embarked, class를 one-hot encoding 처리\n",
    "\n",
    "import pandas as pd\n",
    "import seaborn as sns\n",
    "\n",
    "df = sns.load_dataset('titanic')\n",
    "\n",
    "df = df.drop(columns=['deck', 'alive', 'embark_town', 'who', 'adult_male'])\n",
    "df = df.dropna(subset=[\"age\", \"fare\", \"embarked\", \"sex\", \"class\"])\n",
    "\n",
    "df_onehot = pd.get_dummies(df, columns=['sex', 'embarked', 'class'], drop_first=True)\n",
    "display(df_onehot.head())"
   ]
  },
  {
   "cell_type": "code",
   "execution_count": null,
   "metadata": {},
   "outputs": [],
   "source": [
    "# 4. 파생 변수 생성\n",
    "\n",
    "# 1) 파생 변수란\n",
    "# 기존 변수를 가공해서 만든 새로운 의미의 변수(컬럼)\n",
    "# 데이터에 도메인 지식을 더하는 중요한 과정\n",
    "\n",
    "# 2) 파생 변수 생성 유형\n",
    "# 수치형 변환: 나이 → 연령대\n",
    "# 수치 조합: 요금 / 인원원\n",
    "# 그룹 통계: \n",
    "# 날짜 파생: \n",
    "\n",
    "# 3) \n",
    "# VarianceThreshold - 분산이 거의 없는 변수 제거\n",
    "# 상관관계 분석 - 서로 너무 유사한 변수(중복) 제거 \n",
    "# 모델 기반 중요도 - 모델이 학습하면서 파악한 중요도가 낮은 변수 제거"
   ]
  },
  {
   "cell_type": "code",
   "execution_count": null,
   "metadata": {},
   "outputs": [],
   "source": [
    "# 4-2 실습\n",
    "\n",
    "# 1. age_group 컬럼 생성\n",
    "# 2. fare_per_person 계산\n",
    "# 3. class 그룹별 평균 요금 추가\n",
    "# 4. 상관관계 기반 feature 확인"
   ]
  },
  {
   "cell_type": "code",
   "execution_count": null,
   "metadata": {},
   "outputs": [],
   "source": [
    "# titanic 데이터 로드 및 전처리\n",
    "\n",
    "import seaborn as sns\n",
    "\n",
    "df = sns.load_dataset('titanic')\n",
    "df = df.drop(columns=['deck', 'alive', 'embark_town', 'who', 'adult_male'])\n",
    "df = df.dropna(subset=['age', 'fare', 'embarked', 'sex', 'class'])"
   ]
  },
  {
   "cell_type": "code",
   "execution_count": null,
   "metadata": {},
   "outputs": [],
   "source": [
    "# 나이 구간화 (파생 변수 생성)\n",
    "\n",
    "import pandas as pd\n",
    "import seaborn as sns\n",
    "\n",
    "df = sns.load_dataset('titanic')\n",
    "df = df.drop(columns=['deck', 'alive', 'embark_town', 'who', 'adult_male'])\n",
    "df = df.dropna(subset=['age', 'fare', 'embarked', 'sex', 'class'])\n",
    "\n",
    "# age 컬럼 값, 즉 나이가 몇살까지 있는지 확인\n",
    "print(df['age'].sort_values(ascending=False).head())\n",
    "\n",
    "df['age_group'] = pd.cut(\n",
    "  df['age'],\n",
    "  bins=[0, 10, 20, 30, 40, 50, 60, 70, 80, 90],\n",
    "  labels=['10대미만', '10대', '20대', '30대', '40대', '50대', '60대', '70대', '80대']\n",
    ")\n",
    "display(df[['age', 'age_group']].head())"
   ]
  },
  {
   "cell_type": "code",
   "execution_count": null,
   "metadata": {},
   "outputs": [],
   "source": [
    "# 1인당 요금 계산\n",
    "\n",
    "import seaborn as sns\n",
    "\n",
    "df = sns.load_dataset('titanic')\n",
    "df = df.drop(columns=['deck', 'alive', 'embark_town', 'who', 'adult_male'])\n",
    "df = df.dropna(subset=['age', 'fare', 'embarked', 'sex', 'class'])\n",
    "\n",
    "df['fare_per_person'] = df['fare'] / (df['sibsp'] + df['parch'] + 1)\n",
    "display(df[['fare', 'sibsp', 'parch', 'fare_per_person']].head())"
   ]
  },
  {
   "cell_type": "code",
   "execution_count": null,
   "metadata": {},
   "outputs": [],
   "source": [
    "# 클래스별 평균 요금 추가\n",
    "\n",
    "import seaborn as sns\n",
    "\n",
    "df = sns.load_dataset('titanic')\n",
    "df = df.drop(columns=['deck', 'alive', 'embark_town', 'who', 'adult_male'])\n",
    "df = df.dropna(subset=['age', 'fare', 'embarked', 'sex', 'class'])\n",
    "\n",
    "df['class_fare_avg'] = df.groupby('class', observed=True)['fare'].transform('mean')\n",
    "# 그냥.mean()과 transform('mean')의 차이 검색\n",
    "display(df[['class', 'fare', 'class_fare_avg']].head())"
   ]
  },
  {
   "cell_type": "code",
   "execution_count": null,
   "metadata": {},
   "outputs": [],
   "source": [
    "# 상관관계 분석\n",
    "\n",
    "import matplotlib.pyplot as plt\n",
    "import matplotlib as mpl\n",
    "mpl.rcParams['font.family'] = 'Malgun Gothic'\n",
    "mpl.rcParams['axes.unicode_minus'] = False\n",
    "import seaborn as sns\n",
    "\n",
    "df = sns.load_dataset('titanic')\n",
    "df = df.drop(columns=['deck', 'alive', 'embark_town', 'who', 'adult_male'])\n",
    "df = df.dropna(subset=['age', 'fare', 'embarked', 'sex', 'class'])\n",
    "\n",
    "# select_dtypes(include=\"number\") - 수치형 데이터 추출\n",
    "numeric_cols = df.select_dtypes(include=\"number\")\n",
    "display(numeric_cols.head())\n",
    "\n",
    "corr = numeric_cols.corr()\n",
    "\n",
    "plt.figure(figsize=(10, 6))\n",
    "sns.heatmap(corr, annot=True, cmap='coolwarm', fmt='.2f')\n",
    "plt.title('Feature Correlation Matrix')\n",
    "plt.show()"
   ]
  },
  {
   "cell_type": "code",
   "execution_count": null,
   "metadata": {},
   "outputs": [],
   "source": [
    "# 4-3 과제 (파생 변수 생성)\n",
    "\n",
    "# 1. age_group 파생 (10대, 20대 등)\n",
    "# 2. fare_per_person = fare / sibsp + 1 생성\n",
    "# 3. 그룹별 평균 요금(class별) 파생\n",
    "\n",
    "import pandas as pd\n",
    "import seaborn as sns\n",
    "\n",
    "df = sns.load_dataset('titanic')\n",
    "df = df.drop(columns=['deck', 'alive', 'embark_town', 'who', 'adult_male'])\n",
    "df = df.dropna(subset=['age', 'fare', 'embarked', 'sex', 'class'])\n",
    "\n",
    "# 나이 구간\n",
    "df['age_group'] = pd.cut(\n",
    "  df['age'],\n",
    "  bins = [0, 10, 20, 30, 40, 50, 60, 70, 80, 90],\n",
    "  labels = [\n",
    "    '10대미만', '10대', '20대', '30대', '40대', '50대', '60대', '70대', '80대'\n",
    "  ]\n",
    ")\n",
    "\n",
    "# 1인당 요금\n",
    "df['fare_per_person'] = df['fare'] / (df['sibsp'] + df['parch'] + 1)\n",
    "\n",
    "# class 별 평균 요금\n",
    "df['class_fare_avg'] = df.groupby('class', observed=True)['fare'].transform('mean')\n",
    "\n",
    "display(df[['age', 'age_group', 'fare', 'fare_per_person', 'class_fare_avg']].head())"
   ]
  },
  {
   "cell_type": "code",
   "execution_count": null,
   "metadata": {},
   "outputs": [],
   "source": []
  }
 ],
 "metadata": {
  "kernelspec": {
   "display_name": "Python 3",
   "language": "python",
   "name": "python3"
  },
  "language_info": {
   "codemirror_mode": {
    "name": "ipython",
    "version": 3
   },
   "file_extension": ".py",
   "mimetype": "text/x-python",
   "name": "python",
   "nbconvert_exporter": "python",
   "pygments_lexer": "ipython3",
   "version": "3.12.9"
  }
 },
 "nbformat": 4,
 "nbformat_minor": 2
}
