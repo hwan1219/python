{
 "cells": [
  {
   "cell_type": "code",
   "execution_count": null,
   "metadata": {},
   "outputs": [],
   "source": [
    "# 데이터 전처리\n",
    "# sns.load_dataset(\"titanic\")"
   ]
  },
  {
   "cell_type": "code",
   "execution_count": null,
   "metadata": {},
   "outputs": [],
   "source": [
    "# 데이터 불러오기(\"titanic\")\n",
    "\n",
    "import seaborn as sns\n",
    "\n",
    "df = sns.load_dataset(\"titanic\")\n",
    "\n",
    "display(df.head())\n",
    "display(df.tail())"
   ]
  },
  {
   "cell_type": "code",
   "execution_count": null,
   "metadata": {},
   "outputs": [],
   "source": [
    "# 전처리 전 데이터 통계 확인\n",
    "\n",
    "import pandas as pd\n",
    "import seaborn as sns\n",
    "\n",
    "df = sns.load_dataset(\"titanic\")\n",
    "\n",
    "display(df.describe())"
   ]
  },
  {
   "cell_type": "code",
   "execution_count": null,
   "metadata": {},
   "outputs": [],
   "source": [
    "# 결측치 확인\n",
    "\n",
    "import seaborn as sns\n",
    "\n",
    "df = sns.load_dataset(\"titanic\")\n",
    "\n",
    "df = df.isnull().sum()\n",
    "\n",
    "display(df)\n"
   ]
  },
  {
   "cell_type": "code",
   "execution_count": null,
   "metadata": {},
   "outputs": [],
   "source": [
    "import seaborn as sns\n",
    "\n",
    "df = sns.load_dataset(\"titanic\")\n",
    "\n",
    "# deck - 컬럼 제거\n",
    "df_cleaned = df.drop(columns=['deck'])\n",
    "display(df_cleaned.head())\n",
    "\n",
    "# age - 중위값 대체\n",
    "df_cleaned['age'] = df_cleaned['age'].fillna(df['age'].median())\n",
    "display(df_cleaned.isnull().sum())\n",
    "\n",
    "# embarked - 최빈값 대체\n",
    "df_cleaned['embarked'] = df_cleaned['embarked'].fillna(df['embarked'].mode()[0])\n",
    "display(df_cleaned.isnull().sum())\n",
    "\n",
    "# embarked_town - 결측값 행 삭제\n",
    "df_cleaned = df_cleaned.dropna(subset=['embark_town'])\n",
    "display(df_cleaned.isnull().sum())\n",
    "\n",
    "# 전처리 후 통계\n",
    "print(\"\\n전처리 후 통계:\")\n",
    "display(df_cleaned.describe(include='all'))"
   ]
  },
  {
   "cell_type": "code",
   "execution_count": null,
   "metadata": {},
   "outputs": [],
   "source": [
    "import matplotlib.pyplot as plt\n",
    "import matplotlib as mpl\n",
    "mpl.rcParams['font.family'] = 'Malgun Gothic'\n",
    "mpl.rcParams['axes.unicode_minus'] = False\n",
    "import seaborn as sns\n",
    "\n",
    "df = sns.load_dataset(\"titanic\")\n",
    "df_cleaned = df.drop(columns=['deck'])\n",
    "df_cleaned['age'] = df_cleaned['age'].fillna(df['age'].median())\n",
    "df_cleaned['embarked'] = df_cleaned['embarked'].fillna(df['embarked'].mode()[0])\n",
    "df_cleaned = df_cleaned.dropna(subset=['embark_town'])\n",
    "\n",
    "\n",
    "fig, axes = plt.subplots(1, 2, figsize=(12, 5))\n",
    "\n",
    "sns.histplot(df['age'], kde=True, ax=axes[0])\n",
    "axes[0].set_title(\"전처리 전 - Age 분포\")\n",
    "\n",
    "sns.histplot(df_cleaned['age'], kde=True, ax=axes[1])\n",
    "axes[1].set_title(\"전처리 후 - Age 분포\")\n",
    "\n",
    "plt.tight_layout()\n",
    "plt.show()"
   ]
  },
  {
   "cell_type": "code",
   "execution_count": null,
   "metadata": {},
   "outputs": [],
   "source": [
    "# df.info()를 사용해 결측치가 많은 컬럼은 무엇인지 확인\n",
    "\n",
    "import seaborn as sns\n",
    "\n",
    "# 데이터 불러오기\n",
    "df = sns.load_dataset(\"titanic\")\n",
    "\n",
    "# info()로 전체 데이터 개요 및 결측치 확인\n",
    "df.info()"
   ]
  },
  {
   "cell_type": "code",
   "execution_count": null,
   "metadata": {},
   "outputs": [],
   "source": [
    "# df['fare']에 대한 전처리 전후의 평균값을 비교\n",
    "\n",
    "import seaborn as sns\n",
    "\n",
    "df = sns.load_dataset(\"titanic\")\n",
    "\n",
    "# 전처리 전 평균\n",
    "mean_before = df['fare'].mean()\n",
    "\n",
    "# 전처리 후\n",
    "df_cleaned = df.copy()\n",
    "df_cleaned = df_cleaned.drop(columns=['deck'])\n",
    "df_cleaned['age'] = df_cleaned['age'].fillna(df['age'].median())\n",
    "df_cleaned['embarked'] = df_cleaned['embarked'].fillna(df['embarked'].mode()[0])\n",
    "df_cleaned = df_cleaned.dropna(subset=['embark_town'])\n",
    "mean_after = df_cleaned['fare'].mean()\n",
    "\n",
    "# 결과 출력\n",
    "print(f\"전처리 전 fare 평균: {mean_before:.2f}\")\n",
    "print(f\"전처리 전 fare 평균: {mean_after:.2f}\")"
   ]
  },
  {
   "cell_type": "code",
   "execution_count": null,
   "metadata": {},
   "outputs": [],
   "source": [
    "# age 와 fare에 대해 전처리 전후의 히스토그램을 그려보고, 차이를 설명\n",
    "\n",
    "import matplotlib.pyplot as plt\n",
    "import matplotlib as mpl\n",
    "mpl.rcParams['font.family'] = 'Malgun Gothic'\n",
    "mpl.rcParams['axes.unicode_minus'] = False\n",
    "import seaborn as sns\n",
    "\n",
    "df = sns.load_dataset(\"titanic\")\n",
    "df_cleaned = df.drop(columns=['deck'])\n",
    "df_cleaned['age'] = df_cleaned['age'].fillna(df['age'].median())\n",
    "df_cleaned['embarked'] = df_cleaned['embarked'].fillna(df['embarked'].mode()[0])\n",
    "df_cleaned = df_cleaned.dropna(subset=['embark_town'])\n",
    "\n",
    "# subplots(행, 열)\n",
    "fig, axes = plt.subplots(2, 2, figsize=(12, 8))\n",
    "\n",
    "# 나이 분포\n",
    "sns.histplot(df['age'], bins=30, kde=True, ax=axes[0,0])\n",
    "axes[0,0].set_title(\"전처리 전 - Age 분포\")\n",
    "sns.histplot(df_cleaned['age'], bins=30, kde=True, ax=axes[0,1])\n",
    "axes[0,1].set_title(\"전처리 후 - Age 분포\")\n",
    "\n",
    "# 요금 분포\n",
    "# 전처리 전/후 차이 거의 없음(결측치가 없기 때문)\n",
    "sns.histplot(df['fare'], bins=30, kde=True, ax=axes[1,0])\n",
    "axes[1,0].set_title(\"전처리 전 - Age 분포\")\n",
    "sns.histplot(df_cleaned['fare'], bins=30, kde=True, ax=axes[1,1])\n",
    "axes[1,1].set_title(\"전처리 후 - Age 분포\")\n",
    "\n",
    "plt.tight_layout()\n",
    "plt.show()\n",
    "\n"
   ]
  },
  {
   "cell_type": "code",
   "execution_count": null,
   "metadata": {},
   "outputs": [],
   "source": [
    "# 결측치 처리"
   ]
  },
  {
   "cell_type": "code",
   "execution_count": null,
   "metadata": {},
   "outputs": [],
   "source": [
    "# 데이터 불러오기\n",
    "\n",
    "import seaborn as sns\n",
    "\n",
    "df = sns.load_dataset(\"titanic\")"
   ]
  },
  {
   "cell_type": "code",
   "execution_count": null,
   "metadata": {},
   "outputs": [],
   "source": [
    "# 결측치 개수 확인\n",
    "\n",
    "import matplotlib as mpl\n",
    "mpl.rcParams['font.family'] = 'Malgun Gothic'\n",
    "mpl.rcParams['axes.unicode_minus'] = False\n",
    "import seaborn as sns\n",
    "\n",
    "df = sns.load_dataset(\"titanic\")\n",
    "\n",
    "missing = df.isnull().sum()\n",
    "print(missing[missing>0]) # 조건문 사용"
   ]
  },
  {
   "cell_type": "code",
   "execution_count": null,
   "metadata": {},
   "outputs": [],
   "source": [
    "# 시각화(Heatmap)\n",
    "\n",
    "import matplotlib.pyplot as plt\n",
    "import matplotlib as mpl\n",
    "mpl.rcParams['font.family'] = 'Malgun Gothic'\n",
    "mpl.rcParams['axes.unicode_minus'] = False\n",
    "import seaborn as sns\n",
    "\n",
    "df = sns.load_dataset(\"titanic\")\n",
    "\n",
    "plt.figure(figsize=(10,6))\n",
    "sns.heatmap(df.isnull(), cbar=False, cmap=\"YlOrRd\")\n",
    "# cbar=False: 컬러바 표시 여부\n",
    "# cmap=\"YlOrRd\": 컬러맵 스타일 지정\n",
    "#   Yl(Yellow) > Or(Orange) > Rd(Red)\n",
    "plt.title(\"결측치 Heatmap\")\n",
    "plt.show()"
   ]
  },
  {
   "cell_type": "code",
   "execution_count": null,
   "metadata": {},
   "outputs": [],
   "source": [
    "# 1. deck 컬럼은 결측치가 너무 많아 삭제\n",
    "# 2. age 컬럼: 중앙값으로 대체\n",
    "# 3. embarked 컬럼: 최빈값으로 대체\n",
    "# 4. embark_town 컬럼: 결측치 있는 행 삭제\n",
    "# 5. 결측치 처리 후 결측치 수\n",
    "\n",
    "import seaborn as sns\n",
    "\n",
    "df = sns.load_dataset(\"titanic\")\n",
    "display(df.isnull().sum())\n",
    "\n",
    "# 비교를 위한 복사본 생성\n",
    "df_copy = df.copy()\n",
    "\n",
    "# deck 컬럼 삭제\n",
    "df_copy = df_copy.drop(columns=['deck'])\n",
    "\n",
    "# age 컬럼 중앙값 대체\n",
    "df_copy['age'] = df_copy['age'].fillna(df_copy['age'].median())\n",
    "\n",
    "# embarked 컬럼 최빈값으로 대체\n",
    "df_copy['embarked'] = df_copy['embarked'].fillna(df_copy['embarked'].mode()[0])\n",
    "\n",
    "# embark_town 컬럼 결측치 있는 행 삭제\n",
    "df_copy = df_copy.dropna(subset=['embark_town'])\n",
    "\n",
    "print(f\"원본 크기: {df.shape}\")\n",
    "print(f\"결측 제거 후 크기: {df_copy.shape}\")"
   ]
  },
  {
   "cell_type": "code",
   "execution_count": null,
   "metadata": {},
   "outputs": [],
   "source": []
  },
  {
   "cell_type": "code",
   "execution_count": null,
   "metadata": {},
   "outputs": [],
   "source": []
  },
  {
   "cell_type": "code",
   "execution_count": null,
   "metadata": {},
   "outputs": [],
   "source": []
  }
 ],
 "metadata": {
  "kernelspec": {
   "display_name": "Python 3",
   "language": "python",
   "name": "python3"
  },
  "language_info": {
   "codemirror_mode": {
    "name": "ipython",
    "version": 3
   },
   "file_extension": ".py",
   "mimetype": "text/x-python",
   "name": "python",
   "nbconvert_exporter": "python",
   "pygments_lexer": "ipython3",
   "version": "3.12.9"
  }
 },
 "nbformat": 4,
 "nbformat_minor": 2
}
