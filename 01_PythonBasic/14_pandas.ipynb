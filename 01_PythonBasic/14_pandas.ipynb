{
 "cells": [
  {
   "cell_type": "markdown",
   "metadata": {},
   "source": [
    "# 14. pandas"
   ]
  },
  {
   "cell_type": "code",
   "execution_count": null,
   "metadata": {},
   "outputs": [],
   "source": [
    "from IPython.display import Image\n",
    "Image(filename='image/pandas.gif', width=1000)"
   ]
  },
  {
   "cell_type": "code",
   "execution_count": null,
   "metadata": {},
   "outputs": [],
   "source": [
    "!python -m pip list"
   ]
  },
  {
   "cell_type": "code",
   "execution_count": null,
   "metadata": {},
   "outputs": [],
   "source": [
    "!python -m pip install pandas"
   ]
  },
  {
   "cell_type": "code",
   "execution_count": null,
   "metadata": {},
   "outputs": [],
   "source": [
    "# pandas 기본 개념\n",
    "# 정의 - python 에서 표 형태의 데이터를 다루기 위한 대표적인 라이브러리\n",
    "# 핵심 객체 - series(1차원), DataFrame(2차원)\n",
    "# 활용 분야 - 데이터 분석, 통계 처리, 시각화, 머신러닝 전처리 등"
   ]
  },
  {
   "cell_type": "code",
   "execution_count": null,
   "metadata": {},
   "outputs": [],
   "source": [
    "# 1. Series, DataFrame\n",
    "# Series - 1차원 데이터 구조 (리스트 + 인덱스)\n",
    "# DataFrame - 2차원 데이터 구조 (표 형태, 행/열)\n",
    "\n",
    "import pandas as pd\n",
    "\n",
    "# Series(1차원 데이터)\n",
    "s = pd.Series([10, 20, 30, 40])\n",
    "print(f\"{s}\\n\")\n",
    "\n",
    "# DataFrame(2차원 데이터)\n",
    "data = {\n",
    "  '이름': ['영희', '철수', '민수'],\n",
    "  '나이': [23, 25, 21],\n",
    "  '성별': ['여', '남', '남']\n",
    "}\n",
    "df = pd.DataFrame(data) \n",
    "print(f\"{df}\\n\")\n",
    "df = pd.DataFrame(data, index=['a', 'b', 'c']) \n",
    "print(f\"{df}\\n\")\n",
    "\n",
    "# 인덱스를 가진 Series 예제\n",
    "a = pd.Series([100, 200, 300], index=['a', 'b', 'c'])\n",
    "print(a)"
   ]
  },
  {
   "cell_type": "code",
   "execution_count": null,
   "metadata": {},
   "outputs": [],
   "source": [
    "# 2. Series 자료구조\n",
    "# 1차원 배열 형태의 자료구조로, 인덱스를 가짐\n",
    "# pd.Series - 인덱싱, 슬라이싱, 연산, 통계 함수, ... 적용\n",
    "\n",
    "import pandas as pd\n",
    "\n",
    "# 기본 Series 생성\n",
    "s1 = pd.Series([100, 200, 300])\n",
    "print(\"기본 Series 생성:\")\n",
    "print(f\"{s1}\\n\")\n",
    "\n",
    "# 인덱스를 지정한 Series 생성\n",
    "s2 = pd.Series([90, 80, 70], index=['수학', '영어', '과학'])\n",
    "print(\"인덱스를 지정한 Series 생성:\")\n",
    "print(f\"{s2}\\n\")\n",
    "\n",
    "# 인덱스를 통한 접근\n",
    "print(\"인덱스를 통한 접근:\")\n",
    "print(f\"{s2['영어']}\\n\")\n",
    "\n",
    "# 슬라이싱\n",
    "print(\"슬라이싱:\")\n",
    "print(f\"{s2[0:2]}\\n\")\n",
    "\n",
    "# 전체 연산\n",
    "print(\"전체 연산:\")\n",
    "print(f\"{s2 + 10}\\n\")\n",
    "\n",
    "# 통계 함수\n",
    "print(\"통계 함수:\")\n",
    "print(\"평균:\", s2.mean())\n",
    "print(\"최댓값:\", s2.max())"
   ]
  },
  {
   "cell_type": "code",
   "execution_count": null,
   "metadata": {},
   "outputs": [],
   "source": [
    "# 3. DataFrame 기초\n",
    "# 2차원 형태의 데이터 구조로, 표 형태의 데이터를 저장\n",
    "# pd.DataFrame - 인덱스, 열(컬럼), 값(Value)\n",
    "import pandas as pd\n",
    "\n",
    "data = {\n",
    "  '이름': ['영희', '철수', '민수'],\n",
    "  '나이': [23, 25, 21],\n",
    "  '성별': ['여', '남', '남']\n",
    "}\n",
    "# 기본 DateFrame 생성\n",
    "df = pd.DataFrame(data)\n",
    "print(f\"{df}\\n\")\n",
    "\n",
    "# 열 선택\n",
    "print(f\"{df['이름']}\\n\")\n",
    "\n",
    "# 행 선택\n",
    "print(f\"{df.iloc[0]}\")\n",
    "print(f\"{df.loc[1]}\\n\")\n",
    "\n",
    "# DataFrame 속성 확인\n",
    "print(df.shape)\n",
    "print(df.columns)\n",
    "print(df.index)"
   ]
  },
  {
   "cell_type": "code",
   "execution_count": null,
   "metadata": {},
   "outputs": [],
   "source": [
    "# 4. 데이터 불러오기(CSV, Excel, JSON, ...)\n",
    "\n",
    "# 파일형식: 함수 / 예제 코드\n",
    "\n",
    "# CSV: pd.read_csv() / df = pd.read_csv(\"data.csv\")\n",
    "\n",
    "# Excel: pd.read_excel() / df = pd.read.excel(\"data.xlsx\")\n",
    "\n",
    "# Json: pd.read_json() / df = pd.read.json(\"data.json\")\n",
    "\n",
    "# HTML: pd.read_html() / df = pd.read.excel(\"https://example.com\")\n",
    "\n",
    "# SQL: pd.read_sql() / df = pd.read.sql(\"SELECT * FROM table\", conn)\n",
    "\n",
    "# Parquet: pd.read_parquet() / df = pd.read.parquet(\"data.parquet\")"
   ]
  },
  {
   "cell_type": "code",
   "execution_count": null,
   "metadata": {},
   "outputs": [],
   "source": [
    "# CSV 파일 불러오기\n",
    "import pandas as pd\n",
    "\n",
    "df_csv = pd.read_csv(\"dataset/example.csv\")\n",
    "print(f\"{df_csv.head()}\\n\")\n",
    "print(f\"{df_csv.tail()}\\n\")\n",
    "print(f\"{df_csv.shape}\\n\")\n",
    "print(df_csv.columns)"
   ]
  },
  {
   "cell_type": "code",
   "execution_count": null,
   "metadata": {},
   "outputs": [],
   "source": [
    "# Excel 파일 불러오기 위한 모듈\n",
    "!python -m pip install openpyxl"
   ]
  },
  {
   "cell_type": "code",
   "execution_count": null,
   "metadata": {},
   "outputs": [],
   "source": [
    "# Excel 파일 불러오기\n",
    "import pandas as pd\n",
    "\n",
    "df_excel = pd.read_excel(\"dataset/personal.xlsx\")\n",
    "print(df_excel)"
   ]
  },
  {
   "cell_type": "code",
   "execution_count": null,
   "metadata": {},
   "outputs": [],
   "source": [
    "# JSON 파일 불러오기\n",
    "import pandas as pd\n",
    "\n",
    "df_json = pd.read_json(\"dataset/example.json\")\n",
    "print(df_json)"
   ]
  },
  {
   "cell_type": "code",
   "execution_count": null,
   "metadata": {},
   "outputs": [],
   "source": [
    "# HTML 파일 불러오기 위한 모듈\n",
    "!python -m pip install lxml"
   ]
  },
  {
   "cell_type": "code",
   "execution_count": null,
   "metadata": {},
   "outputs": [],
   "source": [
    "# HTML 테이블 불러오기\n",
    "import pandas as pd\n",
    "\n",
    "url = \"https://en.wikipedia.org/wiki/List_of_countries_by_GDP_(nominal)\"\n",
    "tables = pd.read_html(url)\n",
    "df_html = tables[2]\n",
    "print(df_html.head())"
   ]
  },
  {
   "cell_type": "code",
   "execution_count": null,
   "metadata": {},
   "outputs": [],
   "source": [
    "# SQLite 에서 불러오기\n",
    "import pandas as pd\n",
    "import sqlite3\n",
    "\n",
    "# SQLite 연결 - 초소형 DB\n",
    "conn = sqlite3.connect(\"dataset/example.db\")\n",
    "\n",
    "# SQL 쿼리로 불러오기\n",
    "df_sql = pd.read_sql(\"SELECT * FROM my_table\", conn)\n",
    "print(df_sql.head())\n",
    "\n",
    "conn.close()\n"
   ]
  },
  {
   "cell_type": "code",
   "execution_count": null,
   "metadata": {},
   "outputs": [],
   "source": [
    "# Parquet 파일 불러오기 (엔진 필요) - 참고\n",
    "# pyarrow 또는 fastparquet 필요\n",
    "\n",
    "# pip install pyarrow 또는 pip install fastparquet\n",
    "\n",
    "# df_parquet = pd.read_parquet(\"dataset/example.parquet\")\n",
    "# print(df_parquet.head())"
   ]
  },
  {
   "cell_type": "code",
   "execution_count": null,
   "metadata": {},
   "outputs": [],
   "source": [
    "# 4. 데이터 저장(CSV, Excel, JSON, HTML, SQL)\n",
    "\n",
    "# 파일형식: 함수 / 예제 코드\n",
    "\n",
    "# CSV: to_csv() / df.to_csv(\"dataset/saved_example.csv\", index=False)\n",
    "\n",
    "# Excel: to_excel() / df.to_excel(\"dataset/saved_example.xlsx\", index=False)\n",
    "\n",
    "# Json: to_json() / df.to_json(\"dataset/saved_example.json\", force_ascii=False)\n",
    "\n",
    "# HTML: to_html() / df.to_html(\"dataset/saved_example.html\", index=False)\n",
    "\n",
    "# SQL: to_sql() / df.to_sql(\"my_table\", conn, if_exists=\"replace\")"
   ]
  },
  {
   "cell_type": "code",
   "execution_count": null,
   "metadata": {},
   "outputs": [],
   "source": [
    "import pandas as pd\n",
    "\n",
    "# 예제 데이터프레임 생성\n",
    "df = pd.DataFrame({\n",
    "  '이름': ['홍길동', '김철수', '이영희'],\n",
    "  '나이': [25, 30, 22],\n",
    "  '직업': ['학생', '회사원', '디자이너']\n",
    "})\n",
    "print(df)"
   ]
  },
  {
   "cell_type": "code",
   "execution_count": null,
   "metadata": {},
   "outputs": [],
   "source": [
    "# CSV 파일로 저장장\n",
    "df.to_csv(\"dataset/saved_example.csv\", index=False)"
   ]
  },
  {
   "cell_type": "code",
   "execution_count": null,
   "metadata": {},
   "outputs": [],
   "source": [
    "# Excel 파일로 저장\n",
    "df.to_excel(\"dataset/saved_example.xlsx\", index=False)"
   ]
  },
  {
   "cell_type": "code",
   "execution_count": null,
   "metadata": {},
   "outputs": [],
   "source": [
    "# JSON 파일로 저장\n",
    "df.to_json(\"dataset/saved_example.json\", force_ascii=False, orient=\"records\", indent=2)\n",
    "# orient - 형식\n",
    "# indent - 들여쓰기"
   ]
  },
  {
   "cell_type": "code",
   "execution_count": null,
   "metadata": {},
   "outputs": [],
   "source": [
    "# HTML 파일로 저장\n",
    "df.to_html(\"dataset/saved_example.html\", index=False)"
   ]
  },
  {
   "cell_type": "code",
   "execution_count": null,
   "metadata": {},
   "outputs": [],
   "source": [
    "# SQL 데이터베이스로 저장\n",
    "import sqlite3\n",
    "\n",
    "conn = sqlite3.connect(\"dataset/saved_example.db\")\n",
    "df.to_sql(\"my_table\", conn, if_exists=\"replace\", index=False)\n",
    "conn.close()"
   ]
  },
  {
   "cell_type": "code",
   "execution_count": null,
   "metadata": {},
   "outputs": [],
   "source": [
    "# 6. 데이터 Indexing & Filtering (loc, iloc 포함)\n",
    "# 특정 위치 또는 조건으로 데이터 접근\n",
    "# df.loc[행라벨, 열라벨] - 인덱스/컬럼 라벨 기반 접근\n",
    "# df.iloc[행인덱스, 열인덱스] - 인덱스 위치 기반 접근\n",
    "# df[조건식] - 조건 필터링\n",
    "import pandas as pd\n",
    "\n",
    "data = {\n",
    "  '이름': ['영희', '철수', '민수'],\n",
    "  '나이': [23, 25, 21],\n",
    "  '성별': ['여', '남', '남']\n",
    "}\n",
    "# 기본 DateFrame 생성\n",
    "df = pd.DataFrame(data)\n",
    "print(f\"{df}\\n\")\n",
    "\n",
    "# loc: 이름 기반 접근\n",
    "print(f\"{df.loc[0, '이름']}\")\n",
    "print(f\"{df.loc[:, '이름']}\\n\")\n",
    "\n",
    "# iloc: 위치 기반 접근\n",
    "print(f\"{df.iloc[1, 1]}\")\n",
    "print(f\"{df.iloc[:, 1]}\\n\")\n",
    "\n",
    "# 조건 필터링 - 나이 23세 이상\n",
    "print(f\"{df[df['나이'] >= 23]}\\n\")\n",
    "# 조건 필터링 - 성별이 남자인 경우\n",
    "print(f\"{df[df['성별'] == '남']}\")"
   ]
  },
  {
   "cell_type": "code",
   "execution_count": null,
   "metadata": {},
   "outputs": [],
   "source": [
    "# 7. 결측치 처리 (isnull, fillna, dropna)\n",
    "# df.isnull() - 결측치 여부를 True/False 로 반환\n",
    "# df.notnull() - 결측치가 아닌 값 여부 반환\n",
    "# df.fillna(값) - 결측치를 특정 값으로 대체\n",
    "# df.dropna() - 결측치가 포함된 행 제거\n",
    "\n",
    "# null: 0, 공백도 아닌 어떤 알 수 없는 값(unknown)\n",
    "# nan: not a number (숫자가 아닌 빈 상태)"
   ]
  },
  {
   "cell_type": "code",
   "execution_count": null,
   "metadata": {},
   "outputs": [],
   "source": [
    "import pandas as pd\n",
    "import numpy as np\n",
    "\n",
    "data = {\n",
    "  '이름': ['영희', '철수', '민수'],\n",
    "  '나이': [23, np.nan, 21],\n",
    "  '성별': ['여', '남', None]\n",
    "}\n",
    "# 기본 DateFrame 생성\n",
    "df = pd.DataFrame(data)\n",
    "print(f\"{df}\\n\")\n",
    "\n",
    "# 결측치 확인\n",
    "print(f\"{df.isnull()}\")\n",
    "print(f\"{df.isnull().sum()}\\n\")\n",
    "\n",
    "# 결측치 채우기\n",
    "print(f\"{df.fillna({'나이': df['나이'].mean(), '성별': '모름'})}\\n\")\n",
    "\n",
    "# 결측치 제거\n",
    "print(df.dropna())"
   ]
  },
  {
   "cell_type": "code",
   "execution_count": null,
   "metadata": {},
   "outputs": [],
   "source": [
    "# 8. 중복 데이터 처리\n",
    "# df.duplicated() - 중복된 행인지 여부를 Boolean 값으로 반환\n",
    "# df.drop_duplicates() - 중복된 행 제거\n",
    "# Df.drop_duplicates(subset=[]) - 특정 열을 기준으로 중복 제거"
   ]
  },
  {
   "cell_type": "code",
   "execution_count": null,
   "metadata": {},
   "outputs": [],
   "source": [
    "import pandas as pd\n",
    "\n",
    "df = pd.DataFrame({\n",
    "  '이름': ['영희', '철수', '영희', '민수'],\n",
    "  '나이': [23, 25, 23, 21]\n",
    "})\n",
    "print(f\"{df}\\n\")\n",
    "\n",
    "# 중복 확인\n",
    "print(f\"{df.duplicated()}\\n\")\n",
    "\n",
    "# 중복 제거\n",
    "print(f\"{df.drop_duplicates()}\\n\")\n",
    "\n",
    "# 특정 열 기준 중복 제거\n",
    "print(df.drop_duplicates(subset=['이름']))"
   ]
  },
  {
   "cell_type": "code",
   "execution_count": null,
   "metadata": {},
   "outputs": [],
   "source": [
    "# 9. 데이터 정렬\n",
    "# DataFrame 의 값 또는 인덱스를 기준으로 정렬\n",
    "# df.sort_values(by='...', ascending=False) - 열 값을 기준으로 정렬\n",
    "# df.sort_index(ascending=False) - 인덱스를 기준으로 정렬\n",
    "# ascending=True - 오름차순 (기본값)\n",
    "# ascending=False - 내림차순"
   ]
  },
  {
   "cell_type": "code",
   "execution_count": null,
   "metadata": {},
   "outputs": [],
   "source": [
    "import pandas as pd\n",
    "\n",
    "df = pd.DataFrame({\n",
    "  '이름': ['영희', '철수', '민수'],\n",
    "  '나이': [23, 25, 21],\n",
    "  '성적': [88, 92, 85]\n",
    "})\n",
    "print(f\"{df}\\n\")\n",
    "\n",
    "# 성적 기준 오름차순 정렬\n",
    "print(\"성적 기준 오름차순 정렬\")\n",
    "print(f\"{df.sort_values(by='성적')}\\n\")\n",
    "\n",
    "# 나이 기준 내림차순 정렬\n",
    "print(\"나이 기준 내림차순 정렬\")\n",
    "print(f\"{df.sort_values(by='나이', ascending=False)}\\n\")\n",
    "\n",
    "# 인덱스를 기준으로 정렬 (역순)\n",
    "print(\"인덱스를 기준으로 정렬 (역순)\")\n",
    "print(df.sort_index(ascending=False))"
   ]
  },
  {
   "cell_type": "code",
   "execution_count": null,
   "metadata": {},
   "outputs": [],
   "source": [
    "# 데이터 요약 & 통계\n",
    "# df.describe() - 수치형 데이터 요약 통계 제공\n",
    "# df.mean() - 평균 계산\n",
    "# df.median() - 중앙값 계산\n",
    "# df.groupby() - 그룹별 통계 분석"
   ]
  },
  {
   "cell_type": "code",
   "execution_count": null,
   "metadata": {},
   "outputs": [],
   "source": [
    "import pandas as pd\n",
    "\n",
    "df = pd.DataFrame({\n",
    "  '이름': ['영희', '철수', '민수', '지민', '가영'],\n",
    "  '성별': ['여', '남', '남', '여', '여'],\n",
    "  '점수': [88, 92, 85, 91, 95]\n",
    "})\n",
    "\n",
    "# 데이터 요약 통계\n",
    "print(\"데이터 요약 통계\")\n",
    "print(f\"{df.describe()}\\n\")\n",
    "\n",
    "# 평균과 중앙값 계산\n",
    "print(\"평균과 중앙값 계산\")\n",
    "print(f\"평균: {df['점수'].mean()}\")\n",
    "print(f\"중앙값: {df['점수'].median()}\\n\")\n",
    "\n",
    "# 성별 그룹별 평균\n",
    "print(\"성별 그룹별 평균\")\n",
    "print(f\"{df.groupby('성별')['점수'].mean()}\")\n",
    "\n",
    "# 성별 그룹별 요약 통계\n",
    "print(\"성별 그룹별 평균\")\n",
    "print(f\"{df.groupby('성별').describe()}\")"
   ]
  },
  {
   "cell_type": "code",
   "execution_count": null,
   "metadata": {},
   "outputs": [],
   "source": [
    "# 11. 데이터 시각화 (pandas plot 기능)\n",
    "\n",
    "# 상세 내용 Pandas.pdf 파일 참고"
   ]
  },
  {
   "cell_type": "code",
   "execution_count": null,
   "metadata": {},
   "outputs": [],
   "source": [
    "import matplotlib.pyplot as plt\n",
    "import matplotlib as mpl\n",
    "mpl.rcParams['font.family'] = 'Malgun Gothic'\n",
    "mpl.rcParams['axes.unicode_minus'] = False\n",
    "import pandas as pd\n",
    "\n",
    "df = pd.DataFrame({\n",
    "  '요일': ['월', '화', '수', '목', '금'],\n",
    "  '판매량': [100, 120, 90, 150, 130]\n",
    "})\n",
    "\n",
    "# 선 그래프\n",
    "df.plot(kind='line', x='요일', y='판매량', title='요일별 판매량', marker='s', style='r:')\n",
    "plt.grid()\n",
    "plt.show()"
   ]
  },
  {
   "cell_type": "code",
   "execution_count": null,
   "metadata": {},
   "outputs": [],
   "source": [
    "import matplotlib.pyplot as plt\n",
    "import matplotlib as mpl\n",
    "mpl.rcParams['font.family'] = 'Malgun Gothic'\n",
    "mpl.rcParams['axes.unicode_minus'] = False\n",
    "import pandas as pd\n",
    "\n",
    "df = pd.DataFrame({\n",
    "  '요일': ['월', '화', '수', '목', '금'],\n",
    "  '판매량': [100, 120, 90, 150, 130]\n",
    "})\n",
    "\n",
    "# 선 그래프\n",
    "df.plot(kind='bar', x='요일', y='판매량', title='요일별 판매량')\n",
    "plt.grid()\n",
    "plt.show()"
   ]
  },
  {
   "cell_type": "code",
   "execution_count": null,
   "metadata": {},
   "outputs": [],
   "source": [
    "# 12. 데이터 병합\n",
    "# 세로 병합 - concat()\n",
    "# 가로 병합 - merge()\n",
    "# 인덱스 기준 병합 - join()"
   ]
  },
  {
   "cell_type": "code",
   "execution_count": null,
   "metadata": {},
   "outputs": [],
   "source": [
    "# concat\n",
    "import pandas as pd\n",
    "\n",
    "df1 = pd.DataFrame({'이름': ['영희', '철수'], '국어': [90, 85]})\n",
    "df2 = pd.DataFrame({'이름': ['민수', '가영'], '국어': [80, 95]})\n",
    "df_concat = pd.concat([df1, df2], ignore_index=True)\n",
    "print(df_concat)"
   ]
  },
  {
   "cell_type": "code",
   "execution_count": null,
   "metadata": {},
   "outputs": [],
   "source": [
    "# merge 예제\n",
    "import pandas as pd\n",
    "left = pd.DataFrame({'이름': ['영희', '철수'], '수학': [88, 95]})\n",
    "right = pd.DataFrame({'이름': ['영희', '철수'], '과학': [92, 87]})\n",
    "df_merge = pd.merge(left, right, on='이름')\n",
    "print(df_merge)"
   ]
  },
  {
   "cell_type": "code",
   "execution_count": null,
   "metadata": {},
   "outputs": [],
   "source": [
    "# join 예제 \n",
    "df_a = pd.DataFrame({'영어': [85, 80]}, index=['영희', '철수'])\n",
    "df_b = pd.DataFrame({'역사': [75, 90]}, index=['영희', '철수'])\n",
    "df_join = df_a.join(df_b)\n",
    "print(df_join)"
   ]
  },
  {
   "cell_type": "code",
   "execution_count": null,
   "metadata": {},
   "outputs": [],
   "source": [
    "# 13. 피벗 테이블과 교차표\n"
   ]
  },
  {
   "cell_type": "code",
   "execution_count": null,
   "metadata": {},
   "outputs": [],
   "source": [
    "import pandas as pd\n",
    "\n",
    "df = pd.DataFrame({\n",
    "  '이름': ['영희', '철수', '민수', '영희', '철수'],\n",
    "  '과목': ['국어', '국어', '영어', '영어', '영어'],\n",
    "  '점수': [90, 85, 88, 92, 79]\n",
    "})\n",
    "print(f\"{df}\\n\")\n",
    "\n",
    "# pivot_table\n",
    "pivot = pd.pivot_table(df, values='점수', index='이름', columns='과목', aggfunc='mean')\n",
    "print(pivot)"
   ]
  },
  {
   "cell_type": "code",
   "execution_count": null,
   "metadata": {},
   "outputs": [],
   "source": [
    "# crosstab 예제\n",
    "data2 = {\n",
    "  '성별': ['여', '남', '남', '여', '여'],\n",
    "  '과목': ['국어', '국어', '영어', '영어', '국어']\n",
    "}\n",
    "df2 = pd.DataFrame(data2)\n",
    "cross = pd.crosstab(df2['성별'], df2['과목'])\n",
    "print(cross)"
   ]
  },
  {
   "cell_type": "code",
   "execution_count": null,
   "metadata": {},
   "outputs": [],
   "source": [
    "# 14. 시계열 데이터 처리\n",
    "# 시간의 흐름에 따라 관측된 데이터\n",
    "# ex) 주가, 기온, 웹사이트 트래픽 등\n",
    "\n",
    "# pd.to_datetime() - 문자열을 datetime 으로 변환\n",
    "# resample() - 시간 단위 변경: 일 >> 월\n",
    "# date_range() - 시간 범위 생성\n",
    "# asfrequ() - 빈도 변경 (결측값 유지)\n",
    "# rolling() - 이동 평균 등 윈도우 함수\n",
    "# shift() - 시계열을 앞뒤로 이동\n",
    "# tz_localize(), tz_convert() - 시간대 설정/변환\n",
    "# dt 접근자 - 연, 월, 일, 시간 등 접근 가능\n",
    "\n",
    "# 단위 기준\n",
    "# 일, 주, 월말, 월초, 분기별, 연말\n",
    "# 'D', 'W', 'ME', 'MS', 'Q', 'Y'"
   ]
  },
  {
   "cell_type": "code",
   "execution_count": null,
   "metadata": {},
   "outputs": [],
   "source": [
    "# datetime 으로 변환\n",
    "\n",
    "import pandas as pd\n",
    "\n",
    "df = pd.DataFrame({\n",
    "  '날짜': ['2024-01-01', '2024-01-02', '2024-01-03'],\n",
    "  '매출': [100, 120, 90]\n",
    "})\n",
    "\n",
    "# 날짜를 datetime 형식으로 변환하고 인덱스로 설정\n",
    "df['날짜'] = pd.to_datetime(df['날짜']) \n",
    "df.set_index('날짜', inplace=False)\n",
    "df"
   ]
  },
  {
   "cell_type": "code",
   "execution_count": null,
   "metadata": {},
   "outputs": [],
   "source": [
    "# resampling, ex) 일 >> 월별 합계\n",
    "\n",
    "import pandas as pd\n",
    "\n",
    "df = pd.DataFrame({\n",
    "  '날짜': ['2024-01-01', '2024-01-02', '2024-01-03'],\n",
    "  '매출': [100, 120, 90]\n",
    "})\n",
    "\n",
    "df['날짜'] = pd.to_datetime(df['날짜']) \n",
    "df.set_index('날짜', inplace=True)\n",
    "monthly = df.resample('ME').sum()\n",
    "monthly"
   ]
  },
  {
   "cell_type": "code",
   "execution_count": null,
   "metadata": {},
   "outputs": [],
   "source": [
    "# 날짜 범위 생성\n",
    "\n",
    "import pandas as pd\n",
    "\n",
    "date_range = pd.date_range(start='2025-01-01', periods=10, freq='D')\n",
    "date_range"
   ]
  },
  {
   "cell_type": "code",
   "execution_count": null,
   "metadata": {},
   "outputs": [],
   "source": [
    "# 이동 평균 계산\n",
    "\n",
    "import pandas as pd\n",
    "\n",
    "df = pd.DataFrame({\n",
    "  '날짜': ['2024-01-01', '2024-01-02', '2024-01-03'],\n",
    "  '매출': [100, 120, 90]\n",
    "})\n",
    "\n",
    "df['날짜'] = pd.to_datetime(df['날짜']) \n",
    "df.set_index('날짜', inplace=True)\n",
    "df['이동평균'] = df['매출'].rolling(window=2).mean()\n",
    "df"
   ]
  },
  {
   "cell_type": "code",
   "execution_count": null,
   "metadata": {},
   "outputs": [],
   "source": [
    "# 날짜 속성 접근\n",
    "\n",
    "import pandas as pd\n",
    "\n",
    "df = pd.DataFrame({\n",
    "  '날짜': ['2024-01-01', '2024-01-02', '2024-01-03'],\n",
    "  '매출': [100, 120, 90]\n",
    "})\n",
    "\n",
    "df['날짜'] = pd.to_datetime(df['날짜']) \n",
    "df.set_index('날짜', inplace=True)\n",
    "df['이동평균'] = df['매출'].rolling(window=2).mean()\n",
    "df['월'] = df.index.month\n",
    "df['요일'] = df.index.day_name()\n",
    "df"
   ]
  }
 ],
 "metadata": {
  "kernelspec": {
   "display_name": "Python 3",
   "language": "python",
   "name": "python3"
  },
  "language_info": {
   "codemirror_mode": {
    "name": "ipython",
    "version": 3
   },
   "file_extension": ".py",
   "mimetype": "text/x-python",
   "name": "python",
   "nbconvert_exporter": "python",
   "pygments_lexer": "ipython3",
   "version": "3.12.9"
  }
 },
 "nbformat": 4,
 "nbformat_minor": 2
}
