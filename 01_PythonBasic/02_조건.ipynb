{
 "cells": [
  {
   "cell_type": "markdown",
   "metadata": {},
   "source": [
    "# 2. 조건문"
   ]
  },
  {
   "cell_type": "code",
   "execution_count": 6,
   "metadata": {},
   "outputs": [
    {
     "name": "stdout",
     "output_type": "stream",
     "text": [
      "성인입니다.\n"
     ]
    }
   ],
   "source": [
    "# if 구문\n",
    "# cond01.py\n",
    "\n",
    "age = 20\n",
    "if age >= 18:\n",
    "  print(\"성인입니다.\")"
   ]
  },
  {
   "cell_type": "code",
   "execution_count": 7,
   "metadata": {},
   "outputs": [
    {
     "name": "stdout",
     "output_type": "stream",
     "text": [
      "미성년자입니다.\n"
     ]
    }
   ],
   "source": [
    "# else 구문\n",
    "# cone02.py\n",
    "\n",
    "age = 16\n",
    "if age >= 18:\n",
    "  print(\"성인입니다.\");\n",
    "else:\n",
    "  print(\"미성년자입니다.\") # 출력: 미성년자입니다."
   ]
  },
  {
   "cell_type": "code",
   "execution_count": 8,
   "metadata": {},
   "outputs": [
    {
     "name": "stdout",
     "output_type": "stream",
     "text": [
      "성인입니다.\n"
     ]
    }
   ],
   "source": [
    "# elif 구문 (else if)\n",
    "# cone03.py\n",
    "\n",
    "age = 20\n",
    "if age < 18:\n",
    "  print(\"미성년자입니다.\");\n",
    "elif age == 18:\n",
    "  print(\"방금 성인이 되었습니다.\");\n",
    "else:\n",
    "  print(\"성인입니다.\") # 출력: 성인입니다."
   ]
  },
  {
   "cell_type": "code",
   "execution_count": 9,
   "metadata": {},
   "outputs": [
    {
     "name": "stdout",
     "output_type": "stream",
     "text": [
      "한국 성인입니다.\n",
      "성인으로 간주됩니다.\n",
      "비가 오지 않습니다.\n"
     ]
    }
   ],
   "source": [
    "# 복합 조건\n",
    "# cone04.py\n",
    "\n",
    "age = 20\n",
    "citizenship = \"Korea\"\n",
    "# and 예제\n",
    "if age >= 18 and citizenship == \"Korea\":\n",
    "  print(\"한국 성인입니다.\") # 출력: 한국 성인입니다\n",
    "# or 예제\n",
    "has_id_card = True\n",
    "if age >= 18 or has_id_card:\n",
    "  print(\"성인으로 간주됩니다.\") # 출력: 성인으로 간주됩니다.\n",
    "# not 예제\n",
    "is_raining = False\n",
    "if not is_raining:\n",
    "  print(\"비가 오지 않습니다.\") # 출력: 비가 오지 않습니다."
   ]
  },
  {
   "cell_type": "code",
   "execution_count": 10,
   "metadata": {},
   "outputs": [
    {
     "name": "stdout",
     "output_type": "stream",
     "text": [
      "미성년자입니다.\n"
     ]
    }
   ],
   "source": [
    "# 중첩 조건문 (Nested if)\n",
    "# cone05.py\n",
    "\n",
    "age = 15\n",
    "is_student = True\n",
    "if age >= 18:\n",
    "  if is_student:\n",
    "    print(\"성인 학생입니다.\") # 출력: 성인 학생입니다.\n",
    "  else:\n",
    "    print(\"성인입니다.\")\n",
    "else:\n",
    "  print(\"미성년자입니다.\")\n",
    "# age가 18 이상이면 그 안에서 다시 is_student의 값이 True인지 확인하여 \"성인 학생입니다.\" 또는 \"성인입니다.\"를 출력\"\n",
    "\n",
    "# if age >= 18:\n",
    "#   if is_student:\n",
    "#     print(\"성인 학생입니다.\") # 출력: 성인 학생입니다.\n",
    "#   else:\n",
    "#     print(\"성인입니다.\")\n",
    "# else:\n",
    "#   if is_student:\n",
    "#     print(\"미성년자 학생입니다.\")\n",
    "#   else:\n",
    "#     print(\"미성년자입니다.\")\n",
    "\n",
    "# if is_student:\n",
    "#   if age>= 18:\n",
    "#     print(\"성인 학생입니다.\")\n",
    "#   else:\n",
    "#     print(\"미성년자 학생입니다.\")\n",
    "# else:\n",
    "#   if age>= 18:\n",
    "#     print(\"성인 학생입니다.\")\n",
    "#   else:\n",
    "#     print(\"미성년자 학생입니다.\")"
   ]
  }
 ],
 "metadata": {
  "kernelspec": {
   "display_name": "Python 3",
   "language": "python",
   "name": "python3"
  },
  "language_info": {
   "codemirror_mode": {
    "name": "ipython",
    "version": 3
   },
   "file_extension": ".py",
   "mimetype": "text/x-python",
   "name": "python",
   "nbconvert_exporter": "python",
   "pygments_lexer": "ipython3",
   "version": "3.12.9"
  }
 },
 "nbformat": 4,
 "nbformat_minor": 2
}
