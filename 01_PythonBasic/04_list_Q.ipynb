{
 "cells": [
  {
   "cell_type": "code",
   "execution_count": 5,
   "metadata": {},
   "outputs": [
    {
     "name": "stdout",
     "output_type": "stream",
     "text": [
      "현재 학생은 ['이황', '이이', '원효']\n",
      "['이황', '이이', '원효', '홍길동']\n",
      "번호 재정렬...\n",
      "1 원효\n",
      "2 이이\n",
      "3 이황\n",
      "4 홍길동\n"
     ]
    }
   ],
   "source": [
    "# Q1\n",
    "\"\"\"\n",
    "- 출석번호 재정렬\n",
    "현재 학생이 3명 있다고 가정하고, 전학을 오는 친구가 있으면 그 친구를 포함하여 오름차순으로 번호를 부여\n",
    "\n",
    "현재 학생은 ['이황', '이이', '원효']\n",
    "전학 온 학생은 누구입니까? 홍길동\n",
    "['이황', '이이', '원효', '홍길동']\n",
    "번호 재정렬...\n",
    "1. 원효\n",
    "2. 이이\n",
    "3. 이황\n",
    "4. 홍길동\n",
    "\"\"\"\n",
    "# student_name = ['이황', '이이', '원효']\n",
    "# print(f\"현재 학생은 {student_name}\")\n",
    "# student_name.append('홍길동')\n",
    "# print(f\"전학 온 학생은 누구입니까? {student_name[-1]}\")\n",
    "# print(student_name)\n",
    "# student_name.sort()\n",
    "# print(\"번호 재정렬...\")\n",
    "# number = 0\n",
    "# for s in student_name:\n",
    "#   number += 1\n",
    "#   print(f\"{number} {s}\")\n",
    "\n",
    "\n",
    "at = ['이황', '이이', '원효']\n",
    "print(\"현재 학생은 %s\" %at)\n",
    "a = input(\"전학 온 학생은 누구입니까?\")\n",
    "b = 0\n",
    "at.append(a)\n",
    "print(at)\n",
    "print(\"번호 재정렬...\")\n",
    "for i in sorted(at):\n",
    "  b += 1\n",
    "  print(b, i)\n"
   ]
  },
  {
   "cell_type": "code",
   "execution_count": 2,
   "metadata": {},
   "outputs": [
    {
     "name": "stdout",
     "output_type": "stream",
     "text": [
      "당신이 좋아하는 음식 목록 : ['햄버거', '피자', '탕수육']\n"
     ]
    }
   ],
   "source": [
    "# Q2\n",
    "\"\"\"\n",
    "- 좋아하는 음식 목록 만들기\n",
    "좋아하는 음식을 3개 입력받아 리스트에 저장하고 출력\n",
    "1번째로 좋아하는 음식을 입력하세요: 피자\n",
    "2번째로 좋아하는 음식을 입력하세요: 떡볶이\n",
    "3번째로 좋아하는 음식을 입력하세요: 치킨\n",
    "당신이 좋아하는 음식 목록: ['피자', '떡볶이' ,'치킨']\n",
    "\"\"\"\n",
    "user_fav_food = []\n",
    "num = 0\n",
    "while True:\n",
    "  num += 1\n",
    "  user_input = input(f\"[종료 : q 입력]{num}번째로 좋아하는 음식을 입력하세요\")\n",
    "  if user_input.lower() == 'q':\n",
    "    print(\"입력을 종료합니다\")\n",
    "    break\n",
    "  user_fav_food.append(user_input)\n",
    "  print(f\"{num}번째로 좋아하는 음식: {user_fav_food[-1]}\")\n",
    "print(f\"당신이 좋아하는 음식 목록: {user_fav_food}\")\n",
    "\n",
    "\n",
    "# foods = []\n",
    "# for i in range(3):\n",
    "#   food = input(f\"{i+1}번째로 좋아하는 음식을 입력하기\")\n",
    "#   foods.append(food)\n",
    "# print(f\"당신이 좋아하는 음식 목록 : {foods}\")"
   ]
  },
  {
   "cell_type": "code",
   "execution_count": 3,
   "metadata": {},
   "outputs": [
    {
     "name": "stdout",
     "output_type": "stream",
     "text": [
      "입력한 숫자들의 평균은: 30.0\n"
     ]
    }
   ],
   "source": [
    "# Q3\n",
    "\"\"\"\n",
    "- 숫자 리스트 평균 구하기\n",
    "숫자 5개를 입력받아 평균을 구해서 출력하기\n",
    "1번째 숫자를 입력하세요: n\n",
    "2번째 숫자를 입력하세요: n\n",
    "...\n",
    "입력한 숫자들의 평균은: n\n",
    "\"\"\"\n",
    "# user_number = []\n",
    "# num = 0\n",
    "# for _ in range(5):\n",
    "#   num += 1\n",
    "#   user_input = int(input(f\"{num}번째 숫자를 입력하세요\"))\n",
    "#   user_number.append(user_input)\n",
    "#   print(f\"{num}번째 숫자: {user_number[-1]}\")\n",
    "# avg = sum(user_number) / 5\n",
    "# print(f\"입력한 숫자들의 평균은: {avg}\")\n",
    "\n",
    "\n",
    "numbers = []\n",
    "for i in range(5):\n",
    "  num = int(input(f\"{i+1}번째 숫자를 입력하기\"))\n",
    "  numbers.append(num)\n",
    "average = sum(numbers) / len(numbers)\n",
    "print(\"입력한 숫자들의 평균은:\", average)"
   ]
  },
  {
   "cell_type": "code",
   "execution_count": null,
   "metadata": {},
   "outputs": [
    {
     "name": "stdout",
     "output_type": "stream",
     "text": [
      "1번째 이름을 입력하세요: 철수\n",
      "2번째 이름을 입력하세요: 미영\n",
      "3번째 이름을 입력하세요: 민지\n",
      "이름을 거꾸로 출력\n",
      "민지\n",
      "미영\n",
      "철수\n"
     ]
    }
   ],
   "source": [
    "# Q4\n",
    "\"\"\"\n",
    "- 이름 거꾸로 출력하기\n",
    "이름을 3개 입력받아 리스트에 저장하고 거꾸로 출력하기\n",
    "1번째 이름을 입력하세요: 철수\n",
    "2번째 이름을 입력하세요: 영희\n",
    "3번째 이름을 입력하세요: 민수\n",
    "이름을 거꾸로 출력\n",
    "민수\n",
    "영희\n",
    "철수\n",
    "\"\"\"\n",
    "# name = []\n",
    "# num = 0\n",
    "# for _ in range(3):\n",
    "#   num += 1\n",
    "#   user_input = input(f\"{num}번째 이름을 입력하세요\")\n",
    "#   name.append(user_input)\n",
    "#   print(f\"{num}번째 이름을 입력하세요: {user_input}\")\n",
    "# name.reverse()\n",
    "# print(\"이름을 거꾸로 출력:\")\n",
    "# for n in name:\n",
    "#   print(n)\n",
    "\n",
    "\n",
    "names = []\n",
    "for i in range(3):\n",
    "  name = input(f\"{i+1}번째 이름을 입력하기\")\n",
    "  names.append(name)\n",
    "print(\"이름을 거꾸로 출력:\")\n",
    "for name in reversed(names): # name.reverse() 1줄 생략 가능\n",
    "  print(name)"
   ]
  },
  {
   "cell_type": "code",
   "execution_count": null,
   "metadata": {},
   "outputs": [],
   "source": [
    "# Q5\n",
    "\"\"\"\n",
    "- 무작위 짝수만 \n",
    "무작위 숫자 5개를 입력받아 그 중 짝수만 출력하기\n",
    "숫자를 입력하세요: n\n",
    "숫자를 입력하세요: n\n",
    "...\n",
    "입력한 짝수들: [n, n]\n",
    "\"\"\"\n",
    "import random\n",
    "num = []\n",
    "even_numbers = []\n",
    "for _ in range(5):\n",
    "  user_input = (input(\"'g'를 입력하세요\"))\n",
    "  if user_input == 'g':\n",
    "    number = random.randint(1,10)\n",
    "    print(f\"당첨: {number}\")\n",
    "    num.append(number)\n",
    "for n in num:\n",
    "  if n % 2 == 0:\n",
    "    even_numbers.append(n)  # 짝수만 추가\n",
    "print(f\"당첨된 짝수: {even_numbers}\")\n",
    "\n",
    "\n",
    "# even_numbers = []\n",
    "# for i in range(5):\n",
    "#   num = int(input(\"숫자를 입력하기\"))\n",
    "#   if num % 2 == 0:\n",
    "#     even_numbers.append(num)\n",
    "# print(f\"입력한 짝수들: {even_numbers}\")"
   ]
  },
  {
   "cell_type": "code",
   "execution_count": null,
   "metadata": {},
   "outputs": [],
   "source": [
    "# Q6\n",
    "\"\"\"\n",
    "- 특정 숫자 제거하기\n",
    "리스트에서 입력한 숫자를 찾아 제거하기\n",
    "초기 숫자는 10, 20, 30, 40, 50 이다\n",
    "\"\"\"\n",
    "numbers = [10, 20, 30, 40, 50]\n",
    "user_input = int(input(\"제거할 숫자를 입력하세요\"))\n",
    "if user_input in numbers:\n",
    "  numbers.remove(user_input)\n",
    "print(f\"{user_input} 이(가) 제거된 결과 {numbers}\")\n",
    "\n",
    "\n",
    "# nums = [10, 20, 30, 40, 50]\n",
    "# remove = int(input(\"제거하고 싶은 숫자를 입력하세요\"))\n",
    "# if remove in nums:\n",
    "#   nums.remove(remove)\n",
    "# print(f\"{remove}를 제거한 결과: {nums}\")"
   ]
  },
  {
   "cell_type": "code",
   "execution_count": 1,
   "metadata": {},
   "outputs": [
    {
     "name": "stdout",
     "output_type": "stream",
     "text": [
      "입력한 숫자: 60\n",
      "입력한 숫자: 80\n",
      "입력한 숫자: 1\n",
      "입력한 숫자: 3\n",
      "입력한 숫자: 8\n",
      "최대값: 80\n",
      "최소값: 1\n"
     ]
    }
   ],
   "source": [
    "# Q7\n",
    "\"\"\"\n",
    "- 최대값과 최소값 구하기\n",
    "숫자 5개를 입력받아 가장 큰 값과 가장 작은 값을 구하기\n",
    "숫자를 입력하세요: n\n",
    "숫자를 입력하세요: n\n",
    "...\n",
    "최대값: n\n",
    "최소값: n\n",
    "\"\"\"\n",
    "num_list = []\n",
    "for _ in range(5):\n",
    "  user_input = int(input(\"숫자를 입력하세요\"))\n",
    "  print(f\"입력한 숫자: {user_input}\")\n",
    "  num_list.append(user_input)\n",
    "max_num = max(num_list)\n",
    "min_num = min(num_list)\n",
    "print(f\"최대값: {max_num}\")\n",
    "print(f\"최소값: {min_num}\")\n",
    "\n",
    "\n",
    "# nums = []\n",
    "# for i in range(5):\n",
    "#   num = int(input(\"숫자를 입력하세요\"))\n",
    "#   nums.append(num)\n",
    "#   print(\"최대값\", max(nums))\n",
    "#   print(\"최소값\", min(nums))"
   ]
  },
  {
   "cell_type": "code",
   "execution_count": 3,
   "metadata": {},
   "outputs": [
    {
     "name": "stdout",
     "output_type": "stream",
     "text": [
      "단어별 등장 횟수\n",
      "햄버거 : 3\n",
      "사줘 : 1\n"
     ]
    }
   ],
   "source": [
    "# Q8\n",
    "\"\"\"\n",
    "- 단어 빈도수 세기\n",
    "문장을 입력받아 각 단어가 몇 번씩 나왔는지 출력하기\n",
    "문장을 입력하세요: 나는 너를 사랑해 사랑해\n",
    "단어별 등장 횟수:\n",
    "나는: 1\n",
    "너를: 1\n",
    "사랑해: 2\n",
    "\"\"\"\n",
    "# user_txt = input(\"문장을 입력하세요\")\n",
    "# words = user_txt.split() # split() - 공백 기준으로 단어 분리\n",
    "\n",
    "# word_count = {} # 단어별 개수를 저장할 딕셔너리, 빈 중괄호 {}는 set이 아님\n",
    "\n",
    "# for word in words:\n",
    "#   if word in word_count:\n",
    "#     word_count[word] += 1 # 이미 있으면 +1\n",
    "#   else:\n",
    "#     word_count[word] = 1 # 없으면 1\n",
    "# print(f\"입력한 문장 : {user_txt}\")\n",
    "# for word, count in word_count.items():\n",
    "#   print(f\"{word} : {count}번\")\n",
    "\n",
    "\n",
    "sentence = input(\"문장을 입력하세요\")\n",
    "words = sentence.split()\n",
    "\n",
    "word_count = {}\n",
    "\n",
    "for word in words:\n",
    "  if word in word_count:\n",
    "    word_count[word] += 1\n",
    "  else:\n",
    "    word_count[word] = 1\n",
    "print(\"단어별 등장 횟수\")\n",
    "for key in word_count:\n",
    "  print(f\"{key} : {word_count[key]}\")\n",
    "# for word, count in word_count.items():\n",
    "# print(f\"{word} : {count}번\")\n"
   ]
  },
  {
   "cell_type": "code",
   "execution_count": 4,
   "metadata": {},
   "outputs": [
    {
     "name": "stdout",
     "output_type": "stream",
     "text": [
      "숫자 입력이 종료되었습니다\n",
      "전체 숫자 리스트[]\n",
      "중복 제거 리스트[]\n",
      "없는 숫자 : [1, 2, 3, 4, 5, 6, 7, 8, 9, 10]\n"
     ]
    }
   ],
   "source": [
    "# Q9\n",
    "\"\"\"\n",
    "- 중복 제거 후 정렬\n",
    "중복된 숫자를 제거하고 정렬된 리스트를 출력하기\n",
    "숫자를 입력하세요: n\n",
    "숫자를 입력하세요: n\n",
    "...\n",
    "중복 제거 후 정렬된 리스트: [n, n, n, n]\n",
    "\"\"\"\n",
    "import random\n",
    "num_list = []\n",
    "while True:\n",
    "  user_input = (input(\"()'e'입력시 종료) 'g'키를 입력하세요\"))\n",
    "  if user_input.lower() == 'g':\n",
    "    ran_num = random.randint(1,10)\n",
    "    num_list.append(ran_num)\n",
    "    print(f\"당첨 : {num_list[-1]}\")\n",
    "  if user_input.lower() == 'e':\n",
    "    print(\"숫자 입력이 종료되었습니다\")\n",
    "    break\n",
    "print(f\"전체 숫자 리스트{num_list}\")\n",
    "distinct_num_list = sorted(list(set(num_list)))\n",
    "# https://chae528.tistory.com/39 여러가지 방법 참고\n",
    "print(f\"중복 제거 리스트{distinct_num_list}\")\n",
    "\n",
    "all_numbers = set(range(1, 11)) # 차집합 연산은 set 형태여야함\n",
    "created_numbers = set(num_list)\n",
    "missed_number = sorted(list(all_numbers - created_numbers))\n",
    "print(f\"없는 숫자 : {missed_number}\")\n",
    "\n",
    "\n",
    "# nums = []\n",
    "# for i in range(6):\n",
    "#   num = int(input(\"숫자를 입력하기\"))\n",
    "#   nums.append(num)\n",
    "# unique_sorted = sorted(set(nums)) # set : 집합, (순서, 중복)X\n",
    "\n",
    "# print(\"중복 제거 후 정렬된 리스트\", unique_sorted)"
   ]
  }
 ],
 "metadata": {
  "kernelspec": {
   "display_name": "Python 3",
   "language": "python",
   "name": "python3"
  },
  "language_info": {
   "codemirror_mode": {
    "name": "ipython",
    "version": 3
   },
   "file_extension": ".py",
   "mimetype": "text/x-python",
   "name": "python",
   "nbconvert_exporter": "python",
   "pygments_lexer": "ipython3",
   "version": "3.12.9"
  }
 },
 "nbformat": 4,
 "nbformat_minor": 2
}
