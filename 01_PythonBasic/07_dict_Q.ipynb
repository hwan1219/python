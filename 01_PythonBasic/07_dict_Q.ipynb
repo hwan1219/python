{
 "cells": [
  {
   "cell_type": "code",
   "execution_count": 7,
   "metadata": {},
   "outputs": [
    {
     "name": "stdout",
     "output_type": "stream",
     "text": [
      "dict_values([85, 92, 78])\n",
      "평균점수: 85.0\n"
     ]
    }
   ],
   "source": [
    "# Q1\n",
    "\"\"\"\n",
    "- 학생 점수 평균 구하기\n",
    "학생들의 이름과 점수가 담긴 딕셔너리를 보고 전체 평균 점수를 구하세요\n",
    "'Alice': 85, 'Bob': 92, 'Charlie': 78\n",
    "평균 점수: 85.0\n",
    "\"\"\"\n",
    "student_score = {'Alice': 85, 'Bob': 92, 'Charlie': 78}\n",
    "avg_score = sum(student_score.values()) / len(student_score)\n",
    "print(f\"평균점수: {avg_score}\")\n",
    "\n",
    "print(student_score.values()) # 출력: dict_values([85, 92, 78])\n",
    "# dict.values() 는 딕셔너리의 value들만 모은 \"뷰 객체\" 를 반환\n",
    "# 내부적으로 리스트와 비슷하게 작동하고, 형태도 튜플안에 들어있는 리스트처럼 보이지만 엄밀히 말하면 리스트도 아니고 튜플도 아님\n",
    "# 단지 어떤 값이 들어있는지 보여주려고 list처럼 표시 하는 것임, 즉 반복 가능한 객체(iterable)로 출력될 뿐임"
   ]
  },
  {
   "cell_type": "code",
   "execution_count": 11,
   "metadata": {},
   "outputs": [
    {
     "name": "stdout",
     "output_type": "stream",
     "text": [
      "엄마의 번호: 010-1234-5678\n"
     ]
    }
   ],
   "source": [
    "# Q2\n",
    "\"\"\"\n",
    "- 전화번호부 만들기\n",
    "딕셔너리로 이름을 키, 전화번호를 값으로 저장하고, 사용자가 이름을 입력하면 번호를 출력하세요\n",
    "{'엄마': '010-1234-5678', '아빠': '010-9876-5432'}\n",
    "이름을 입력하세요: 엄마\n",
    "엄마의 전화번호: 010-1234-5678\n",
    "\"\"\"\n",
    "phone_book = {'엄마': '010-1234-5678', '아빠': '010-9876-5432'}\n",
    "user_input = input(\"검색하고 싶은 대상의 저장명을 입력하세요\")\n",
    "if user_input in phone_book:\n",
    "  print(f\"{user_input}의 번호: {phone_book[user_input]}\")\n",
    "else:\n",
    "  print(\"전화번호부에 없는 이름입니다\")"
   ]
  },
  {
   "cell_type": "code",
   "execution_count": 22,
   "metadata": {},
   "outputs": [
    {
     "name": "stdout",
     "output_type": "stream",
     "text": [
      "defaultdict(<class 'int'>, {'i': 1, 'love': 1, 'python': 2, 'because': 1, 'is': 1, 'fun': 1})\n",
      "{'i': 1, 'love': 1, 'python': 2, 'because': 1, 'is': 1, 'fun': 1}\n"
     ]
    }
   ],
   "source": [
    "# Q3\n",
    "\"\"\"\n",
    "- 단어 수 세기\n",
    "문장에서 단어별로 몇 번 나왔는지 세어 딕셔너리에 저장\n",
    "sentence = \"i love python because python is fun\"\n",
    "{'i': 1, 'love': 1, 'python': 2, 'because': 1, 'is': 1, 'fun': 1}\n",
    "\"\"\"\n",
    "sentence = \"i love python because python is fun\"\n",
    "words = sentence.split()\n",
    "words_counter = {}\n",
    "for word in words:\n",
    "  words_counter[word] = words_counter.get(word, 0) + 1\n",
    "print(words_counter)\n",
    "\n",
    "# from collections import defaultdict\n",
    "# # collections 모듈에서 defaultdict 가져오기\n",
    "# sentence = \"i love python because python is fun\"\n",
    "# words = sentence.split()\n",
    "# words_counter = defaultdict(int) # 기본값이 0인 defaultdict 생성\n",
    "# for word in words:\n",
    "#   words_counter[word] += 1\n",
    "# print(words_counter)\n",
    "# print(dict(words_counter))\n",
    "# # Counter(...), defaultdict(...) 같은 것이 출력되지 않고 딕셔너리 형태로만 출력되길 바란다면 dict()로 감싸주면 됨\n",
    "\n",
    "\n",
    "# sentence = \"i love python because python is fun\"\n",
    "# word_count = {}\n",
    "# for word in sentence.split():\n",
    "#   word_count[word] = word_count.get(word, 0) + 1\n",
    "# print(\"단어 수\", word_count)"
   ]
  },
  {
   "cell_type": "code",
   "execution_count": 27,
   "metadata": {},
   "outputs": [
    {
     "name": "stdout",
     "output_type": "stream",
     "text": [
      "apple의 뜻은 사과입니다\n"
     ]
    }
   ],
   "source": [
    "# Q4\n",
    "\"\"\"\n",
    "- 영어 > 한글 단어장\n",
    "영어 단어를 입력하면 한글 뜻을 출력하는 단어장 프로그램 생성\n",
    "영어 단어를 입력하세요: banana\n",
    "banana의 뜻은 바나나입니다\n",
    "\"\"\"\n",
    "# trans = {'apple': '사과', 'banana': '바나나', 'computer': '컴퓨터'}\n",
    "# user_input = input(\"한글로 변환하고 싶은 영어 단어를 입력하세요\").lower()\n",
    "# if user_input in trans:\n",
    "#   print(f\"{user_input}의 뜻은 {trans[user_input]}입니다\")\n",
    "# else:\n",
    "#   print(\"사전에 없는 단어입니다.\")\n",
    "\n",
    "\n",
    "vocab = {'apple': '사과', 'banana': '바나나', 'computer': '컴퓨터'}\n",
    "word = input(\"영어 단어를 입력하세요\")\n",
    "meaning = vocab.get(word)\n",
    "if word in vocab:\n",
    "  print(f\"{word}의 뜻은 {meaning}입니다\")\n",
    "else:\n",
    "  print(\"사전에 없는 단어입니다\")"
   ]
  },
  {
   "cell_type": "code",
   "execution_count": 28,
   "metadata": {},
   "outputs": [
    {
     "name": "stdout",
     "output_type": "stream",
     "text": [
      "커피의 가격은 3000원입니다\n"
     ]
    }
   ],
   "source": [
    "# Q5\n",
    "\"\"\"\n",
    "- 물건 가격 검색기\n",
    "딕셔너리로 물건 이름과 가격을 저장하고, 물건명을 입력하면 가격을 출력\n",
    "{'커피': 3000, '아이스크림': 2000, '샌드위치': 4500}\n",
    "물건 이름을 입력하세요: 커피\n",
    "커피의 가격은 3000원입니다\n",
    "\"\"\"\n",
    "# product = {'커피': 3000, '아이스크림': 2000, '샌드위치': 4500}\n",
    "# user_input = input(\"가격을 알고 싶은 상품명을 입력하세요\")\n",
    "# if user_input in product:\n",
    "#   print(f\"{user_input}의 가격은 {product[user_input]}원입니다\")\n",
    "# else:\n",
    "#   print(\"등록되지 않은 상품입니다\")\n",
    "\n",
    "\n",
    "items = {'커피': 3000, '아이스크림': 2000, '샌드위치': 4500}\n",
    "item = input(\"물건 이름을 입력하세요\")\n",
    "price = items.get(item)\n",
    "if item in items:\n",
    "  print(f\"{item}의 가격은 {price}원입니다\")\n",
    "else:\n",
    "  print(\"등록되지 않은 상품입니다\")"
   ]
  },
  {
   "cell_type": "code",
   "execution_count": 33,
   "metadata": {},
   "outputs": [
    {
     "name": "stdout",
     "output_type": "stream",
     "text": [
      "결석자 명단: ['Bob', 'David']\n"
     ]
    }
   ],
   "source": [
    "# Q6\n",
    "\"\"\"\n",
    "- 출석 체크\n",
    "전체 학생 명단과 출석한 학생 명단이 있을 때, 결석자를 출력\n",
    "all_student = ['Alice', 'Bob', 'Charlie', 'David']\n",
    "attended = ['Alice', 'Charlie']\n",
    "결석자 명단: ['Bob','David']\n",
    "\"\"\"\n",
    "# all_student = ['Alice', 'Bob', 'Charlie', 'David']\n",
    "# attended = ['Alice', 'Charlie']\n",
    "# absent_list = list(set(all_student) - set(attended))\n",
    "# print(absent_list)\n",
    "\n",
    "\n",
    "all_student = ['Alice', 'Bob', 'Charlie', 'David']\n",
    "attended = ['Alice', 'Charlie']\n",
    "absent = [name for name in all_student if name not in attended]\n",
    "#          3        1                       2\n",
    "# list comprehension\n",
    "print(\"결석자 명단:\", absent)"
   ]
  },
  {
   "cell_type": "code",
   "execution_count": 35,
   "metadata": {},
   "outputs": [
    {
     "name": "stdout",
     "output_type": "stream",
     "text": [
      "투표가 종료되었습니다.\n",
      "\n",
      "투표 결과\n",
      "Alice: 1표\n",
      "alice: 1표\n",
      "ALICE: 1표\n",
      "bob: 1표\n",
      "BOB: 1표\n"
     ]
    }
   ],
   "source": [
    "# Q7\n",
    "\"\"\"\n",
    "- 투표 시스템\n",
    "사용자로부터 투표를 입력받아 후보별 표 수를 집계하세요. 중복 투표 허용\n",
    "투표할 후보 이름을 입력하세요 (종료는 '끝\")\n",
    "사용자 입력: Alice\n",
    "사용자 입력: Bob\n",
    "사용자 입력: alice\n",
    "사용자 입력: 끝\n",
    "투포 결과:\n",
    "Alice: 2표\n",
    "Bob: 1표\n",
    "\"\"\"\n",
    "# from collections import defaultdict\n",
    "\n",
    "# voting_target = ['Alice', 'Bob']\n",
    "# voting_results = defaultdict(int)\n",
    "# while True:\n",
    "#   vote = input(\" 투표할 후보자 이름을 입력하세요 (아무것도 입력하지 않을 시 투표 종료)\")\n",
    "#   if vote == '':\n",
    "#     print(\"투표가 종료되었습니다.\\n\")\n",
    "#     break\n",
    "#   normalized_vote = vote.strip().capitalize()\n",
    "#   # stript() - 문자열의 양쪽 끝에서 공백(스페이스, 탭, 줄바꿈 등)을 제거해줌\n",
    "#   # capitalize() - 문자열의 첫 글자만 대문자, 나머지는 소문자로 만들어줌\n",
    "#   if normalized_vote in voting_target:\n",
    "#     voting_results[normalized_vote] += 1\n",
    "#   else:\n",
    "#     print(\"해당 후보는 존재하지 않습니다. 다시 입력해주세요.\")\n",
    "# print(\"투표 결과\")\n",
    "# for name in voting_target:\n",
    "#   print(f\"{name}: {voting_results[name]}표\")\n",
    "\n",
    "\n",
    "votes = {}\n",
    "while True:\n",
    "  name = input(\"투표할 후보 이름을 입력하세요 (아무것도 입력하지 않을 시 투표 종료)\")\n",
    "  if name == '':\n",
    "    print(\"투표가 종료되었습니다.\\n\")\n",
    "    break\n",
    "  votes[name] = votes.get(name, 0) + 1\n",
    "print(\"투표 결과\")\n",
    "for candidate, count in votes.items():\n",
    "  print(f\"{candidate}: {count}표\")"
   ]
  }
 ],
 "metadata": {
  "kernelspec": {
   "display_name": "Python 3",
   "language": "python",
   "name": "python3"
  },
  "language_info": {
   "codemirror_mode": {
    "name": "ipython",
    "version": 3
   },
   "file_extension": ".py",
   "mimetype": "text/x-python",
   "name": "python",
   "nbconvert_exporter": "python",
   "pygments_lexer": "ipython3",
   "version": "3.12.9"
  }
 },
 "nbformat": 4,
 "nbformat_minor": 2
}
