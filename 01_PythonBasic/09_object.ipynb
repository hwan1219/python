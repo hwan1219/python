{
 "cells": [
  {
   "cell_type": "markdown",
   "metadata": {},
   "source": [
    "# 9. object"
   ]
  },
  {
   "cell_type": "code",
   "execution_count": null,
   "metadata": {},
   "outputs": [],
   "source": [
    "# class - template(틀): 자동차의 설계도, 붕어빵 틀\n",
    "# - 속성(변수) + 메서드(함수)\n",
    "\n",
    "# object - class를 통해서 만들어진 것\n",
    "\n",
    "# instance - 만들어진 객체 하나, 하나\n",
    "\n",
    "# class: 클래스를 정의하는 키워드\n",
    "# class @: 클래스의 이름(@), 보통 첫 글자는 대문자로 작성\n",
    "# __init__: 클래스가 인스턴트화될 때 호출하는 초기화 메서드, 객체가 생성될 때 호출되며, 객체의 초기 속성을 설정\n",
    "# self: 객체 자신을 참조하는 예약어, 클래스 내에서 정의된 속성과 메서드에 접근할 때 사용됨"
   ]
  },
  {
   "cell_type": "code",
   "execution_count": 2,
   "metadata": {},
   "outputs": [
    {
     "name": "stdout",
     "output_type": "stream",
     "text": [
      "Hello, my name is Alice and I am 30 years old\n"
     ]
    }
   ],
   "source": [
    "# class01.py\n",
    "# 클래스 정의, 사용\n",
    "# Person이라는 클래스를 정의한 후, 사람의 이름과 나이를 속성으로 가지고 인사하는 메서드를 제공\n",
    "class Person:\n",
    "  # 초기값(프로그램 시작을 값을 넣고 시작) 저장\n",
    "  def __init__(self, name, age): # name, age: parameter name(매개변수명)\n",
    "    self.name = name # self.name: 함수 안에 들어 있는 변수\n",
    "    self.age = age # == self.name\n",
    "  def greet(self):\n",
    "    return f\"Hello, my name is {self.name} and I am {self.age} years old\"\n",
    "\n",
    "# Person 클래스 인스턴스(객체) 생성\n",
    "person1 = Person(\"Alice\", 30)\n",
    "\n",
    "# 메서드 호출\n",
    "print(person1.greet()) # 출력: Hello, my name is Alice and I am 30 years old"
   ]
  },
  {
   "cell_type": "code",
   "execution_count": 11,
   "metadata": {},
   "outputs": [
    {
     "name": "stdout",
     "output_type": "stream",
     "text": [
      "Hello, my name is Charlie and I am 20 years old\n",
      "Charlie is studying\n"
     ]
    }
   ],
   "source": [
    "# class02.py\n",
    "# 클래스 상속, 확장\n",
    "# 클래스는 상속을 통해 다른 클래스로부터 속성과 메서드를 물려받을 수 있음\n",
    "# 상속을 사용하면 기존 클래스의 기능을 확장할 수 있음, 이를 통해 코드의 재사용성과 유지보수성을 높일 수 있음\n",
    "class Person: # 부모 클래스 - 재사용하기 위해 부모 소환\n",
    "  def __init__(self, name, age):\n",
    "    self.name = name # charlie 저장\n",
    "    self.age = age # 20 저장\n",
    "  def greet(self):\n",
    "    return f\"Hello, my name is {self.name} and I am {self.age} years old\"\n",
    "  \n",
    "class Student(Person): # Person 클래스를 상속받은 Student 클래스\n",
    "  def __init__(self, name, age, student_id):\n",
    "    super().__init__(name, age)\n",
    "    # super(): 부모 클래스(Person)의 __init__ 메서드 호출\n",
    "    self.student_id = student_id # S12345 저장\n",
    "  def study(self):\n",
    "    return f\"{self.name} is studying\"\n",
    "  \n",
    "# Student 클래스 인스턴스 생성\n",
    "student1 = Student(\"Charlie\", 20, \"S12345\")\n",
    "print(student1.greet()) # 부모 클래스의 메서드 호출\n",
    "print(student1.study()) # 자식 클래스의 메서드 호출"
   ]
  },
  {
   "cell_type": "code",
   "execution_count": 6,
   "metadata": {},
   "outputs": [
    {
     "name": "stdout",
     "output_type": "stream",
     "text": [
      "Hello, my name is Alice and I am 30 years old\n",
      "Hello, my name is Bob and I am 25 years old\n"
     ]
    }
   ],
   "source": [
    "# obj01.py\n",
    "# 객체 생성\n",
    "# 클래스를 사용하여 생성, 클래스 이름 뒤에 괄호를 사용하여 이루어지며, 괄호 안에서는 클래스에서 정의된 초기화 메서드(__init__)에 필요한 인자를 전달\n",
    "class Person:\n",
    "  def __init__(self, name, age):\n",
    "    self.name = name # 객체의 name 속성\n",
    "    self.age = age # 객체의 age 속성\n",
    "  def greet(self):\n",
    "    return f\"Hello, my name is {self.name} and I am {self.age} years old\"\n",
    "  \n",
    "# Person 클래스를 사용하여 객체 생성\n",
    "person1 = Person(\"Alice\", 30)\n",
    "person2 = Person(\"Bob\", 25)\n",
    "\n",
    "# 각 객체에서 메서드 호출\n",
    "print(person1.greet()) # 출력: Hello, my name is Alice and I am 30 years old\n",
    "print(person2.greet()) # 출력: Hello, my name is Bob and I am 25 years old"
   ]
  },
  {
   "cell_type": "code",
   "execution_count": 7,
   "metadata": {},
   "outputs": [
    {
     "name": "stdout",
     "output_type": "stream",
     "text": [
      "This car is a 2022 Toyota Camry\n",
      "This car is a 2021 Honda Civic\n"
     ]
    }
   ],
   "source": [
    "# obj02.py\n",
    "# 객체의 주요 메서드\n",
    "# 객체는 클래스에서 정의된 메서드를 호출하여 동작을 수행\n",
    "class Car:\n",
    "  def __init__(self, make, model, year):\n",
    "    self.make = make\n",
    "    self.model = model\n",
    "    self.year = year\n",
    "  def car_info(self):\n",
    "    return f\"This car is a {self.year} {self.make} {self.model}\"\n",
    "\n",
    "# Car 클래스를 사용하여 객체 생성\n",
    "car1 = Car(\"Toyota\", \"Camry\", 2022)\n",
    "car2 = Car(\"Honda\", \"Civic\", 2021)\n",
    "\n",
    "# 각 객체에서 메서드 호출\n",
    "print(car1.car_info()) # 출력: This car is a 2022 Toyota Camry\n",
    "print(car2.car_info()) # 출력: This car is a 2021 Honda Civic"
   ]
  },
  {
   "cell_type": "code",
   "execution_count": 12,
   "metadata": {},
   "outputs": [
    {
     "name": "stdout",
     "output_type": "stream",
     "text": [
      "Generic Animal makes a sound.\n",
      "Rex barks.\n"
     ]
    }
   ],
   "source": [
    "# inherit01.py\n",
    "# 상속\n",
    "# 자식 클래스가 부모 클래스의 속성과 메서드를 상속받아 사용 가능\n",
    "# super().__init__(): 자식 클래스에서 부모 클래스의 속성을 초기화할 때 사용\n",
    "# 자식 클래스는 부모 클래스의 모든 속성과 메서드를 상속받음\n",
    "# 자식 클래스는 부모 클래스에서 물려받은 속성을 변경, 새로운 속성을 추가 가능\n",
    "# 자식 클래스는 부모 클래스의 메서드를 오버라이딩하여 자신만의 구현 가능\n",
    "# ex) Animal 클래스를 부모 클래스로 하고, 이를 상속받은 Dog 클래스를 자식 클래스로 구현\n",
    "\n",
    "# 부모 클래스: Animal\n",
    "class Animal:\n",
    "  def __init__(self, name):\n",
    "    self.name = name\n",
    "  def speak(self):\n",
    "    print(f\"{self.name} makes a sound.\")\n",
    "\n",
    "# 자식 클래스: Dog (Animal을 상속)\n",
    "class Dog(Animal):\n",
    "  def __init__(self, name, breed):\n",
    "    super().__init__(name) # 부모 클래스의 __init__ 메서드 호출\n",
    "    self.breed = breed\n",
    "  def speak(self):\n",
    "    print(f\"{self.name} barks.\")\n",
    "\n",
    "# 객체 생성\n",
    "animal = Animal(\"Generic Animal\")\n",
    "dog = Dog(\"Rex\", \"Labrador\")\n",
    "# 메서드 호출\n",
    "animal.speak() # 출력: Generic Animal makes a sound.\n",
    "dog.speak() # 출력: Rex barks."
   ]
  },
  {
   "cell_type": "code",
   "execution_count": 14,
   "metadata": {},
   "outputs": [
    {
     "name": "stdout",
     "output_type": "stream",
     "text": [
      "name: Whiskers, color: black\n",
      "Whiskers meows.\n"
     ]
    }
   ],
   "source": [
    "# inherit02.py\n",
    "# 상속의 장점\n",
    "# 코드 재사용: 부모 클래스의 속성과 메서드를 물려받아, 중복 코드를 줄일 수 있음\n",
    "# 유지보수: 부모 클래스에서 기능을 수정하면, 자식 클래스에도 자동 반영\n",
    "# 확장성: 자식 클래스에서 부모 클래스의 기능을 확장하거나 수정할 수 있음\n",
    "class Animal:\n",
    "  def __init__(self, name):\n",
    "    self.name = name\n",
    "  def speak(self):\n",
    "    print(f\"{self.name} makes a sound.\")\n",
    "class Cat(Animal):\n",
    "  def __init__(self, name, color):\n",
    "    super().__init__(name)\n",
    "    self.color = color\n",
    "  def info(self):\n",
    "    print(f\"name: {self.name}, color: {self.color}\")\n",
    "  def speak(self):\n",
    "    print(f\"{self.name} meows.\")\n",
    "    # Animal 클래스를 상속받고, speak() 메서드를 오버라이딩하여 \"meows\"라는 메시지를 출력\n",
    "    # 이렇게 자식 클래스에서 부모 클래스의 메서드를 새롭게 정의하는 것을 다형성(Polymorphism)이라고 함\n",
    "\n",
    "# 객체 생성\n",
    "cat = Cat(\"Whiskers\", \"black\")\n",
    "cat.info() # 출력: name: Whiskers, color: black\n",
    "cat.speak() # 출력: Whiskers meows."
   ]
  },
  {
   "cell_type": "code",
   "execution_count": 16,
   "metadata": {},
   "outputs": [
    {
     "name": "stdout",
     "output_type": "stream",
     "text": [
      "Breathing...\n",
      "Swimming...\n",
      "The whale sings.\n"
     ]
    }
   ],
   "source": [
    "# inherit03.py\n",
    "# 상속을 활용한 다중 상속\n",
    "# 하나의 자식 클래스가 여러 부모 클래스로부터 상속을 받을 수 있음\n",
    "class Mammal:\n",
    "  def breathe(self):\n",
    "    print(\"Breathing...\")\n",
    "\n",
    "class Swimmer:\n",
    "  def swim(self):\n",
    "    print(\"Swimming...\")\n",
    "\n",
    "# 자식 클래스: Whale (Mammal과 Swimmer를 상속)\n",
    "class Whale(Mammal, Swimmer):\n",
    "  def speak(self):\n",
    "    print(\"The whale sings.\")\n",
    "\n",
    "# 객체 생성\n",
    "whale = Whale()\n",
    "whale.breathe() # 출력: Breathing...\n",
    "whale.swim() # 출력: Swimming...\n",
    "whale.speak() # 출력: The whale sings."
   ]
  },
  {
   "cell_type": "code",
   "execution_count": 31,
   "metadata": {},
   "outputs": [
    {
     "name": "stdout",
     "output_type": "stream",
     "text": [
      "안녕하세요! 제 이름은 John이고, 나이는 30입니다.\n",
      "None\n",
      "John\n",
      "30\n",
      "서울시 강남구\n",
      "나이는 음수가 될 수 없습니다.\n"
     ]
    }
   ],
   "source": [
    "# encap01.py\n",
    "class Person:\n",
    "  def __init__(self, name, age):\n",
    "    self.name = name # 공개 속성\n",
    "    self._age = age # 보호된 속성\n",
    "    self.__address = None # 비공개 속성\n",
    "\n",
    "  # 비공개 속성에 접근하기 위한 메서드 (getter)\n",
    "  def get_address(self):\n",
    "    return self.__address\n",
    "  \n",
    "  # 비공개 속성에 값을 설정하는 메서드 (setter)\n",
    "  def set_address(self, address):\n",
    "    self.__address = address\n",
    "  \n",
    "  # 보호된 속성에 접근하기 위한 메서드 (getter)\n",
    "  def get_age(self):\n",
    "    return self._age\n",
    "  \n",
    "  # 나이 값을 설정하는 메서드\n",
    "  def set_age(self, age):\n",
    "    if age < 0:\n",
    "      print(\"나이는 음수가 될 수 없습니다.\")\n",
    "    else:\n",
    "      self._age = age\n",
    "\n",
    "  # 사람 소개하는 메서드\n",
    "  def introduce(self):\n",
    "    print(f\"안녕하세요! 제 이름은 {self.name}이고, 나이는 {self._age}입니다.\")\n",
    "\n",
    "# 객체 생성\n",
    "person = Person(\"John\", 30)\n",
    "\n",
    "# 공개 속성에 직접 접근\n",
    "print(person.name) # 출력: John\n",
    "\n",
    "# 보호된 속성에 접근하려면 메서드를 사용\n",
    "print(person.get_age()) # 출력: 30\n",
    "\n",
    "# 비공개 속성에 접근하려면 메서드를 사용\n",
    "person.set_address(\"서울시 강남구\")\n",
    "print(person.get_address()) # 출력: 서울시 강남구\n",
    "\n",
    "# 나이를 음수로 설정하려고 시도\n",
    "person.set_age(-5) # 출력: 나이는 음수가 될 수 없습니다."
   ]
  }
 ],
 "metadata": {
  "kernelspec": {
   "display_name": "Python 3",
   "language": "python",
   "name": "python3"
  },
  "language_info": {
   "codemirror_mode": {
    "name": "ipython",
    "version": 3
   },
   "file_extension": ".py",
   "mimetype": "text/x-python",
   "name": "python",
   "nbconvert_exporter": "python",
   "pygments_lexer": "ipython3",
   "version": "3.12.9"
  }
 },
 "nbformat": 4,
 "nbformat_minor": 2
}
