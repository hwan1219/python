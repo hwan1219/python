{
 "cells": [
  {
   "cell_type": "code",
   "execution_count": 44,
   "metadata": {},
   "outputs": [
    {
     "name": "stdout",
     "output_type": "stream",
     "text": [
      "비밀번호가 틀렸습니다. 다시 입력해주세요.\n"
     ]
    }
   ],
   "source": [
    "# Q1\n",
    "\"\"\"\n",
    "- 도어락 비밀번호\n",
    "비밀번호는 무엇입니다? 0610\n",
    "문이 열렸습니다.\n",
    "\"\"\"\n",
    "password = \"0610\"\n",
    "password = int(password)\n",
    "password_trial = int(input(\"비밀번호를 입력하세요\"))\n",
    "if password_trial == password:\n",
    "  print(\"문이 열렸습니다.\")\n",
    "else :\n",
    "  print(\"비밀번호가 틀렸습니다. 다시 입력해주세요.\")"
   ]
  },
  {
   "cell_type": "code",
   "execution_count": 40,
   "metadata": {},
   "outputs": [
    {
     "name": "stdout",
     "output_type": "stream",
     "text": [
      "명단에 없는 이름입니다.\n"
     ]
    }
   ],
   "source": [
    "# Q2\n",
    "\"\"\"\n",
    "- 반 배치\n",
    "이름이 무엇입니까? 김수현\n",
    "3학년 6반으로 가시면 됩니다.\n",
    "이름이 무엇입니까? 이승기\n",
    "3학년 2반으로 가시면 됩니다.\n",
    "\"\"\"\n",
    "name = input(\"이름을 입력하세요\")\n",
    "if name == \"김수현\":\n",
    "  print(\"3학년 6반으로 가시면 됩니다.\")\n",
    "elif name == \"이승기\":\n",
    "  print(\"3학년 2반으로 가시면 됩니다.\")\n",
    "else:\n",
    "  print(\"명단에 없는 이름입니다.\")"
   ]
  },
  {
   "cell_type": "code",
   "execution_count": 10,
   "metadata": {},
   "outputs": [
    {
     "name": "stdout",
     "output_type": "stream",
     "text": [
      "이 등급의 영화를 보실 수 있습니다.\n"
     ]
    }
   ],
   "source": [
    "# Q3\n",
    "\"\"\"\n",
    "- 19세 이상 영화 관람\n",
    "당신의 나이는? 17\n",
    "이 등급의 영화를 볼 수 있습니다.\n",
    "\"\"\"\n",
    "age = int(input(\"나이를 입력하세요\"))\n",
    "if age >= 18:\n",
    "  print(\"이 등급의 영화를 보실 수 있습니다.\")\n",
    "else:\n",
    "  print(\"이 등급의 영화를 볼 수 있는 나이가 아닙니다\")"
   ]
  },
  {
   "cell_type": "code",
   "execution_count": 53,
   "metadata": {},
   "outputs": [
    {
     "name": "stdout",
     "output_type": "stream",
     "text": [
      "결핵 예방접종 대상자 입니다.\n",
      "B형간염 예방접종 대상자 입니다.\n"
     ]
    }
   ],
   "source": [
    "# Q4\n",
    "\"\"\"\n",
    "- 유아 예방 접종 기간\n",
    "아이가 출생 후 몇 개월인지 입력하면, 개월 수에 따라 예방접종을 해야 하는 목록을 알려 주는 것을 만들기\n",
    "(중간에 생략된 달은 모두 포함된다.) ex - 2개월~6개월인 경우 2, 3, 4, 5, 6개월\n",
    "결핵: 출생~1개월\n",
    "B형간염: 출생~2개월\n",
    "파상풍: 2개월~6개월\n",
    "폐렴구균: 2개월~15개월월\n",
    "\"\"\"\n",
    "month = int(input(\"개월 수를 입력하세요\"))\n",
    "if 0 <= month <= 1:\n",
    "  print(\"결핵 예방접종 대상자 입니다.\")\n",
    "if 0 <= month <= 2:\n",
    "  print(\"B형간염 예방접종 대상자 입니다.\")\n",
    "if 2 <= month <= 6:\n",
    "  print(\"파상풍 예방접종 대상자 입니다.\")\n",
    "if 2 <= month:\n",
    "  print(\"폐렴구균 예방접종 대상자 입니다.\")"
   ]
  },
  {
   "cell_type": "code",
   "execution_count": null,
   "metadata": {},
   "outputs": [],
   "source": [
    "# Q5\n",
    "\"\"\"\n",
    "- 경찰 체력 검정\n",
    "경찰 시험의 두 번째는 체력 시험이다. 다섯 개의 종목별로 기록 구간이 나누어져 있고 구간마다 1~10점까지 다양하다. 첫 번째 필기시험과 점수는 합산되지만 종목별로 모두 8점 이상을 맞으면 합격 가능성이 높다고 가정하고 예측 프로그램 만들기\n",
    "8점 커트라인\n",
    "100m: 13.6 / 1000m: 237 / 윗몸일으키기: 51 / 좌우 악력: 56 / 팔굽혀펴기: 46\n",
    "\"\"\"\n",
    "run100m = float(input(\"100m 달리기 기록을 입력하세요\"))\n",
    "run1000m = float(input(\"1000m 달리기 기록을 입력하세요\"))\n",
    "situps = int(input(\"윗몸일으키기 개수를 입력하세요\"))\n",
    "gripstrength = float(input(\"좌우 악력 수치를 입력하세요\"))\n",
    "pushups = int(input(\"팔굽혀펴기 개수 입력하세요\"))\n",
    "if run100m <= 13.6:\n",
    "  run100mScore = 8\n",
    "if run1000m <= 237:\n",
    "  run100mScore = 8\n",
    "if situps >= 51:\n",
    "  situpsScore = 8\n",
    "if gripstrength >= 56:\n",
    "  gripstrengthScore = 8\n",
    "if pushups >= 46:\n",
    "  pushupsScore = 8\n",
    "avg = (run100mScore + run100mScore + situpsScore + gripstrengthScore + pushupsScore) / 5\n",
    "print(\"100m 기록(초) :\", run100m)\n",
    "print(\"1000m 기록(초) :\", run1000m)\n",
    "print(\"윗몸일으키기 기록(회) :\", situps)\n",
    "print(\"좌우 악력 기록(kg) :\", gripstrength)\n",
    "print(\"팔굽혀펴기 기록(회) :\", pushups)\n",
    "if avg >= 8:\n",
    "  print(\"합격 가능성이 매우 높습니다.\")\n",
    "else:\n",
    "  print(\"합격 가능성이 낮습니다.\")"
   ]
  },
  {
   "cell_type": "code",
   "execution_count": 1,
   "metadata": {},
   "outputs": [
    {
     "name": "stdout",
     "output_type": "stream",
     "text": [
      "국어 점수: 80\n",
      "영어 점수: 80\n",
      "한국사 점수: 80\n",
      "선택과목1 점수: 80\n",
      "선택과목2 점수: 80\n",
      "과락 아님\n"
     ]
    }
   ],
   "source": [
    "# Q6\n",
    "\"\"\"\n",
    "- 공무원 시험 과락 판별\n",
    "공무원 시험은 보통 필수 3과목(국어, 영어, 한국사)과 선택 2과목으로 나누어진다고 하면, 이 중 어느 한 과목이라도 40점 미만이면 과락이다. 한 해 응시자 중 평균 50% 정도 과락이 발생한다. 점수를 입력받은 후 어느 한 과목이라도 40점 미만일 경우 \"과락\"을 출력하고, 반대의 경우 \"과락 아님\"을 출력해 보기\n",
    "\"\"\"\n",
    "koreaScore = int(input(\"국어 점수를 입력해주세요\"))\n",
    "englishScore = int(input(\"영어 점수를 입력해주세요\"))\n",
    "historyScore = int(input(\"한국사 점수를 입력해주세요\"))\n",
    "minor1Score = int(input(\"선택과목1 점수를 입력해주세요\"))\n",
    "minor2Score = int(input(\"선택과목2 점수를 입력해주세요\"))\n",
    "\n",
    "if koreaScore >= 40 and englishScore >= 40 and historyScore >= 40 and minor1Score >= 40 and minor2Score >= 40:\n",
    "  print(\"국어 점수:\",koreaScore)\n",
    "  print(\"영어 점수:\",englishScore)\n",
    "  print(\"한국사 점수:\",historyScore)\n",
    "  print(\"선택과목1 점수:\",minor1Score)\n",
    "  print(\"선택과목2 점수:\",minor2Score)\n",
    "  print(\"과락 아님\")\n",
    "else:\n",
    "  print(\"국어 점수:\",koreaScore)\n",
    "  print(\"영어 점수:\",englishScore)\n",
    "  print(\"한국사 점수:\",historyScore)\n",
    "  print(\"선택과목1 점수:\",minor1Score)\n",
    "  print(\"선택과목2 점수:\",minor2Score)\n",
    "  print(\"과락\")"
   ]
  }
 ],
 "metadata": {
  "kernelspec": {
   "display_name": "Python 3",
   "language": "python",
   "name": "python3"
  },
  "language_info": {
   "codemirror_mode": {
    "name": "ipython",
    "version": 3
   },
   "file_extension": ".py",
   "mimetype": "text/x-python",
   "name": "python",
   "nbconvert_exporter": "python",
   "pygments_lexer": "ipython3",
   "version": "3.12.9"
  }
 },
 "nbformat": 4,
 "nbformat_minor": 2
}
