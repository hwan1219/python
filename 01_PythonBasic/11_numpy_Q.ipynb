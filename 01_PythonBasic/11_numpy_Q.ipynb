{
 "cells": [
  {
   "cell_type": "code",
   "execution_count": 3,
   "metadata": {},
   "outputs": [
    {
     "name": "stdout",
     "output_type": "stream",
     "text": [
      "단어 리스트: ['NumPy', 'makes', 'numerical', 'computing', 'easy', 'and', 'fast']\n",
      "단어 길이 벡터: [5 5 9 9 4 3 4]\n"
     ]
    }
   ],
   "source": [
    "# Q1\n",
    "'''\n",
    "- 단어 길이 벡터화\n",
    "주어진 문장에서 각 단어의 길이를 추출하여 NumPy 배열로 변환하는 간단한 NLP 전처리 예제\n",
    "단어 리스트: ['NumPy', 'makes', 'numerical', 'computing', 'easy', 'and', 'fast']\n",
    "단어 길이 벡터: [5 5 9 9 4 3 4]\n",
    "'''\n",
    "import numpy as np\n",
    "\n",
    "txt = \"NumPy makes numerical computing easy and fast\"\n",
    "words = txt.split()\n",
    "word_lengths = np.array([len(word) for word in words])\n",
    "print(\"단어 리스트:\", words)\n",
    "print(\"단어 길이 벡터:\", word_lengths)"
   ]
  },
  {
   "cell_type": "code",
   "execution_count": 4,
   "metadata": {},
   "outputs": [
    {
     "name": "stdout",
     "output_type": "stream",
     "text": [
      "감정 점수: [ 8  9  7  6 10  5  4]\n",
      "평균: 7.0\n",
      "분산: 4.0\n"
     ]
    }
   ],
   "source": [
    "# Q2\n",
    "'''\n",
    "- 감정 점수 평균\n",
    "영화 리뷰나 트윗에 부여된 감정 점수 배열의 평균과 분산을 NumPy로 계산하는 예제\n",
    "감정 점수: 1(부정) ~ 10(긍정)\n",
    "감정 점수: [8 9 7 6 10 5 4]\n",
    "평균: 7.0\n",
    "분산: 4.0\n",
    "'''\n",
    "import numpy as np\n",
    "\n",
    "sentimentScores = [8, 9, 7, 6, 10, 5, 4]\n",
    "print(\"감정 점수:\", np.array(sentimentScores))\n",
    "print(\"평균:\", np.mean(sentimentScores))\n",
    "print(\"분산:\", np.var(sentimentScores))"
   ]
  },
  {
   "cell_type": "code",
   "execution_count": 5,
   "metadata": {},
   "outputs": [
    {
     "name": "stdout",
     "output_type": "stream",
     "text": [
      "원본:\n",
      "['안녕', '안녕하세요', '이름이 뭐야?', '저는 챗봇이에요', '날씨 어때?', '오늘은 맑아요']\n",
      "\n",
      "numpy배열로 변환:\n",
      "['안녕' '안녕하세요' '이름이 뭐야?' '저는 챗봇이에요' '날씨 어때?' '오늘은 맑아요']\n",
      "\n",
      "n행 n열로 변경:\n",
      "[['안녕' '안녕하세요']\n",
      " ['이름이 뭐야?' '저는 챗봇이에요']\n",
      " ['날씨 어때?' '오늘은 맑아요']]\n",
      "\n",
      "행과 열 바꾸기\n",
      "[['안녕' '이름이 뭐야?' '날씨 어때?']\n",
      " ['안녕하세요' '저는 챗봇이에요' '오늘은 맑아요']]\n"
     ]
    }
   ],
   "source": [
    "# Q3\n",
    "'''\n",
    "- 행렬 전치 연습\n",
    "챗봇의 입력과 응답 데이터를 배열로 처리하며, 전치를 이용해 열 중심의 분석도 가능하게 함\n",
    "입력(질문)과 출력(답변) 쌍\n",
    "\"안녕\", \"안녕하세요\"\n",
    "\"이름이 뭐야?\", \"저는 챗봇이에요\"\n",
    "\"날씨 어때?\", \"오늘은 맑아요\"\n",
    "전치 (행 <-> 열 전환)\n",
    "'''\n",
    "import numpy as np\n",
    "\n",
    "sentence = ['안녕', '안녕하세요', '이름이 뭐야?', '저는 챗봇이에요', '날씨 어때?', '오늘은 맑아요']\n",
    "np_sentence = np.array(sentence)\n",
    "reshaped = np_sentence.reshape(3, 2)\n",
    "transposed = reshaped.T\n",
    "print(\"원본:\")\n",
    "print(f\"{sentence}\\n\")\n",
    "print(\"numpy배열로 변환:\")\n",
    "print(f\"{np_sentence}\\n\")\n",
    "print(\"n행 n열로 변경:\")\n",
    "print(f\"{reshaped}\\n\")\n",
    "print(\"행과 열 바꾸기\")\n",
    "print(f\"{transposed}\")"
   ]
  },
  {
   "cell_type": "code",
   "execution_count": 6,
   "metadata": {},
   "outputs": [
    {
     "name": "stdout",
     "output_type": "stream",
     "text": [
      "Counter({'hello': 3, 'world': 2, 'numpy': 1, 'ai': 1})\n",
      "\n",
      "단어: ['ai', 'hello', 'numpy', 'world']\n",
      "빈도: [1 3 1 2]\n"
     ]
    }
   ],
   "source": [
    "# Q4\n",
    "'''\n",
    "- 단어 등장 빈도 계산\n",
    "문장에서 단어의 등장 횟수를 계산해 배열로 표현. 단어를 정렬해 시각화하기 쉬움.\n",
    "txt = \"Hello world hello numpy world hello ai\"\n",
    "단어: ['ai', 'hello', 'numpy', 'world']\n",
    "빈도: [1 3 1 2]\n",
    "'''\n",
    "import numpy as np\n",
    "from collections import Counter\n",
    "\n",
    "txt = \"Hello world hello numpy world hello ai\"\n",
    "words = txt.lower().split()\n",
    "word_counts = Counter(words)\n",
    "print(f\"{word_counts}\\n\")\n",
    "\n",
    "unique_words = sorted(word_counts.keys())\n",
    "frequence = np.array([word_counts[word] for word in unique_words])\n",
    "print(\"단어:\", unique_words)\n",
    "print(\"빈도:\", frequence)"
   ]
  },
  {
   "cell_type": "code",
   "execution_count": 7,
   "metadata": {},
   "outputs": [
    {
     "name": "stdout",
     "output_type": "stream",
     "text": [
      "[[100 120 130]\n",
      " [150 160 170]\n",
      " [200 220 240]]\n",
      "[[120 140 150]\n",
      " [170 180 190]\n",
      " [220 240 255]]\n"
     ]
    }
   ],
   "source": [
    "# Q5\n",
    "'''\n",
    "- 이미지 픽셀 밝기 조정\n",
    "NumPy로 이미지 픽셀 밝기 조정(어둡게 or 밝게) - 이미지 배열 요소에 스칼라 연산 수행\n",
    "'''\n",
    "import numpy as np\n",
    "\n",
    "image = np.array([[100, 120, 130], [150, 160, 170], [200, 220, 240]])\n",
    "print(image)\n",
    "brighter_image = np.clip(image + 20, 0, 255)\n",
    "print(brighter_image)"
   ]
  },
  {
   "cell_type": "code",
   "execution_count": 33,
   "metadata": {},
   "outputs": [
    {
     "name": "stdout",
     "output_type": "stream",
     "text": [
      "코사인 유사도: 1.0\n"
     ]
    }
   ],
   "source": [
    "# Q6\n",
    "'''\n",
    "- 코사인 유사도 계산\n",
    "문장 또는 사용자 프로필 간의 벡터 유사도를 계산하는 데 자주 사용됨\n",
    "[1, 2, 3]\n",
    "[2, 4, 6]\n",
    "코사인 유사도 = (A, B) / (||A|| * ||B||)\n",
    "                 내적   /      크기\n",
    "cos_sim = np.dot(vec1, vec2) / (np.linalg.norm(vec1) * np.linalg.norm(vec2))\n",
    "'''\n",
    "import numpy as np\n",
    "\n",
    "vec1 = np.array([1, 2, 3])\n",
    "vec2 = np.array([2, 4, 6])\n",
    "cos_sim = np.dot(vec1, vec2) / (np.linalg.norm(vec1) * np.linalg.norm(vec2))\n",
    "print(\"코사인 유사도:\", cos_sim)"
   ]
  },
  {
   "cell_type": "code",
   "execution_count": 23,
   "metadata": {},
   "outputs": [
    {
     "name": "stdout",
     "output_type": "stream",
     "text": [
      "{'ai': 0, 'hello': 1, 'numpy': 2, 'world': 3}\n",
      "\n",
      "[[0. 0. 0. 0.]\n",
      " [0. 0. 0. 0.]\n",
      " [0. 0. 0. 0.]]\n",
      "\n",
      "[[0. 1. 0. 1.]\n",
      " [0. 1. 1. 0.]\n",
      " [1. 1. 0. 1.]]\n"
     ]
    }
   ],
   "source": [
    "# Q7\n",
    "'''\n",
    "- Bag-of-Words 벡터 처리\n",
    "여러 문장에 등장하는 단어들을 기반으로 Bag-of-Words(BoW) 행렬을 NumPy로 직접 생성해보는 NLP 전처리 예제\n",
    "'''\n",
    "import numpy as np\n",
    "\n",
    "# 세 개의 문장을 정의\n",
    "sentences = [\"hello world\",\n",
    "             \"hello numpy\",\n",
    "             \"hello ai world\"]\n",
    "\n",
    "# 모든 문장에서 단어를 추출하여 유니크한 단어 집합 생성\n",
    "all_words = set(word for sentence in sentences for word in sentence.split())\n",
    "\n",
    "# 단어별 인덱스를 부여하여 딕셔너리를 생성\n",
    "word_index = {word: idx for idx, word in enumerate(sorted(all_words))}\n",
    "print(f\"{word_index}\\n\")\n",
    "\n",
    "# 문장 수 x 단어 수 크기의 BoW 행렬 초기화\n",
    "bow_matrix = np.zeros((len(sentences), len(word_index)))\n",
    "print(f\"{bow_matrix}\\n\")\n",
    "\n",
    "# 각 문장에서 단어 등장 횟수를 세어 BoW 행렬을 채움\n",
    "for i, sentence in enumerate(sentences):\n",
    "  for word in sentence.split():\n",
    "    idx = word_index[word]\n",
    "    bow_matrix[i, idx] += 1\n",
    "print(bow_matrix)"
   ]
  },
  {
   "cell_type": "code",
   "execution_count": 9,
   "metadata": {},
   "outputs": [
    {
     "name": "stdout",
     "output_type": "stream",
     "text": [
      "사용자 평균 입력 길이: 6.333333333333333\n",
      "챗봇 평균 응답 길이: 17.0\n"
     ]
    }
   ],
   "source": [
    "# Q8\n",
    "'''\n",
    "- 간단한 채팅 로그 분석\n",
    "챗봇 로그 데이터를 NumPy 배열로 만들어 대화 수, 길이 평균 등을 분석해보는 예제\n",
    "chat_logs = [[\"안녕\", \"안녕하세요! 무엇을 도와드릴까요?\"],\n",
    "            [\"오늘 날씨 어때?\", \"오늘은 맑고 따뜻한 날씨입니다.\"],\n",
    "            [\"시간 좀 알려줘\", \"현재 시간은 오후 3시입니다.\"]]\n",
    "'''\n",
    "import numpy as np\n",
    "\n",
    "chat_logs = [[\"안녕\", \"안녕하세요! 무엇을 도와드릴까요?\"],\n",
    "            [\"오늘 날씨 어때?\", \"오늘은 맑고 따뜻한 날씨입니다.\"],\n",
    "            [\"시간 좀 알려줘\", \"현재 시간은 오후 3시입니다.\"]]\n",
    "\n",
    "np_chat_logs = np.array(chat_logs)\n",
    "user_lengths = np.array([len(q) for q in np_chat_logs[:, 0]])\n",
    "bot_lengths = np.array([len(a) for a in np_chat_logs[:, 1]])\n",
    "\n",
    "print(\"사용자 평균 입력 길이:\", np.mean(user_lengths))\n",
    "print(\"챗봇 평균 응답 길이:\", np.mean(bot_lengths))"
   ]
  }
 ],
 "metadata": {
  "kernelspec": {
   "display_name": "Python 3",
   "language": "python",
   "name": "python3"
  },
  "language_info": {
   "codemirror_mode": {
    "name": "ipython",
    "version": 3
   },
   "file_extension": ".py",
   "mimetype": "text/x-python",
   "name": "python",
   "nbconvert_exporter": "python",
   "pygments_lexer": "ipython3",
   "version": "3.12.9"
  }
 },
 "nbformat": 4,
 "nbformat_minor": 2
}
