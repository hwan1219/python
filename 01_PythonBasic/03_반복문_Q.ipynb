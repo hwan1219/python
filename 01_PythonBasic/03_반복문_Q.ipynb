{
 "cells": [
  {
   "cell_type": "code",
   "execution_count": null,
   "metadata": {},
   "outputs": [
    {
     "name": "stdout",
     "output_type": "stream",
     "text": [
      "정답입니다\n"
     ]
    }
   ],
   "source": [
    "# Q1\n",
    "# while 문\n",
    "\"\"\"\n",
    "- Up & Down\n",
    "숫자를 하나 정하고 그 숫자를 입력할 때까지 프로그램을 반복\n",
    "예상 숫자를 입력하세요: 45\n",
    "UP\n",
    "예상 숫자를 입력하세요: 52\n",
    "DOWN\n",
    "예상 숫자를 입력하세요: 50\n",
    "정답\n",
    "\"\"\"\n",
    "answer = 50\n",
    "trial = int(input(\"숫자를 입력하세요\"))\n",
    "while trial != answer:\n",
    "  if trial < answer:\n",
    "    print(\"up\")\n",
    "  elif trial > answer:\n",
    "    print(\"down\")\n",
    "  trial = int(input(\"숫자를 입력하세요\"))\n",
    "print(\"정답입니다\")\n",
    "\n",
    "# answer = 50\n",
    "# while True:\n",
    "#   trial = int(input(\"숫자를 입력하세요: \"))\n",
    "#   if trial == answer:\n",
    "#       print(\"정답입니다\")\n",
    "#       break\n",
    "#   elif trial < answer:\n",
    "#       print(\"up\")\n",
    "#   else:\n",
    "#       print(\"down\")"
   ]
  },
  {
   "cell_type": "code",
   "execution_count": null,
   "metadata": {},
   "outputs": [
    {
     "name": "stdout",
     "output_type": "stream",
     "text": [
      "up\n",
      "up\n",
      "up\n",
      "down\n",
      "down\n",
      "down\n",
      "down\n",
      "down\n",
      "down\n",
      "down\n"
     ]
    }
   ],
   "source": [
    "# Q1\n",
    "# for 문 - while과 다르게 반복횟수를 직접 정해야함\n",
    "\n",
    "# answer = 50\n",
    "# for i in range(10):  # 최대 10번 시도\n",
    "#   trial = int(input(\"숫자를 입력하세요: \"))\n",
    "#   if trial == answer:\n",
    "#     print(\"정답입니다!\")\n",
    "#     break\n",
    "#   elif trial < answer:\n",
    "#     print(\"up\")\n",
    "#   else:\n",
    "#     print(\"down\")\n",
    "# else:\n",
    "#   print(f\"기회를 모두 사용하셨습니다. 정답은 {answer}입니다.\")\n",
    "\n",
    "answer = 50\n",
    "for _ in range(10): # _ 는 반복은 하되 반복 인덱스를 쓰지 않겠다는 의미\n",
    "  number = int(input(\"예상 숫자를 입력하세요\"))\n",
    "  if answer > number:\n",
    "    print(\"up\")\n",
    "  elif answer < number:\n",
    "    print(\"down\")\n",
    "  elif answer == number:\n",
    "    print(\"정답\")\n",
    "    break"
   ]
  },
  {
   "cell_type": "code",
   "execution_count": 1,
   "metadata": {},
   "outputs": [
    {
     "name": "stdout",
     "output_type": "stream",
     "text": [
      "주사위 눈: 6\n",
      "주사위 눈: 1\n",
      "주사위 눈: 5\n",
      "주사위 눈: 5\n",
      "주사위 눈: 3\n",
      "주사위 눈: 4\n",
      "프로그램을 종료합니다.\n"
     ]
    }
   ],
   "source": [
    "# Q2\n",
    "\"\"\"\n",
    "- 숫자 주사위 만들기\n",
    "주사위는 던지면 1~6까지의 숫자가 나온다. q를 누르면 종료하고 그 외 아무거나 입력하면 주사위 눈의 숫자를 계속 출력하도록 해 보자. 랜덤 숫자를 출력하는 방법은 프로그램 맨 첫 줄에 from.random import * 를 입력한 후 randint(처음 숫자, 마지막 숫자)로 발생시킨다\n",
    "주사위 프로그램을 시작합니다.\n",
    "첫번째 숫자는 2\n",
    "아무 키나 누르면 주사위가 던져집니다. 종료를 원하시면 q를 입력해주세요.\n",
    "두번째 숫자는 6\n",
    "아무 키나 누르면 주사위가 던져집니다. 종료를 원하시면 q를 입력해주세요.\n",
    "주사위 프로그램이 종료됩니다.\n",
    "\"\"\"\n",
    "from random import *\n",
    "\n",
    "user_input = \"\"\n",
    "while True:\n",
    "  user_input = input(\"주사위를 굴리려면 아무 키나 누르세요 (종료하려면 q)\")\n",
    "  if user_input.lower() == 'q':\n",
    "    print(\"프로그램을 종료합니다.\")\n",
    "    break\n",
    "  print(f\"주사위 눈: {randint(1, 6)}\")"
   ]
  },
  {
   "cell_type": "code",
   "execution_count": null,
   "metadata": {},
   "outputs": [
    {
     "name": "stdout",
     "output_type": "stream",
     "text": [
      "1\n"
     ]
    }
   ],
   "source": [
    "# Q3\n",
    "\"\"\"\n",
    "- 가우스 계산기\n",
    "숫자를 입력하면 1부터 해당 숫자까지 모두 더하는 계산기를 만들어 보자. 프로그램은 특정 숫자를 입력할 때까지 계속 반복한다.\n",
    "1을 입력하면 종료한다\n",
    "\"\"\"\n",
    "user_input = ''\n",
    "while True:\n",
    "  user_input = input(\"1부터 입력하신 숫자까지 모두 더한 값을 출력합니다\")\n",
    "  if user_input.lower() == '1':\n",
    "    print(\"계산기를 종료합니다.\")\n",
    "    break\n",
    "  num = int(user_input)\n",
    "  total = sum(range(1, num + 1)) # sum(), range() 반드시 기억\n",
    "  print(f\"1부터 {num}까지의 합은 {total}입니다.\")\n",
    "\n",
    "num = 0\n",
    "while num != 1:\n",
    "  num = int(input(\"(종료:1) 숫자 입력 : \"))\n",
    "  i = 1\n",
    "  sum_n = 0\n",
    "  while i < num + 1:\n",
    "    sum_n = sum_n + i\n",
    "    i = i + 1\n",
    "  print(sum_n)\n"
   ]
  },
  {
   "cell_type": "code",
   "execution_count": 5,
   "metadata": {},
   "outputs": [
    {
     "name": "stdout",
     "output_type": "stream",
     "text": [
      "주인공의 체력은 100 입니다\n",
      "얼마의 데미지를 입히시겠습니까? : 10\n",
      "주인공의 체력은 90 입니다\n",
      "얼마의 데미지를 입히시겠습니까? : 50\n",
      "주인공의 체력은 40 입니다\n",
      "얼마의 데미지를 입히시겠습니까? : 80\n",
      "주인공이 죽었습니다.\n"
     ]
    }
   ],
   "source": [
    "# Q4\n",
    "\"\"\"\n",
    "- 주인공 체력 계산기\n",
    "일반적인 게임의 경우 주인공의 체력이 0이 되면 게임이 끝난다. 주인공의 체력을 100으로 설정하고 데미지를 얼마 입힐지 입력한 후 0 이하가 되면 종료하도록 한다.\n",
    "주인공의 체력은 100입니다.\n",
    "얼마의 데미지를 입히시겠습니까: 50\n",
    "주인공의 체력이 50 남았습니다.\n",
    "얼마의 데미지를 입히시겠습니까: 47\n",
    "주인공의 체력이 3 남았습니다.\n",
    "얼마의 데미지를 입히시겠습니까: 10\n",
    "주인공이 죽었습니다.\n",
    "\"\"\"\n",
    "# user_hp = 100\n",
    "# while True:\n",
    "#   print(f\"주인공의 체력은 {user_hp} 입니다\")\n",
    "#   user_input = int(input(\"얼마의 데미지를 입히시겠습니까?\"))\n",
    "#   print(f\"얼마의 데미지를 입히시겠습니까 : {user_input}\")\n",
    "#   user_hp -= user_input\n",
    "#   if user_hp <= 0:\n",
    "#     print(\"캐릭터가 사망하였습니다\")\n",
    "#     break\n",
    "\n",
    "user_hp = 100\n",
    "while user_hp > 0:\n",
    "  print(f\"주인공의 체력은 {user_hp} 입니다\")\n",
    "  damage = int(input(\"얼마의 데미지를 입히시겠습니까?\"))\n",
    "  print(f\"얼마의 데미지를 입히시겠습니까? : {damage}\")\n",
    "  user_hp = user_hp - damage\n",
    "print(\"주인공이 죽었습니다.\")"
   ]
  },
  {
   "cell_type": "code",
   "execution_count": 2,
   "metadata": {},
   "outputs": [
    {
     "name": "stdout",
     "output_type": "stream",
     "text": [
      "아침\n",
      "점심\n",
      "저녁\n",
      "야식\n",
      "아침\n",
      "점심\n",
      "저녁\n",
      "야식\n",
      "지나간 시간이 없습니다, 프로그램 종료\n"
     ]
    }
   ],
   "source": [
    "# Q5\n",
    "\"\"\"\n",
    "- 자료 반복\n",
    "리스트 자료에 ['아침', '점심', '저녁', '야식']을 저장한 후 날짜의 수를 지정한 만큼 출력하기\n",
    "(반복적 질문은 while문으로 구현하고, 식사 횟수는 for문으로 구현)\n",
    "며칠이 지났습니까: 1\n",
    "아침\n",
    "점심\n",
    "저녁\n",
    "야식\n",
    "며칠이 지났습니까: 0\n",
    "종료\n",
    "\"\"\"\n",
    "meals = ['아침', '점심', '저녁', '야식']\n",
    "while True:\n",
    "  user_input = int(input(\"며칠이 지났습니까\"))\n",
    "  if user_input == 0:\n",
    "    print(\"지나간 시간이 없습니다, 프로그램 종료\")\n",
    "    break\n",
    "  for _ in range(user_input) :\n",
    "    for meal in meals:\n",
    "      print(meal)\n",
    "\n",
    "# i = 1\n",
    "# j = 0\n",
    "# meal = ['아침', '점심', '저녁', '야식']\n",
    "# while i > 0:\n",
    "#   i = int(input(\"종료 '0'며칠이 지났습니까: \"))\n",
    "#   j = i\n",
    "#   while j > 0:\n",
    "#     for k in meal: # k(index): 0~3\n",
    "#       print(k)\n",
    "#     j=j-1"
   ]
  },
  {
   "cell_type": "code",
   "execution_count": 22,
   "metadata": {},
   "outputs": [
    {
     "name": "stdout",
     "output_type": "stream",
     "text": [
      "2024 제2호 | 한국사 시험 결과\n",
      "1번 학생은 1급입니다.\n",
      "2번 학생은 1급입니다.\n",
      "3번 학생은 1급입니다.\n",
      "4번 학생은 1급입니다.\n",
      "5번 학생은 2급입니다.\n",
      "6번 학생은 불합격입니다.\n"
     ]
    }
   ],
   "source": [
    "# Q6\n",
    "\"\"\"\n",
    "- 합격 판별\n",
    "리스트에 각 학생들의 점수가 담겨 있다고 가정하자, 각 학생들의 점수를 확인한 후 70점 이상이면 \"1급\", 60점 이상이면 \"2급\", 그 이하일 경우 \"불합격\"을 출력한다. 학생의 점수는 다섯 개 이상 저장한다.\n",
    "2024 제2회 한국사 시험 결과\n",
    "1번 학생은 1급입니다.\n",
    "2번 학생은 2급입니다.\n",
    "3번 학생은 불합격입니다\n",
    "...\n",
    "\"\"\"\n",
    "# student_score = [80, 65, 59, 36, 75, 100]\n",
    "# for i in range(1, len(student_score)+1):\n",
    "#   score = student_score[i-1]\n",
    "#   if score >= 70:\n",
    "#     level = \"1급\"\n",
    "#   elif score >= 60:\n",
    "#     level = \"2급\"\n",
    "#   else:\n",
    "#     level = \"불합격\"\n",
    "#   print(f\"{i}번 학생은 {level}입니다\")\n",
    "\n",
    "score = [75, 83, 95, 99, 67, 55]\n",
    "number = 0\n",
    "print(\"2024 제2호 | 한국사 시험 결과\")\n",
    "for i in score:\n",
    "  number = number + 1 # number += 1\n",
    "  if i >= 70:\n",
    "    print(f\"{number}번 학생은 1급입니다.\")\n",
    "  elif i >= 60:\n",
    "    print(f\"{number}번 학생은 2급입니다.\")\n",
    "  else:\n",
    "    print(f\"{number}번 학생은 불합격입니다.\")"
   ]
  }
 ],
 "metadata": {
  "kernelspec": {
   "display_name": "Python 3",
   "language": "python",
   "name": "python3"
  },
  "language_info": {
   "codemirror_mode": {
    "name": "ipython",
    "version": 3
   },
   "file_extension": ".py",
   "mimetype": "text/x-python",
   "name": "python",
   "nbconvert_exporter": "python",
   "pygments_lexer": "ipython3",
   "version": "3.12.9"
  }
 },
 "nbformat": 4,
 "nbformat_minor": 2
}
