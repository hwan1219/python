{
 "cells": [
  {
   "cell_type": "markdown",
   "metadata": {},
   "source": [
    "# 5. tuple"
   ]
  },
  {
   "cell_type": "code",
   "execution_count": null,
   "metadata": {},
   "outputs": [],
   "source": [
    "# tuple : ()\n",
    "# 주로 보존해야할 데이터를 저장할 때 사용\n",
    "# 불변성(immutable): 생성 후 변경할 수 없음\n",
    "# 순서가 있음: list와 동일, index를 사용해 접근 가능\n",
    "# 다양한 자료형: 숫자, 문자열, 리스트 등 다양한 자료형을 포함 가능\n",
    "# 중복 허용: list와 동일, 중복된 값 저장 가능\n",
    "# 해시 가능: 불변성을 갖고 있기 때문에 해시가 가능, set이나 dict 키로 사용"
   ]
  },
  {
   "cell_type": "code",
   "execution_count": 1,
   "metadata": {},
   "outputs": [
    {
     "name": "stdout",
     "output_type": "stream",
     "text": [
      "('apple', 'banana', 'cherry')\n"
     ]
    }
   ],
   "source": [
    "# tuple01.py\n",
    "# 튜플 선언\n",
    "fruits = ('apple', 'banana', 'cherry')\n",
    "print(fruits) # 출력: ('apple', 'banana', 'cherry')"
   ]
  },
  {
   "cell_type": "code",
   "execution_count": 2,
   "metadata": {},
   "outputs": [
    {
     "name": "stdout",
     "output_type": "stream",
     "text": [
      "apple\n",
      "cherry\n"
     ]
    }
   ],
   "source": [
    "# tuple02.py\n",
    "# 튜플 인덱싱\n",
    "fruits = ('apple', 'banana', 'cherry')\n",
    "print(fruits[0]) # 출력: apple\n",
    "print(fruits[-1]) # 출력: cherry"
   ]
  },
  {
   "cell_type": "code",
   "execution_count": 4,
   "metadata": {},
   "outputs": [
    {
     "name": "stdout",
     "output_type": "stream",
     "text": [
      "('banana',)\n",
      "('banana', 'cherry', 'date')\n",
      "('apple', 'banana', 'cherry')\n",
      "('apple', 'cherry', 'elderberry')\n"
     ]
    }
   ],
   "source": [
    "# tuple03.py\n",
    "# 튜플 슬라이싱 (slicing)\n",
    "# 투플명[시작:끝] # 끝 인덱스는 포함하지 않음 range, list와 동일\n",
    "# 투플명[시작:끝:간격] # range, list와 동일\n",
    "fruits = ('apple', 'banana', 'cherry', 'date', 'elderberry')\n",
    "print(fruits[1:2]) # 출력: ('banana',) - 객체값은 못가져오고 ,는 가져옴\n",
    "print(fruits[1:4]) # 출력: ('banana', 'cherry', 'date')\n",
    "print(fruits[:3]) # 출력: ('apple', 'banana', 'cherry')\n",
    "print(fruits[::2]) # 출력: ('apple', 'cherry', 'elderberry')"
   ]
  },
  {
   "cell_type": "code",
   "execution_count": 7,
   "metadata": {},
   "outputs": [
    {
     "name": "stdout",
     "output_type": "stream",
     "text": [
      "2\n",
      "1\n"
     ]
    }
   ],
   "source": [
    "# tuple04.py\n",
    "# 튜플의 주요 메소드\n",
    "# count(): 특정 요소가 튜플 내에서 몇 번 등장하는지 계산\n",
    "# index(): 특정 요소가 튜플 내에서 처음 등장하는 인덱스를 반환\n",
    "fruits = ('apple', 'banana', 'cherry', 'banana')\n",
    "print(fruits.count(\"banana\")) # 출력: 2\n",
    "print(fruits.index(\"banana\")) # 출력: 1"
   ]
  },
  {
   "cell_type": "code",
   "execution_count": 5,
   "metadata": {},
   "outputs": [
    {
     "name": "stdout",
     "output_type": "stream",
     "text": [
      "(4, 5, 6)\n",
      "3\n"
     ]
    }
   ],
   "source": [
    "# tuple05.py\n",
    "# 튜플의 중첩 (Nested Tuple)\n",
    "# 다른 튜플을 요소로 가질 수 있음, 리스트와 동일\n",
    "nested_tuple = ((1, 2, 3), (4, 5, 6), (7, 8, 9))\n",
    "print(nested_tuple[1]) # 출력: (4, 5, 6)\n",
    "print(nested_tuple[0][2]) # 출력: 3"
   ]
  },
  {
   "cell_type": "code",
   "execution_count": 8,
   "metadata": {},
   "outputs": [
    {
     "name": "stdout",
     "output_type": "stream",
     "text": [
      "apple\n",
      "banana\n",
      "cherry\n"
     ]
    }
   ],
   "source": [
    "# tuple06.py\n",
    "# 튜플의 반복문 사용\n",
    "# for 문을 통해 튜플을 순회하며 순차적으로 처리\n",
    "fruits = ['apple', 'banana', 'cherry']\n",
    "for fruit in fruits:\n",
    "  print(fruit) # 출력: apple, banana, cherry"
   ]
  }
 ],
 "metadata": {
  "kernelspec": {
   "display_name": "Python 3",
   "language": "python",
   "name": "python3"
  },
  "language_info": {
   "codemirror_mode": {
    "name": "ipython",
    "version": 3
   },
   "file_extension": ".py",
   "mimetype": "text/x-python",
   "name": "python",
   "nbconvert_exporter": "python",
   "pygments_lexer": "ipython3",
   "version": "3.12.9"
  }
 },
 "nbformat": 4,
 "nbformat_minor": 2
}
