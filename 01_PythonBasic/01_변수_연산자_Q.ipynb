{
 "cells": [
  {
   "cell_type": "code",
   "execution_count": 10,
   "metadata": {},
   "outputs": [
    {
     "name": "stdout",
     "output_type": "stream",
     "text": [
      "키(tall)를 입력하세요: 180\n",
      "몸무게를 입력하세요: 80\n",
      "260.0\n",
      "260.0\n"
     ]
    }
   ],
   "source": [
    "# Q1\n",
    "\"\"\"\n",
    "키(tall)를 입력하세요: 180\n",
    "몸무게를 입력하세요: 80\n",
    "260.0\n",
    "\"\"\"\n",
    "tall = 180\n",
    "tallQ = \"키(tall)를 입력하세요:\"\n",
    "weight = 80\n",
    "weightQ = \"몸무게를 입력하세요:\"\n",
    "print(tallQ, tall)\n",
    "print(weightQ, weight)\n",
    "print(float(tall + weight))\n",
    "\n",
    "height = input(\"키(tall)를 입력하세요\")\n",
    "weight = input(\"몸무게(weight를 입력하세요\")\n",
    "height = int(height)\n",
    "weight = int(weight)\n",
    "print(float(height+weight))"
   ]
  },
  {
   "cell_type": "code",
   "execution_count": 18,
   "metadata": {},
   "outputs": [
    {
     "name": "stdout",
     "output_type": "stream",
     "text": [
      "문자열을 입력하세요: 홍길\n",
      "홍길홍길홍길홍길홍길홍길홍길홍길홍길홍길\n",
      "무궁화 꽃이 피었습니다.\n",
      "10101010101010101010\n",
      "무궁화 꽃이 피었습니다\n",
      "무궁화꽃이피었습니다\n",
      "무궁화 꽃이 피었습니다\n"
     ]
    }
   ],
   "source": [
    "# Q2\n",
    "\"\"\"\n",
    "문자열을 입력하세요: 홍길\n",
    "홍길홍길홍길홍길홍길홍길홍길홍길홍길홍길\n",
    "무궁화 꽃이 피었습니다\n",
    "\"\"\"\n",
    "name = \"홍길\"\n",
    "print(\"문자열을 입력하세요:\", name)\n",
    "print(name * 10)\n",
    "print(\"무궁화 꽃이 피었습니다.\")\n",
    "\n",
    "a = input(\"문자열 입력\")\n",
    "print(a*10)\n",
    "print(\"무궁화 꽃이 피었습니다\")\n",
    "print(\"무궁화\"+\"꽃이\"+\"피었습니다\")\n",
    "print(\"무궁화\",\"꽃이\",\"피었습니다\")"
   ]
  },
  {
   "cell_type": "code",
   "execution_count": null,
   "metadata": {},
   "outputs": [
    {
     "name": "stdout",
     "output_type": "stream",
     "text": [
      "나눗셈의 몫은? 1 3\n"
     ]
    }
   ],
   "source": [
    "# Q3\n",
    "\"\"\"\n",
    "당신의 적정 몸무게는(a-100) 80 kg입니다.\n",
    "\"\"\"\n",
    "\n",
    "# a = int(input(\"당신의 키는?\"))\n",
    "# print(\"당신의 적정 몸무게는(a-100)\", a-100,\"kg입니다.\")\n",
    "\n",
    "b = int(input(\"분자 입력\"))\n",
    "c = int(input(\"분모 입력\"))\n",
    "print(\"나눗셈의 몫은?\", b//c, c%b)"
   ]
  },
  {
   "cell_type": "code",
   "execution_count": 41,
   "metadata": {},
   "outputs": [
    {
     "name": "stdout",
     "output_type": "stream",
     "text": [
      "나눗셈의 몫은 3 나머지는 2 입니다.\n"
     ]
    }
   ],
   "source": [
    "# Q4\n",
    "\"\"\"\n",
    "나눗셈의 몫은 3, 나머지는 2 입니다.\n",
    "\"\"\"\n",
    "a = int(input(\"나눗셈 몫을 구할 숫자\"))\n",
    "b = int(input(\"나머지 구할 숫자\"))\n",
    "a //= 3\n",
    "b %= 3\n",
    "print(\"나눗셈의 몫은\", a, \"나머지는\", b, \"입니다.\")"
   ]
  },
  {
   "cell_type": "code",
   "execution_count": 28,
   "metadata": {},
   "outputs": [
    {
     "name": "stdout",
     "output_type": "stream",
     "text": [
      "두 숫자의 합은 100 입니다.\n"
     ]
    }
   ],
   "source": [
    "# Q5\n",
    "'''\n",
    "a = n\n",
    "b = n\n",
    "두 숫자의 합은 n 입니다.\n",
    "'''\n",
    "a = int(input(\"숫자 입력\"))\n",
    "b = int(input(\"숫자 입력\"))\n",
    "print(\"두 숫자의 합은\",a + b,\"입니다.\")"
   ]
  },
  {
   "cell_type": "code",
   "execution_count": null,
   "metadata": {},
   "outputs": [],
   "source": [
    "# Q6\n",
    "'''\n",
    "이름을 입력하세요: abc\n",
    "국어 성적을 입력하세요: n\n",
    "수학 성적을 입력하세요: n\n",
    "사회 성적을 입력하세요: n\n",
    "과학 성적을 입력하세요: n\n",
    "영어 성적을 입력하세요: n\n",
    "abc 님의 성적은\n",
    "총합 n점, 평균 n점입니다.\n",
    "'''\n",
    "a = input(\"이름을 입력하세요\")\n",
    "b = int(input(\"국어 성적을 입력하세요\"))\n",
    "c = int(input(\"수학 성적을 입력하세요\"))\n",
    "d = int(input(\"사회 성적을 입력하세요\"))\n",
    "e = int(input(\"과학 성적을 입력하세요\"))\n",
    "f = int(input(\"영어 성적을 입력하세요\"))\n",
    "bcdef = b+c+d+e+f\n",
    "avg = (b+c+d+e+f)/5\n",
    "print(a,\"님의 성적은 총합\", bcdef, \"점\", \"평균\", avg, \"점입니다.\")"
   ]
  },
  {
   "cell_type": "code",
   "execution_count": 36,
   "metadata": {},
   "outputs": [
    {
     "name": "stdout",
     "output_type": "stream",
     "text": [
      "당신은 29 년을 살았습니다.\n"
     ]
    }
   ],
   "source": [
    "# Q7\n",
    "\"\"\"\n",
    "당신의 나이는 몇 살입니까?\n",
    "당신은 n년을 살았습니다.\n",
    "\"\"\"\n",
    "age = int(input(\"당신의 나이는 몇 살입니까?\"))\n",
    "print(\"당신은\", age, \"년을 살았습니다.\")"
   ]
  }
 ],
 "metadata": {
  "kernelspec": {
   "display_name": "Python 3",
   "language": "python",
   "name": "python3"
  },
  "language_info": {
   "codemirror_mode": {
    "name": "ipython",
    "version": 3
   },
   "file_extension": ".py",
   "mimetype": "text/x-python",
   "name": "python",
   "nbconvert_exporter": "python",
   "pygments_lexer": "ipython3",
   "version": "3.12.9"
  }
 },
 "nbformat": 4,
 "nbformat_minor": 2
}
