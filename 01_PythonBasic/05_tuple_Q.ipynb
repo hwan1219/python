{
 "cells": [
  {
   "cell_type": "code",
   "execution_count": null,
   "metadata": {},
   "outputs": [
    {
     "name": "stdout",
     "output_type": "stream",
     "text": [
      "학생 정보 튜플: ('환', 90, 90, 90)\n",
      "환님의 총점은 270점입니다.\n"
     ]
    }
   ],
   "source": [
    "# Q1\n",
    "'''\n",
    "- 학생 성적 관리 튜플 생성기\n",
    "학생 성적 정보를 입력받아 튜플로 저장하고 출력하는 프로그램\n",
    "이름, 국어, 영어, 수학 점수를 입력받음\n",
    "학생 이름: 홍길동\n",
    "국어 점수: 90\n",
    "영어 점수: 85\n",
    "수학 점수: 100\n",
    "학생 정보 튜플: ('홍길동', 90, 85, 95)\n",
    "홍길동의 총점은 270점입니다.\n",
    "'''\n",
    "student = []\n",
    "student_info = ['이름', '국어 점수', '영어 점수', '수학 점수']\n",
    "for info in student_info:\n",
    "  u_input = input(f\"{info}을(를) 입력해주세요\")\n",
    "  student.append(u_input)\n",
    "score_list = list(map(int, student[1:]))\n",
    "# map(): 리스트나 튜플 같은 자료의 모든 요소에 어떤 함수를 '하나씩' 적용해서 새로운 결과를 만들어주는 함수\n",
    "# ex) map()\n",
    "#     def double(x):\n",
    "#       return x * 2\n",
    "# numbers = [1, 2, 3, 4, 5]\n",
    "# result = map(double, numbers)\n",
    "# print(list(result)) # [2, 4, 6, 8, 10]\n",
    "\n",
    "# ex2) map()에서 lambda(람다)\n",
    "# numbers = [1, 2, 3, 4, 5]\n",
    "# result = map(lambda x: x * 2, numbers)\n",
    "# print(list(result)) # [2, 4, 6, 8, 10]\n",
    "total_score = sum(score_list)\n",
    "student_tuple = tuple([student[0]] + score_list)\n",
    "print(f\"학생 정보 튜플: {student_tuple}\")\n",
    "print(f\"{student[0]}님의 총점은 {total_score}점입니다.\")\n",
    "\n",
    "\n",
    "# name = input(\"학생 이름을 입력하세요\")\n",
    "# korean = int(input(\"국어 점수를 입력하세요\"))\n",
    "# english = int(input(\"영어 점수를 입력하세요\"))\n",
    "# math = int(input(\"수학 점수를 입력하세요\"))\n",
    "\n",
    "# # 튜플 생성: (이름, 국어점수, 영어점수, 수학점수)\n",
    "# student = (name, korean, english, math)\n",
    "\n",
    "# print(\"학생 정보 튜플\", student)\n",
    "# print(f\"{student[0]}의 총점은 {sum(student[1:])}점입니다.\")\n",
    "# # sum()은 list, tuple 모두 가능\n"
   ]
  },
  {
   "cell_type": "code",
   "execution_count": 16,
   "metadata": {},
   "outputs": [
    {
     "name": "stdout",
     "output_type": "stream",
     "text": [
      "두 좌표 사이의 거리 5.0\n"
     ]
    }
   ],
   "source": [
    "# Q2\n",
    "'''\n",
    "- 좌표 거리 계산기\n",
    "두 점의 좌표를 튜플로 입력 받아 튜플로 저장 후 거리 구하기\n",
    "첫 번째 좌표 (x, y): 1, 2\n",
    "두 번째 좌표 (x, y): 4, 6\n",
    "두 좌표 사이의 거리: 5.0\n",
    "'''\n",
    "import math # 수학 함수들만 모아 놓은 곳\n",
    "\n",
    "# 두 점의 좌표를 튜플로 입력받음\n",
    "x1, y1 = map(int, input(\"첫 번째 좌표 (x, y)\".split())) # 1, 2\n",
    "x2, y2 = map(int, input(\"두 번째 좌표 (x, y)\".split())) # 4, 6\n",
    "\n",
    "# 튜플로 좌표 저장\n",
    "point1 = (x1, y1)\n",
    "point2 = (x2, y2)\n",
    "\n",
    "# 거리 계산 공식: sqrt((x2-x1)^2 + (y2-y1)^2)\n",
    "distance = math.sqrt((point2[0] - point1[0]) ** 2 + (point2[1] - point1[1]) ** 2)\n",
    "print(\"두 좌표 사이의 거리\", round(distance, 2))\n",
    "# round(3.14159, 2) - 2번째 소수점까지 반올림 >> 3.14"
   ]
  },
  {
   "cell_type": "code",
   "execution_count": 11,
   "metadata": {},
   "outputs": [
    {
     "name": "stdout",
     "output_type": "stream",
     "text": [
      "해당 요일은: 월요일\n"
     ]
    }
   ],
   "source": [
    "# Q3\n",
    "'''\n",
    "- 요일 자동 인식기\n",
    "요일 정보를 튜플로 저장 (0: 월요일, 1: 화요일, ...,  6: 일요일)\n",
    "0부터 6까지의 숫자를 입력하세요: 2\n",
    "해당 요일은: 수요일\n",
    "'''\n",
    "weekdays = ['월요일', '화요일', '수요일', '목요일', '금요일', '토요일', '일요일']\n",
    "\n",
    "num = int(input(\"1부터 7까지의 숫자를 입력하세요\"))\n",
    "\n",
    "# 예외 처리\n",
    "if 1 <= num <= 7:\n",
    "  print(\"해당 요일은:\", weekdays[num-1])\n",
    "else:\n",
    "  print(\"잘못된 입력입니다.\")"
   ]
  },
  {
   "cell_type": "code",
   "execution_count": null,
   "metadata": {},
   "outputs": [],
   "source": [
    "# Q4\n",
    "'''\n",
    "- 도서관 책 정보 등록기\n",
    "3권의 책 정보 입력받아 튜플로 저장 후 출력\n",
    "1 번째 책 제목 입력: 파이썬 기초\n",
    "저자 입력: 김코딩\n",
    "2 번째 책 제목 입력: 머신러닝\n",
    "저자 입력: 이데이터\n",
    "3 번째 책 제목 입력: 딥러닝\n",
    "저자 입력: 박인공지능\n",
    "등록된 책 목록:\n",
    "제목: 파이썬 기초, 저자: 김코딩\n",
    "제목: 머신러닝, 저자: 이데이터\n",
    "제목: 딥러닝, 저자: 박인공지능\n",
    "'''\n",
    "books = []\n",
    "\n",
    "# 3권의 책 정보 입력\n",
    "for i in range(3):\n",
    "  title = input(f\"{i+1}번째 책 제목 입력\")\n",
    "  author = input(\"저자 입력\")\n",
    "\n",
    "  # 튜플로 저장\n",
    "  book = (title, author)\n",
    "  books.append(book)\n",
    "\n",
    "# 전체 책 정보 출력\n",
    "print(\"\\n등록된 책 목록\") # \\n = 줄바꿈 (new line)\n",
    "for b in books:\n",
    "  print(f\"제목: {b[0]}, 저자: {b[1]}\")"
   ]
  },
  {
   "cell_type": "code",
   "execution_count": 47,
   "metadata": {},
   "outputs": [
    {
     "name": "stdout",
     "output_type": "stream",
     "text": [
      "(10, 50, 20, 30, 70)\n",
      "최대값과 최소값 : (70, 10)\n",
      "최대값과 최소값 : (70, 10)\n"
     ]
    }
   ],
   "source": [
    "# Q5\n",
    "'''\n",
    "- 최대값/최소값 튜플 반환기\n",
    "튜플로 최대값, 최소값 저장\n",
    "숫자를 공백으로 구분하여 입력하세요: 10 30 20 50\n",
    "최대값과 최소값: (50, 10)\n",
    "'''\n",
    "nums = tuple(map(int, input(\"숫자를 공백으로 구분하여 입력하세요\").split()))\n",
    "result = (max(nums), min(nums))\n",
    "print(nums)\n",
    "print(f\"최대값과 최소값 : ({max(nums)}, {min(nums)})\")\n",
    "print(\"최대값과 최소값 :\", result)"
   ]
  },
  {
   "cell_type": "code",
   "execution_count": 30,
   "metadata": {},
   "outputs": [
    {
     "name": "stdout",
     "output_type": "stream",
     "text": [
      "('chicken', 'pizza')\n",
      "chicken, 7\n",
      "pizza, 5\n"
     ]
    }
   ],
   "source": [
    "# Q6\n",
    "'''\n",
    "- 단어와 길이 짝짓기\n",
    "단어들을 공백으로 입력 받아 튜플 목록 생성후 출력\n",
    "단어들을 공백으로 입력하세요: apple banana cat\n",
    "단어와 길이 목록:\n",
    "('apple', 5)\n",
    "('banana', 6)\n",
    "('cat', 3)\n",
    "'''\n",
    "# user_word = tuple(map(str, input(\"단어들을 공백으로 구분하여 입력하세요\").split()))\n",
    "# print(user_word)\n",
    "# for word in user_word:\n",
    "#   print(f\"{word}, {len(word)}\")\n",
    "\n",
    "\n",
    "words = input(\"단어들을 공백으로 입력하세요\").split() # apple banana cat\n",
    "\n",
    "word_info = [(word, len(word)) for word in words] # list comprehension\n",
    "\n",
    "print(\"단어와 길이 목록\")\n",
    "for w in word_info:\n",
    "  print(w)"
   ]
  },
  {
   "cell_type": "code",
   "execution_count": 2,
   "metadata": {},
   "outputs": [
    {
     "name": "stdout",
     "output_type": "stream",
     "text": [
      "('y', 100.0)\n",
      "('g', 43.33)\n",
      "('d', 13.33)\n"
     ]
    }
   ],
   "source": [
    "# Q7\n",
    "'''\n",
    "- 학생 평균 점수 정렬\n",
    "평균 점수를 기준으로 정렬\n",
    "평균 점수 기준 내림차순 정렬:\n",
    "영희 - 평균: 88.67\n",
    "철수 - 평균: 87.67\n",
    "민수 - 평균: 76.0\n",
    "'''\n",
    "\n",
    "studentAll = []\n",
    "aboutStudent = ['이름', '국어점수', '수학점수', '과학점수']\n",
    "for _ in range(3):\n",
    "  student = []\n",
    "  for about in aboutStudent:\n",
    "    student_info = input(f\"{about}을(를) 입력해주세요\")\n",
    "    student.append(student_info)\n",
    "  student_score = list(map(int, student[1:]))\n",
    "  avg_score = round(sum(student_score) / len(student_score), 2)\n",
    "  student_tuple = (student[0], avg_score)\n",
    "  studentAll.append(student_tuple)\n",
    "\n",
    "studentAll = reversed(sorted(studentAll, key=lambda x: x[1]))\n",
    "# key= 는 정렬기준을 정하는 함수에 쓰이는 공통적인 인자\n",
    "# 대표적으로 sorted(), .sort(), min(), max() 등에 자주 사용됨\n",
    "for i in studentAll:\n",
    "  print(i)\n",
    "\n",
    "\n",
    "# # \"철수\", 90, 85, 88\n",
    "# # \"영희\", 92, 79, 95\n",
    "# # \"민수\", 70, 80, 78\n",
    "# students = [\n",
    "#   (\"철수\", 90, 85, 88),\n",
    "#   (\"영희\", 92, 79, 95),\n",
    "#   (\"민수\", 70, 80, 78)\n",
    "# ]\n",
    "\n",
    "# # 평균 점수를 기준으로 정렬\n",
    "# sorted_students = reversed(sorted(students, key=lambda x: sum(x[1:]) / 3))\n",
    "\n",
    "# # 결과 출력\n",
    "# print(\"평균 점수 기준 내림차순 정렬\")\n",
    "# for student in sorted_students:\n",
    "#   avg = sum(student[1:]) / 3\n",
    "#   print(f\"{student[0]} - 평균: {round(avg, 2)}\")"
   ]
  }
 ],
 "metadata": {
  "kernelspec": {
   "display_name": "Python 3",
   "language": "python",
   "name": "python3"
  },
  "language_info": {
   "codemirror_mode": {
    "name": "ipython",
    "version": 3
   },
   "file_extension": ".py",
   "mimetype": "text/x-python",
   "name": "python",
   "nbconvert_exporter": "python",
   "pygments_lexer": "ipython3",
   "version": "3.12.9"
  }
 },
 "nbformat": 4,
 "nbformat_minor": 2
}
