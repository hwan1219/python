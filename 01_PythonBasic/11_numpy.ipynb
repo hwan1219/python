{
 "cells": [
  {
   "cell_type": "markdown",
   "metadata": {},
   "source": [
    "# 11. NumPy (Numerical Python)"
   ]
  },
  {
   "cell_type": "code",
   "execution_count": null,
   "metadata": {},
   "outputs": [],
   "source": [
    "from IPython.display import Image\n",
    "Image(filename='image/numpy01.png', width=2000)"
   ]
  },
  {
   "cell_type": "code",
   "execution_count": null,
   "metadata": {},
   "outputs": [],
   "source": [
    "!python --version"
   ]
  },
  {
   "cell_type": "code",
   "execution_count": null,
   "metadata": {},
   "outputs": [],
   "source": [
    "!python -m pip list"
   ]
  },
  {
   "cell_type": "code",
   "execution_count": null,
   "metadata": {},
   "outputs": [],
   "source": [
    "!python -m pip install numpy"
   ]
  },
  {
   "cell_type": "markdown",
   "metadata": {},
   "source": [
    "### 1. NumPy 소개"
   ]
  },
  {
   "cell_type": "code",
   "execution_count": null,
   "metadata": {},
   "outputs": [],
   "source": [
    "# numpy01.py\n",
    "# NumPy: 대규모 배열 및 행렬 연산을 효율적으로 수행할 수 있는 파이썬 라이브러리"
   ]
  },
  {
   "cell_type": "code",
   "execution_count": null,
   "metadata": {},
   "outputs": [],
   "source": [
    "# NumPy 불러오기 \n",
    "import numpy as np\n",
    "\n",
    "#  [Python 리스트와 NumPy 배열의 성능 비교] \n",
    "import time \n",
    "# (1) Python 리스트로 백만 개의 숫자 생성 및 덧셈 수행 \n",
    "list1 = list(range(1000000)) \n",
    "list2 = list(range(1000000)) \n",
    "start = time.time()  # 현재 시간 저장 (시작 시간) \n",
    "\n",
    "# (2)리스트 간 요소별 덧셈 수행 (zip을 통해 두 리스트의 각 요소를 짝지음) \n",
    "result_list = [x + y for x, y in zip(list1, list2)] \n",
    "end = time.time()  # 끝난 시간 저장 \n",
    "print(\"Python List 연산 시간:\", end - start) \n",
    "\n",
    "# (3) NumPy 배열로 같은 작업 수행 \n",
    "arr1 = np.arange(1000000)  # 0 부터 999999까지의 정수 배열 생성 \n",
    "arr2 = np.arange(1000000) \n",
    "start = time.time()  # 시작 시간\n",
    "\n",
    "# (4) NumPy 배열은 벡터화된 연산을 지원하여 훨씬 빠른 속도로 처리됨 \n",
    "result_arr = arr1 + arr2\n",
    "end = time.time()\n",
    "print(\"NumPy Array 연산 시간:\", end - start)"
   ]
  },
  {
   "cell_type": "markdown",
   "metadata": {},
   "source": [
    "### 2. 배열 생성 및 속성"
   ]
  },
  {
   "cell_type": "code",
   "execution_count": null,
   "metadata": {},
   "outputs": [],
   "source": [
    "# numpy02.py\n",
    "# 배열 생성 및 속성\n",
    "# np.array - NumPy의 핵심 객체, 벡터 및 행렬 표현이 가능\n",
    "# 속성을 통해 배열 구조를 쉽게 파악할 수 있음\n",
    "# 배열 초기화 함수들을 통해 손쉽게 데이터를 생성할 수 있음"
   ]
  },
  {
   "cell_type": "code",
   "execution_count": null,
   "metadata": {},
   "outputs": [],
   "source": [
    "# 1. 배열 생성\n",
    "a = np.array([1, 2, 3])\n",
    "print(\"1 차원 배열:\")\n",
    "print(f\"{a}\\n\")\n",
    "b = np.array([[1, 2, 3], [4, 5, 6]])\n",
    "print(\"2 차원 배열:\")\n",
    "print(f\"{b}\")"
   ]
  },
  {
   "cell_type": "code",
   "execution_count": null,
   "metadata": {},
   "outputs": [],
   "source": [
    "# 2. 배열의 주요 속성 확인\n",
    "b = np.array([[1, 2, 3], [4, 5, 6]])\n",
    "print(\"차원 수 (ndim):\", b.ndim) # 배열의 차원 수\n",
    "print(\"배열 모양 (shape):\", b.shape) # 각 차원의 크기 (행, 열)\n",
    "print(\"데이터 타입 (dtype):\", b.dtype) # 배열 요소의 자료형\n",
    "print(\"요소 개수 (size):\", b.size) # 전체 요소 수\n",
    "print(\"요소 하나의 크기 (itemsize):\", b.itemsize, \"bytes\") # 하나의 요소가 차지하는 메모리 크기"
   ]
  },
  {
   "cell_type": "code",
   "execution_count": null,
   "metadata": {},
   "outputs": [],
   "source": [
    "# 3. 다양한 초기화 배열 생성\n",
    "zeros = np.zeros((2, 3)) # 0으로 채워진 2행 3열 배열\n",
    "ones = np.ones((2, 3)) # 1로 채워진 배열\n",
    "full = np.full((2, 3), 7) # 7로 채워진 배열\n",
    "eye = np.eye(3) # 단위 행렬 (3x3)\n",
    "rand = np.random.rand(2, 2) # 0~1 사이 난수로 채운 2x2 배열\n",
    "print(\"0 배열:\")\n",
    "print(f\"{zeros}\\n\")\n",
    "print(\"1 배열:\")\n",
    "print(f\"{ones}\\n\")\n",
    "print(\"7 배열:\")\n",
    "print(f\"{full}\\n\")\n",
    "print(\"단위 행렬:\")\n",
    "print(f\"{eye}\\n\")\n",
    "print(\"난수 배열:\")\n",
    "print(f\"{rand}\")"
   ]
  },
  {
   "cell_type": "code",
   "execution_count": null,
   "metadata": {},
   "outputs": [],
   "source": [
    "# 4. arange 와 linspace\n",
    "arr1 = np.arange(0, 10, 2) # 0부터 10 전 까지 2씩 증가\n",
    "arr2 = np.linspace(0, 1, 5) # 0부터 1 까지 균등 간격으로 5개\n",
    "print(\"arange 배열:\", arr1)\n",
    "print(\"linspace 배열:\", arr2)"
   ]
  },
  {
   "cell_type": "code",
   "execution_count": null,
   "metadata": {},
   "outputs": [],
   "source": [
    "# 5. reshape\n",
    "reshaped = np.arange(12).reshape(3, 4) # 0~11까지 3행 4열로 변경\n",
    "print(\"reshape 결과:\")\n",
    "print(reshaped)"
   ]
  },
  {
   "cell_type": "markdown",
   "metadata": {},
   "source": [
    "### 3. 배열 연산 기초"
   ]
  },
  {
   "cell_type": "code",
   "execution_count": null,
   "metadata": {},
   "outputs": [],
   "source": [
    "# numpy03.py\n",
    "# 배열 연산 기초\n",
    "# NumPy 배열은 사칙연산, 스칼라연산, 브로드캐스팅, 비교 및 논리연산 등을 매우 효율적으로 수행 가능\n",
    "# 복잡한 수학적 처리를 간단한 코드로 처리할 수 있음\n",
    "# 연산 결과는 벡터화되어 반복문 없이도 대규모 연산이 빠르게 수행됨"
   ]
  },
  {
   "cell_type": "code",
   "execution_count": null,
   "metadata": {},
   "outputs": [],
   "source": [
    "# 1. 기본 사칙연산\n",
    "a = np.array([1, 2, 3])\n",
    "b = np.array([4, 5, 6])\n",
    "print(\"덧셈:\", a + b) \n",
    "print(\"뺄셈:\", a - b)\n",
    "print(\"곱셈:\", a * b)\n",
    "print(\"나눗셈:\", a / b)"
   ]
  },
  {
   "cell_type": "code",
   "execution_count": null,
   "metadata": {},
   "outputs": [],
   "source": [
    "# 2. 스칼라연산 (스칼라 값과의 연산)\n",
    "# scalar: 4, 20, ...\n",
    "a = np.array([1, 2, 3])\n",
    "print(\"a * 4:\", a * 4) # 배열의 모든 요소에 4를 곱함\n",
    "print(\"a + 20:\", a + 20) # 배열의 모든 요소에 20을 더함"
   ]
  },
  {
   "cell_type": "code",
   "execution_count": null,
   "metadata": {},
   "outputs": [],
   "source": [
    "# 3. 브로드캐스팅 (크기가 다른 배열 간 연산산)\n",
    "A = np.array([[1, 2, 3], [4, 5, 6]]) # 2x3 행렬\n",
    "B = np.array([1, 0, 1]) # 1x3 벡터\n",
    "print(\"브로드캐스팅 결과:\")\n",
    "print(A + B) # B가 A에 맞춰 자동으로 확장되어 연산됨"
   ]
  },
  {
   "cell_type": "code",
   "execution_count": null,
   "metadata": {},
   "outputs": [],
   "source": [
    "# 4. 비교 연산\n",
    "a = np.array([1, 2, 3])\n",
    "b = np.array([4, 5, 6])\n",
    "print(\"a > 2:\", a > 2)\n",
    "print(\"a == 5:\", a == 5)"
   ]
  },
  {
   "cell_type": "code",
   "execution_count": null,
   "metadata": {},
   "outputs": [],
   "source": [
    "# 5. 논리 연산\n",
    "a = np.array([1, 2, 3])\n",
    "b = np.array([4, 5, 6])\n",
    "cond1 = a > 1\n",
    "cond2 = b < 6\n",
    "print(\"조건 1:\", cond1)\n",
    "print(\"조건 2:\", cond2)\n",
    "print(\"AND 연산:\", np.logical_and(cond1, cond2)) # 두 조건 모두 참인 경우 True\n",
    "print(\"OR 연산:\", np.logical_or(cond1, cond2)) # 하나라도 참이면 True"
   ]
  },
  {
   "cell_type": "code",
   "execution_count": null,
   "metadata": {},
   "outputs": [],
   "source": [
    "# 6. 집계 함수\n",
    "arr = np.array([[1, 2, 3], [4, 5, 6]])\n",
    "print(\"전체 합계:\", np.sum(arr))\n",
    "print(\"행별 합계:\", np.sum(arr, axis=1)) # 각 행의 합\n",
    "print(\"열별 합계:\", np.sum(arr, axis=0)) # 각 열의 합"
   ]
  },
  {
   "cell_type": "markdown",
   "metadata": {},
   "source": [
    "### 4. Indexing & Slicing"
   ]
  },
  {
   "cell_type": "code",
   "execution_count": null,
   "metadata": {},
   "outputs": [],
   "source": [
    "# numpy04.py\n",
    "# Indexing(인덱싱): 배열의 특정 위치 값 조회\n",
    "# slicing(슬라이싱): 범위를 지정하여 배열 일부 추출\n",
    "# Bollean Indexing(조건 필터링): 조건을 만족하는 요소만 추출\n",
    "# Fancy Indexing(팬시 인덱싱): 원하는 인덱스들을 배열로 전달하여 조회 또는 수정"
   ]
  },
  {
   "cell_type": "code",
   "execution_count": null,
   "metadata": {},
   "outputs": [],
   "source": [
    "# 1. 인덱싱 - 특정 위치의 요소를 조회\n",
    "arr = np.array([10, 20, 30, 40, 50])\n",
    "print(\"첫 번째 요소:\", arr[0]) # 10\n",
    "print(\"마지막 요소:\", arr[-1]) # 50"
   ]
  },
  {
   "cell_type": "code",
   "execution_count": null,
   "metadata": {},
   "outputs": [],
   "source": [
    "# 2. 2차원 배열 인덱싱\n",
    "arr2d = np.array([[1, 2, 3], [4, 5, 6]])\n",
    "print(\"첫 행:\", arr2d[0]) # [1 2 3]\n",
    "print(\"두 번째 행, 세 번째 열:\", arr2d[1, 2]) # 6"
   ]
  },
  {
   "cell_type": "code",
   "execution_count": null,
   "metadata": {},
   "outputs": [],
   "source": [
    "# 3. 슬라이싱 - 특정 구간의 요소를 잘라냄\n",
    "arr = np.array([10, 20, 30, 40, 50])\n",
    "print(\"두 번째부터 네 번째까지:\", arr[1:4]) # [20 30 40]"
   ]
  },
  {
   "cell_type": "code",
   "execution_count": null,
   "metadata": {},
   "outputs": [],
   "source": [
    "# 4. 2차원 배열 슬라이싱\n",
    "arr2d = np.array([[1, 2, 3], [4, 5, 6]])\n",
    "print(\"모든 행, 첫 번째 열:\", arr2d[:, 0]) # 첫 번째 열만 추출\n",
    "print(\"첫 번째 행, 두 번째 이후 열:\", arr2d[0, 1:]) # [2 3]"
   ]
  },
  {
   "cell_type": "code",
   "execution_count": null,
   "metadata": {},
   "outputs": [],
   "source": [
    "# 5. 조건 필터링\n",
    "arr = np.array([10, 15, 20, 25, 30])\n",
    "cond = arr > 20\n",
    "print(\"20보다 큰 값들:\", arr[cond]) # [25 30]"
   ]
  },
  {
   "cell_type": "code",
   "execution_count": null,
   "metadata": {},
   "outputs": [],
   "source": [
    "# 6. 조건 필터링 한 줄로\n",
    "arr = np.array([10, 15, 20, 25, 30])\n",
    "print(\"20보다 큰 값들(한 줄 표현):\", arr[arr > 20])"
   ]
  },
  {
   "cell_type": "code",
   "execution_count": null,
   "metadata": {},
   "outputs": [],
   "source": [
    "# 7. 팬시 인덱싱\n",
    "arr = np.array([10, 15, 20, 25, 30])\n",
    "idx = [0, 2, 4] # 가져오고 싶은 인덱스 리스트\n",
    "print(\"0, 2, 4 번째 값:\", arr[idx]) # [10 20 30]\n",
    "print(\"0, 2, 4 번째 값:\", arr[[0, 2, 4]]) # [10 20 30]"
   ]
  },
  {
   "cell_type": "code",
   "execution_count": null,
   "metadata": {},
   "outputs": [],
   "source": [
    "# 8. 배열 값 변경\n",
    "arr = np.array([10, 15, 20, 25, 30])\n",
    "arr[0] = 100\n",
    "print(\"첫 번째 값 변경 후:\", arr)"
   ]
  },
  {
   "cell_type": "code",
   "execution_count": null,
   "metadata": {},
   "outputs": [],
   "source": [
    "# 9. 다중 인덱싱으로값 변경\n",
    "arr2d = np.array([[1, 2, 3], [4, 5, 6]])\n",
    "arr2d[1, 2] = 99\n",
    "print(\"2차원 배열 값 변경:\")\n",
    "print(arr2d)"
   ]
  },
  {
   "cell_type": "markdown",
   "metadata": {},
   "source": [
    "### 5. 배열 변형"
   ]
  },
  {
   "cell_type": "code",
   "execution_count": null,
   "metadata": {},
   "outputs": [],
   "source": [
    "# numpy05.py\n",
    "# reshape: 배열의 구조를 바꿈 (요소 개수는 유지)\n",
    "# flatten: 다차원 배열을 1차원으로 평탄화\n",
    "# transpose: 행과 열을 교환\n",
    "# concatenate: 배열을 이어 붙임 (행/열 방향)\n",
    "# split: 배열을 일정 간격으로 나눔\n",
    "# hstack/vstack: 수평/수직으로 배열을 쌓음음"
   ]
  },
  {
   "cell_type": "code",
   "execution_count": null,
   "metadata": {},
   "outputs": [],
   "source": [
    "# 1. 배열 형태 변경: reshape()\n",
    "arr = np.arange(12) # 0~11까지 1차원 배열 생성\n",
    "reshaped = arr.reshape((3, 4)) # 3행 4열, 2차원 배열로 변형\n",
    "print(\"reshape 이전:\")\n",
    "print(f\"{arr}\\n\")\n",
    "print(\"reshape 결과:\")\n",
    "print(reshaped)"
   ]
  },
  {
   "cell_type": "code",
   "execution_count": null,
   "metadata": {},
   "outputs": [],
   "source": [
    "# 2. 다차원 배열 평탄화: flatten()\n",
    "arr = np.arange(12)\n",
    "reshaped = arr.reshape((3, 4))\n",
    "flattened = reshaped.flatten()\n",
    "print(\"flatten 이전:\")\n",
    "print(f\"{reshaped}\\n\")\n",
    "print(\"flatten 결과:\")\n",
    "print(flattened)"
   ]
  },
  {
   "cell_type": "code",
   "execution_count": null,
   "metadata": {},
   "outputs": [],
   "source": [
    "# 3. 행과 열 뒤바꾸기: transpose\n",
    "arr = np.arange(12)\n",
    "reshaped = arr.reshape((3, 4))\n",
    "transposed = reshaped.T\n",
    "print(\"transpose 이전:\")\n",
    "print(f\"{reshaped}\\n\")\n",
    "print(\"transpose 결과:\")\n",
    "print(transposed)"
   ]
  },
  {
   "cell_type": "code",
   "execution_count": null,
   "metadata": {},
   "outputs": [],
   "source": [
    "# 4. 배열 합치기: concatenate()\n",
    "a = np.array([[1, 2], [3, 4]])\n",
    "b = np.array([[5, 6]])\n",
    "# axis=0: 행 방향으로 붙이기 (열 수가 동일해야 함) / [a, a, a], a 개수 = 열 수\n",
    "concat_axis0 = np.concatenate((a, b), axis=0)\n",
    "print(\"행 방향으로 합치기:\")\n",
    "print(f\"{concat_axis0}\\n\")\n",
    "\n",
    "# axis=1: 열 방향으로 붙이기 (행 수가 동일해야 함) / [[], []], 내부 [] 개수 = 행 수\n",
    "a2 = np.array([[1], [2]])\n",
    "b2 = np.array([[3, 3, 3], [4, 4, 4]])\n",
    "concat_axis1 = np.concatenate((a2, b2), axis=1)\n",
    "print(\"열 방향으로 합치기:\")\n",
    "print(concat_axis1)"
   ]
  },
  {
   "cell_type": "code",
   "execution_count": null,
   "metadata": {},
   "outputs": [],
   "source": [
    "# 5. 배열 분할: split()\n",
    "x = np.array([1, 2, 3, 4, 5, 6])\n",
    "split_arr = np.split(x, 3) # 3개로 분할\n",
    "print(\"분할 결과\", split_arr)"
   ]
  },
  {
   "cell_type": "code",
   "execution_count": null,
   "metadata": {},
   "outputs": [],
   "source": [
    "# 6. 수평, 수직으로 쌓기: hstack(), vstack()\n",
    "a2 = np.array([[1], [2]])\n",
    "b2 = np.array([[3], [4]])\n",
    "hstacked = np.hstack((a2, b2)) # 열 방향\n",
    "vstacked = np.vstack((a2, b2)) # 행 방향\n",
    "print(\"hstack 결과:\")\n",
    "print(f\"{hstacked}\\n\")\n",
    "print(\"vstack 결과:\")\n",
    "print(vstacked)"
   ]
  },
  {
   "cell_type": "markdown",
   "metadata": {},
   "source": [
    "### 6. 수학 및 통계 함수"
   ]
  },
  {
   "cell_type": "code",
   "execution_count": null,
   "metadata": {},
   "outputs": [],
   "source": [
    "# numpyt06.py\n",
    "# 수학 함수: sum, prod, cumsum, cumprod 등 기본적인 수치 연산\n",
    "# 통계 함수: mean, median, std, var 등을 통해 데이터 분포 이해 가능\n",
    "# np.srot, np.argsort 를 통해 데이터 정렬과 순위 파악 가능\n",
    "# 머신러닝, 통계 분석, 금융 모델링 등 다양한 분야에서 유용하게 활용됨"
   ]
  },
  {
   "cell_type": "code",
   "execution_count": null,
   "metadata": {},
   "outputs": [],
   "source": [
    "# 1. 기초 수학 함수\n",
    "arr = np.array([1, 2, 3, 4, 5])\n",
    "print(\"합계:\", np.sum(arr)) # 모든 요소의 합\n",
    "print(\"누적합:\", np.cumsum(arr)) # 누적합\n",
    "print(\"곱:\", np.prod(arr)) # 모든 요소의 곱\n",
    "print(\"누적곱:\", np.cumprod(arr)) # 누적곱"
   ]
  },
  {
   "cell_type": "code",
   "execution_count": null,
   "metadata": {},
   "outputs": [],
   "source": [
    "# 2. 평균 및 중앙값\n",
    "arr = np.array([1, 2, 3, 4, 5])\n",
    "print(\"평균:\", np.mean(arr)) # 평균\n",
    "print(\"중앙값:\", np.median(arr)) # 중앙값\n",
    "\n",
    "from IPython.display import Image\n",
    "Image(filename='image/numpy02.png', width=2000)"
   ]
  },
  {
   "cell_type": "code",
   "execution_count": null,
   "metadata": {},
   "outputs": [],
   "source": [
    "# 3. 분산 및 표준편차\n",
    "# 분산 공식\n",
    "# 1. 각 값에서 평균을 뺌 = 편차 ex) 1-(1+2+3+4+5) / 5, 2-(1+2+3+4+5) / 5, ...\n",
    "# 2. 그 편차를 제곱함 ex) (1-3)^2, (2-3)^2, ...\n",
    "# 3. 그 제곱값들의 평균을 냄 = 분산\n",
    "# (1) [-2, -1, 0, 1, 2]\n",
    "# (2) [4, 1, 0, 1, 4]\n",
    "# (3) (4+1+0+1+4) / 5 = 2\n",
    "# 분산 = 2\n",
    "\n",
    "# 표준 편차 공식\n",
    "# 표준편차 = √(분산)\n",
    "arr = np.array([1, 2, 3, 4, 5])\n",
    "print(\"분산:\", np.var(arr)) # 분산\n",
    "print(\"표준편차:\", np.std(arr)) # 표준편차"
   ]
  },
  {
   "cell_type": "code",
   "execution_count": null,
   "metadata": {},
   "outputs": [],
   "source": [
    "# 4. 최소/최대 및 위치\n",
    "arr = np.array([1, 2, 3, 4, 5])\n",
    "print(\"최소값:\", np.min(arr))\n",
    "print(\"최대값:\", np.max(arr))\n",
    "print(\"최소값 위치:\", np.argmin(arr)) # 최소값의 인덱스\n",
    "print(\"최대값 위치:\", np.argmax(arr)) # 최대값의 인덱스"
   ]
  },
  {
   "cell_type": "code",
   "execution_count": null,
   "metadata": {},
   "outputs": [],
   "source": [
    "# 5. 정렬 및 순위\n",
    "unsorted = np.array([3, 1, 4, 5, 2])\n",
    "sorted_arr = np.sort(unsorted)\n",
    "indices = np.argsort(unsorted)\n",
    "print(\"정렬된 배열:\", sorted_arr)\n",
    "print(\"정렬 인덱스:\", indices) # argsort = 정렬 순서대로의 인덱스"
   ]
  },
  {
   "cell_type": "markdown",
   "metadata": {},
   "source": [
    "### 7. 난수 생성 및 활용"
   ]
  },
  {
   "cell_type": "code",
   "execution_count": null,
   "metadata": {},
   "outputs": [],
   "source": [
    "# numpy07.py\n",
    "# rand, randint, normal 등 다양한 확률 분포에서 난수 생성 가능\n",
    "# seed 를 사용해 결과를 고정할 수 있음 (디버깅, 재현성에 유용)\n",
    "# choice, shuffle, permutation 은 데이터 섞기, 샘플링에 사용됨\n",
    "# 시뮬레이션, 모델링, 무작위 테스트 등에 다양하게 활용됨"
   ]
  },
  {
   "cell_type": "code",
   "execution_count": null,
   "metadata": {},
   "outputs": [],
   "source": [
    "# 1. 난수 생성 기본\n",
    "rand_uniform = np.random.rand(3, 3) # 0~1 사이 균등분포\n",
    "print(\"균등분포 난수 (0~1):\")\n",
    "print(f\"{rand_uniform}\\n\")\n",
    "rand_int = np.random.randint(0, 10, (2, 5)) # 0~9 정수 난수\n",
    "print(\"정수 난수 (0~9):\")\n",
    "print(rand_int)"
   ]
  },
  {
   "cell_type": "code",
   "execution_count": null,
   "metadata": {},
   "outputs": [],
   "source": [
    "# 2. 정규분포 난수 생성\n",
    "normal_rand = np.random.normal(loc=0.0, scale=1.0, size=(3, 3)) # 평균0, 표준편차1\n",
    "print(\"정규분포 난수:\")\n",
    "print(normal_rand)"
   ]
  },
  {
   "cell_type": "code",
   "execution_count": null,
   "metadata": {},
   "outputs": [],
   "source": [
    "# 3. 시드 설정 (seed): 재현 가능한 결과를 위해\n",
    "np.random.seed(42)\n",
    "repeatable = np.random.rand(2, 2)\n",
    "print(\"시드 고정된 난수:\")\n",
    "print(repeatable)"
   ]
  },
  {
   "cell_type": "code",
   "execution_count": null,
   "metadata": {},
   "outputs": [],
   "source": [
    "# 4. 샘플링: choice()\n",
    "elements = [1, 2, 3, 4, 5, 6, 7]\n",
    "sample = np.random.choice(elements, size = 7, replace = False) # 비복원 추출\n",
    "print(\"비복원 샘플링 결과:\", sample) # 뽑힌 값은 다시 뽑힐 수 없음\n",
    "\n",
    "sample_with_replacement = np.random.choice(elements, size = 7, replace = True) # 복원 추출\n",
    "print(\"복원 샘플링 결과:\", sample_with_replacement) # 뽑힌 값도 다시 뽑힐 수 있음"
   ]
  },
  {
   "cell_type": "code",
   "execution_count": null,
   "metadata": {},
   "outputs": [],
   "source": [
    "# 5. 난수 셔플: shuffle()\n",
    "shuffle_arr = np.array([1, 2, 3, 4, 5])\n",
    "np.random.shuffle(shuffle_arr)\n",
    "print(\"셔플된 배열:\", shuffle_arr) # 인덱스 값이 바뀜\n",
    "# ex) [4 1 5 2 3] - 1은 더이상 shuffle_arr[0]이 아니고, [1]로 바뀜"
   ]
  },
  {
   "cell_type": "code",
   "execution_count": null,
   "metadata": {},
   "outputs": [],
   "source": [
    "# 6. 퍼뮤테이션: permutation()\n",
    "original = np.array([1, 2, 3, 4, 5])\n",
    "permuted = np.random.permutation(original)\n",
    "print(\"원본:\", original)\n",
    "print(\"퍼뮤테이션 결과:\", permuted)\n",
    "# 기능적으로는 shuffle과 동일\n",
    "# 하지만 shuffle은 원본 배열을 섞는 것이고\n",
    "# permuation은 배열을 섞은 복사본을 반환함\n",
    "# 즉, 원본 배열을 직접 섞고 싶을 때는 shuffle()\n",
    "# 원본 배열을 건드리지 않고 배열을 섞은 복사본을 얻고 싶을 때는 permutation()"
   ]
  }
 ],
 "metadata": {
  "kernelspec": {
   "display_name": "Python 3",
   "language": "python",
   "name": "python3"
  },
  "language_info": {
   "codemirror_mode": {
    "name": "ipython",
    "version": 3
   },
   "file_extension": ".py",
   "mimetype": "text/x-python",
   "name": "python",
   "nbconvert_exporter": "python",
   "pygments_lexer": "ipython3",
   "version": "3.12.9"
  }
 },
 "nbformat": 4,
 "nbformat_minor": 2
}
