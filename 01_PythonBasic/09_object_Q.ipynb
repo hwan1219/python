{
 "cells": [
  {
   "cell_type": "code",
   "execution_count": 2,
   "metadata": {},
   "outputs": [
    {
     "name": "stdout",
     "output_type": "stream",
     "text": [
      "홍길동, 20, 2023001\n"
     ]
    }
   ],
   "source": [
    "# Q1\n",
    "\"\"\"\n",
    "- 학생 클래스 만들기 (클래스와 객체)\n",
    "설명: 학생의 이름, 나이, 학번을 관리하는 클래스를 만들고, 이를 기반으로 학생 객체를 생성합니다\n",
    "기능: 학생 정보를 입력받고 출력하는 클래스 구현\n",
    "이름: 홍길동, 나이: 20, 학번: 2023001\n",
    "class명: Student\n",
    "fucntion명: display_info - name, age, student_id 출력\n",
    "\"홍길동\", 20, 2023001\n",
    "\"\"\"\n",
    "class Student:\n",
    "  def __init__(self, name, age, student_id):\n",
    "    self.name = name\n",
    "    self.age = age\n",
    "    self.student_id = student_id\n",
    "  def display_info(self):\n",
    "    return (f\"{self.name}, {self.age}, {self.student_id}\")\n",
    "    # print(f\"{self.name}, {self.age}, {self.student_id}\")\n",
    "\n",
    "person1 = Student(\"홍길동\", 20, 2023001)\n",
    "\n",
    "print(person1.display_info())\n",
    "# person1.display_info()"
   ]
  },
  {
   "cell_type": "code",
   "execution_count": 4,
   "metadata": {},
   "outputs": [
    {
     "name": "stdout",
     "output_type": "stream",
     "text": [
      "색상: 빨간색, 속도: 10 km/h\n",
      "색상: 빨간색, 속도: 0 km/h\n"
     ]
    }
   ],
   "source": [
    "# Q2\n",
    "\"\"\"\n",
    "- 자동차 클래스 만들기 (클래스와 메서드)\n",
    "설명: 자동차의 속도와 색상을 관리하는 클래스를 만들고, 자동차 객체를 다룸\n",
    "기능: 자동차의 속도를 변경하고, 자동차의 색을 변경하는 메서드 구현\n",
    "\"\"\"\n",
    "# class Car:\n",
    "#   def __init__(self, color, speed=0):\n",
    "#     self.color = color\n",
    "#     self.speed = speed\n",
    "#     self.display_info()\n",
    "\n",
    "#   def accelerate(self, amount):\n",
    "#     self.speed += amount\n",
    "#     self.display_info()\n",
    "\n",
    "#   def brake(self, amount):\n",
    "#     self.speed = max(0, self.speed - amount)\n",
    "#     self.display_info()\n",
    "\n",
    "#   def change_color(self, new_color):\n",
    "#     self.color = new_color\n",
    "#     self.display_info()\n",
    "\n",
    "#   def display_info(self):\n",
    "#     print(f\"{self.color}, {self.speed} km/h\")\n",
    "\n",
    "\n",
    "# car1 = Car(\"빨간색\")\n",
    "# car1.accelerate(50)\n",
    "# car1.brake(20)\n",
    "# car1.accelerate(150)\n",
    "# car1.change_color(\"회색\")\n",
    "\n",
    "\n",
    "class Car:\n",
    "  def __init__(self, color, speed=0):\n",
    "    self.color = color\n",
    "    self.speed = speed\n",
    "  \n",
    "  def accelerate(self): # 가속 메서드\n",
    "    self.speed += 10\n",
    "\n",
    "  def brake(self): # 감속 메서드\n",
    "    self.speed -= 10\n",
    "\n",
    "  def display_info(self):\n",
    "    print(f\"색상: {self.color}, 속도: {self.speed} km/h\")\n",
    "\n",
    "car1 = Car(\"빨간색\")\n",
    "car1.accelerate()\n",
    "car1.display_info()\n",
    "car1.brake()\n",
    "car1.display_info()"
   ]
  },
  {
   "cell_type": "code",
   "execution_count": 22,
   "metadata": {},
   "outputs": [
    {
     "name": "stdout",
     "output_type": "stream",
     "text": [
      "김철수, 85, 90, 95\n",
      "김철수의 평균 성적: 90.0\n"
     ]
    }
   ],
   "source": [
    "# Q3\n",
    "\"\"\"\n",
    "- 학생 성적 관리 (속성 사용)\n",
    "설명: 학생의 성적을 관리하는 클래스와 성적을 추가하고 평균을 계산하는 기능 구현\n",
    "기능: 학생의 성적을 추가하고, 평균을 계산하는 메서드 구현\n",
    "class명: Student\n",
    "function명: add_score, calculate_average\n",
    "\"김철수\", 85, 90, 95\n",
    "김철수의 평균 성적: 90.0\n",
    "\"\"\"\n",
    "# class Student:\n",
    "#   def __init__(self, name, math, science, english):\n",
    "#     self.name = name\n",
    "#     self.math = math\n",
    "#     self.science = science\n",
    "#     self.english = english\n",
    "#   def add_score(self):\n",
    "#     return self.math + self.science + self.english\n",
    "#   def calculate_average(self):\n",
    "#     return self.add_score() / 3\n",
    "#   def student_info(self):\n",
    "#     return (f\"{self.name}, {self.math}, {self.science}, {self.english}\")\n",
    "#   def student_avg(self):\n",
    "#     return (f\"{self.name}의 평균 성적: {self.calculate_average():.2f}\")\n",
    "#     # :.1f - 소수점 아래 1자리까지 반올림해서 출력하라는 의미\n",
    "#     # :.1f\n",
    "#     # ││└─ float (실수) 형식으로\n",
    "#     # │└── 소수점 아래 1자리까지\n",
    "#     # └── 포맷 지정 시작\n",
    "# student1 = Student(\"홍길동\", 77, 77, 73)\n",
    "# print(student1.student_info())\n",
    "# print(student1.student_avg())\n",
    "\n",
    "\n",
    "class Student:\n",
    "  def __init__(self, name):\n",
    "    self.name = name\n",
    "    self.scores = []\n",
    "  def add_score(self, score):\n",
    "    self.scores.append(score)\n",
    "  def student_info(self):\n",
    "    score_str = \", \".join(str(score) for score in self.scores)\n",
    "    # 다시 확실하게 공부 - .join\n",
    "    return f\"{self.name}, {score_str}\"\n",
    "  def calculate_average(self):\n",
    "    return sum(self.scores) / len(self.scores)\n",
    "student1 = Student(\"김철수\")\n",
    "student1.add_score(85)\n",
    "student1.add_score(90)\n",
    "student1.add_score(95)\n",
    "print(student1.student_info())\n",
    "print(f\"{student1.name}의 평균 성적: {student1.calculate_average()}\")\n"
   ]
  },
  {
   "cell_type": "code",
   "execution_count": 24,
   "metadata": {},
   "outputs": [
    {
     "name": "stdout",
     "output_type": "stream",
     "text": [
      "책 제목: 파이썬 기초, 저자: 홍길동\n"
     ]
    }
   ],
   "source": [
    "# Q4\n",
    "\"\"\"\n",
    "- 책 정보 클래스 만들기 (클래스와 메서드)\n",
    "설명: 책의 제목과 저자 정보를 관리하는 클래스를 만들고, 책의 정보를 출력하는 메서드 구현\n",
    "기능: 책 정보를 저장하고 출력하는 메서드 구현\n",
    "class명: Book\n",
    "function명: display_info - title, author\n",
    "\"파이썬 기초\", \"홍길동\"\n",
    "책 제목: 파이썬 기초, 저자: 홍길동\n",
    "\"\"\"\n",
    "class Book:\n",
    "  def __init__(self, title, author):\n",
    "    self.title = title\n",
    "    self.author = author\n",
    "  def display_info(self):\n",
    "    # return f\"책 제목: {self.title}, 저자: {self.author}\"\n",
    "    print(f\"책 제목: {self.title}, 저자: {self.author}\")\n",
    "\n",
    "book1 = Book(\"파이썬 기초\", \"홍길동\")\n",
    "# print(book1.display_info())\n",
    "book1.display_info()"
   ]
  },
  {
   "cell_type": "code",
   "execution_count": 26,
   "metadata": {},
   "outputs": [
    {
     "name": "stdout",
     "output_type": "stream",
     "text": [
      "안녕하세요, 박지민입니다!\n"
     ]
    }
   ],
   "source": [
    "# Q5\n",
    "\"\"\"\n",
    "- 사람 클래스와 인사 (클래스와 메서드)\n",
    "설명: 사람 객체를 생성하고, 인사하는 메서드를 추가하여 객체와 상호작용\n",
    "기능: 사람 객체를 만들고, 인사하는 기능 구현\n",
    "class명: Person\n",
    "function명: greet - \"안녕하세요 ()입니다.\"\n",
    "\"박지민\"\n",
    "안녕하세요, 박지민입니다!\n",
    "\"\"\"\n",
    "class Person:\n",
    "  def __init__(self, name):\n",
    "    self.name = name\n",
    "  def greet(self):\n",
    "    # return f\"안녕하세요, {self.name}입니다!\"\n",
    "    print(f\"안녕하세요, {self.name}입니다!\")\n",
    "\n",
    "person1 = Person(\"박지민\")\n",
    "# print(person1.greet())\n",
    "person1.greet()"
   ]
  },
  {
   "cell_type": "code",
   "execution_count": 38,
   "metadata": {},
   "outputs": [
    {
     "name": "stdout",
     "output_type": "stream",
     "text": [
      "해당 통장의 잔액은 11500원입니다.\n",
      "해당 통장의 잔액은 3500원입니다.\n",
      "해당 통장의 잔액은 3500원입니다.\n",
      "김상철, 3500\n"
     ]
    }
   ],
   "source": [
    "# Q6\n",
    "\"\"\"\n",
    "- 은행 계좌 클래스 만들기 (캡슐화)\n",
    "설명: 계좌 잔액을 관리하는 클래스 만들기, 입금과 출금 메서드로 계좌 관리\n",
    "기능: 계좌 잔액을 변경할 수 있는 메서드 구현\n",
    "class명: BankAccount\n",
    "function명: deposit(500), withdraw(300), get_balance(잔액확인)\n",
    "\"김상철\", 1000\n",
    "잔액: 1200\n",
    "\"\"\"\n",
    "class BankAccount:\n",
    "  def __init__(self, name, balance=0):\n",
    "    self.name = name\n",
    "    self.__balance = balance\n",
    "  def set_deposit(self, amount):\n",
    "    self.__balance += amount\n",
    "    print(f\"해당 통장의 잔액은 {self.__balance}원입니다.\")\n",
    "  def set_withdraw(self, amount):\n",
    "    if amount <= self.__balance:\n",
    "      self.__balance -= amount\n",
    "      print(f\"해당 통장의 잔액은 {self.__balance}원입니다.\")\n",
    "    else:\n",
    "      print(\"잔액이 부족합니다.\")\n",
    "  def get_balance(self):\n",
    "    print(f\"해당 통장의 잔액은 {self.__balance}원입니다.\")\n",
    "  def get_account_info(self):\n",
    "    print(f\"{self.name}, {self.__balance}\")\n",
    "  \n",
    "user1 = BankAccount(\"김상철\", 1000)\n",
    "user1.set_deposit(10500)\n",
    "user1.set_withdraw(8000)\n",
    "user1.get_balance()\n",
    "user1.get_account_info()\n",
    "\n",
    "\n",
    "# class BankAccount:\n",
    "#   def __init__(self, name, balance=0):\n",
    "#     self.name = name\n",
    "#     self.__balance = balance\n",
    "#   def deposit(self, amount):\n",
    "#     self.__balance += amount\n",
    "#   def withdraw(self, amount):\n",
    "#     if self.__balance >= amount:\n",
    "#       self.__balance -= amount\n",
    "#     else:\n",
    "#       print(\"잔액이 부족합니다.\")\n",
    "#   def get_balance(self):\n",
    "#     return self.__balance\n",
    "  \n",
    "# user1 = BankAccount(\"김상철\", 1000)\n",
    "# user1.deposit(500)\n",
    "# user1.withdraw(300)\n",
    "# print(f\"잔액: {user1.get_balance()}\")"
   ]
  },
  {
   "cell_type": "code",
   "execution_count": 48,
   "metadata": {},
   "outputs": [
    {
     "name": "stdout",
     "output_type": "stream",
     "text": [
      "정사각형 면적: 25\n"
     ]
    }
   ],
   "source": [
    "# Q7\n",
    "\"\"\"\n",
    "- 사각형 클래스 (상속)\n",
    "설명: 사각형 클래스를 만들고, 이를 상속받아 크기 변경 메서드를 추가\n",
    "기능: 상속을 통해 기존 클래스의 기능을 확장\n",
    "class명: Rectangle, Square(Rectangel)\n",
    "function명: area\n",
    "정사각형 면적: 25\n",
    "\"\"\"\n",
    "# class Rectangle:\n",
    "#   def __init__(self, name):\n",
    "#     self.name = name\n",
    "# class Square(Rectangle):\n",
    "#   def __init__(self, name):\n",
    "#     super().__init__(name)\n",
    "#     self.size = 0\n",
    "#   def calc_area(self, width, height):\n",
    "#     self.size = width * height\n",
    "#   def area(self):\n",
    "#     return (f\"{self.name} 면적: {self.size}\")\n",
    "\n",
    "# square1 = Square(\"Square1\")\n",
    "# square1.calc_area(5, 5)\n",
    "# print(square1.area())\n",
    "\n",
    "\n",
    "class Rectangle:\n",
    "  def __init__(self, width, height):\n",
    "    self.width = width\n",
    "    self.height = height\n",
    "  def area(self):\n",
    "    return self.width * self.height\n",
    "class Square(Rectangle):\n",
    "  def __init__(self, side):\n",
    "    super().__init__(side, side)\n",
    "\n",
    "square1 = Square(5)\n",
    "print(f\"정사각형 면적: {square1.area()}\")\n"
   ]
  }
 ],
 "metadata": {
  "kernelspec": {
   "display_name": "Python 3",
   "language": "python",
   "name": "python3"
  },
  "language_info": {
   "codemirror_mode": {
    "name": "ipython",
    "version": 3
   },
   "file_extension": ".py",
   "mimetype": "text/x-python",
   "name": "python",
   "nbconvert_exporter": "python",
   "pygments_lexer": "ipython3",
   "version": "3.12.9"
  }
 },
 "nbformat": 4,
 "nbformat_minor": 2
}
