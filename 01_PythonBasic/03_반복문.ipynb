{
 "cells": [
  {
   "cell_type": "markdown",
   "metadata": {},
   "source": [
    "# 3. 반복문"
   ]
  },
  {
   "cell_type": "code",
   "execution_count": 1,
   "metadata": {},
   "outputs": [
    {
     "name": "stdout",
     "output_type": "stream",
     "text": [
      "appleapple\n",
      "bananabanana\n",
      "cherrycherry\n",
      "apple\n"
     ]
    }
   ],
   "source": [
    "# iterable 반복 순회\n",
    "# 순회 가능한 객체의 리스트에서 순차적으로 데이터를 가져옴\n",
    "# loop01.py\n",
    "a = 10 # 실제값\n",
    "fruits = [\"apple\", \"banana\", \"cherry\"] # 주소값\n",
    "for f in fruits:\n",
    "  print(f)\n",
    "print(fruits[0])"
   ]
  },
  {
   "cell_type": "code",
   "execution_count": 4,
   "metadata": {},
   "outputs": [
    {
     "name": "stdout",
     "output_type": "stream",
     "text": [
      "1\n",
      "2\n",
      "3\n",
      "4\n",
      "5\n"
     ]
    }
   ],
   "source": [
    "# 구간 반복 순회\n",
    "# loop02.py\n",
    "for i in range(1,6): \n",
    "  print(i)\n",
    "# range\n",
    "# 규칙1: 내장함수임, range(start, stop, step) 형식으로 사용\n",
    "# 규칙2: 마지막 숫자는 빠짐 / i=1,2,3,4,5"
   ]
  },
  {
   "cell_type": "code",
   "execution_count": 7,
   "metadata": {},
   "outputs": [
    {
     "name": "stdout",
     "output_type": "stream",
     "text": [
      "1\n",
      "2\n",
      "3\n",
      "4\n",
      "5\n"
     ]
    }
   ],
   "source": [
    "# while 문\n",
    "# 주어진 조건이 True인 동안 계속해서 반복, false일 때 반복 종료\n",
    "# loop03.py\n",
    "count = 1\n",
    "while count <= 5:\n",
    "  print(count)\n",
    "  count = count + 1 # 누적"
   ]
  },
  {
   "cell_type": "code",
   "execution_count": 12,
   "metadata": {},
   "outputs": [
    {
     "name": "stdout",
     "output_type": "stream",
     "text": [
      "1\n",
      "2\n",
      "3\n",
      "4\n",
      "5\n"
     ]
    }
   ],
   "source": [
    "# break, continue\n",
    "# break - 반복문을 종료\n",
    "# loop04\n",
    "for i in range(1,11):\n",
    "  print(i)\n",
    "  if i == 5:\n",
    "    break"
   ]
  },
  {
   "cell_type": "code",
   "execution_count": 13,
   "metadata": {},
   "outputs": [
    {
     "name": "stdout",
     "output_type": "stream",
     "text": [
      "1\n",
      "2\n",
      "4\n",
      "5\n"
     ]
    }
   ],
   "source": [
    "# break, continue\n",
    "# continue - 현재 반복을 건너뛰고, 다음 반복으로 넘어감\n",
    "# loop05\n",
    "for i in range(1,6):\n",
    "  if i == 3:\n",
    "    continue\n",
    "  print(i)"
   ]
  },
  {
   "cell_type": "code",
   "execution_count": 23,
   "metadata": {},
   "outputs": [
    {
     "name": "stdout",
     "output_type": "stream",
     "text": [
      "i = 1, j = 1\n",
      "i = 1, j = 2\n",
      "i = 1, j = 3\n",
      "i = 2, j = 1\n",
      "i = 2, j = 2\n",
      "i = 2, j = 3\n",
      "i = 3, j = 1\n",
      "i = 3, j = 2\n",
      "i = 3, j = 3\n"
     ]
    }
   ],
   "source": [
    "# 중첩 반복문 (Nested loops)\n",
    "# 반복문 안에 또 다른 반복문을 넣을 수 있음, 2차원 이상의 데이터를 다룰 때 유용용\n",
    "# loop06\n",
    "for i in range(1,4):\n",
    "  for j in range(1,4):\n",
    "    print(f\"i = {i}, j = {j}\")"
   ]
  }
 ],
 "metadata": {
  "kernelspec": {
   "display_name": "Python 3",
   "language": "python",
   "name": "python3"
  },
  "language_info": {
   "codemirror_mode": {
    "name": "ipython",
    "version": 3
   },
   "file_extension": ".py",
   "mimetype": "text/x-python",
   "name": "python",
   "nbconvert_exporter": "python",
   "pygments_lexer": "ipython3",
   "version": "3.12.9"
  }
 },
 "nbformat": 4,
 "nbformat_minor": 2
}
