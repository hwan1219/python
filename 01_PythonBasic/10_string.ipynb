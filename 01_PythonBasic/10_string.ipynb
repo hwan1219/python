{
 "cells": [
  {
   "cell_type": "markdown",
   "metadata": {},
   "source": [
    "# 10. string"
   ]
  },
  {
   "cell_type": "code",
   "execution_count": 8,
   "metadata": {},
   "outputs": [],
   "source": [
    "# string\n",
    "# 정의 - 문자들의 집합으로, ' or \" 로 감싸서 표현 / ex) 'Hello', \"python\"\n",
    "# 자료형 - python 에서 문자열은 str 타입\n",
    "# 불변성 - 문자열은 immutable(불변) 자료형이기 때문에 한 번 생성되면 수정 불가\n",
    "# 인덱싱 - 문자열의 각 문자는 인덱스를 통해 접근, 인덱스는 0부터 시작, 음수 인덱스 가능\n",
    "# 슬라이싱 - 문자열 일부를 잘라내는 데 사용, 문자열 [start:end:step] 형태로 사용\n",
    "# 연산 - +(문자열 결합), *(반복), in(포함 여부 확인) 등 다양한 연산 가능\n",
    "# 주요 메서드 - lower(), upper(), strip(), replace(), split(), find(), count(), ..."
   ]
  },
  {
   "cell_type": "code",
   "execution_count": 19,
   "metadata": {},
   "outputs": [
    {
     "name": "stdout",
     "output_type": "stream",
     "text": [
      "홍길동\n",
      "의적\n",
      "이 사람은 전설의 의적이다.\n",
      "이 사람은 전설의 의적이다.\n",
      "홍\n",
      "길\n",
      "동\n",
      "길동\n",
      "홍길\n",
      "홍동\n",
      "안녕하세요.\n",
      "저는 \"홍길동\"입니다.\n",
      "탭\t탭\t탭\n",
      "백슬래시: \\\n",
      "당신의 성은: 김\n",
      "7\n",
      "앞부분: 파이썬은 정말\n",
      "뒷부분:  재미있어요!\n",
      "필터링 결과: 너는 **, 나는 **\n"
     ]
    }
   ],
   "source": [
    "# string01.py\n",
    "# 문자열 기본\n",
    "# 문자열 생성, 인덱싱, 슬라이싱, 이스케이프 문자\n",
    "name = \"홍길동\"\n",
    "job = \"의적\"\n",
    "description = \"\"\"이 사람은 전설의 의적이다.\"\"\"\n",
    "description2 = '''이 사람은 전설의 의적이다.'''\n",
    "print(name)\n",
    "print(job)\n",
    "print(description)\n",
    "print(description2)\n",
    "\n",
    "print(name[0])\n",
    "print(name[1])\n",
    "print(name[-1])\n",
    "\n",
    "print(name[1:])\n",
    "print(name[:2])\n",
    "print(name[::2])\n",
    "\n",
    "# Escape Character(탈출 문자)\n",
    "# \\n: newline(줄바꿈)\n",
    "# \\t: tab(여러 스페이스 띄우기)\n",
    "# \\\\: 백슬래시(\\) 자체를 출력\n",
    "# \\\": 큰따옴표 문자 자체를 출력\n",
    "print(\"안녕하세요.\\n저는 \\\"홍길동\\\"입니다.\")\n",
    "print(\"탭\\t탭\\t탭\")\n",
    "print(\"백슬래시: \\\\\")\n",
    "\n",
    "# full_name = input(\"이름을 입력하세요 (예: 김철수)\")\n",
    "full_name = \"김철수\"\n",
    "last_name = full_name[0]\n",
    "print(\"당신의 성은:\", last_name)\n",
    "\n",
    "text = \"파이썬은 정말 재미있어요!\"\n",
    "half = len(text) // 2\n",
    "# / : 소수점까지 나옴 >> 실수(float) 결과\n",
    "# // : 소수점 버림 >> 정수(int) 결과 (몫만 남김)\n",
    "print(half)\n",
    "print(\"앞부분:\", text[:half])\n",
    "print(\"뒷부분:\", text[half:])\n"
   ]
  },
  {
   "cell_type": "code",
   "execution_count": 22,
   "metadata": {},
   "outputs": [
    {
     "name": "stdout",
     "output_type": "stream",
     "text": [
      "원본:     Hello Python!    \n",
      "소문자:     hello python!    \n",
      "대문자:     HELLO PYTHON!    \n",
      "공백 제거: Hello Python!\n",
      "치환:     Hello World!    \n",
      "입력 전:     파이썬 최고    \n",
      "입력 전: 파이썬최고\n",
      "필터링 결과: 너는 **, 나는 ***\n"
     ]
    }
   ],
   "source": [
    "# string02.py\n",
    "# 문자열 메서드 1\n",
    "# lower() - 모든 문자를 소문자로 변환 / ex) 'HeLLo'.lower() >> 'hello'\n",
    "# upper() - 모든 문자를 대문자로 변환 / ex) 'Hello'.upper() >> 'HELLO'\n",
    "# strip() - 양쪽 공백 제거 / ex) ' hello '.strip() >> 'hello'\n",
    "# replace() - 문자열 일부 변경 / ex) 'Hi!'.replace('Hi', 'Hello') >> 'Hello'\n",
    "text = '    Hello Python!    '\n",
    "print('원본:', text)\n",
    "print('소문자:', text.lower())\n",
    "print('대문자:', text.upper())\n",
    "print('공백 제거:', text.strip())\n",
    "print('치환:', text.replace('Python', 'World'))\n",
    "\n",
    "user_input = \"    파이썬 최고    \"\n",
    "cleaned = user_input.strip().replace(\" \", \"\")\n",
    "print(\"입력 전:\", user_input)\n",
    "print(\"입력 전:\", cleaned)\n",
    "\n",
    "bad_words = [\"바보\", \"멍청이\"]\n",
    "comment = \"너는 바보, 나는 멍청이\"\n",
    "for word in bad_words:\n",
    "  if word in comment:\n",
    "    stars = \"*\" * len(word)\n",
    "    comment = comment.replace(word, stars)\n",
    "print(\"필터링 결과:\", comment)"
   ]
  },
  {
   "cell_type": "code",
   "execution_count": 28,
   "metadata": {},
   "outputs": [
    {
     "name": "stdout",
     "output_type": "stream",
     "text": [
      "단어 목록: ['파이썬은', '정말', '재미있는', '언어입니다.']\n",
      "합쳐진 문장: 파이썬은  /  정말  /  재미있는  /  언어입니다.\n",
      "첫 번째 '사과' 위치: 0\n",
      "두 번째 '사과' 위치: 9\n",
      "'사과'의 개수: 2\n",
      "도메인: example.com\n",
      "'파이썬은' 단어의 개수: 2\n"
     ]
    }
   ],
   "source": [
    "# string03.py\n",
    "# 문자열 메서드 2\n",
    "# split() - 구분자로 문자열 나누기 / ex) 'A B C'.split() >> ['A', 'B', 'C']\n",
    "# join() - 리스트를 문자열로 합치기 / ex) ' '.join(['A', 'B']) >> 'A B'\n",
    "# find() - 특정 문자열의 인덱스 찾기 / ex) 'Hello'.find('e') >> 1\n",
    "# count() - 특정 문자열 개수 세기 / ex) 'banana'.count('a') >> 3\n",
    "sentence = \"파이썬은 정말 재미있는 언어입니다.\"\n",
    "words = sentence.split()\n",
    "print(\"단어 목록:\", words)\n",
    "new_sentence = \"  /  \".join(words)\n",
    "print(\"합쳐진 문장:\", new_sentence)\n",
    "\n",
    "text = \"사과는 맛있고, 사과는 건강에도 좋아요.\"\n",
    "print(\"첫 번째 '사과' 위치:\", text.find(\"사과\"))\n",
    "print(\"두 번째 '사과' 위치:\", text.find(\"사과\", 5))\n",
    "# 5 - 검색을 시작할 위치(인덱스 번호)를 지정한다는 뜻\n",
    "# 즉, text에 첫번째 사과는 인덱스 0,1에 위치하고 있으므로 5를 넣게되면 2, 3, 4에 사과가 있더라도 찾지 못함\n",
    "print(\"'사과'의 개수:\", text.count(\"사과\"))\n",
    "\n",
    "email = \"user@example.com\"\n",
    "domain = email.split(\"@\")[1]\n",
    "print(\"도메인:\", domain)\n",
    "\n",
    "text = \"파이썬은 쉽고 파이썬은 강력하고 파이썬은 인기 있어요!\"\n",
    "words = text.split()\n",
    "count = words.count(\"파이썬은\")\n",
    "print(\"'파이썬은' 단어의 개수:\", count)"
   ]
  },
  {
   "cell_type": "code",
   "execution_count": 5,
   "metadata": {},
   "outputs": [
    {
     "name": "stdout",
     "output_type": "stream",
     "text": [
      "홍길동님의 나이는 30세입니다.\n",
      "홍길도님의 나이는 30세입니다.\n",
      "30세인 홍길동님\n",
      "홍길동님의 나이는 30세입니다.\n"
     ]
    }
   ],
   "source": [
    "# string04.py\n",
    "# 문자열 포맷팅\n",
    "# f-stirng - f\"{name}님\" / 가독성이 뛰어나고 가장 최신\n",
    "# format() - \"{}님\".format(name) / 순서 지정 가능\n",
    "# % 포맷 - \"%s님\" % name / 오래된 방식이지만 여전히 사용됨\n",
    "\n",
    "# 방법1: f-string\n",
    "name = \"홍길동\"\n",
    "age = 30\n",
    "print(f\"{name}님의 나이는 {age}세입니다.\")\n",
    "\n",
    "# 방법2: format() 함수\n",
    "template = \"{}님의 나이는 {}세입니다.\"\n",
    "print(template.format(\"홍길도\", 30))\n",
    "print(\"{1}세인 {0}님\".format(\"홍길동\", 30))\n",
    "\n",
    "# 방법3: % 포맷\n",
    "# %s: string\n",
    "# %d: decimal(10진수)\n",
    "name = \"홍길동\"\n",
    "age = 30\n",
    "print(\"%s님의 나이는 %d세입니다.\" %(name, age))"
   ]
  },
  {
   "cell_type": "code",
   "execution_count": 6,
   "metadata": {},
   "outputs": [
    {
     "name": "stdout",
     "output_type": "stream",
     "text": [
      "\n",
      "제목: 일일 업무 보고\n",
      "작성자: 김철수\n",
      "내용:\n",
      "고객 미팅 진행 및 회의록 작성\n",
      "\n"
     ]
    }
   ],
   "source": [
    "# 실습 예제 1: 자동 보고서 만들기\n",
    "\"\"\"\n",
    "제목: 일일 업무 보고\n",
    "작성자: 김철수\n",
    "내용:\n",
    "고객 미팅 진행 및 회의록 작성\n",
    "\"\"\"\n",
    "title = \"일일 업무 보고\"\n",
    "name = \"김철수\"\n",
    "content = \"고객 미팅 진행 및 회의록 작성\"\n",
    "\n",
    "report = f\"\"\"\n",
    "제목: {title}\n",
    "작성자: {name}\n",
    "내용:\n",
    "{content}\n",
    "\"\"\"\n",
    "print(report)"
   ]
  },
  {
   "cell_type": "code",
   "execution_count": 7,
   "metadata": {},
   "outputs": [
    {
     "name": "stdout",
     "output_type": "stream",
     "text": [
      "커피         |   2500원\n"
     ]
    }
   ],
   "source": [
    "# 실습 예제 2: 가격표 출력\n",
    "item = \"커피\"\n",
    "price = 2500\n",
    "print(\"{0:<10} | {1:>6}원\".format(item, price))"
   ]
  },
  {
   "cell_type": "code",
   "execution_count": 9,
   "metadata": {},
   "outputs": [
    {
     "name": "stdout",
     "output_type": "stream",
     "text": [
      "맛있겠네요!\n",
      "워드 파일입니다.\n",
      "보고서 파일입니다.\n"
     ]
    }
   ],
   "source": [
    "# string05.py\n",
    "# 문자열과 조건문\n",
    "# \"단어\" in 문자열, startswith(), endswith()\n",
    "\n",
    "# 포함 여부 - \"단어\" in 문자열 / ex) \"안녕\" in \"안녕하세요\" = True\n",
    "# 시작 여부 - startswith() / ex) \"hello\".startswith(\"he\")\n",
    "# 끝 여부 - endswith() / ex) \"test.txt\".endswith(\".txt\")\n",
    "\n",
    "# 조건문에서 포함 여부 활용\n",
    "msg = \"오늘 점심은 돈가스입니다.\"\n",
    "if \"돈가스\" in msg:\n",
    "  print(\"맛있겠네요!\")\n",
    "else:\n",
    "  print(\"뭐 먹지?\")\n",
    "\n",
    "# 시작/끝 검사 메서드\n",
    "filename = \"보고서_2025년 4월.docx\"\n",
    "if filename.endswith(\".docx\"):\n",
    "  print(\"워드 파일입니다.\")\n",
    "if filename.startswith(\"보고서\"):\n",
    "  print(\"보고서 파일입니다.\")"
   ]
  }
 ],
 "metadata": {
  "kernelspec": {
   "display_name": "Python 3",
   "language": "python",
   "name": "python3"
  },
  "language_info": {
   "codemirror_mode": {
    "name": "ipython",
    "version": 3
   },
   "file_extension": ".py",
   "mimetype": "text/x-python",
   "name": "python",
   "nbconvert_exporter": "python",
   "pygments_lexer": "ipython3",
   "version": "3.12.9"
  }
 },
 "nbformat": 4,
 "nbformat_minor": 2
}
