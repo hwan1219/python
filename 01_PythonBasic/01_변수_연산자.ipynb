{
 "cells": [
  {
   "cell_type": "markdown",
   "metadata": {},
   "source": [
    "# 1. 변수(var)"
   ]
  },
  {
   "cell_type": "code",
   "execution_count": 5,
   "metadata": {},
   "outputs": [],
   "source": [
    "# 변수: 값이 변경\n",
    "# x=5: 수학\n",
    "# 컴퓨터- 숫자 5를 x라는 변수에 저장\n",
    "\n",
    "# int - 정수\n",
    "# float - 실수\n",
    "# str - 문자열\n",
    "# bool - 불리언(true or false)"
   ]
  },
  {
   "cell_type": "code",
   "execution_count": 6,
   "metadata": {},
   "outputs": [
    {
     "name": "stdout",
     "output_type": "stream",
     "text": [
      "5\n",
      "3.14\n",
      "Python\n"
     ]
    }
   ],
   "source": [
    "# var01.py\n",
    "x=5 # 정수형 변수\n",
    "y=3.14 # 실수형 변수\n",
    "name = \"Python\" # 문자열 변수\n",
    "print(x) # 출력: 5\n",
    "print(y) # 출력: 3.14\n",
    "print(name) # 출력: Python"
   ]
  },
  {
   "cell_type": "code",
   "execution_count": 7,
   "metadata": {},
   "outputs": [
    {
     "name": "stdout",
     "output_type": "stream",
     "text": [
      "<class 'int'>\n",
      "<class 'float'>\n",
      "<class 'str'>\n",
      "<class 'bool'>\n"
     ]
    }
   ],
   "source": [
    "# var02.py\n",
    "a = 42 # int\n",
    "b = 3.14159 # float\n",
    "c = \"Hello\" # str\n",
    "d = True # bool\n",
    "\n",
    "# 각 데이터 타입 출력\n",
    "print(type(a)) # <class 'int'>\n",
    "print(type(b)) # <class 'float'>\n",
    "print(type(c)) # <class 'str'>\n",
    "print(type(d)) # <class 'bool'>"
   ]
  },
  {
   "cell_type": "code",
   "execution_count": 8,
   "metadata": {},
   "outputs": [
    {
     "name": "stdout",
     "output_type": "stream",
     "text": [
      "10.0\n",
      "123\n",
      "100\n",
      "<class 'str'>\n",
      "9.8596\n"
     ]
    }
   ],
   "source": [
    "# var03.py\n",
    "# 정수 -> 실수로 변환\n",
    "a = 10\n",
    "b = float(a) # b는 이제 실수형\n",
    "print(b) # 출력: 10.0\n",
    "\n",
    "# 문자열 -> 정수로 변환\n",
    "s = \"123\"\n",
    "num = int(s) #num은 이제 정수형\n",
    "print(num) # 출력: 123\n",
    "\n",
    "#정수에서 문자열로 변환\n",
    "x = 100\n",
    "str_x = str(x) # 출력: \"100\"\n",
    "print(str_x)\n",
    "print(type(str_x))\n",
    "\n",
    "# 문자열에서 실수로 변환\n",
    "y = \"3.14\"\n",
    "yf = float(y) # 출력: 9.8596\n",
    "print(yf**2)"
   ]
  },
  {
   "cell_type": "markdown",
   "metadata": {},
   "source": [
    "## 2. 연산자(op)"
   ]
  },
  {
   "cell_type": "code",
   "execution_count": 4,
   "metadata": {},
   "outputs": [
    {
     "name": "stdout",
     "output_type": "stream",
     "text": [
      "3.33\n",
      "3\n",
      "1\n",
      "1000\n"
     ]
    }
   ],
   "source": [
    "# op01.py\n",
    "# 산술 연산자 (Arithmetic Operators)\n",
    "a = 10\n",
    "b = 3\n",
    "print(round(a/b,2)) # 출력: 3.33\n",
    "print(a//b) # 출력: 3\n",
    "print(a%b) # 출력: 1\n",
    "print(a**b) # 출력: 1000"
   ]
  },
  {
   "cell_type": "code",
   "execution_count": 3,
   "metadata": {},
   "outputs": [
    {
     "name": "stdout",
     "output_type": "stream",
     "text": [
      "False\n",
      "True\n",
      "False\n",
      "True\n",
      "False\n",
      "True\n"
     ]
    }
   ],
   "source": [
    "# op02.py\n",
    "# 비교 연산자 (Comparison Operators)\n",
    "\"\"\"\n",
    "== : 같음\n",
    "!= : 다름\n",
    ">  : 크다\n",
    "<  : 작다\n",
    ">= : 크거나 같음\n",
    "<= : 작거나 같음\n",
    "\"\"\"\n",
    "x = 5\n",
    "y = 10\n",
    "print(x == y) # 출력: False\n",
    "print(x != y) # 출력: True\n",
    "print(x > y) # 출력: False\n",
    "print(x < y) # 출력: True\n",
    "print(x >= y) # 출력: False\n",
    "print(x <= y) # 출력: True"
   ]
  },
  {
   "cell_type": "code",
   "execution_count": 1,
   "metadata": {},
   "outputs": [
    {
     "name": "stdout",
     "output_type": "stream",
     "text": [
      "False\n",
      "True\n",
      "False\n",
      "True\n"
     ]
    }
   ],
   "source": [
    "# op03.py\n",
    "# 논리 연산자 (Logical Operators)\n",
    "\"\"\"\n",
    "1 - True / 0 - False\n",
    "\n",
    "and 연산\n",
    "- (예 : 서류심사 통과 [이력서, 자기소개서 모두 구비된 경우 합격])\n",
    "- 두 조건이 모두 True라면 True 반환\n",
    "    1010\n",
    "    1100\n",
    "    ----\n",
    "    1000\n",
    "\n",
    "or 연산\n",
    "- (예 : 증명서 첨부 [재직증명서, 경력 증명서 중에 하나만 있어도 합격])\n",
    "- 두 조건 중 하나라도 True라면 True 반환\n",
    "    1010\n",
    "    1100\n",
    "    ----\n",
    "    1110\n",
    "\n",
    "not 연산\n",
    "- (예 : ?)\n",
    "- 조건을 반전시킴 True는 False로, False는 True로\n",
    "    1010\n",
    "    ----\n",
    "    0101\n",
    "\"\"\"\n",
    "a = True\n",
    "b = False\n",
    "print(a and b) # 출력: False\n",
    "print(a or b) # 출력: True\n",
    "print(not a) # 출력: False\n",
    "print(not b) # 출력: True"
   ]
  },
  {
   "cell_type": "code",
   "execution_count": 39,
   "metadata": {},
   "outputs": [
    {
     "name": "stdout",
     "output_type": "stream",
     "text": [
      "15\n",
      "12\n",
      "48\n",
      "19.2\n",
      "6.0\n",
      "0.40000000000000036\n",
      "0.06400000000000017\n"
     ]
    }
   ],
   "source": [
    "# op04.py\n",
    "# 대입 연산자 (Assignment Operators)\n",
    "\"\"\"\n",
    "= : 변수에 값을 할당\n",
    "+= : 변수에 값을 더한 후 할당\n",
    "-= : 변수에 값을 뺀 후할당\n",
    "*= : 변수에 값을 곱한 후 할당\n",
    "/= : 변수에 값을 나눈 후 float(실수)으로 할당\n",
    "//= : 변수에 값을 같은 나눈 후 int(정수)로 할당\n",
    "%= : 변수에 값을 나눈 나머지를 할당\n",
    "**= : 변수에 값을 거듭제곱한 후 할당\n",
    "\"\"\"\n",
    "x = 10\n",
    "x += 5\n",
    "print(x) # 출력: 15\n",
    "\n",
    "x -= 3\n",
    "print(x) # 출력: 12\n",
    "\n",
    "x *= 4\n",
    "print(x) # 출력: 48\n",
    "\n",
    "x /= 2.5\n",
    "print(x) # 출력: 19.2\n",
    "\n",
    "x //= 3\n",
    "print(x) # 출력: 6, // floor division [소수점 없이 \"내림한 정수\"]\n",
    "\n",
    "x %= 1.4\n",
    "print(x) # 출력: 0.40000000000000036\n",
    "\n",
    "x **= 3\n",
    "print(x) # 출력: 0.06400000000000017"
   ]
  },
  {
   "cell_type": "code",
   "execution_count": 34,
   "metadata": {},
   "outputs": [
    {
     "name": "stdout",
     "output_type": "stream",
     "text": [
      "True\n",
      "False\n"
     ]
    }
   ],
   "source": [
    "# op05.py\n",
    "# 멤버십 연산자 (Membership Operators)\n",
    "\"\"\"\n",
    "a = 5\n",
    "a = 5, 10, 15, 30 : 수학에선 가능, 컴퓨터에선 불가능\n",
    "a = [5, 10, 15, 30] : 저장된 내용이 순차적 위치를 지정(주소값)\n",
    "\"\"\"\n",
    "fruits = [\"apple\", 'banana', 'cherry']\n",
    "print(\"apple\" in fruits) # 출력: True\n",
    "print(\"apple\" not in fruits) # 출력: False"
   ]
  },
  {
   "cell_type": "code",
   "execution_count": 40,
   "metadata": {},
   "outputs": [
    {
     "name": "stdout",
     "output_type": "stream",
     "text": [
      "False\n",
      "True\n"
     ]
    }
   ],
   "source": [
    "# op06.py\n",
    "# 식별 연산자 (Identitiy Operators, 비교)\n",
    "# 객체 비교(a, b, c)\n",
    "a = [1, 2, 3]\n",
    "b = [1, 2, 3]\n",
    "print(a is b) # 출력: False - 다른 객체이지만 값은 동일\n",
    "print(a is not b) # 출력: True\n",
    "c = a\n",
    "print(a is c) # 출력: True - 같은 객체를 참조"
   ]
  }
 ],
 "metadata": {
  "kernelspec": {
   "display_name": "Python 3",
   "language": "python",
   "name": "python3"
  },
  "language_info": {
   "codemirror_mode": {
    "name": "ipython",
    "version": 3
   },
   "file_extension": ".py",
   "mimetype": "text/x-python",
   "name": "python",
   "nbconvert_exporter": "python",
   "pygments_lexer": "ipython3",
   "version": "3.12.9"
  }
 },
 "nbformat": 4,
 "nbformat_minor": 2
}
