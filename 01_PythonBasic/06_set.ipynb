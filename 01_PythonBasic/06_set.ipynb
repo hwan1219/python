{
 "cells": [
  {
   "cell_type": "markdown",
   "metadata": {},
   "source": [
    "# 6. set"
   ]
  },
  {
   "cell_type": "code",
   "execution_count": null,
   "metadata": {},
   "outputs": [],
   "source": [
    "# Set\n",
    "# {v1, v2, v3, ...}\n",
    "# 집합, 저장의 뜻, 그 중에서 현재 여기는 집합\n",
    "# 순서X, 중복X, (수정, 추가, 삭제) 가능\n",
    "# 합/교/차집합 가능"
   ]
  },
  {
   "cell_type": "code",
   "execution_count": 1,
   "metadata": {},
   "outputs": [
    {
     "name": "stdout",
     "output_type": "stream",
     "text": [
      "{'cherry', 'apple', 'banana'}\n"
     ]
    }
   ],
   "source": [
    "# set01.py\n",
    "# set 선언\n",
    "# set_name = {value1, value2, value3, ...}\n",
    "# 또는\n",
    "# set_name = set([value1, value2, value3, ...])\n",
    "# 리스트나 다른 반복 가능한 객체에서 set를 생성\n",
    "fruits = {\"apple\", \"banana\", \"cherry\"}\n",
    "print(fruits) # 출력: {'cherry', 'apple', 'banana'}"
   ]
  },
  {
   "cell_type": "code",
   "execution_count": 2,
   "metadata": {},
   "outputs": [
    {
     "name": "stdout",
     "output_type": "stream",
     "text": [
      "{'cherry', 'banana', 'apple'}\n"
     ]
    }
   ],
   "source": [
    "# set02.py\n",
    "# 중복된 값 자동으로 제거\n",
    "fruits = {\"apple\", \"banana\", \"cherry\", \"apple\"}\n",
    "print(fruits) # 출력: {'cherry', 'banana', 'apple'}"
   ]
  },
  {
   "cell_type": "code",
   "execution_count": 3,
   "metadata": {},
   "outputs": [
    {
     "name": "stdout",
     "output_type": "stream",
     "text": [
      "cherry\n",
      "banana\n",
      "apple\n"
     ]
    }
   ],
   "source": [
    "# set03.py\n",
    "# 순서가 없기 때문에 인덱스를 사용하며 접근할 수 없음, 반복문을 사용\n",
    "fruits = {\"apple\", \"banana\", \"cherry\"}\n",
    "for fruit in fruits:\n",
    "  print(fruit)"
   ]
  },
  {
   "cell_type": "code",
   "execution_count": null,
   "metadata": {},
   "outputs": [],
   "source": [
    "# set04.py\n",
    "# set의 집합 연산\n",
    "# 합집합(Union), 교집합(Intersection), 차집합(Difference)\n",
    "set1 = {1, 2, 3, 4}\n",
    "set2 = {3, 4, 5, 6}\n",
    "\n",
    "# 합집합\n",
    "union_set = set1 | set2\n",
    "print(union_set) # 출력: {1, 2, 3, 4, 5, 6}\n",
    "\n",
    "# 교집합\n",
    "intersection_set = set1 & set2\n",
    "print(intersection_set) # 출력: {3, 4}\n",
    "\n",
    "# 차집합\n",
    "difference_set = set1 - set2\n",
    "print(difference_set) # 출력: {1, 2}\n",
    "# 대칭 차집합 (Symmetric Difference)"
   ]
  },
  {
   "cell_type": "code",
   "execution_count": 17,
   "metadata": {},
   "outputs": [
    {
     "name": "stdout",
     "output_type": "stream",
     "text": [
      "{'cherry', 'banana', 'apple'}\n",
      "{'cherry', 'apple'}\n",
      "{'cherry', 'apple'}\n",
      "cherry\n",
      "{'apple'}\n",
      "set()\n"
     ]
    }
   ],
   "source": [
    "# set05.py\n",
    "# set의 주요 method\n",
    "# add(): set에 요소를 추가\n",
    "# remove(): set에서 요소를 제거, 요소가 존재하지 않을 시 keyError 발생\n",
    "# discard(): set에서 요소를 제거, 요소가 존재하지 않아도 오류 발생X\n",
    "# pop(): set에서 임의의 요소를 제거하고 반환\n",
    "# clear(): 세트의 모든 요소를 제거\n",
    "# len(): 세트의 요소 개수를 반환\n",
    "\n",
    "# add()\n",
    "fruits = {\"apple\", \"banana\"}\n",
    "fruits.add(\"cherry\")\n",
    "print(fruits) # 출력: {'cherry', 'banana', 'apple'}\n",
    "\n",
    "# remove()\n",
    "fruits.remove(\"banana\")\n",
    "print(fruits) # 출력: {'cherry', 'apple'}\n",
    "\n",
    "# discard() - 없는 요소를 제거해도 오류 발생X\n",
    "fruits.discard(\"grape\")\n",
    "print(fruits) # 출력: {'cherry', 'apple'}\n",
    "\n",
    "# pop()\n",
    "removed_item = fruits.pop()\n",
    "print(removed_item) # 출력 cherry (임의로 선택된 요소)\n",
    "print(fruits) # 출력: {'apple'}\n",
    "\n",
    "# clear()\n",
    "fruits.clear()\n",
    "print(fruits) # 출력: set()"
   ]
  }
 ],
 "metadata": {
  "kernelspec": {
   "display_name": "Python 3",
   "language": "python",
   "name": "python3"
  },
  "language_info": {
   "codemirror_mode": {
    "name": "ipython",
    "version": 3
   },
   "file_extension": ".py",
   "mimetype": "text/x-python",
   "name": "python",
   "nbconvert_exporter": "python",
   "pygments_lexer": "ipython3",
   "version": "3.12.9"
  }
 },
 "nbformat": 4,
 "nbformat_minor": 2
}
