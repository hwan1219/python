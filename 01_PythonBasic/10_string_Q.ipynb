{
 "cells": [
  {
   "cell_type": "code",
   "execution_count": 6,
   "metadata": {},
   "outputs": [
    {
     "name": "stdout",
     "output_type": "stream",
     "text": [
      "너는 정말 ** 같고 ***야!\n"
     ]
    }
   ],
   "source": [
    "# Q1\n",
    "\"\"\"\n",
    "- 금지어 필터링\n",
    "설명: 사용자 입력 문장에서 금지어를 찾아 *로 대체하는 필터링 시스템을 구현\n",
    "금지어 리스트: 바보, 멍청이\n",
    "원본 문장: 너는 정말 바보 같고 멍청이야!\n",
    "필터링된 문장: 너는 정말 ** 같고 ***야!\n",
    "금지어 필터링 함수: def filter_bad_words(text)\n",
    "\"\"\"\n",
    "bad_words = ['바보', '멍청이']\n",
    "user_input = \"너는 정말 바보 같고 멍청이야!\"\n",
    "def filter_bad_words(text):\n",
    "  for word in bad_words:\n",
    "    stars = \"*\" * len(word)\n",
    "    text = text.replace(word, stars)\n",
    "  return text\n",
    "      \n",
    "print(filter_bad_words(user_input))"
   ]
  },
  {
   "cell_type": "code",
   "execution_count": 9,
   "metadata": {},
   "outputs": [
    {
     "name": "stdout",
     "output_type": "stream",
     "text": [
      "(2, 0)\n",
      "나는 오늘 정말 행복하고 감사한 하루를 보냈어.\n",
      "긍정 단어수: 2\n",
      "부정 단어수: 0\n"
     ]
    }
   ],
   "source": [
    "# Q2\n",
    "\"\"\"\n",
    "- 간단한 감성 단어 카운터\n",
    "설명: 긍정/부정 키워드 등장 횟수로 감정을 판별하는 프로그램\n",
    "문장: 나는 오늘 정말 행복하고 감사한 하루를 보냈어.\n",
    "긍정 단어 수: 2\n",
    "부정 단어 수: 0\n",
    "긍정 키워드: 좋아, 행복, 기쁨, 감사\n",
    "부정 키워드: 싫어, 화나, 우울, 짜증\n",
    "def sentiment_counter(text)\n",
    "\"\"\"\n",
    "pos_words = ['좋아', '행복', '기쁨', '감사']\n",
    "neg_words = ['싫어', '화나', '우울', '짜증']\n",
    "\n",
    "sentence = \"나는 오늘 정말 행복하고 감사한 하루를 보냈어.\"\n",
    "\n",
    "def sentiment_counter(text):\n",
    "  pos = sum(word in text for word in pos_words)\n",
    "  neg = sum(word in text for word in neg_words)\n",
    "  return pos, neg\n",
    "\n",
    "pos_count, neg_count = sentiment_counter(sentence)\n",
    "print(sentence)\n",
    "print(\"긍정 단어수:\", pos_count)\n",
    "print(\"부정 단어수:\", neg_count)\n"
   ]
  },
  {
   "cell_type": "code",
   "execution_count": 21,
   "metadata": {},
   "outputs": [
    {
     "name": "stdout",
     "output_type": "stream",
     "text": [
      "['안녕하세요! 무엇을 도와드릴까요?', '별 말씀을요!', '안녕히 가세요~']\n",
      "안녕하세요! 무엇을 도와드릴까요?\n",
      "별 말씀을요!\n",
      "안녕히 가세요~\n"
     ]
    }
   ],
   "source": [
    "# Q3\n",
    "\"\"\"\n",
    "- 챗봇용 기본 응답 분류기\n",
    "설명: 사용자의 입력을 분석하여 간단한 반응을 출력하는 챗봇\n",
    "문장에 각 단어가 있으면 정해진 값을 출력\n",
    "안녕 >> 안녕하세요! 무엇을 도와드릴까요?\n",
    "고마워 >> 별 말씀을요!\n",
    "잘가 >> 안녕히 가세요~\n",
    "def chatbot_reply(user_input)\n",
    "\"\"\"\n",
    "user_messages = [\n",
    "  \"안녕, 반가워\",\n",
    "  \"고마워, 다음에도 잘 부탁해\",\n",
    "  \"잘가~\"\n",
    "]\n",
    "def get_chatbot_reply(message):\n",
    "  if \"안녕\" in message:\n",
    "    return \"안녕하세요! 무엇을 도와드릴까요?\"\n",
    "  elif \"고마워\" in message:\n",
    "    return \"별 말씀을요!\"\n",
    "  elif \"잘가\" in message:\n",
    "    return \"안녕히 가세요~\"\n",
    "\n",
    "def get_all_replies(user_messages):\n",
    "  return [get_chatbot_reply(user_message) for user_message in user_messages]\n",
    "\n",
    "replies = get_all_replies(user_messages)\n",
    "print(replies)\n",
    "for reply in replies:\n",
    "  print(reply)"
   ]
  },
  {
   "cell_type": "code",
   "execution_count": 30,
   "metadata": {},
   "outputs": [
    {
     "name": "stdout",
     "output_type": "stream",
     "text": [
      "안녕하세요안녕하세요안녕하세요안녕하세요\n",
      "요약된 제목: 땅의 기운이여 바다의 기운이여 하늘의...\n"
     ]
    }
   ],
   "source": [
    "# Q4\n",
    "\"\"\"\n",
    "- 뉴스 제목 요약기\n",
    "설명: 긴 뉴스 제목을 일정 길이 이하로 요약하는 문자열 슬라이싱 예제\n",
    "text = 땅의 기운이여 바다의 기운이여 하늘의 기운이여\n",
    "요약된 제목: 땅의 기운이여 바다의 기운이여 하늘의...\n",
    "\"\"\"\n",
    "user_input = \"안녕하세요안녕하세요안녕하세요안녕하세요\" # 20글자\n",
    "user_input2 = \"땅의 기운이여 바다의 기운이여 하늘의 기운이여\"\n",
    "\n",
    "def shorten_title(title, max_length=20):\n",
    "  return title if len(title) <= max_length else title[:max_length] + \"...\"\n",
    "\n",
    "\n",
    "print(shorten_title(user_input))\n",
    "print(f\"요약된 제목: {shorten_title(user_input2)}\")"
   ]
  },
  {
   "cell_type": "code",
   "execution_count": 5,
   "metadata": {},
   "outputs": [
    {
     "name": "stdout",
     "output_type": "stream",
     "text": [
      "정규화된 문장: 안녕 오늘 기분 어때\n"
     ]
    }
   ],
   "source": [
    "# Q5\n",
    "\"\"\"\n",
    "- 대화 문장 정규화\n",
    "설명: 중복 공백 제거 및 특수문자 제거로 텍스트를 정제\n",
    "sentence = \"안녕~~!!  오늘   기분   어때???\"\n",
    "정규화된 문장: 안녕 오늘 기분 어때\n",
    "\"\"\"\n",
    "# 한글키보드: \\(원화표시), 영문키보드: \\\n",
    "\n",
    "import re\n",
    "# 정규표현식(Regular Expressions)을 사용하기 위한 모듈\n",
    "\n",
    "sentence = \"안녕~~!!  오늘   기분   어때???\"\n",
    "\n",
    "def normalize_text(text):\n",
    "  text = re.sub(r'\\s+', ' ', text)\n",
    "  # 1. \\s+: 하나 이상(+)의 공백 문자(Space, tab, newline, ...)를 찾아서 하나의 공백(' ')으로 바꿈\n",
    "\n",
    "  text = re.sub(r'[^\\w\\s]', '', text)\n",
    "  # 2. [^\\w\\s]:\n",
    "  # [^...]: 대괄호 안의 것 제외한 모든 문자\n",
    "  # \\w: 알파벳, 숫자, 언더스코어\n",
    "  # \\s: 공백 문자\n",
    "  # 즉, 문자 + 공백 이외의 문자, 특수문자들만 골라서 제거 한다는 뜻 \n",
    "  return text.strip()\n",
    "\n",
    "print(f\"정규화된 문장: {normalize_text(sentence)}\")"
   ]
  },
  {
   "cell_type": "code",
   "execution_count": 6,
   "metadata": {},
   "outputs": [
    {
     "name": "stdout",
     "output_type": "stream",
     "text": [
      "['help@example.com', 'support@site.co.kr']\n"
     ]
    }
   ],
   "source": [
    "# Q6\n",
    "\"\"\"\n",
    "- 이메일 주소 추출기\n",
    "설명: 문장에서 이메일 주소를 정규표현식을 이용해 추출\n",
    "text = \"문의는 help@example.com 또는 support@site.co.kr 로 주세요.\"\n",
    "추출된 이메일: ['help@example.com', 'support@site.co.kr']\n",
    "\"\"\"\n",
    "import re\n",
    "\n",
    "text = \"문의는 help@example.com 또는 support@site.co.kr 로 주세요.\"\n",
    "\n",
    "def nomalize_text(text):\n",
    "  emails = re.findall(r'[\\w\\.-]+@[\\w\\.-]+', text)\n",
    "  # re.findall(): 정규표현식에 일치하는 모든 결과를 리스트로 반환\n",
    "  # r'...': 정규표현식 raw 문자열(raw string) / 백슬래시(\\)가 이스케이프 되지 않게\n",
    "  # [\\w\\.-]+: 이메일의 사용자 이름 부분\n",
    "  # @: \"@\" 문자(고정 문자열)\n",
    "  # [\\w\\.-]+: 도메인 부분\n",
    "  return emails\n",
    "\n",
    "print(f\"{nomalize_text(text)}\")"
   ]
  },
  {
   "cell_type": "code",
   "execution_count": 2,
   "metadata": {},
   "outputs": [
    {
     "name": "stdout",
     "output_type": "stream",
     "text": [
      "감정 분석 결과: 긍정\n"
     ]
    }
   ],
   "source": [
    "# Q7\n",
    "\"\"\"\n",
    "- 키워드 기반 감정 분류기\n",
    "설명: 문장에서 감정 단어 수와 비율로 긍정/부정/중립을 판단\n",
    "pos_words = 좋아, 기뻐, 감사, 즐거워, 사랑\n",
    "neg_words = 싫어, 화나, 우울, 짜증, 슬퍼\n",
    "sentence = \"오늘은 정말 즐거워서 기쁘고 사랑이 가득해\n",
    "감정 분석 결과: 긍정\n",
    "\"\"\"\n",
    "pos_words = ['좋아', '기뻐', '감사', '즐거워', '사랑']\n",
    "neg_words = ['싫어', '화나', '우울', '짜증', '슬퍼']\n",
    "sentence = \"오늘은 정말 즐거워서 기쁘고 사랑이 가득해\"\n",
    "\n",
    "def analyze_sentiment(text):\n",
    "  words = text.split()\n",
    "  # pos = sum(1 for w in words if w in pos_words)\n",
    "  pos = sum(1 for w in words if any(p in w for p in pos_words))\n",
    "  # neg = sum(1 for w in words if w in neg_words)\n",
    "  neg = sum(1 for w in words if any(n in w for n in neg_words))\n",
    "\n",
    "  # 왜 in이 아니라 any(p in w for p in pos_words)을 썼는가?\n",
    "  # 문장에서 즐거워서, 기쁘고 같은 단어는 즐거워, 기뻐 같은 단어가 포함되어 있는 형태\n",
    "  # 정확히 == 하진 않지만 포함되기 때문에 in 대신 any(... in ...) 형태로 처리\n",
    "  # 그런데 만약 감정 단어 목록이 [\"기\", \"슬\", \"사\"]처럼 짧거나 일부 글자로 구성되어 있다면?\n",
    "  # 기차, 슬리퍼, 사이다 같은 전혀 감정과 무관한 단어들도 감정으로 잘못 인식됨\n",
    "\n",
    "  # 고로 의도대로 동작하게 하기 위해서는 추가적인 코드 작성 필요\n",
    "  # 즉, 외부 라이브러리가 필요하고 코드가 더욱 복잡해짐\n",
    "  if pos + neg == 0:\n",
    "    return \"중립\"\n",
    "\n",
    "  sentiment_score = (pos - neg) / (pos + neg)\n",
    "\n",
    "  if sentiment_score > 0.3:\n",
    "    return \"긍정\"\n",
    "  elif sentiment_score < -0.3:\n",
    "    return \"부정\"\n",
    "  else:\n",
    "    return \"중립\"\n",
    "\n",
    "print(\"감정 분석 결과:\", analyze_sentiment(sentence))"
   ]
  }
 ],
 "metadata": {
  "kernelspec": {
   "display_name": "Python 3",
   "language": "python",
   "name": "python3"
  },
  "language_info": {
   "codemirror_mode": {
    "name": "ipython",
    "version": 3
   },
   "file_extension": ".py",
   "mimetype": "text/x-python",
   "name": "python",
   "nbconvert_exporter": "python",
   "pygments_lexer": "ipython3",
   "version": "3.12.9"
  }
 },
 "nbformat": 4,
 "nbformat_minor": 2
}
