{
 "cells": [
  {
   "cell_type": "code",
   "execution_count": 1,
   "metadata": {},
   "outputs": [
    {
     "name": "stdout",
     "output_type": "stream",
     "text": [
      "{4, 5}\n"
     ]
    }
   ],
   "source": [
    "# Q1\n",
    "\"\"\"\n",
    "- 공통 요소 추출기\n",
    "두개의 숫자 리스트가 주어졌을 때, 두 리스트에 모두 존재하는 숫자들을 구하세요\n",
    "list1 = [1, 2, 3, 4, 5]\n",
    "list2 = [4, 5, 6, 7, 8]\n",
    "공통요소: {4, 5}\n",
    "\"\"\"\n",
    "list1 = [1, 2, 3, 4, 5]\n",
    "list2 = [4, 5, 6, 7, 8]\n",
    "sum_list = set(list1) & set(list2) # 교집합(&)\n",
    "# 합/교/차집합의 경우 반드시 set형태이어야만 함\n",
    "print(sum_list)"
   ]
  },
  {
   "cell_type": "code",
   "execution_count": 2,
   "metadata": {},
   "outputs": [
    {
     "name": "stdout",
     "output_type": "stream",
     "text": [
      "{'Charlie', 'Bob', 'Alice'}\n"
     ]
    }
   ],
   "source": [
    "# Q2\n",
    "\"\"\"\n",
    "- 중복 제거 이름 필터\n",
    "이름 리스트에 중복된 이름이 있을 때, 중복을 제거하고 유일한 이름만 출력\n",
    "names = ['Alice', 'Bob', 'Charlie', 'Alice', 'Bob']\n",
    "중복 제거 결과: {'Alice', 'Charlie', 'Bob'}\n",
    "\"\"\"\n",
    "names = ['Alice', 'Bob', 'Charlie', 'Alice', 'Bob']\n",
    "print(set(names))"
   ]
  },
  {
   "cell_type": "code",
   "execution_count": 3,
   "metadata": {},
   "outputs": [
    {
     "name": "stdout",
     "output_type": "stream",
     "text": [
      "모두가 선택한 과목 : {'Math', 'Science'}\n"
     ]
    }
   ],
   "source": [
    "# Q3\n",
    "\"\"\"\n",
    "- 과목 선택 분석기\n",
    "여러 학생이 선택한 과목 중 모두가 공통으로 선택한 과목을 구하세요\n",
    "student = [\n",
    "  {'Math', 'Science', 'English'},\n",
    "  {'Math', 'Art', 'Science'},\n",
    "  {'Math', 'Science'}\n",
    "]\n",
    "모두가 선택한 과목 : {'Math', 'Science'}\n",
    "\"\"\"\n",
    "student = [\n",
    "  {'Math', 'Science', 'English'},\n",
    "  {'Math', 'Art', 'Science'},\n",
    "  {'Math', 'Science'}\n",
    "]\n",
    "common = set.intersection(*student) # 교집합(&) = intersection()\n",
    "# * - 언팩(unpacking)\n",
    "# list, tuple 등 반복 가능한 객체를 개별 요소로 분해하여 전달하는 데 사용\n",
    "# 즉, *student는 student list 안에 있는 집합들을 하나하나 개별 인자로 넘겨주는 역할을 함\n",
    "print(\"모두가 선택한 과목 :\", common) # A & B & C\n",
    "\n",
    "# common = student[0]\n",
    "# for s in student[1:]:\n",
    "#   common &= s\n",
    "#   # &, &=\n",
    "#   # & 를 쓰면 common 변수에 들어있는 값인 인덱스0을 가지고 있는 학생, 즉 첫번째 학생만을 기준으로 교집합을 구함\n",
    "#   # &= 집합의 교집합을 계산한 후, 그 결과를 원래 집합에 저장하는 연산자, 즉 &와 달리 common의 기준이 for문으로 반복함에 따라 계속 넓어짐\n",
    "# print (\"모두가 선택한 과목 :\", common)\n"
   ]
  },
  {
   "cell_type": "code",
   "execution_count": 2,
   "metadata": {},
   "outputs": [
    {
     "name": "stdout",
     "output_type": "stream",
     "text": [
      "문자에 포함된 알파벳 : {'p', 'n', 'e', 'l', 't', 'y', 'o', 's', 'h', 'i'}\n"
     ]
    }
   ],
   "source": [
    "# Q4\n",
    "\"\"\"\n",
    "- 알파벳 추출기\n",
    "문장에서 중복되지 않은 알파벳만 소문자로 출력하세요\n",
    "text = \"Hello, Set in Python!\"\n",
    "문자에 포함된 알파벳: {'n', 't', 'i' , 'p', 'h', 'y', 's', 'e', 'l', 'o'}\n",
    "\"\"\"\n",
    "# from collections import Counter\n",
    "# # collections - collections 모듈은 Python 내장 라이브러리중 하나\n",
    "# # Counter - 빈도 수를 세는데 특화된 클래스\n",
    "\n",
    "# text = \"Hello, Set in Python!\"\n",
    "# text = ''.join(filter(str.isalpha, text.lower()))\n",
    "# # 소문자로 변환(.lower)하고 알파벳만 추출(str.isalpha)\n",
    "\n",
    "# alpha_count = Counter(text)\n",
    "# # 각 알파벳의 등장 횟수 세기\n",
    "\n",
    "# one_alpha = [alpha for alpha, count in alpha_count.items() if count == 1]\n",
    "# # one_alpha = []\n",
    "# # for alpha, count in alpha_count.items():\n",
    "# #   if count == 1:\n",
    "# #     one_alpha.append(alpha)\n",
    "\n",
    "# print(one_alpha)\n",
    "\n",
    "\n",
    "text = \"Hello, Set in Python\"\n",
    "letters = {ch.lower() for ch in text if ch.isalpha()} # 집합에 저장\n",
    "print(\"문자에 포함된 알파벳 :\", letters)"
   ]
  },
  {
   "cell_type": "code",
   "execution_count": 9,
   "metadata": {},
   "outputs": [
    {
     "name": "stdout",
     "output_type": "stream",
     "text": [
      "대소문자 구분 없이 중복 제거 결과: ['Python', 'Java']\n"
     ]
    }
   ],
   "source": [
    "# Q5\n",
    "\"\"\"\n",
    "- 대소문자 무시 중복 체크\n",
    "단어 리스트에서 대소문자를 구분하지 않고 중복된 단어를 제거\n",
    "words = ['Python', 'python', 'PYTHON', 'Java', 'JAVA']\n",
    "대소문자 구분 없이 중복 제거 결과: {'python', 'java'}\n",
    "\"\"\"\n",
    "words = ['Python', 'python', 'PYTHON', 'Java', 'JAVA']\n",
    "# print(set(words)) - 대소문자 때문에 제대로 작동하지 않음\n",
    "\n",
    "seen = set()\n",
    "unique_words = []\n",
    "for word in words:\n",
    "  word_lower = word.lower()\n",
    "  if word_lower not in seen:\n",
    "    unique_words.append(word)\n",
    "    seen.add(word_lower)\n",
    "print(\"대소문자 구분 없이 중복 제거 결과:\", unique_words)\n",
    "\n",
    "# words = ['Python', 'python', 'PYTHON', 'Java', 'JAVA']\n",
    "# unique_words = {w.lower() for w in words}\n",
    "# print(\"대소문자 구분 없이 중복 제거 결과 :\", unique_words)"
   ]
  },
  {
   "cell_type": "code",
   "execution_count": 4,
   "metadata": {},
   "outputs": [
    {
     "name": "stdout",
     "output_type": "stream",
     "text": [
      "{9, 4, 7}\n"
     ]
    }
   ],
   "source": [
    "# Q6\n",
    "\"\"\"\n",
    "- 빠진 번호 찾기\n",
    "1부터 10까지의 숫자 중 주어진 리스트에 없는 숫자를 찾아 출력하세요\n",
    "numbers = [1, 2, 3, 5, 6, 8, 10]\n",
    "빠진 번호: {9, 4, 7}\n",
    "\"\"\"\n",
    "numbers = [1, 2, 3, 5, 6, 8, 10]\n",
    "missing_num = set(range(1,11)) - set(numbers)\n",
    "print(missing_num)"
   ]
  },
  {
   "cell_type": "code",
   "execution_count": 12,
   "metadata": {},
   "outputs": [
    {
     "name": "stdout",
     "output_type": "stream",
     "text": [
      "{'Python', 'AI'}\n",
      "('NLP', 'Deep Learning', 'Automation', 'Robotics', 'OpenAI', 'ChatGPT')\n"
     ]
    }
   ],
   "source": [
    "# Q7\n",
    "\"\"\"\n",
    "- 뉴스 기사 키워드 분석기\n",
    "여러 뉴스 기사에서 공통 키워드와 유일 키워드를 추출\n",
    "각 뉴스 기사에서 추출한 키워드\n",
    "article1 = {'AI', 'Python', 'OpenAI', 'ChatGPT'}\n",
    "article2 = {'Python', 'AI', 'Deep Learning', 'NLP'}\n",
    "article3 = {'Python', 'AI', 'Robotics', 'Automation'}\n",
    "공통 키워드: {'AI', 'Python'}\n",
    "유일 키워드: {'Deep Learning', 'Robotics', 'Automation', 'chatGPT', 'OpenAI', 'NLP'}\n",
    "\"\"\"\n",
    "from collections import Counter\n",
    "from itertools import chain\n",
    "\n",
    "article1 = {'AI', 'Python', 'OpenAI', 'ChatGPT'}\n",
    "article2 = {'Python', 'AI', 'Deep Learning', 'NLP'}\n",
    "article3 = {'Python', 'AI', 'Robotics', 'Automation'}\n",
    "\n",
    "common_keywords = article1 & article2 & article3\n",
    "\n",
    "combined_list = list(chain(article1, article2, article3))\n",
    "keyword_counts = Counter(combined_list)\n",
    "unique_keywords = tuple({kw for kw in keyword_counts if keyword_counts[kw] == 1})\n",
    "\n",
    "print(common_keywords)\n",
    "print(unique_keywords)\n",
    "\n",
    "\n",
    "# article1 = {'AI', 'Python', 'OpenAI', 'ChatGPT'}\n",
    "# article2 = {'Python', 'AI', 'Deep Learning', 'NLP'}\n",
    "# article3 = {'Python', 'AI', 'Robotics', 'Automation'}\n",
    "\n",
    "# common_keywords = set.intersection(article1, article2, article3)\n",
    "\n",
    "# all_keywords = article1 | article2 | article3 # 합집합\n",
    "# shared_keywords = (article1 & article2) | (article2 & article3) | (article1 & article3)\n",
    "# unique_keywords = all_keywords - shared_keywords\n",
    "\n",
    "# print(\"공통 키워드:\", common_keywords)\n",
    "# print(\"유일 키워드:\", unique_keywords)\n"
   ]
  }
 ],
 "metadata": {
  "kernelspec": {
   "display_name": "Python 3",
   "language": "python",
   "name": "python3"
  },
  "language_info": {
   "codemirror_mode": {
    "name": "ipython",
    "version": 3
   },
   "file_extension": ".py",
   "mimetype": "text/x-python",
   "name": "python",
   "nbconvert_exporter": "python",
   "pygments_lexer": "ipython3",
   "version": "3.12.9"
  }
 },
 "nbformat": 4,
 "nbformat_minor": 2
}
