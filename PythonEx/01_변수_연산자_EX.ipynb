{
 "cells": [
  {
   "cell_type": "code",
   "execution_count": 4,
   "metadata": {},
   "outputs": [
    {
     "name": "stdout",
     "output_type": "stream",
     "text": [
      "키(tall)는(은) 185.2입니다\n",
      "몸무게는(은) 90입니다\n",
      "키(tall)와 몸무게의 합은 275.2입니다\n"
     ]
    }
   ],
   "source": [
    "# Q1\n",
    "\"\"\"\n",
    "키(tall)를 입력하세요: 180\n",
    "몸무게를 입력하세요: 80\n",
    "260.0\n",
    "\"\"\"\n",
    "height = \"키(tall)\"\n",
    "weight = \"몸무게\"\n",
    "question = [height, weight]\n",
    "\n",
    "answer = []\n",
    "for i in range(2):\n",
    "  user_input = float(input(f\"{question[i]}를(을) 입력하세요: \"))\n",
    "  real_input = int(user_input) if isinstance(user_input, float) and user_input.is_integer() else user_input\n",
    "  print(f\"{question[i]}는(은) {real_input}입니다\")\n",
    "  answer.append(real_input)\n",
    "print(f\"키(tall)와 몸무게의 합은 {sum(answer)}입니다\")"
   ]
  },
  {
   "cell_type": "code",
   "execution_count": 11,
   "metadata": {},
   "outputs": [
    {
     "name": "stdout",
     "output_type": "stream",
     "text": [
      "문자열을 입력하세요: 홍길\n",
      "홍길홍길홍길홍길홍길홍길홍길홍길홍길홍길\n",
      "무궁화 꽃이 피었습니다\n"
     ]
    }
   ],
   "source": [
    "# Q2\n",
    "\"\"\"\n",
    "문자열을 입력하세요: 홍길\n",
    "홍길홍길홍길홍길홍길홍길홍길홍길홍길홍길\n",
    "무궁화 꽃이 피었습니다\n",
    "\"\"\"\n",
    "txt = \"홍길\"\n",
    "print(f\"문자열을 입력하세요: {txt}\")\n",
    "print(txt*10)\n",
    "print(\"무궁화 꽃이 피었습니다\")"
   ]
  },
  {
   "cell_type": "code",
   "execution_count": 32,
   "metadata": {},
   "outputs": [
    {
     "name": "stdout",
     "output_type": "stream",
     "text": [
      "당신의 키는 185.2입니다\n",
      "당신의 적정 몸무게는(185.2-100)인 85.2kg입니다\n"
     ]
    }
   ],
   "source": [
    "# Q3\n",
    "\"\"\"\n",
    "당신의 적정 몸무게는(a-100) 80 kg입니다.\n",
    "\"\"\"\n",
    "def fit_weight(height):\n",
    "  realHeight = int(height) if isinstance(height, float) and height.is_integer() else height\n",
    "  print(f\"당신의 키는 {realHeight}입니다\")\n",
    "  print(f\"당신의 적정 몸무게는({realHeight}-100)인 {round(realHeight-100, 1)}kg입니다\")\n",
    "user_input = float((input(\"키를 입력하세요\")))\n",
    "\n",
    "fit_weight(user_input)"
   ]
  },
  {
   "cell_type": "code",
   "execution_count": null,
   "metadata": {},
   "outputs": [],
   "source": [
    "# Q4\n",
    "\"\"\"\n",
    "나눗셈의 몫은 3, 나머지는 2 입니다.\n",
    "\"\"\""
   ]
  },
  {
   "cell_type": "code",
   "execution_count": null,
   "metadata": {},
   "outputs": [],
   "source": [
    "# Q5\n",
    "'''\n",
    "a = n\n",
    "b = n\n",
    "두 숫자의 합은 n 입니다.\n",
    "'''"
   ]
  },
  {
   "cell_type": "code",
   "execution_count": null,
   "metadata": {},
   "outputs": [],
   "source": [
    "# Q6\n",
    "'''\n",
    "이름을 입력하세요: abc\n",
    "국어 성적을 입력하세요: n\n",
    "수학 성적을 입력하세요: n\n",
    "사회 성적을 입력하세요: n\n",
    "과학 성적을 입력하세요: n\n",
    "영어 성적을 입력하세요: n\n",
    "abc 님의 성적은\n",
    "총합 n점, 평균 n점입니다.\n",
    "'''"
   ]
  },
  {
   "cell_type": "code",
   "execution_count": null,
   "metadata": {},
   "outputs": [],
   "source": [
    "# Q7\n",
    "\"\"\"\n",
    "당신의 나이는 몇 살입니까?\n",
    "당신은 n년을 살았습니다.\n",
    "\"\"\""
   ]
  }
 ],
 "metadata": {
  "kernelspec": {
   "display_name": "Python 3",
   "language": "python",
   "name": "python3"
  },
  "language_info": {
   "codemirror_mode": {
    "name": "ipython",
    "version": 3
   },
   "file_extension": ".py",
   "mimetype": "text/x-python",
   "name": "python",
   "nbconvert_exporter": "python",
   "pygments_lexer": "ipython3",
   "version": "3.12.9"
  }
 },
 "nbformat": 4,
 "nbformat_minor": 2
}
