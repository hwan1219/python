{
 "cells": [
  {
   "cell_type": "code",
   "execution_count": null,
   "metadata": {},
   "outputs": [],
   "source": [
    "# Q1\n",
    "\"\"\"\n",
    "- 금지어 필터링\n",
    "설명: 사용자 입력 문장에서 금지어를 찾아 *로 대체하는 필터링 시스템을 구현\n",
    "금지어 리스트: 바보, 멍청이\n",
    "원본 문장: 너는 정말 바보 같고 멍청이야!\n",
    "필터링된 문장: 너는 정말 ** 같고 ***야!\n",
    "금지어 필터링 함수: def filter_bad_words(text)\n",
    "\"\"\""
   ]
  },
  {
   "cell_type": "code",
   "execution_count": null,
   "metadata": {},
   "outputs": [],
   "source": [
    "# Q2\n",
    "\"\"\"\n",
    "- 간단한 감성 단어 카운터\n",
    "설명: 긍정/부정 키워드 등장 횟수로 감정을 판별하는 프로그램\n",
    "문장: 나는 오늘 정말 행복하고 감사한 하루를 보냈어.\n",
    "긍정 단어 수: 2\n",
    "부정 단어 수: 0\n",
    "긍정 키워드: 좋아, 행복, 기쁨, 감사\n",
    "부정 키워드: 싫어, 화나, 우울, 짜증\n",
    "def sentiment_counter(text)\n",
    "\"\"\""
   ]
  },
  {
   "cell_type": "code",
   "execution_count": null,
   "metadata": {},
   "outputs": [],
   "source": [
    "# Q3\n",
    "\"\"\"\n",
    "- 챗봇용 기본 응답 분류기\n",
    "설명: 사용자의 입력을 분석하여 간단한 반응을 출력하는 챗봇\n",
    "문장에 각 단어가 있으면 정해진 값을 출력\n",
    "안녕 >> 안녕하세요! 무엇을 도와드릴까요?\n",
    "고마워 >> 별 말씀을요!\n",
    "잘가 >> 안녕히 가세요~\n",
    "def chatbot_reply(user_input)\n",
    "\"\"\""
   ]
  },
  {
   "cell_type": "code",
   "execution_count": null,
   "metadata": {},
   "outputs": [],
   "source": [
    "# Q4\n",
    "\"\"\"\n",
    "- 뉴스 제목 요약기\n",
    "설명: 긴 뉴스 제목을 일정 길이 이하로 요약하는 문자열 슬라이싱 예제\n",
    "text = 땅의 기운이여 바다의 기운이여 하늘의 기운이여\n",
    "요약된 제목: 땅의 기운이여 바다의 기운이여 하늘의...\n",
    "\"\"\""
   ]
  },
  {
   "cell_type": "code",
   "execution_count": null,
   "metadata": {},
   "outputs": [],
   "source": [
    "# Q5\n",
    "\"\"\"\n",
    "- 대화 문장 정규화\n",
    "설명: 중복 공백 제거 및 특수문자 제거로 텍스트를 정제\n",
    "sentence = \"안녕~~!!  오늘   기분   어때???\"\n",
    "정규화된 문장: 안녕 오늘 기분 어때\n",
    "\"\"\""
   ]
  },
  {
   "cell_type": "code",
   "execution_count": null,
   "metadata": {},
   "outputs": [],
   "source": [
    "# Q6\n",
    "\"\"\"\n",
    "- 이메일 주소 추출기\n",
    "설명: 문장에서 이메일 주소를 정규표현식을 이용해 추출\n",
    "text = \"문의는 help@example.com 또는 support@site.co.kr 로 주세요.\"\n",
    "추출된 이메일: ['help@example.com', 'support@site.co.kr']\n",
    "\"\"\""
   ]
  },
  {
   "cell_type": "code",
   "execution_count": null,
   "metadata": {},
   "outputs": [],
   "source": [
    "# Q7\n",
    "\"\"\"\n",
    "- 키워드 기반 감정 분류기\n",
    "설명: 문장에서 감정 단어 수와 비율로 긍정/부정/중립을 판단\n",
    "pos_words = 좋아, 기뻐, 감사, 즐거워, 사랑\n",
    "neg_words = 싫어, 화나, 우울, 짜증, 슬퍼\n",
    "sentence = \"오늘은 정말 즐거워서 기쁘고 사랑이 가득해\n",
    "감정 분석 결과: 긍정\n",
    "\"\"\""
   ]
  }
 ],
 "metadata": {
  "kernelspec": {
   "display_name": "Python 3",
   "language": "python",
   "name": "python3"
  },
  "language_info": {
   "name": "python",
   "version": "3.12.9"
  }
 },
 "nbformat": 4,
 "nbformat_minor": 2
}
