{
 "cells": [
  {
   "cell_type": "code",
   "execution_count": null,
   "metadata": {},
   "outputs": [],
   "source": [
    "# Q1\n",
    "\"\"\"\n",
    "- 학생 클래스 만들기 (클래스와 객체)\n",
    "설명: 학생의 이름, 나이, 학번을 관리하는 클래스를 만들고, 이를 기반으로 학생 객체를 생성합니다\n",
    "기능: 학생 정보를 입력받고 출력하는 클래스 구현\n",
    "이름: 홍길동, 나이: 20, 학번: 2023001\n",
    "class명: Student\n",
    "fucntion명: display_info - name, age, student_id 출력\n",
    "\"홍길동\", 20, 2023001\n",
    "\"\"\""
   ]
  },
  {
   "cell_type": "code",
   "execution_count": null,
   "metadata": {},
   "outputs": [],
   "source": [
    "# Q2\n",
    "\"\"\"\n",
    "- 자동차 클래스 만들기 (클래스와 메서드)\n",
    "설명: 자동차의 속도와 색상을 관리하는 클래스를 만들고, 자동차 객체를 다룸\n",
    "기능: 자동차의 속도를 변경하고, 자동차의 색을 변경하는 메서드 구현\n",
    "\"\"\""
   ]
  },
  {
   "cell_type": "code",
   "execution_count": null,
   "metadata": {},
   "outputs": [],
   "source": [
    "# Q3\n",
    "\"\"\"\n",
    "- 학생 성적 관리 (속성 사용)\n",
    "설명: 학생의 성적을 관리하는 클래스와 성적을 추가하고 평균을 계산하는 기능 구현\n",
    "기능: 학생의 성적을 추가하고, 평균을 계산하는 메서드 구현\n",
    "class명: Student\n",
    "function명: add_score, calculate_average\n",
    "\"김철수\", 85, 90, 95\n",
    "김철수의 평균 성적: 90.0\n",
    "\"\"\""
   ]
  },
  {
   "cell_type": "code",
   "execution_count": null,
   "metadata": {},
   "outputs": [],
   "source": [
    "# Q4\n",
    "\"\"\"\n",
    "- 책 정보 클래스 만들기 (클래스와 메서드)\n",
    "설명: 책의 제목과 저자 정보를 관리하는 클래스를 만들고, 책의 정보를 출력하는 메서드 구현\n",
    "기능: 책 정보를 저장하고 출력하는 메서드 구현\n",
    "class명: Book\n",
    "function명: display_info - title, author\n",
    "\"파이썬 기초\", \"홍길동\"\n",
    "책 제목: 파이썬 기초, 저자: 홍길동\n",
    "\"\"\""
   ]
  },
  {
   "cell_type": "code",
   "execution_count": null,
   "metadata": {},
   "outputs": [],
   "source": [
    "# Q5\n",
    "\"\"\"\n",
    "- 사람 클래스와 인사 (클래스와 메서드)\n",
    "설명: 사람 객체를 생성하고, 인사하는 메서드를 추가하여 객체와 상호작용\n",
    "기능: 사람 객체를 만들고, 인사하는 기능 구현\n",
    "class명: Person\n",
    "function명: greet - \"안녕하세요 ()입니다.\"\n",
    "\"박지민\"\n",
    "안녕하세요, 박지민입니다!\n",
    "\"\"\""
   ]
  },
  {
   "cell_type": "code",
   "execution_count": null,
   "metadata": {},
   "outputs": [],
   "source": [
    "# Q6\n",
    "\"\"\"\n",
    "- 은행 계좌 클래스 만들기 (캡슐화)\n",
    "설명: 계좌 잔액을 관리하는 클래스 만들기, 입금과 출금 메서드로 계좌 관리\n",
    "기능: 계좌 잔액을 변경할 수 있는 메서드 구현\n",
    "class명: BankAccount\n",
    "function명: deposit(500), withdraw(300), get_balance(잔액확인)\n",
    "\"김상철\", 1000\n",
    "잔액: 1200\n",
    "\"\"\""
   ]
  },
  {
   "cell_type": "code",
   "execution_count": null,
   "metadata": {},
   "outputs": [],
   "source": [
    "# Q7\n",
    "\"\"\"\n",
    "- 사각형 클래스 (상속)\n",
    "설명: 사각형 클래스를 만들고, 이를 상속받아 크기 변경 메서드를 추가\n",
    "기능: 상속을 통해 기존 클래스의 기능을 확장\n",
    "class명: Rectangle, Square(Rectangel)\n",
    "function명: area\n",
    "정사각형 면적: 25\n",
    "\"\"\""
   ]
  }
 ],
 "metadata": {
  "kernelspec": {
   "display_name": "Python 3",
   "language": "python",
   "name": "python3"
  },
  "language_info": {
   "name": "python",
   "version": "3.12.9"
  }
 },
 "nbformat": 4,
 "nbformat_minor": 2
}
