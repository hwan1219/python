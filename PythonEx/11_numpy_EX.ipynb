{
 "cells": [
  {
   "cell_type": "code",
   "execution_count": null,
   "metadata": {},
   "outputs": [],
   "source": [
    "# Q1\n",
    "'''\n",
    "- 단어 길이 벡터화\n",
    "주어진 문장에서 각 단어의 길이를 추출하여 NumPy 배열로 변환하는 간단한 NLP 전처리 예제\n",
    "단어 리스트: ['NumPy', 'makes', 'numerical', 'computing', 'easy', 'and', 'fast']\n",
    "단어 길이 벡터: [5 5 9 9 4 3 4]\n",
    "'''"
   ]
  },
  {
   "cell_type": "code",
   "execution_count": null,
   "metadata": {},
   "outputs": [],
   "source": [
    "# Q2\n",
    "'''\n",
    "- 감정 점수 평균\n",
    "영화 리뷰나 트윗에 부여된 감정 점수 배열의 평균과 분산을 NumPy로 계산하는 예제\n",
    "감정 점수: 1(부정) ~ 10(긍정)\n",
    "감정 점수: [8 9 7 6 10 5 4]\n",
    "평균: 7.0\n",
    "분산: 4.0\n",
    "'''"
   ]
  },
  {
   "cell_type": "code",
   "execution_count": null,
   "metadata": {},
   "outputs": [],
   "source": [
    "# Q3\n",
    "'''\n",
    "- 행렬 전치 연습\n",
    "챗봇의 입력과 응답 데이터를 배열로 처리하며, 전치를 이용해 열 중심의 분석도 가능하게 함\n",
    "입력(질문)과 출력(답변) 쌍\n",
    "\"안녕\", \"안녕하세요\"\n",
    "\"이름이 뭐야?\", \"저는 챗봇이에요\"\n",
    "\"날씨 어때?\", \"오늘은 맑아요\"\n",
    "전치 (행 <-> 열 전환)\n",
    "'''"
   ]
  },
  {
   "cell_type": "code",
   "execution_count": null,
   "metadata": {},
   "outputs": [],
   "source": [
    "# Q4\n",
    "'''\n",
    "- 단어 등장 빈도 계산\n",
    "문장에서 단어의 등장 횟수를 계산해 배열로 표현. 단어를 정렬해 시각화하기 쉬움.\n",
    "txt = \"Hello world hello numpy world hello ai\"\n",
    "단어: ['ai', 'hello', 'numpy', 'world']\n",
    "빈도: [1 3 1 2]\n",
    "'''"
   ]
  },
  {
   "cell_type": "code",
   "execution_count": null,
   "metadata": {},
   "outputs": [],
   "source": [
    "# Q5\n",
    "'''\n",
    "- 이미지 픽셀 밝기 조정\n",
    "NumPy로 이미지 픽셀 밝기 조정(어둡게 or 밝게) - 이미지 배열 요소에 스칼라 연산 수행\n",
    "'''"
   ]
  },
  {
   "cell_type": "code",
   "execution_count": null,
   "metadata": {},
   "outputs": [],
   "source": [
    "# Q6\n",
    "'''\n",
    "- 코사인 유사도 계산\n",
    "문장 또는 사용자 프로필 간의 벡터 유사도를 계산하는 데 자주 사용됨\n",
    "[1, 2, 3]\n",
    "[2, 4, 6]\n",
    "코사인 유사도 = (A, B) / (||A|| * ||B||)\n",
    "                 내적   /      크기\n",
    "cos_sim = np.dot(vec1, vec2) / (np.linalg.norm(vec1) * np.linalg.norm(vec2))\n",
    "'''"
   ]
  },
  {
   "cell_type": "code",
   "execution_count": null,
   "metadata": {},
   "outputs": [],
   "source": [
    "# Q7\n",
    "'''\n",
    "- Bag-of-Words 벡터 처리\n",
    "여러 문장에 등장하는 단어들을 기반으로 Bag-of-Words(BoW) 행렬을 NumPy로 직접 생성해보는 NLP 전처리 예제\n",
    "'''"
   ]
  },
  {
   "cell_type": "code",
   "execution_count": null,
   "metadata": {},
   "outputs": [],
   "source": [
    "# Q8\n",
    "'''\n",
    "- 간단한 채팅 로그 분석\n",
    "챗봇 로그 데이터를 NumPy 배열로 만들어 대화 수, 길이 평균 등을 분석해보는 예제\n",
    "chat_logs = [[\"안녕\", \"안녕하세요! 무엇을 도와드릴까요?\"],\n",
    "            [\"오늘 날씨 어때?\", \"오늘은 맑고 따뜻한 날씨입니다.\"],\n",
    "            [\"시간 좀 알려줘\", \"현재 시간은 오후 3시입니다.\"]]\n",
    "'''"
   ]
  }
 ],
 "metadata": {
  "kernelspec": {
   "display_name": "Python 3",
   "language": "python",
   "name": "python3"
  },
  "language_info": {
   "name": "python",
   "version": "3.12.9"
  }
 },
 "nbformat": 4,
 "nbformat_minor": 2
}
