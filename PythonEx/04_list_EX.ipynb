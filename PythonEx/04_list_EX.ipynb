{
 "cells": [
  {
   "cell_type": "code",
   "execution_count": null,
   "metadata": {},
   "outputs": [],
   "source": [
    "# Q1\n",
    "\"\"\"\n",
    "- 출석번호 재정렬\n",
    "현재 학생이 3명 있다고 가정하고, 전학을 오는 친구가 있으면 그 친구를 포함하여 오름차순으로 번호를 부여\n",
    "\n",
    "현재 학생은 ['이황', '이이', '원효']\n",
    "전학 온 학생은 누구입니까? 홍길동\n",
    "['이황', '이이', '원효', '홍길동']\n",
    "번호 재정렬...\n",
    "1. 원효\n",
    "2. 이이\n",
    "3. 이황\n",
    "4. 홍길동\n",
    "\"\"\""
   ]
  },
  {
   "cell_type": "code",
   "execution_count": null,
   "metadata": {},
   "outputs": [],
   "source": [
    "# Q2\n",
    "\"\"\"\n",
    "- 좋아하는 음식 목록 만들기\n",
    "좋아하는 음식을 3개 입력받아 리스트에 저장하고 출력\n",
    "1번째로 좋아하는 음식을 입력하세요: 피자\n",
    "2번째로 좋아하는 음식을 입력하세요: 떡볶이\n",
    "3번째로 좋아하는 음식을 입력하세요: 치킨\n",
    "당신이 좋아하는 음식 목록: ['피자', '떡볶이' ,'치킨']\n",
    "\"\"\""
   ]
  },
  {
   "cell_type": "code",
   "execution_count": null,
   "metadata": {},
   "outputs": [],
   "source": [
    "# Q3\n",
    "\"\"\"\n",
    "- 숫자 리스트 평균 구하기\n",
    "숫자 5개를 입력받아 평균을 구해서 출력하기\n",
    "1번째 숫자를 입력하세요: n\n",
    "2번째 숫자를 입력하세요: n\n",
    "...\n",
    "입력한 숫자들의 평균은: n\n",
    "\"\"\""
   ]
  },
  {
   "cell_type": "code",
   "execution_count": null,
   "metadata": {},
   "outputs": [],
   "source": [
    "# Q4\n",
    "\"\"\"\n",
    "- 이름 거꾸로 출력하기\n",
    "이름을 3개 입력받아 리스트에 저장하고 거꾸로 출력하기\n",
    "1번째 이름을 입력하세요: 철수\n",
    "2번째 이름을 입력하세요: 영희\n",
    "3번째 이름을 입력하세요: 민수\n",
    "이름을 거꾸로 출력\n",
    "민수\n",
    "영희\n",
    "철수\n",
    "\"\"\""
   ]
  },
  {
   "cell_type": "code",
   "execution_count": null,
   "metadata": {},
   "outputs": [],
   "source": [
    "# Q5\n",
    "\"\"\"\n",
    "- 무작위 짝수만 \n",
    "무작위 숫자 5개를 입력받아 그 중 짝수만 출력하기\n",
    "숫자를 입력하세요: n\n",
    "숫자를 입력하세요: n\n",
    "...\n",
    "입력한 짝수들: [n, n]\n",
    "\"\"\""
   ]
  },
  {
   "cell_type": "code",
   "execution_count": null,
   "metadata": {},
   "outputs": [],
   "source": [
    "# Q6\n",
    "\"\"\"\n",
    "- 특정 숫자 제거하기\n",
    "리스트에서 입력한 숫자를 찾아 제거하기\n",
    "초기 숫자는 10, 20, 30, 40, 50 이다\n",
    "\"\"\""
   ]
  },
  {
   "cell_type": "code",
   "execution_count": null,
   "metadata": {},
   "outputs": [],
   "source": [
    "# Q7\n",
    "\"\"\"\n",
    "- 최대값과 최소값 구하기\n",
    "숫자 5개를 입력받아 가장 큰 값과 가장 작은 값을 구하기\n",
    "숫자를 입력하세요: n\n",
    "숫자를 입력하세요: n\n",
    "...\n",
    "최대값: n\n",
    "최소값: n\n",
    "\"\"\""
   ]
  },
  {
   "cell_type": "code",
   "execution_count": null,
   "metadata": {},
   "outputs": [],
   "source": [
    "# Q8\n",
    "\"\"\"\n",
    "- 단어 빈도수 세기\n",
    "문장을 입력받아 각 단어가 몇 번씩 나왔는지 출력하기\n",
    "문장을 입력하세요: 나는 너를 사랑해 사랑해\n",
    "단어별 등장 횟수:\n",
    "나는: 1\n",
    "너를: 1\n",
    "사랑해: 2\n",
    "\"\"\""
   ]
  },
  {
   "cell_type": "code",
   "execution_count": null,
   "metadata": {},
   "outputs": [],
   "source": [
    "# Q9\n",
    "\"\"\"\n",
    "- 중복 제거 후 정렬\n",
    "중복된 숫자를 제거하고 정렬된 리스트를 출력하기\n",
    "숫자를 입력하세요: n\n",
    "숫자를 입력하세요: n\n",
    "...\n",
    "중복 제거 후 정렬된 리스트: [n, n, n, n]\n",
    "\"\"\""
   ]
  }
 ],
 "metadata": {
  "kernelspec": {
   "display_name": "Python 3",
   "language": "python",
   "name": "python3"
  },
  "language_info": {
   "name": "python",
   "version": "3.12.9"
  }
 },
 "nbformat": 4,
 "nbformat_minor": 2
}
