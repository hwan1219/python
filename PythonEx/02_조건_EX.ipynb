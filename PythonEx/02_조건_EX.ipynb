{
 "cells": [
  {
   "cell_type": "code",
   "execution_count": null,
   "metadata": {},
   "outputs": [],
   "source": [
    "# Q1\n",
    "\"\"\"\n",
    "- 도어락 비밀번호\n",
    "비밀번호는 무엇입니다? 0610\n",
    "문이 열렸습니다.\n",
    "\"\"\""
   ]
  },
  {
   "cell_type": "code",
   "execution_count": null,
   "metadata": {},
   "outputs": [],
   "source": [
    "# Q2\n",
    "\"\"\"\n",
    "- 반 배치\n",
    "이름이 무엇입니까? 김수현\n",
    "3학년 6반으로 가시면 됩니다.\n",
    "이름이 무엇입니까? 이승기\n",
    "3학년 2반으로 가시면 됩니다.\n",
    "\"\"\""
   ]
  },
  {
   "cell_type": "code",
   "execution_count": null,
   "metadata": {},
   "outputs": [],
   "source": [
    "# Q3\n",
    "\"\"\"\n",
    "- 19세 이상 영화 관람\n",
    "당신의 나이는? 17\n",
    "이 등급의 영화를 볼 수 있습니다.\n",
    "\"\"\""
   ]
  },
  {
   "cell_type": "code",
   "execution_count": null,
   "metadata": {},
   "outputs": [],
   "source": [
    "# Q4\n",
    "\"\"\"\n",
    "- 유아 예방 접종 기간\n",
    "아이가 출생 후 몇 개월인지 입력하면, 개월 수에 따라 예방접종을 해야 하는 목록을 알려 주는 것을 만들기\n",
    "(중간에 생략된 달은 모두 포함된다.) ex - 2개월~6개월인 경우 2, 3, 4, 5, 6개월\n",
    "결핵: 출생~1개월\n",
    "B형간염: 출생~2개월\n",
    "파상풍: 2개월~6개월\n",
    "폐렴구균: 2개월~15개월월\n",
    "\"\"\""
   ]
  },
  {
   "cell_type": "code",
   "execution_count": null,
   "metadata": {},
   "outputs": [],
   "source": [
    "# Q5\n",
    "\"\"\"\n",
    "- 경찰 체력 검정\n",
    "경찰 시험의 두 번째는 체력 시험이다. 다섯 개의 종목별로 기록 구간이 나누어져 있고 구간마다 1~10점까지 다양하다. 첫 번째 필기시험과 점수는 합산되지만 종목별로 모두 8점 이상을 맞으면 합격 가능성이 높다고 가정하고 예측 프로그램 만들기\n",
    "8점 커트라인\n",
    "100m: 13.6 / 1000m: 237 / 윗몸일으키기: 51 / 좌우 악력: 56 / 팔굽혀펴기: 46\n",
    "\"\"\""
   ]
  },
  {
   "cell_type": "code",
   "execution_count": null,
   "metadata": {},
   "outputs": [],
   "source": [
    "# Q6\n",
    "\"\"\"\n",
    "- 공무원 시험 과락 판별\n",
    "공무원 시험은 보통 필수 3과목(국어, 영어, 한국사)과 선택 2과목으로 나누어진다고 하면, 이 중 어느 한 과목이라도 40점 미만이면 과락이다. 한 해 응시자 중 평균 50% 정도 과락이 발생한다. 점수를 입력받은 후 어느 한 과목이라도 40점 미만일 경우 \"과락\"을 출력하고, 반대의 경우 \"과락 아님\"을 출력해 보기\n",
    "\"\"\""
   ]
  }
 ],
 "metadata": {
  "kernelspec": {
   "display_name": "Python 3",
   "language": "python",
   "name": "python3"
  },
  "language_info": {
   "name": "python",
   "version": "3.12.9"
  }
 },
 "nbformat": 4,
 "nbformat_minor": 2
}
