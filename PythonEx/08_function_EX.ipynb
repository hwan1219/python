{
 "cells": [
  {
   "cell_type": "code",
   "execution_count": null,
   "metadata": {},
   "outputs": [],
   "source": [
    "# Q1\n",
    "\"\"\"\n",
    "- 간단 챗봇 응답기\n",
    "사용자의 입력 메시지를 기반으로 간단한 인사/감사 응답을 하는 챗봇을 만들어보세요\n",
    "사용 기술: 문자열 탐색 (in), 조건문 분기\n",
    "함수를 밑에 적힌 각 조건에 맞게 응답하도록 정의\n",
    "\"안녕\" 이라는 글자가 들어 있으면 \"안녕하세요!\"\n",
    "\"고마워\" 라는 글자가 들어 있으면 \"별말씀을요!\"\n",
    "그 외의 글자가 들어 있으면 \"잘 모르겠어요.\"\n",
    "\"\"\""
   ]
  },
  {
   "cell_type": "code",
   "execution_count": null,
   "metadata": {},
   "outputs": [],
   "source": [
    "# Q2\n",
    "\"\"\"\n",
    "- 이름으로 성별 추정하기\n",
    "이름의 끝 글자를 이용해 성별을 예측하는 간단한 추정기를 만들어보세요.\n",
    "사용 기술: 문자열 메서드 endswith()\n",
    "함수를 밑에 적힌 각 조건에 맞게 응답하도록 정의\n",
    "\"희\", \"숙\" 이라는 글자가 들어 있으면 \"여성일 가능성이 높음\"\n",
    "\"준\", \"석\" 이라는 글자가 들어 있으면 \"남성일 가능성이 높음\"\n",
    "그 외의 글자가 들어 있으면 \"판단 어려움\"\n",
    "\"\"\""
   ]
  },
  {
   "cell_type": "code",
   "execution_count": null,
   "metadata": {},
   "outputs": [],
   "source": [
    "# Q3\n",
    "\"\"\"\n",
    "- 욕설 필터링 함수\n",
    "텍스트에서 비속어를 탐지하여 ***로 마스킹하는 함수\n",
    "사용 기술: list와 replace()\n",
    "함수 안에서 \"바보\", \"멍청이\" 라는 비속어가 들어 있으면 \"***\" 처리\n",
    "\"\"\""
   ]
  },
  {
   "cell_type": "code",
   "execution_count": null,
   "metadata": {},
   "outputs": [],
   "source": [
    "# Q4\n",
    "\"\"\"\n",
    "- 단어 길이 필터링\n",
    "문장에서 길이가 2 이상인 단어만 추출하는 함수를 만들어보세요\n",
    "\"나 너 우리 모두\" 를 넣었을 때\n",
    "['우리', '모두']\n",
    "\"\"\""
   ]
  },
  {
   "cell_type": "code",
   "execution_count": null,
   "metadata": {},
   "outputs": [],
   "source": [
    "# Q5\n",
    "\"\"\"\n",
    "- 전화번호 마스킹\n",
    "전화번호에서 뒷자리 4자리를 ****로 가려주는 함수를 만들어보세요\n",
    "사용 기술: 문자열 슬라이싱\n",
    "010-1234-****\n",
    "\"\"\""
   ]
  },
  {
   "cell_type": "code",
   "execution_count": null,
   "metadata": {},
   "outputs": [],
   "source": [
    "# Q6\n",
    "\"\"\"\n",
    "- 이메일 도메인 추출기\n",
    "사용자가 입력한 이메일 주소에서 도메인 부분만 추출해보세요\n",
    "사용 기술: 문자열 split()\n",
    "user@example.com\n",
    "도메인: example.com\n",
    "\"\"\""
   ]
  },
  {
   "cell_type": "code",
   "execution_count": null,
   "metadata": {},
   "outputs": [],
   "source": [
    "# Q7\n",
    "\"\"\"\n",
    "- 감정 점수 분석기\n",
    "문장에서 감정 점수를 계산하고 긍정/부정/중립으로 분류하는 함수입니다\n",
    "사용 기술: 딕셔너리, 문자열 탐색, 조건 분기\n",
    "# \"좋아\": 2, \"행복\": 3, \"기쁨\": 2\n",
    "# \"슬퍼\": -2, \"화남\": -3, \"짜증\": -1\n",
    "\"\"\"\n"
   ]
  }
 ],
 "metadata": {
  "kernelspec": {
   "display_name": "Python 3",
   "language": "python",
   "name": "python3"
  },
  "language_info": {
   "name": "python",
   "version": "3.12.9"
  }
 },
 "nbformat": 4,
 "nbformat_minor": 2
}
