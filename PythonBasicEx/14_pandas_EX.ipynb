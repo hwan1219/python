{
 "cells": [
  {
   "cell_type": "code",
   "execution_count": null,
   "metadata": {},
   "outputs": [],
   "source": [
    "# 자세한 문제 내용 pandas_Q.pdf 확인"
   ]
  },
  {
   "cell_type": "code",
   "execution_count": null,
   "metadata": {},
   "outputs": [],
   "source": [
    "# Q1\n",
    "'''\n",
    "- 분식집 주문 분석하기\n",
    "pandas 로 음식점 주문 데이터를 분석하고, 인기 메뉴를 파악\n",
    "'''"
   ]
  },
  {
   "cell_type": "code",
   "execution_count": null,
   "metadata": {},
   "outputs": [],
   "source": [
    "# Q2\n",
    "'''\n",
    "- 학생 성적 분석\n",
    "시험 성적 데이터를 pandas 로 분석하고 반 평균, 최고점, 최저점 학생을 파악\n",
    "'''"
   ]
  },
  {
   "cell_type": "code",
   "execution_count": null,
   "metadata": {},
   "outputs": [],
   "source": [
    "# Q3\n",
    "'''\n",
    "- 출석부 결측치 처리\n",
    "출석/결석 데이터를 pandas 로 처리, 결석 횟수를 분석\n",
    "'''"
   ]
  },
  {
   "cell_type": "code",
   "execution_count": null,
   "metadata": {},
   "outputs": [],
   "source": [
    "# Q4\n",
    "'''\n",
    "주간 매출 분석\n",
    "요일별 매출 데이터를 분석하고 평균 매출 및 최고 매출 요일을 파악\n",
    "'''"
   ]
  }
 ],
 "metadata": {
  "kernelspec": {
   "display_name": "Python 3",
   "language": "python",
   "name": "python3"
  },
  "language_info": {
   "name": "python",
   "version": "3.12.9"
  }
 },
 "nbformat": 4,
 "nbformat_minor": 2
}
