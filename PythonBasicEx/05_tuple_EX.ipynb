{
 "cells": [
  {
   "cell_type": "code",
   "execution_count": null,
   "metadata": {},
   "outputs": [],
   "source": [
    "# Q1\n",
    "'''\n",
    "- 학생 성적 관리 튜플 생성기\n",
    "학생 성적 정보를 입력받아 튜플로 저장하고 출력하는 프로그램\n",
    "이름, 국어, 영어, 수학 점수를 입력받음\n",
    "학생 이름: 홍길동\n",
    "국어 점수: 90\n",
    "영어 점수: 85\n",
    "수학 점수: 100\n",
    "학생 정보 튜플: ('홍길동', 90, 85, 95)\n",
    "홍길동의 총점은 270점입니다.\n",
    "'''"
   ]
  },
  {
   "cell_type": "code",
   "execution_count": null,
   "metadata": {},
   "outputs": [],
   "source": [
    "# Q2\n",
    "'''\n",
    "- 좌표 거리 계산기\n",
    "두 점의 좌표를 튜플로 입력 받아 튜플로 저장 후 거리 구하기\n",
    "첫 번째 좌표 (x, y): 1, 2\n",
    "두 번째 좌표 (x, y): 4, 6\n",
    "두 좌표 사이의 거리: 5.0\n",
    "거리 계산 공식: sqrt((x2-x1)^2 + (y2-y1)^2) /  ^ = **\n",
    "'''"
   ]
  },
  {
   "cell_type": "code",
   "execution_count": null,
   "metadata": {},
   "outputs": [],
   "source": [
    "# Q3\n",
    "'''\n",
    "- 요일 자동 인식기\n",
    "요일 정보를 튜플로 저장 (0: 월요일, 1: 화요일, ...,  6: 일요일)\n",
    "0부터 6까지의 숫자를 입력하세요: 2\n",
    "해당 요일은: 수요일\n",
    "'''"
   ]
  },
  {
   "cell_type": "code",
   "execution_count": null,
   "metadata": {},
   "outputs": [],
   "source": [
    "# Q4\n",
    "'''\n",
    "- 도서관 책 정보 등록기\n",
    "3권의 책 정보 입력받아 튜플로 저장 후 출력\n",
    "1 번째 책 제목 입력: 파이썬 기초\n",
    "저자 입력: 김코딩\n",
    "2 번째 책 제목 입력: 머신러닝\n",
    "저자 입력: 이데이터\n",
    "3 번째 책 제목 입력: 딥러닝\n",
    "저자 입력: 박인공지능\n",
    "등록된 책 목록:\n",
    "제목: 파이썬 기초, 저자: 김코딩\n",
    "제목: 머신러닝, 저자: 이데이터\n",
    "제목: 딥러닝, 저자: 박인공지능\n",
    "'''"
   ]
  },
  {
   "cell_type": "code",
   "execution_count": null,
   "metadata": {},
   "outputs": [],
   "source": [
    "# Q5\n",
    "'''\n",
    "- 최대값/최소값 튜플 반환기\n",
    "튜플로 최대값, 최소값 저장\n",
    "숫자를 공백으로 구분하여 입력하세요: 10 30 20 50\n",
    "최대값과 최소값: (50, 10)\n",
    "'''"
   ]
  },
  {
   "cell_type": "code",
   "execution_count": null,
   "metadata": {},
   "outputs": [],
   "source": [
    "# Q6\n",
    "'''\n",
    "- 단어와 길이 짝짓기\n",
    "단어들을 공백으로 입력 받아 튜플 목록 생성후 출력\n",
    "단어들을 공백으로 입력하세요: apple banana cat\n",
    "단어와 길이 목록:\n",
    "('apple', 5)\n",
    "('banana', 6)\n",
    "('cat', 3)\n",
    "'''"
   ]
  },
  {
   "cell_type": "code",
   "execution_count": null,
   "metadata": {},
   "outputs": [],
   "source": [
    "# Q7\n",
    "'''\n",
    "- 학생 평균 점수 정렬\n",
    "평균 점수를 기준으로 정렬\n",
    "평균 점수 기준 내림차순 정렬:\n",
    "영희 - 평균: 88.67\n",
    "철수 - 평균: 87.67\n",
    "민수 - 평균: 76.0\n",
    "'''"
   ]
  }
 ],
 "metadata": {
  "kernelspec": {
   "display_name": "Python 3",
   "language": "python",
   "name": "python3"
  },
  "language_info": {
   "name": "python",
   "version": "3.12.9"
  }
 },
 "nbformat": 4,
 "nbformat_minor": 2
}
