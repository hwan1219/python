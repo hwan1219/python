{
 "cells": [
  {
   "cell_type": "code",
   "execution_count": null,
   "metadata": {},
   "outputs": [],
   "source": [
    "# Q1\n",
    "'''\n",
    "- 영화 별 평점 시각화\n",
    "다음과 같은 영화들의 평점을 matplotlib 를 활용하여 그래프로 시각화하세요\n",
    "영화: Interstellar, Inception, Dune, Tenet, Oppenheimer\n",
    "평점: [9.0, 8.8, 8.1, 7.5, 8.7]\n",
    "제목, x축 라벨, y축 라벨, y축 범위 설정, y축 점선 그리드\n",
    "'''"
   ]
  },
  {
   "cell_type": "code",
   "execution_count": null,
   "metadata": {},
   "outputs": [],
   "source": [
    "# Q2\n",
    "'''\n",
    "- 월별 과일 판매량 시각화\n",
    "과일별 판매량 데이터를 seaborn 으로 그룹 그래프 형식으로 시각화하세요\n",
    "과일: 사과, 바나나, 오렌지, 포도\n",
    "1월: [150, 200, 130, 90]\n",
    "2월: [180, 220, 120, 100]\n",
    "pandas melt()로 long-format 변환\n",
    "sns.barplot()으로 월별 그룹 비교\n",
    "'''"
   ]
  },
  {
   "cell_type": "code",
   "execution_count": null,
   "metadata": {},
   "outputs": [],
   "source": [
    "# Q3\n",
    "'''\n",
    "- 시험 점수 분포 시각화\n",
    "평균 75점, 표준편차 10인 정규분포 데이터를 생성하고 시각화하세요\n",
    "np.random.normal()로 100개의 점수 생성\n",
    "plt.hist()로 분포 시각화\n",
    "x/y축 라벨 및 타이틀 추가가\n",
    "'''"
   ]
  },
  {
   "cell_type": "code",
   "execution_count": null,
   "metadata": {},
   "outputs": [],
   "source": [
    "# Q4\n",
    "'''\n",
    "- 시험 점수 분포 시각화\n",
    "요일별 방문자 수를 그래프로 시각화하세요\n",
    "plt.plot() 활용\n",
    "marker 로 점 표시, 제목/라벨/그리드 포함\n",
    "days = ['Mon', 'Tue', 'Wed', 'Thu', 'Fri', 'Sat', 'Sun']\n",
    "visitors = [120, 135, 140, 150, 160, 300, 250]\n",
    "'''"
   ]
  },
  {
   "cell_type": "code",
   "execution_count": null,
   "metadata": {},
   "outputs": [],
   "source": [
    "# Q5\n",
    "'''\n",
    "- 타이타닉 생존율 분석\n",
    "타이타닉 데이터셋을 활용하여 선실 등급(class)별 생존자 수를 시각화하세요\n",
    "sns.countplot() 사용\n",
    "hue= 'survived' 옵션을 통해 생존 여부 구분\n",
    "범례 및 라벨 추가\n",
    "'''"
   ]
  },
  {
   "cell_type": "code",
   "execution_count": null,
   "metadata": {},
   "outputs": [],
   "source": [
    "# Q6\n",
    "'''\n",
    "- COVID-19 시계열 시각화\n",
    "12개월간 COVID-19 확진자 수 데이터를 시게열 그래프로 표현하세요\n",
    "pandas 로 날짜 데이터 생성\n",
    "plt.plot() 으로 추세 시각화\n",
    "x 축 라벨 회전, 격자 포함\n",
    "확진자 수 = [120, 300, 500, 700, 1100, 900, 950, 870, 770, 600, 400, 300]\n",
    "'''"
   ]
  },
  {
   "cell_type": "code",
   "execution_count": null,
   "metadata": {},
   "outputs": [],
   "source": [
    "# Q7\n",
    "'''\n",
    "- 펭귄 산점도 분석\n",
    "펭귄 데이터셋에서 종(species)별 부리 길이와 날개 길이의 관계를 시각화하세요\n",
    "sns.scatterplot() 사용\n",
    "hue, style 옵션에 species 설정\n",
    "'''"
   ]
  },
  {
   "cell_type": "code",
   "execution_count": null,
   "metadata": {},
   "outputs": [],
   "source": [
    "# Q8\n",
    "'''\n",
    "- 상관관계 히트맵\n",
    "iris 데이터셋의 수치형 변수들 간의 상관관계를 히트맵으로 시각화하세요\n",
    "seaborn 의 heatmap 사용\n",
    "annot=True, cmap 옵션 설정\n",
    "'''"
   ]
  },
  {
   "cell_type": "code",
   "execution_count": null,
   "metadata": {},
   "outputs": [],
   "source": [
    "# Q9\n",
    "'''\n",
    "- 지역별 매출 파이 차트\n",
    "서울, 부산, 대구, 광주 지역의 매출을 파이 차트로 시각화하세요\n",
    "plt.pie() 사용\n",
    "labels, autopct, startangle 설정 포함함\n",
    "labels = ['서울', '부산', '대구', '광주']\n",
    "sales = [400, 200, 150, 100]\n",
    "'''"
   ]
  },
  {
   "cell_type": "code",
   "execution_count": null,
   "metadata": {},
   "outputs": [],
   "source": [
    "# Q10\n",
    "'''\n",
    "- 직군별 연봉 BoxPlot\n",
    "개발자와 디자이너의 연봉 분포를 boxplot 으로 시각화하세요\n",
    "seaborn 의 boxplot 사용\n",
    "가상 연봉 데이터 생성 포함\n",
    "직군: ['개발자']*50 + ['디자이너']*50\n",
    "'''"
   ]
  }
 ],
 "metadata": {
  "kernelspec": {
   "display_name": "Python 3",
   "language": "python",
   "name": "python3"
  },
  "language_info": {
   "name": "python",
   "version": "3.12.9"
  }
 },
 "nbformat": 4,
 "nbformat_minor": 2
}
