{
 "cells": [
  {
   "cell_type": "code",
   "execution_count": null,
   "metadata": {},
   "outputs": [],
   "source": [
    "# Q1\n",
    "\"\"\"\n",
    "- 학생 점수 평균 구하기\n",
    "학생들의 이름과 점수가 담긴 딕셔너리를 보고 전체 평균 점수를 구하세요\n",
    "'Alice': 85, 'Bob': 92, 'Charlie': 78\n",
    "평균 점수: 85.0\n",
    "\"\"\""
   ]
  },
  {
   "cell_type": "code",
   "execution_count": null,
   "metadata": {},
   "outputs": [],
   "source": [
    "# Q2\n",
    "\"\"\"\n",
    "- 전화번호부 만들기\n",
    "딕셔너리로 이름을 키, 전화번호를 값으로 저장하고, 사용자가 이름을 입력하면 번호를 출력하세요\n",
    "{'엄마': '010-1234-5678', '아빠': '010-9876-5432'}\n",
    "이름을 입력하세요: 엄마\n",
    "엄마의 전화번호: 010-1234-5678\n",
    "\"\"\""
   ]
  },
  {
   "cell_type": "code",
   "execution_count": null,
   "metadata": {},
   "outputs": [],
   "source": [
    "# Q3\n",
    "\"\"\"\n",
    "- 단어 수 세기\n",
    "문장에서 단어별로 몇 번 나왔는지 세어 딕셔너리에 저장\n",
    "sentence = \"i love python because python is fun\"\n",
    "{'i': 1, 'love': 1, 'python': 2, 'because': 1, 'is': 1, 'fun': 1}\n",
    "\"\"\""
   ]
  },
  {
   "cell_type": "code",
   "execution_count": null,
   "metadata": {},
   "outputs": [],
   "source": [
    "# Q4\n",
    "\"\"\"\n",
    "- 영어 > 한글 단어장\n",
    "영어 단어를 입력하면 한글 뜻을 출력하는 단어장 프로그램 생성\n",
    "영어 단어를 입력하세요: banana\n",
    "banana의 뜻은 바나나입니다\n",
    "\"\"\""
   ]
  },
  {
   "cell_type": "code",
   "execution_count": null,
   "metadata": {},
   "outputs": [],
   "source": [
    "# Q5\n",
    "\"\"\"\n",
    "- 물건 가격 검색기\n",
    "딕셔너리로 물건 이름과 가격을 저장하고, 물건명을 입력하면 가격을 출력\n",
    "{'커피': 3000, '아이스크림': 2000, '샌드위치': 4500}\n",
    "물건 이름을 입력하세요: 커피\n",
    "커피의 가격은 3000원입니다\n",
    "\"\"\""
   ]
  },
  {
   "cell_type": "code",
   "execution_count": null,
   "metadata": {},
   "outputs": [],
   "source": [
    "# Q6\n",
    "\"\"\"\n",
    "- 출석 체크\n",
    "전체 학생 명단과 출석한 학생 명단이 있을 때, 결석자를 출력\n",
    "all_student = ['Alice', 'Bob', 'Charlie', 'David']\n",
    "attended = ['Alice', 'Charlie']\n",
    "결석자 명단: ['Bob','David']\n",
    "\"\"\""
   ]
  },
  {
   "cell_type": "code",
   "execution_count": null,
   "metadata": {},
   "outputs": [],
   "source": [
    "# Q7\n",
    "\"\"\"\n",
    "- 투표 시스템\n",
    "사용자로부터 투표를 입력받아 후보별 표 수를 집계하세요. 중복 투표 허용\n",
    "투표할 후보 이름을 입력하세요 (종료는 '끝\")\n",
    "사용자 입력: Alice\n",
    "사용자 입력: Bob\n",
    "사용자 입력: alice\n",
    "사용자 입력: 끝\n",
    "투포 결과:\n",
    "Alice: 2표\n",
    "Bob: 1표\n",
    "\"\"\""
   ]
  }
 ],
 "metadata": {
  "kernelspec": {
   "display_name": "Python 3",
   "language": "python",
   "name": "python3"
  },
  "language_info": {
   "name": "python",
   "version": "3.12.9"
  }
 },
 "nbformat": 4,
 "nbformat_minor": 2
}
