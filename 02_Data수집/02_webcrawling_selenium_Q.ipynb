{
 "cells": [
  {
   "cell_type": "code",
   "execution_count": null,
   "metadata": {},
   "outputs": [],
   "source": [
    "# Q6\n",
    "'''\n",
    "- 멜론 실시간 인기곡 제목 수집기\n",
    "1. 멜론 실시간 차트 웹페이지에 접속\n",
    "2. 인기곡 제목을 모두 수집해서 리스트에 저장\n",
    "3. 수집한 곡 제목을 순서대로 출력\n",
    "'''\n",
    "\n",
    "import requests\n",
    "from bs4 import BeautifulSoup\n",
    "\n",
    "url = \"https://www.melon.com/chart/index.htm\"\n",
    "\n",
    "headers = {\n",
    "  \"User-Agent\": \"Mozilla/5.0\",\n",
    "  \"Referer\": \"https://www.melon.com/chart/index.htm\"\n",
    "}\n",
    "response = requests.get(url, headers=headers)\n",
    "\n",
    "song_list = []\n",
    "singer_list = []\n",
    "try:\n",
    "  if response.status_code == 200:\n",
    "    soup = BeautifulSoup(response.text, 'html.parser')\n",
    "    songs = soup.select('.rank01 > span > a')\n",
    "    singers = soup.select('.rank02 > span > a')\n",
    "    \n",
    "    for song in songs:\n",
    "      song = song.text.strip()\n",
    "      song_list.append(song)\n",
    "    for singer in singers:\n",
    "      singer = singer.text.strip()\n",
    "      singer_list.append(singer)\n",
    "\n",
    "except Exception as e:\n",
    "  print(f\"에러 발생: {e}\")\n",
    "  \n",
    "print(f\"노래 {len(song_list)}개 수집 완료\")\n",
    "for i, (song, singer) in enumerate(zip(song_list, singer_list), 1):\n",
    "  print(f\"{i}. {song}  /  {singer}\")\n",
    "  "
   ]
  },
  {
   "cell_type": "code",
   "execution_count": null,
   "metadata": {},
   "outputs": [],
   "source": [
    "# Q7\n",
    "'''\n",
    "- 다음 영화 인기 기사 수집기\n",
    "1. 다음 영화 기사 페이지에 접속\n",
    "2. 영화 기사 제목을 전부 수집해서 리스트에 저장\n",
    "3. 수집한 영화 기사 제목을 번호를 붙여 출력\n",
    "'''\n",
    "\n",
    "from selenium import webdriver\n",
    "from selenium.webdriver.chrome.service import Service\n",
    "from selenium.webdriver.common.by import By\n",
    "from selenium.webdriver.chrome.options import Options\n",
    "from webdriver_manager.chrome import ChromeDriverManager\n",
    "import time\n",
    "\n",
    "# Chrome 옵션 설정\n",
    "options = Options()\n",
    "options.add_argument('--headless') # 창을 띄우지 않고 실행하고 싶을 때\n",
    "options.add_argument('--no-sandbox')\n",
    "options.add_argument('--disable-dev-shm-usage')\n",
    "\n",
    "driver = webdriver.Chrome(service=Service(ChromeDriverManager().install()), options=options)\n",
    "\n",
    "url = \"https://movie.daum.net/ranking/reservation\"\n",
    "driver.get(url)\n",
    "time.sleep(3)\n",
    "\n",
    "movie_elements = driver.find_elements(By.CSS_SELECTOR, \".tit_thumb > a\")\n",
    "\n",
    "movie_titles = [movie.text.strip() for movie in movie_elements]\n",
    "  \n",
    "print(f\"영화 기사 {len(movie_titles)}개 수집 완료\")\n",
    "for i, title in enumerate(movie_titles, 1):\n",
    "  print(f\"\\n{i}. {title}\")"
   ]
  },
  {
   "cell_type": "code",
   "execution_count": null,
   "metadata": {},
   "outputs": [],
   "source": [
    "# Q8\n",
    "'''\n",
    "- Selenium 연습\n",
    "1. 페이지 전체 가져오기\n",
    "ex) html = driver.page_source\n",
    "2. 현재 URL 가져오기\n",
    "ex) print(driver.current_url)\n",
    "3. 특정 요소 텍스트 읽기\n",
    "ex) text = driver.find_element(By.CLASS_NAME, 'title').text\n",
    "4. 모든 링크 리스트 뽑기\n",
    "ex) [a.get_attribute('href') for a in driver.find_elements(By.TAG_NAME, 'a')]\n",
    "5. 스크롤 내리기\n",
    "ex) driver.execute_script('window.scrollTo(0, document.body.scrollHeight))\n",
    "6. 스크린샷 저장하기\n",
    "driver.save_screenshot('screenshot.png')\n",
    "'''"
   ]
  },
  {
   "cell_type": "code",
   "execution_count": null,
   "metadata": {},
   "outputs": [],
   "source": [
    "# Q9\n",
    "'''\n",
    "\n",
    "'''"
   ]
  },
  {
   "cell_type": "code",
   "execution_count": null,
   "metadata": {},
   "outputs": [],
   "source": [
    "# Q10\n",
    "'''\n",
    "\n",
    "'''"
   ]
  }
 ],
 "metadata": {
  "kernelspec": {
   "display_name": "Python 3",
   "language": "python",
   "name": "python3"
  },
  "language_info": {
   "codemirror_mode": {
    "name": "ipython",
    "version": 3
   },
   "file_extension": ".py",
   "mimetype": "text/x-python",
   "name": "python",
   "nbconvert_exporter": "python",
   "pygments_lexer": "ipython3",
   "version": "3.12.9"
  }
 },
 "nbformat": 4,
 "nbformat_minor": 2
}
