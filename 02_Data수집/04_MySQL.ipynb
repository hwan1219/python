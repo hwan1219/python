{
 "cells": [
  {
   "cell_type": "markdown",
   "metadata": {},
   "source": [
    "# MySQL"
   ]
  },
  {
   "cell_type": "code",
   "execution_count": null,
   "metadata": {},
   "outputs": [],
   "source": [
    "# MySQL <=> Python(Pandas)\n",
    "# pandas와 DB 연결 라이브러리: sqlalchemy\n",
    "\n",
    "!python -m pip install pandas \n",
    "!python -m pip install sqlalchemy\n",
    "!python -m pip install pymysql"
   ]
  },
  {
   "cell_type": "code",
   "execution_count": null,
   "metadata": {},
   "outputs": [],
   "source": [
    "# 1. pandas를 통해서 데이터 만들기\n",
    "\n",
    "import pandas as pd\n",
    "\n",
    "data = {\n",
    "  'name': ['hong1', 'hong2', 'hong3'],\n",
    "  'age': [30, 31, 32]\n",
    "}\n",
    "df_users = pd.DataFrame(data)\n",
    "print(df_users)"
   ]
  },
  {
   "cell_type": "code",
   "execution_count": null,
   "metadata": {},
   "outputs": [],
   "source": [
    "# 2. MySQL에 연결(sqlalchemy)\n",
    "from sqlalchemy import create_engine\n",
    "\n",
    "user = 'root'\n",
    "password = '1234'\n",
    "host = '127.0.0.1'\n",
    "port = 3306\n",
    "database = 'analysis'\n",
    "\n",
    "engine = create_engine(f\"mysql+pymysql://{user}:{password}@{host}:{port}/{database}\")"
   ]
  },
  {
   "cell_type": "code",
   "execution_count": null,
   "metadata": {},
   "outputs": [],
   "source": [
    "# 3. Pandas data > MySQL 저장\n",
    "\n",
    "import pandas as pd\n",
    "from sqlalchemy import create_engine\n",
    "\n",
    "df_users = pd.DataFrame({\n",
    "  'name': ['hong1', 'hong2', 'hong3'],\n",
    "  'age': [30, 31, 32]\n",
    "})\n",
    "\n",
    "user = 'root'\n",
    "password = '1234'\n",
    "host = '127.0.0.1'\n",
    "port = 3306\n",
    "database = 'analysis'\n",
    "\n",
    "engine = create_engine(f\"mysql+pymysql://{user}:{password}@{host}:{port}/{database}\")\n",
    "\n",
    "df_users.to_sql('users',con=engine,index=False,if_exists='replace')\n",
    "print(\"MySQL 데이터 저장 완료\")"
   ]
  },
  {
   "cell_type": "code",
   "execution_count": null,
   "metadata": {},
   "outputs": [],
   "source": [
    "# 4. MySQL > Pandas 가져오기\n",
    "\n",
    "from sqlalchemy import create_engine\n",
    "\n",
    "user = 'root'\n",
    "password = '1234'\n",
    "host = '127.0.0.1'\n",
    "port = 3306\n",
    "database = 'analysis'\n",
    "\n",
    "engine = create_engine(f\"mysql+pymysql://{user}:{password}@{host}:{port}/{database}\")\n",
    "df_from_db = pd.read_sql(\"SELECT * FROM users\",con=engine)\n",
    "print(\"MySQL > Pandas:\", df_from_db)"
   ]
  }
 ],
 "metadata": {
  "kernelspec": {
   "display_name": "Python 3",
   "language": "python",
   "name": "python3"
  },
  "language_info": {
   "codemirror_mode": {
    "name": "ipython",
    "version": 3
   },
   "file_extension": ".py",
   "mimetype": "text/x-python",
   "name": "python",
   "nbconvert_exporter": "python",
   "pygments_lexer": "ipython3",
   "version": "3.12.9"
  }
 },
 "nbformat": 4,
 "nbformat_minor": 2
}
