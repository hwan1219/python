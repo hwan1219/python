{
 "cells": [
  {
   "cell_type": "markdown",
   "metadata": {},
   "source": [
    "# Selenium"
   ]
  },
  {
   "cell_type": "code",
   "execution_count": null,
   "metadata": {},
   "outputs": [],
   "source": [
    "!python -m pip install selenium"
   ]
  },
  {
   "cell_type": "code",
   "execution_count": null,
   "metadata": {},
   "outputs": [],
   "source": [
    "# Selenium (동적 web crawling)\n",
    "# chrome version : 136.0.7103.49"
   ]
  },
  {
   "cell_type": "code",
   "execution_count": null,
   "metadata": {},
   "outputs": [],
   "source": [
    "from selenium import webdriver\n",
    "from selenium.webdriver.common.by import By\n",
    "from selenium.webdriver.chrome.service import Service\n",
    "\n",
    "driver_path = 'c:/tools/chromedriver/chromedriver.exe'\n",
    "service = Service(driver_path)\n",
    "driver = webdriver.Chrome(service=service)\n",
    "\n",
    "driver.get(\"https://example.com\")"
   ]
  },
  {
   "cell_type": "code",
   "execution_count": null,
   "metadata": {},
   "outputs": [],
   "source": [
    "# (1) 타이틀 가져오기\n",
    "\n",
    "from selenium import webdriver\n",
    "from selenium.webdriver.common.by import By\n",
    "from selenium.webdriver.chrome.service import Service\n",
    "\n",
    "# driver_path 값은 본인이 저장 해놓은 위치 기입\n",
    "driver_path = 'c:/tools/chromedriver/chromedriver.exe'\n",
    "service = Service(driver_path)\n",
    "driver = webdriver.Chrome(service=service)\n",
    "\n",
    "driver.get('https://example.com')\n",
    "print(driver.title) # 사이트 제목 출력\n",
    "driver.quit() # 브라우저 종료"
   ]
  },
  {
   "cell_type": "code",
   "execution_count": null,
   "metadata": {},
   "outputs": [],
   "source": [
    "# (2) selenium 버튼 클릭하기\n",
    "\n",
    "from selenium import webdriver\n",
    "from selenium.webdriver.common.by import By\n",
    "from selenium.webdriver.chrome.service import Service\n",
    "import time\n",
    "\n",
    "driver_path = 'c:/tools/chromedriver/chromedriver.exe'\n",
    "service = Service(driver_path)\n",
    "driver = webdriver.Chrome(service=service)\n",
    "\n",
    "# W3Schools 폼(form) 연습 페이지 열기\n",
    "driver.get('https://www.w3schools.com/html/html_forms.asp')\n",
    "\n",
    "time.sleep(2) # 페이지 로딩 대기\n",
    "\n",
    "# 버튼 요소 찾기 (submit 버튼)\n",
    "submit_button = driver.find_element(By.XPATH, '//button[@type=\"submit\"]')\n",
    "\n",
    "# 버튼 클릭하기\n",
    "submit_button.click()\n",
    "\n",
    "time.sleep(3) # 클릭 후 잠시 대기\n",
    "driver.quit() # 브라우저 종료"
   ]
  },
  {
   "cell_type": "code",
   "execution_count": null,
   "metadata": {},
   "outputs": [],
   "source": [
    "# (3) 텍스트 입력하기\n",
    "\n",
    "from selenium import webdriver\n",
    "from selenium.webdriver.common.by import By\n",
    "from selenium.webdriver.chrome.service import Service\n",
    "import time\n",
    "\n",
    "driver_path = 'c:/tools/chromedriver/chromedriver.exe'\n",
    "service = Service(driver_path)\n",
    "driver = webdriver.Chrome(service=service)\n",
    "\n",
    "# W3Schools 폼(form) 연습 페이지 열기\n",
    "driver.get('https://www.w3schools.com/html/html_forms.asp')\n",
    "time.sleep(2) # 페이지 로딩 대기\n",
    "\n",
    "# # \"First name\" 입력창 찾기\n",
    "# document.getElementsByClassName()\n",
    "# document.getElementsByID()\n",
    "# document.getElementsByTagName()\n",
    "# first_name_box = driver.find_element(By.NAME, 'fname')\n",
    "first_name_box = driver.find_elements(By.NAME, 'fname') # elements 요소 리스트\n",
    "\n",
    "# # 기존 입력값 삭제(clear) + 새로운 값 입력(send_keys)\n",
    "# first_name_box.clear()\n",
    "# first_name_box.send_keys('홍길동')\n",
    "for fname in first_name_box:\n",
    "  fname.clear()\n",
    "  fname.send_keys('홍길동')\n",
    "  time.sleep(2)\n",
    "\n",
    "# # \"Last name\" 입력창 찾기\n",
    "# last_name_box = driver.find_element(By.NAME, 'lname')\n",
    "last_name_box = driver.find_elements(By.NAME, 'lname') # elements 요소 리스트\n",
    "\n",
    "# # 기존 입력값 삭제(clear) + 새로운 값 입력(send_keys)\n",
    "# last_name_box.clear()\n",
    "# last_name_box.send_keys('의적')\n",
    "for lname in last_name_box:\n",
    "  lname.clear()\n",
    "  lname.send_keys('의적')\n",
    "  time.sleep(2)\n",
    "\n",
    "driver.quit()"
   ]
  },
  {
   "cell_type": "code",
   "execution_count": null,
   "metadata": {},
   "outputs": [],
   "source": [
    "# (4) 엔터키 입력하기\n",
    "\n",
    "from selenium import webdriver\n",
    "from selenium.webdriver.chrome.service import Service\n",
    "from selenium.webdriver.common.by import By\n",
    "from selenium.webdriver.common.keys import Keys\n",
    "import time\n",
    "\n",
    "driver_path = 'c:/tools/chromedriver/chromedriver.exe'\n",
    "service = Service(driver_path)\n",
    "driver = webdriver.Chrome(service=service)\n",
    "\n",
    "driver.get('https://www.w3schools.com/html/html_forms.asp')\n",
    "time.sleep(2)\n",
    "first_name_box = driver.find_element(By.NAME, 'fname')\n",
    "first_name_box.clear()\n",
    "first_name_box.send_keys('홍길동')\n",
    "time.sleep(2)\n",
    "\n",
    "# Enter 키 입력하기\n",
    "first_name_box.send_keys(Keys.ENTER)\n",
    "time.sleep(3)\n",
    "driver.quit()"
   ]
  },
  {
   "cell_type": "code",
   "execution_count": null,
   "metadata": {},
   "outputs": [],
   "source": [
    "# (5) 특정 링크를 찾아 클릭하기\n",
    "\n",
    "from selenium import webdriver\n",
    "from selenium.webdriver.chrome.service import Service\n",
    "from selenium.webdriver.common.by import By\n",
    "import time\n",
    "\n",
    "driver_path = 'c:/tools/chromedriver/chromedriver.exe'\n",
    "service = Service(driver_path)\n",
    "driver = webdriver.Chrome(service=service)\n",
    "\n",
    "driver.get('https://www.w3schools.com/')\n",
    "time.sleep(2)\n",
    "\n",
    "# \"Learn HTML\" 링크 클릭하기 (텍스트로 링크 찾기)\n",
    "learn_html_link = driver.find_element(By.LINK_TEXT, 'Learn HTML')\n",
    "learn_html_link.click()\n",
    "\n",
    "time.sleep(3)\n",
    "driver.quit()"
   ]
  },
  {
   "cell_type": "markdown",
   "metadata": {},
   "source": [
    "### Selenium4"
   ]
  },
  {
   "cell_type": "code",
   "execution_count": null,
   "metadata": {},
   "outputs": [],
   "source": [
    "!python -m pip install webdriver_manager"
   ]
  },
  {
   "cell_type": "code",
   "execution_count": null,
   "metadata": {},
   "outputs": [],
   "source": [
    "from selenium import webdriver\n",
    "from selenium.webdriver.chrome.service import Service\n",
    "from selenium.webdriver.common.by import By\n",
    "from webdriver_manager.chrome import ChromeDriverManager\n",
    "\n",
    "# 크롬 드라이버 생성\n",
    "driver = webdriver.Chrome(service=Service(ChromeDriverManager().install()))\n",
    "\n",
    "# Google 웹사이트 접속\n",
    "driver.get(\"https://www.google.co.kr\")\n",
    "\n",
    "# 검색 입력창 찾기 (검색창의 이름이 'q')\n",
    "search_box = driver.find_element(By.NAME, 'q')\n",
    "\n",
    "# 검색어 입력\n",
    "search_box.send_keys('Jennie')\n",
    "\n",
    "# 검색 실행\n",
    "search_box.submit()\n",
    "\n",
    "# 결과 페이지 스크린샷 저장\n",
    "driver.save_screenshot('image/search_results.png')\n",
    "\n",
    "driver.quit()"
   ]
  },
  {
   "cell_type": "code",
   "execution_count": null,
   "metadata": {},
   "outputs": [],
   "source": [
    "from selenium import webdriver \n",
    "from selenium.webdriver.chrome.options import Options \n",
    "from selenium.webdriver.common.by import By \n",
    "from selenium.webdriver.common.keys import Keys \n",
    " \n",
    "# 브라우저 꺼짐 방지 옵션 \n",
    "chrome_options = Options() \n",
    "chrome_options.add_experimental_option(\"detach\", True) \n",
    " \n",
    "# 크롬 드라이버 생성 \n",
    "driver = webdriver.Chrome(options=chrome_options) \n",
    " \n",
    "# 페이지 로딩이 완료될 때 까지 기다리는 코드(3초) \n",
    "driver.implicitly_wait(3) \n",
    " \n",
    "# 사이트 접속하기 \n",
    "driver.get(url='https://www.google.co.kr') \n",
    " \n",
    "#Class Name, Teg name, Id 는 겹칠 수 있으니, XPath로 찾는것이 좋다 \n",
    "# 클릭하기 \n",
    "driver.find_element(By.XPATH,'//*[@id=\"APjFqb\"]').click() \n",
    "# 값 입력하기 \n",
    "driver.find_element(By.XPATH,'//*[@id=\"APjFqb\"]').send_keys(\"pandas\") \n",
    "# 키보드 입력하기 \n",
    "driver.find_element(By.XPATH,'//*[@id=\"APjFqb\"]').send_keys(Keys.ENTER) "
   ]
  }
 ],
 "metadata": {
  "kernelspec": {
   "display_name": "Python 3",
   "language": "python",
   "name": "python3"
  },
  "language_info": {
   "codemirror_mode": {
    "name": "ipython",
    "version": 3
   },
   "file_extension": ".py",
   "mimetype": "text/x-python",
   "name": "python",
   "nbconvert_exporter": "python",
   "pygments_lexer": "ipython3",
   "version": "3.12.9"
  }
 },
 "nbformat": 4,
 "nbformat_minor": 2
}
