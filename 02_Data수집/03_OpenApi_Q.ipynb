{
 "cells": [
  {
   "cell_type": "code",
   "execution_count": null,
   "metadata": {},
   "outputs": [],
   "source": [
    "# Q1\n",
    "'''\n",
    "- 블로그 검색기 (CSV 저장 포함)\n",
    "네이버 블로그 검색 API 로 키워드에 해당하는 블로그 글 정보를 가져오기\n",
    "검색 결과를 CSV 로 저장\n",
    "'''\n",
    "\n",
    "import os\n",
    "import sys\n",
    "import urllib.request\n",
    "import urllib.parse\n",
    "import json\n",
    "import csv\n",
    "\n",
    "client_id = \"TkWr5Zx1CvlRddtpzNZA\"\n",
    "client_secret = \"n9uK6nHknt\"\n",
    "quote = \"전기자전거\"\n",
    "encText = urllib.parse.quote(quote)\n",
    "\n",
    "url = \"https://openapi.naver.com/v1/search/blog?query=\" + encText\n",
    "request = urllib.request.Request(url)\n",
    "request.add_header(\"X-Naver-Client-Id\",client_id)\n",
    "request.add_header(\"X-Naver-Client-Secret\",client_secret)\n",
    "response = urllib.request.urlopen(request)\n",
    "rescode = response.getcode()\n",
    "if rescode == 200:\n",
    "  response_body = response.read()\n",
    "  result = json.loads(response_body.decode('utf-8'))\n",
    "  items = result['items']\n",
    "  for i, item in enumerate(items):\n",
    "    print(f\"{str(i+1)+'.':<3}제목: {item['title']}\")\n",
    "    print(f\"{'':<3}링크: {item['link']}\\n\")\n",
    "    \n",
    "    if not os.path.exists('dataset'):\n",
    "      os.makedirs('dataset')\n",
    "    save_path = \"dataset/03_Q1.csv\"\n",
    "    with open(save_path, 'w', newline='', encoding='utf-8') as f:\n",
    "      writer = csv.writer(f)\n",
    "else:\n",
    "    print(\"Error Code:\" + rescode)\n",
    "print(hasattr(urllib, 'parse'))\n"
   ]
  },
  {
   "cell_type": "code",
   "execution_count": null,
   "metadata": {},
   "outputs": [],
   "source": []
  },
  {
   "cell_type": "code",
   "execution_count": null,
   "metadata": {},
   "outputs": [],
   "source": []
  }
 ],
 "metadata": {
  "kernelspec": {
   "display_name": "Python 3",
   "language": "python",
   "name": "python3"
  },
  "language_info": {
   "codemirror_mode": {
    "name": "ipython",
    "version": 3
   },
   "file_extension": ".py",
   "mimetype": "text/x-python",
   "name": "python",
   "nbconvert_exporter": "python",
   "pygments_lexer": "ipython3",
   "version": "3.12.9"
  }
 },
 "nbformat": 4,
 "nbformat_minor": 2
}
