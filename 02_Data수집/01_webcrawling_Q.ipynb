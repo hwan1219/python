{
 "cells": [
  {
   "cell_type": "code",
   "execution_count": 7,
   "metadata": {},
   "outputs": [
    {
     "name": "stdout",
     "output_type": "stream",
     "text": [
      "https://search.naver.com/search.naver?query=%EC%A0%84%EA%B8%B0%EC%9E%90%EC%A0%84%EA%B1%B0\n",
      "https://www.google.com/search?q=%EC%A0%84%EA%B8%B0%EC%9E%90%EC%A0%84%EA%B1%B0\n"
     ]
    }
   ],
   "source": [
    "# Q1\n",
    "\"\"\"\n",
    "- 검색어 URL 자동 생성기\n",
    "사용자로부터 검색어를 입력받아, 해당 검색어로 구글과 네이버에서 검색 가능한 URL 을 자동 생성하세요\n",
    "\"\"\"\n",
    "from urllib.parse import urlencode \n",
    " \n",
    "params = { \n",
    "  'query': '전기자전거'\n",
    "}\n",
    "params2 = { \n",
    "  'q': '전기자전거'\n",
    "}\n",
    " \n",
    "query_string = urlencode(params) \n",
    "query_string2 = urlencode(params2) \n",
    "url = f\"https://search.naver.com/search.naver?{query_string}\"\n",
    "url2 = f\"https://www.google.com/search?{query_string2}\"\n",
    "print(url)\n",
    "print(url2)"
   ]
  },
  {
   "cell_type": "code",
   "execution_count": 9,
   "metadata": {},
   "outputs": [
    {
     "name": "stdout",
     "output_type": "stream",
     "text": [
      "이미지 다운로드 완료\n"
     ]
    }
   ],
   "source": [
    "# Q2\n",
    "\"\"\"\n",
    "- 이미지 자동 다운로드 하기\n",
    "이미지 URL 을 이용해 이미지를 자동으로 다운로드하고, 파일로 저장하세요\n",
    "\"\"\"\n",
    "\n",
    "from urllib.request import urlretrieve\n",
    "\n",
    "image_url = \"https://picsum.photos/500/300\"\n",
    "save_path = \"image/downloaded_image.png\"\n",
    "\n",
    "urlretrieve(image_url, save_path)\n",
    "print(\"이미지 다운로드 완료\")"
   ]
  },
  {
   "cell_type": "code",
   "execution_count": null,
   "metadata": {},
   "outputs": [],
   "source": [
    "# Q3\n",
    "\"\"\"\n",
    "\n",
    "\"\"\""
   ]
  },
  {
   "cell_type": "code",
   "execution_count": null,
   "metadata": {},
   "outputs": [],
   "source": [
    "# Q4\n",
    "\"\"\"\n",
    "\n",
    "\"\"\""
   ]
  },
  {
   "cell_type": "code",
   "execution_count": null,
   "metadata": {},
   "outputs": [],
   "source": [
    "# Q5\n",
    "\"\"\"\n",
    "\n",
    "\"\"\""
   ]
  }
 ],
 "metadata": {
  "kernelspec": {
   "display_name": "Python 3",
   "language": "python",
   "name": "python3"
  },
  "language_info": {
   "codemirror_mode": {
    "name": "ipython",
    "version": 3
   },
   "file_extension": ".py",
   "mimetype": "text/x-python",
   "name": "python",
   "nbconvert_exporter": "python",
   "pygments_lexer": "ipython3",
   "version": "3.12.9"
  }
 },
 "nbformat": 4,
 "nbformat_minor": 2
}
