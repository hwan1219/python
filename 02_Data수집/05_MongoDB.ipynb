{
 "cells": [
  {
   "cell_type": "markdown",
   "metadata": {},
   "source": [
    "# MongoDB"
   ]
  },
  {
   "cell_type": "code",
   "execution_count": null,
   "metadata": {},
   "outputs": [],
   "source": [
    "!python -m pip install pymongo"
   ]
  },
  {
   "cell_type": "code",
   "execution_count": null,
   "metadata": {},
   "outputs": [],
   "source": [
    "# 3-3 Python + PyMongo 실습\n",
    "\n",
    "from pymongo import MongoClient\n",
    "\n",
    "# MongoDB 연결\n",
    "client = MongoClient(\"mongodb://localhost:27017\")\n",
    "db = client[\"company\"]\n",
    "collection = db[\"employees\"]"
   ]
  },
  {
   "cell_type": "code",
   "execution_count": null,
   "metadata": {},
   "outputs": [],
   "source": [
    "# Create - insertOne / insertMany\n",
    "\n",
    "# MongoDB 연결\n",
    "from pymongo import MongoClient\n",
    "client = MongoClient(\"mongodb://localhost:27017\")\n",
    "db = client[\"company\"]\n",
    "collection = db[\"employees\"]\n",
    "\n",
    "# 단일 삽입\n",
    "collection.insert_one({\"name\": \"Seo Min\", \"dept\": \"marketing\", \"age\": 30})\n",
    "\n",
    "# 다중 삽입\n",
    "collection.insert_many([\n",
    "  {\"name\": \"Lee Hyun\", \"dept\": \"AI\", \"age\": 28},\n",
    "  {\"name\": \"Kim Bora\", \"dept\": \"Data\", \"age\": 32}\n",
    "])"
   ]
  },
  {
   "cell_type": "code",
   "execution_count": null,
   "metadata": {},
   "outputs": [],
   "source": [
    "# Read - find / findOne\n",
    "\n",
    "from pymongo import MongoClient\n",
    "client = MongoClient(\"mongodb://localhost:27017\")\n",
    "db = client[\"company\"]\n",
    "collection = db[\"employees\"]\n",
    "\n",
    "# 전체 조회\n",
    "print(\"전체 조회:\")\n",
    "for doc in collection.find():\n",
    "  print(doc)\n",
    "  \n",
    "# 조건 조회\n",
    "print(f\"\\n조건 조회:\")\n",
    "for doc in collection.find({\"dept\": \"AI\"}):\n",
    "  print(doc)"
   ]
  },
  {
   "cell_type": "code",
   "execution_count": null,
   "metadata": {},
   "outputs": [],
   "source": [
    "# Update\n",
    "\n",
    "from pymongo import MongoClient\n",
    "client = MongoClient(\"mongodb://localhost:27017\")\n",
    "db = client[\"company\"]\n",
    "collection = db[\"employees\"]\n",
    "\n",
    "# 하나 수정(update~set)\n",
    "collection.update_one({\"name\": \"Lee Hyun\"}, {\"$set\": {\"age\": 29}})"
   ]
  },
  {
   "cell_type": "code",
   "execution_count": null,
   "metadata": {},
   "outputs": [],
   "source": [
    "# Delete\n",
    "\n",
    "from pymongo import MongoClient\n",
    "client = MongoClient(\"mongodb://localhost:27017\")\n",
    "db = client[\"company\"]\n",
    "collection = db[\"employees\"]\n",
    "\n",
    "# 하나 삭제\n",
    "collection.delete_one({\"name\": \"Kim Bora\"})"
   ]
  },
  {
   "cell_type": "code",
   "execution_count": null,
   "metadata": {},
   "outputs": [],
   "source": [
    "# 4-4 실습 과제\n",
    "\n",
    "# 1. Python으로 project_db 데이터베이스와 tasks Collection 연결\n",
    "# 2. 다음 데이터 삽입 (insert_many 사용):\n",
    "# {\"task\": \"데이터 수집\", \"status\": \"incomplete\"},\n",
    "# {\"task\": \"MongoDB 연동\", \"status\": \"complete\"}\n",
    "# 3. \"status\": \"incomplete\" 조건으로 조회\n",
    "# 4. \"데이터 수집\"이라는 작업을 \"status\": \"complete\"로 수정\n",
    "# 5. \"MongoDB 연동\" 작업 삭제"
   ]
  },
  {
   "cell_type": "code",
   "execution_count": null,
   "metadata": {},
   "outputs": [],
   "source": [
    "# 1. Python으로 project_db 데이터베이스와 tasks Collection 연결\n",
    "\n",
    "from pymongo import MongoClient\n",
    "\n",
    "# MongoDB 연결\n",
    "client = MongoClient(\"mongodb://localhost:27017\")\n",
    "db = client[\"project_db\"]\n",
    "collection = db[\"tasks\"]"
   ]
  },
  {
   "cell_type": "code",
   "execution_count": null,
   "metadata": {},
   "outputs": [],
   "source": [
    "# 2. 다음 데이터 삽입 (insert_many 사용):\n",
    "# {\"task\": \"데이터 수집\", \"status\": \"incomplete\"},\n",
    "# {\"task\": \"MongoDB 연동\", \"status\": \"complete\"}\n",
    "\n",
    "from pymongo import MongoClient\n",
    "\n",
    "# MongoDB 연결\n",
    "client = MongoClient(\"mongodb://localhost:27017\")\n",
    "db = client[\"project_db\"]\n",
    "collection = db[\"task\"]\n",
    "\n",
    "collection.insert_many([\n",
    "  {\"task\": \"데이터 수집\", \"status\": \"incomplete\"},\n",
    "  {\"task\": \"MongoDB 연동\", \"status\": \"complete\"}\n",
    "])"
   ]
  },
  {
   "cell_type": "code",
   "execution_count": null,
   "metadata": {},
   "outputs": [],
   "source": [
    "# 3. \"status\": \"incomplete\" 조건으로 조회\n",
    "\n",
    "from pymongo import MongoClient\n",
    "client = MongoClient(\"mongodb://localhost:27017\")\n",
    "db = client[\"project_db\"]\n",
    "collection = db[\"tasks\"]\n",
    "\n",
    "for doc in collection.find({\"status\": \"incomplete\"}):\n",
    "  print(doc)"
   ]
  },
  {
   "cell_type": "code",
   "execution_count": null,
   "metadata": {},
   "outputs": [],
   "source": [
    "# 4. \"데이터 수집\"이라는 작업을 \"status\": \"complete\"로 수정\n",
    "\n",
    "from pymongo import MongoClient\n",
    "client = MongoClient(\"mongodb://localhost:27017\")\n",
    "db = client[\"project_db\"]\n",
    "collection = db[\"tasks\"]\n",
    "\n",
    "collection.update_one({\"task\": \"데이터 수집\"}, {\"$set\": {\"status\": \"complete\"}})"
   ]
  },
  {
   "cell_type": "code",
   "execution_count": null,
   "metadata": {},
   "outputs": [],
   "source": [
    "# 5. \"MongoDB 연동\" document 삭제\n",
    "\n",
    "from pymongo import MongoClient\n",
    "client = MongoClient(\"mongodb://localhost:27017\")\n",
    "db = client[\"project_db\"]\n",
    "collection = db[\"tasks\"]\n",
    "\n",
    "collection.delete_one({\"task\": \"MongoDB 연동\"})"
   ]
  },
  {
   "cell_type": "code",
   "execution_count": null,
   "metadata": {},
   "outputs": [],
   "source": [
    "# 5-2 실습 과제"
   ]
  },
  {
   "cell_type": "code",
   "execution_count": null,
   "metadata": {},
   "outputs": [],
   "source": [
    "# DB 연결 후 다큐먼트 삽입\n",
    "\n",
    "from pymongo import MongoClient\n",
    "\n",
    "client = MongoClient(\"mongodb://localhost:27017\")\n",
    "db = client[\"sample_db\"]\n",
    "collection = db[\"users\"]\n",
    "\n",
    "collection.insert_many([\n",
    "  {\"name\": \"Kim Yuna\", \"age\": 28, \"dept\": \"AI\", \"email\": \"yuna@company.com\"}, \n",
    "  {\"name\": \"Lee Joon\", \"age\": 35, \"dept\": \"Marketing\", \"email\": \"joon@company.com\"}, \n",
    "  {\"name\": \"Park Hana\", \"age\": 22, \"dept\": \"AI\", \"email\": \"hana@company.com\"}, \n",
    "  {\"name\": \"Choi Minho\", \"age\": 31, \"dept\": \"Finance\", \"email\": \"minho@company.com\"}, \n",
    "  {\"name\": \"Seo Jiwoo\", \"age\": 26, \"dept\": \"Data\", \"email\": \"jiwoo@company.com\"}, \n",
    "  {\"name\": \"Jung Hoon\", \"age\": 29, \"dept\": \"Data\", \"email\": \"hoon@company.com\"}, \n",
    "  {\"name\": \"Han Mira\", \"age\": 24, \"dept\": \"AI\", \"email\": \"mira@company.com\"}, \n",
    "  {\"name\": \"Kang Jisu\", \"age\": 30, \"dept\": \"Marketing\", \"email\": \"jisu@company.com\"}, \n",
    "  {\"name\": \"Yoo Taeyang\", \"age\": 33, \"dept\": \"Finance\", \"email\": \"taeyang@company.com\"}, \n",
    "  {\"name\": \"Lim Sohee\", \"age\": 27, \"dept\": \"HR\", \"email\": \"sohee@company.com\"} \n",
    "])"
   ]
  },
  {
   "cell_type": "code",
   "execution_count": null,
   "metadata": {},
   "outputs": [],
   "source": [
    "# 조건 검색\n",
    "\n",
    "from pymongo import MongoClient\n",
    "client = MongoClient(\"mongodb://localhost:27017\")\n",
    "db = client[\"sample_db\"]\n",
    "collection = db[\"users\"]\n",
    "\n",
    "print(\"나이가 30 이상:\")\n",
    "for doc in collection.find({\"age\": {\"$gte\": 30}}):\n",
    "  print(doc)\n",
    "  \n",
    "print(f\"\\n부서가 'AI' 또는 'Data':\")\n",
    "for doc in collection.find({\"dept\": {\"$in\": [\"AI\", \"Data\"]}}):\n",
    "  print(doc)"
   ]
  },
  {
   "cell_type": "code",
   "execution_count": null,
   "metadata": {},
   "outputs": [],
   "source": [
    "# 정렬\n",
    "\n",
    "from pymongo import MongoClient\n",
    "client = MongoClient(\"mongodb://localhost:27017\")\n",
    "db = client[\"sample_db\"]\n",
    "collection = db[\"users\"]\n",
    "\n",
    "# 나이 30이상, 내림차순 정렬\n",
    "print(\"나이 30이상, 내림차순 정렬:\")\n",
    "for doc in collection.find({\"age\": {\"$gte\": 30}}).sort(\"age\", -1):\n",
    "  print(doc)\n",
    "  \n",
    "# 상위 3명만 가져오기\n",
    "print(f\"\\n상위 3명만 가져오기:\")\n",
    "for doc in collection.find().limit(3):\n",
    "  print(doc)\n",
    "\n",
    "# 3건 건너뛰고 2건 가져오기\n",
    "print(f\"\\n3건 건너뛰고 2건 가져오기:\")\n",
    "for doc in collection.find().skip(3).limit(2):\n",
    "  print(doc)"
   ]
  },
  {
   "cell_type": "code",
   "execution_count": null,
   "metadata": {},
   "outputs": [],
   "source": [
    "# 나이 25 이상 사용자 검색\n",
    "\n",
    "from pymongo import MongoClient\n",
    "client = MongoClient(\"mongodb://localhost:27017\")\n",
    "db = client[\"sample_db\"]\n",
    "collection = db[\"users\"]\n",
    "\n",
    "for doc in collection.find({\"age\": {\"$gte\": 25}}, {\"_id\": 0}):\n",
    "  print(doc)"
   ]
  },
  {
   "cell_type": "code",
   "execution_count": null,
   "metadata": {},
   "outputs": [],
   "source": [
    "# 부서가 \"AI\" 또는 \"Marketing\"인 사용자 검색\n",
    "\n",
    "from pymongo import MongoClient\n",
    "client = MongoClient(\"mongodb://localhost:27017\")\n",
    "db = client[\"sample_db\"]\n",
    "collection = db[\"users\"]\n",
    "\n",
    "for doc in collection.find({\"dept\": {\"$in\": [\"AI\", \"Marketing\"]}}, {\"_id\": 0}):\n",
    "  print(doc)"
   ]
  },
  {
   "cell_type": "code",
   "execution_count": null,
   "metadata": {},
   "outputs": [],
   "source": [
    "# 나이 내림차순 정렬된 사용자 3명 출력\n",
    "\n",
    "from pymongo import MongoClient\n",
    "client = MongoClient(\"mongodb://localhost:27017\")\n",
    "db = client[\"sample_db\"]\n",
    "collection = db[\"users\"]\n",
    "\n",
    "for doc in collection.find({}, {\"_id\": 0}).sort(\"age\", -1).limit(3):\n",
    "  print(doc)"
   ]
  },
  {
   "cell_type": "code",
   "execution_count": null,
   "metadata": {},
   "outputs": [],
   "source": [
    "# 사용자 중 상위 2명은 건너뛰고 다음 2명 출력\n",
    "\n",
    "from pymongo import MongoClient\n",
    "client = MongoClient(\"mongodb://localhost:27017\")\n",
    "db = client[\"sample_db\"]\n",
    "collection = db[\"users\"]\n",
    "\n",
    "for doc in collection.find({}, {\"_id\": 0}).skip(2).limit(2):\n",
    "  print(doc)"
   ]
  },
  {
   "cell_type": "code",
   "execution_count": null,
   "metadata": {},
   "outputs": [],
   "source": [
    "# 나이가 30 이상이면서 부서가 \"AI\"인 사람만 조회\n",
    "\n",
    "from pymongo import MongoClient\n",
    "client = MongoClient(\"mongodb://localhost:27017\")\n",
    "db = client[\"sample_db\"]\n",
    "collection = db[\"users\"]\n",
    "\n",
    "for doc in collection.find({\"$and\": [{\"age\": {\"$gte\": 30}}, {\"dept\": \"Marketing\"}]}, {\"_id\": 0}):\n",
    "  print(doc)"
   ]
  },
  {
   "cell_type": "code",
   "execution_count": null,
   "metadata": {},
   "outputs": [],
   "source": [
    "# 6-2 실습 과제"
   ]
  },
  {
   "cell_type": "code",
   "execution_count": null,
   "metadata": {},
   "outputs": [],
   "source": [
    "# DB 연결 후 다큐먼트 삽입\n",
    "\n",
    "from pymongo import MongoClient\n",
    "client = MongoClient(\"mongodb://localhost:27017\")\n",
    "db = client[\"news_db\"]\n",
    "collection = db[\"naver_it\"]\n",
    "\n",
    "sample_news = [ \n",
    "  {\"index\": 1, \"title\": \"AI 기술로 변화하는 산업 구조\", \"link\": \"https://news.naver.com/tech/ai-1\"},\n",
    "  {\"index\": 2, \"title\": \"ChatGPT, 업무 생산성 향상에 큰 기여\", \"link\": \"https://news.naver.com/tech/chatgpt-boost\"},\n",
    "  {\"index\": 3, \"title\": \"MLOps 도입 기업 증가 추세\", \"link\": \"https://news.naver.com/tech/mlops-trend\"},\n",
    "  {\"index\": 4, \"title\": \"AI와 ChatGPT, 무엇이 다른가?\", \"link\": \"https://news.naver.com/tech/ai-vs-chatgpt\"},\n",
    "  {\"index\": 5, \"title\": \"IT 업계, 데이터 중심 조직으로 전환 중\", \"link\": \"https://news.naver.com/tech/data-shift\"},\n",
    "  {\"index\": 6, \"title\": \"AI 면접 시스템, 공정성 논란\", \"link\": \"https://news.naver.com/tech/ai-fair\"},\n",
    "  {\"index\": 7, \"title\": \"블록체인과 금융 혁신의 미래\", \"link\": \"https://news.naver.com/tech/blockchain-finance\"},\n",
    "  {\"index\": 8, \"title\": \"AI를 활용한 날씨 예측 기술\", \"link\": \"https://news.naver.com/tech/weather-ai\"},\n",
    "  {\"index\": 9, \"title\": \"ChatGPT 활용 가이드라인 발표\", \"link\": \"https://news.naver.com/tech/chatgpt-guide\"},\n",
    "  {\"index\": 10, \"title\": \"스마트 시티와 AI의 역할\", \"link\": \"https://news.naver.com/tech/smartcity-ai\"}\n",
    "]\n",
    "\n",
    "# collection.insert_many(sample_news)"
   ]
  },
  {
   "cell_type": "code",
   "execution_count": null,
   "metadata": {},
   "outputs": [],
   "source": [
    "# AND 조건 검색: \"AI\" 포함 + 링크가 news.naver.com 인 경우\n",
    "\n",
    "from pymongo import MongoClient\n",
    "client = MongoClient(\"mongodb://localhost:27017\")\n",
    "db = client[\"news_db\"]\n",
    "collection = db[\"naver_it\"]\n",
    "\n",
    "query = {\n",
    "  \"$and\": [\n",
    "    {\"title\": {\"$regex\": \"AI\"}},\n",
    "    {\"link\": {\"$regex\": \"news.naver.com\"}}\n",
    "  ]\n",
    "}\n",
    "\n",
    "for doc in collection.find(query, {\"_id\": 0}):\n",
    "  print(doc)"
   ]
  },
  {
   "cell_type": "code",
   "execution_count": null,
   "metadata": {},
   "outputs": [],
   "source": [
    "# OR 조건 검색: \"AI\" 또는 \"ChatGPT\" 포함\n",
    "\n",
    "from pymongo import MongoClient\n",
    "client = MongoClient(\"mongodb://localhost:27017\")\n",
    "db = client[\"news_db\"]\n",
    "collection = db[\"naver_it\"]\n",
    "\n",
    "query = {\n",
    "  \"$or\": [\n",
    "    {\"title\": {\"$regex\": \"AI\"}},\n",
    "    {\"title\": {\"$regex\": \"ChatGPT\"}}\n",
    "  ]\n",
    "}\n",
    "\n",
    "for doc in collection.find(query, {\"_id\": 0}):\n",
    "  print(doc)"
   ]
  },
  {
   "cell_type": "code",
   "execution_count": null,
   "metadata": {},
   "outputs": [],
   "source": [
    "# 정규표현식 검색\n",
    "\n",
    "from pymongo import MongoClient\n",
    "client = MongoClient(\"mongodb://localhost:27017\")\n",
    "db = client[\"news_db\"]\n",
    "collection = db[\"naver_it\"]\n",
    "\n",
    "# 제목이 'M'으로 시작하는 뉴스\n",
    "print(\"제목이 'M'으로 시작하는 뉴스:\")\n",
    "for doc in collection.find({\"title\": {\"$regex\": \"^M\"}}, {\"_id\": 0}):\n",
    "  print(doc)\n",
    "\n",
    "# 제목에 'AI'가 포함되지 않은 뉴스\n",
    "query = {\n",
    "  \"$or\": [\n",
    "    {\"title\": {\"$not\": {\"$regex\": \"AI\"}}},\n",
    "    {\"title\": {\"$exists\": False}}\n",
    "  ]\n",
    "}\n",
    "print(\"\\nAI가 포함되지 않은 뉴스:\")\n",
    "for doc in collection.find(query, {\"_id\": 0}):\n",
    "  print(doc)"
   ]
  },
  {
   "cell_type": "code",
   "execution_count": null,
   "metadata": {},
   "outputs": [],
   "source": [
    "# 제목에 \"AI\" 또는 \"데이터\"가 포함된 뉴스만 조회\n",
    "\n",
    "from pymongo import MongoClient\n",
    "client = MongoClient(\"mongodb://localhost:27017\")\n",
    "db = client[\"news_db\"]\n",
    "collection = db[\"naver_it\"]\n",
    "\n",
    "query = {\n",
    "  \"$or\": [\n",
    "    {\"title\": {\"$regex\": \"AI\"}},\n",
    "    {\"title\": {\"$regex\": \"데이터\"}}\n",
    "  ]\n",
    "}\n",
    "\n",
    "for doc in collection.find(query, {\"_id\": 0}):\n",
    "  print(doc)"
   ]
  },
  {
   "cell_type": "code",
   "execution_count": null,
   "metadata": {},
   "outputs": [],
   "source": [
    "# AND 조건 검색: \"AI\" 포함 + 링크가 news.naver.com 인 경우\n",
    "\n",
    "from pymongo import MongoClient\n",
    "client = MongoClient(\"mongodb://localhost:27017\")\n",
    "db = client[\"news_db\"]\n",
    "collection = db[\"naver_it\"]\n",
    "\n",
    "query = {\n",
    "  \"$and\": [\n",
    "    {\"title\": {\"$regex\": \"AI\"}},\n",
    "    {\"link\": {\"$regex\": \"news.naver.com\"}}\n",
    "  ]\n",
    "}\n",
    "\n",
    "for doc in collection.find(query, {\"_id\": 0}):\n",
    "  print(doc)"
   ]
  },
  {
   "cell_type": "code",
   "execution_count": null,
   "metadata": {},
   "outputs": [],
   "source": [
    "# 제목이 'A'로 시작하는 뉴스\n",
    "\n",
    "from pymongo import MongoClient\n",
    "client = MongoClient(\"mongodb://localhost:27017\")\n",
    "db = client[\"news_db\"]\n",
    "collection = db[\"naver_it\"]\n",
    "\n",
    "query = {\n",
    "  \"title\": {\"$regex\": \"^A\"}\n",
    "}\n",
    "\n",
    "for doc in collection.find(query, {\"_id\": 0}):\n",
    "  print(doc)"
   ]
  },
  {
   "cell_type": "code",
   "execution_count": null,
   "metadata": {},
   "outputs": [],
   "source": [
    "# 'ChatGPT'가 포함되지 않은 뉴스\n",
    "\n",
    "from pymongo import MongoClient\n",
    "client = MongoClient(\"mongodb://localhost:27017\")\n",
    "db = client[\"news_db\"]\n",
    "collection = db[\"naver_it\"]\n",
    "\n",
    "query = {\n",
    "  \"title\": {\"$not\": {\"$regex\": \"ChatGPT\"}}\n",
    "}\n",
    "\n",
    "for doc in collection.find(query, {\"_id\": 0}):\n",
    "  print(doc)"
   ]
  },
  {
   "cell_type": "code",
   "execution_count": null,
   "metadata": {},
   "outputs": [],
   "source": [
    "# 대소문자 구분 없이 'ai' 포함 뉴스\n",
    "\n",
    "from pymongo import MongoClient\n",
    "client = MongoClient(\"mongodb://localhost:27017\")\n",
    "db = client[\"news_db\"]\n",
    "collection = db[\"naver_it\"]\n",
    "\n",
    "query = {\n",
    "  \"title\": {\"$regex\": \"(?i)ai\"}\n",
    "}\n",
    "\n",
    "for doc in collection.find(query, {\"_id\": 0}):\n",
    "  print(doc)"
   ]
  },
  {
   "cell_type": "code",
   "execution_count": null,
   "metadata": {},
   "outputs": [],
   "source": [
    "# 웹 크롤링 + MongoDB 저장 실습\n",
    "\n",
    "import requests\n",
    "from bs4 import BeautifulSoup\n",
    "from pymongo import MongoClient\n",
    "\n",
    "url = \"https://news.naver.com/section/100\"\n",
    "\n",
    "response = requests.get(url)\n",
    "\n",
    "news_titles = []\n",
    "news_links = []\n",
    "\n",
    "if response.status_code == 200:\n",
    "  soup = BeautifulSoup(response.text, 'html.parser')\n",
    "  \n",
    "  for a in soup.select('.sa_text a[href]'):\n",
    "    strong = a.select_one('strong')\n",
    "    if strong:\n",
    "      news_titles.append(strong.get_text(strip=True))\n",
    "      news_links.append(a['href'])\n",
    "    \n",
    "for i, (title, link) in enumerate(zip(news_titles, news_links), 1):\n",
    "  print(f\"{i}. {title}, {link}\")\n",
    "print(f\"\\n뉴스 {len(news_titles)}개 출력 완료\")\n",
    "\n",
    "news_data = [{\"title\": title, \"link\": link} for title, link in zip(news_titles, news_links)]\n",
    "\n",
    "client = MongoClient(\"mongodb://localhost:27017\")\n",
    "db = client[\"naver_db\"]\n",
    "collection = db[\"news\"]\n",
    "\n",
    "# collection.insert_many(news_data)\n",
    "print(\"MongoDB 뉴스 데이터 저장 완료\")"
   ]
  },
  {
   "cell_type": "code",
   "execution_count": null,
   "metadata": {},
   "outputs": [],
   "source": [
    "# MongoDB 데이터 전처리 및 정제"
   ]
  },
  {
   "cell_type": "code",
   "execution_count": null,
   "metadata": {},
   "outputs": [],
   "source": [
    "# 불필요한 필드 제거: _id 제외하고 보기\n",
    "\n",
    "from pymongo import MongoClient\n",
    "client = MongoClient(\"mongodb://localhost:27017\")\n",
    "db = client[\"news_db\"]\n",
    "collection = db[\"naver_it\"]\n",
    "\n",
    "for doc in collection.find({}, {\"_id\": 0}):\n",
    "  print(doc)"
   ]
  },
  {
   "cell_type": "code",
   "execution_count": null,
   "metadata": {},
   "outputs": [],
   "source": [
    "# 중복 제거: title 기준 중복 처리\n",
    "\n",
    "from pymongo import MongoClient\n",
    "client = MongoClient(\"mongodb://localhost:27017\")\n",
    "db = client[\"news_db\"]\n",
    "collection = db[\"naver_it\"]\n",
    "\n",
    "titles_seen = set()\n",
    "for doc in collection.find():\n",
    "  if doc[\"title\"] in titles_seen:\n",
    "    collection.delete_one({\"_id\": doc[\"_id\"]})\n",
    "  else:\n",
    "    titles_seen.add(doc[\"title\"])\n",
    "    \n",
    "for title in titles_seen:\n",
    "  print(title)"
   ]
  },
  {
   "cell_type": "code",
   "execution_count": null,
   "metadata": {},
   "outputs": [],
   "source": [
    "# 형식 정리: 소문자 통일\n",
    "\n",
    "from pymongo import MongoClient\n",
    "client = MongoClient(\"mongodb://localhost:27017\")\n",
    "db = client[\"news_db\"]\n",
    "collection = db[\"naver_it\"]\n",
    "\n",
    "for doc in collection.find():\n",
    "  new_title = doc[\"title\"].lower()\n",
    "  collection.update_one({\"_id\": doc[\"_id\"]}, {\"$set\": {\"title\": new_title}})\n",
    "\n",
    "for doc in collection.find({}, {\"_id\": 0}):\n",
    "  print(doc)"
   ]
  },
  {
   "cell_type": "code",
   "execution_count": null,
   "metadata": {},
   "outputs": [],
   "source": [
    "# \"title\" 필드가 없는 문서 삭제\n",
    "\n",
    "from pymongo import MongoClient\n",
    "client = MongoClient(\"mongodb://localhost:27017\")\n",
    "db = client[\"news_db\"]\n",
    "collection = db[\"naver_it\"]\n",
    "\n",
    "collection.delete_many({\"title\": {\"$exists\": False}})\n",
    "for doc in collection.find({}, {\"_id\": 0, \"index\": 0}):\n",
    "  print(doc)"
   ]
  },
  {
   "cell_type": "code",
   "execution_count": null,
   "metadata": {},
   "outputs": [],
   "source": [
    "# \"link\"가 네이버 뉴스가 아닌 문서 삭제\n",
    "\n",
    "from pymongo import MongoClient\n",
    "client = MongoClient(\"mongodb://localhost:27017\")\n",
    "db = client[\"news_db\"]\n",
    "collection = db[\"naver_it\"]\n",
    "\n",
    "collection.delete_many({\"link\": {\"$not\": {\"$regex\": \"^https://news.naver.com\"}}})\n",
    "for doc in collection.find({}, {\"_id\": 0, \"index\": 0}):\n",
    "  print(doc)"
   ]
  },
  {
   "cell_type": "code",
   "execution_count": null,
   "metadata": {},
   "outputs": [],
   "source": [
    "# 모든 title을 소문자로 변환\n",
    "\n",
    "from pymongo import MongoClient\n",
    "client = MongoClient(\"mongodb://localhost:27017\")\n",
    "db = client[\"news_db\"]\n",
    "collection = db[\"naver_it\"]\n",
    "\n",
    "for doc in collection.find():\n",
    "  new_title = doc[\"title\"].lower()\n",
    "  collection.update_one({\"_id\": doc[\"_id\"]}, {\"$set\": {\"title\": new_title}})\n",
    "\n",
    "for doc in collection.find({}, {\"_id\": 0, \"index\": 0}):\n",
    "  print(doc)"
   ]
  },
  {
   "cell_type": "code",
   "execution_count": null,
   "metadata": {},
   "outputs": [],
   "source": [
    "# 중복 title 제거\n",
    "\n",
    "from pymongo import MongoClient\n",
    "client = MongoClient(\"mongodb://localhost:27017\")\n",
    "db = client[\"news_db\"]\n",
    "collection = db[\"naver_it\"]\n",
    "\n",
    "titles_seen = set()\n",
    "\n",
    "print(titles_seen)\n",
    "for doc in collection.find():\n",
    "  if doc[\"title\"] in titles_seen:\n",
    "    collection.delete_one({\"_id\": doc[\"_id\"]})\n",
    "  else:\n",
    "    titles_seen.add(doc[\"title\"])\n",
    "    \n",
    "for title in titles_seen:\n",
    "  print(title)"
   ]
  },
  {
   "cell_type": "code",
   "execution_count": null,
   "metadata": {},
   "outputs": [],
   "source": [
    "# index가 문자열이면 정수로 변환\n",
    "\n",
    "from pymongo import MongoClient\n",
    "client = MongoClient(\"mongodb://localhost:27017\")\n",
    "db = client[\"news_db\"]\n",
    "collection = db[\"naver_it\"]\n",
    "\n",
    "for doc in collection.find():\n",
    "  if isinstance(doc.get(\"index\"), str):\n",
    "    try:\n",
    "      idx = int(doc[\"index\"])\n",
    "      collection.update_one({\"_id\": doc[\"_id\"]}, {\"$set\": {\"index\": idx}})\n",
    "    except:\n",
    "      pass\n",
    "    \n",
    "for doc in collection.find({}, {\"_id\": 0, \"index\": 0}):\n",
    "  print(doc)"
   ]
  },
  {
   "cell_type": "code",
   "execution_count": null,
   "metadata": {},
   "outputs": [],
   "source": [
    "# \"AI\", \"ChatGPT\" 포함되지 않은 뉴스 삭제\n",
    "\n",
    "from pymongo import MongoClient\n",
    "client = MongoClient(\"mongodb://localhost:27017\")\n",
    "db = client[\"news_db\"]\n",
    "collection = db[\"naver_it\"]\n",
    "\n",
    "collection.delete_many({\n",
    "  \"$and\": [\n",
    "    {\"title\": {\"$not\": {\"$regex\": \"AI\"}}},\n",
    "    {\"title\": {\"$not\": {\"$regex\": \"ChatGPT\"}}}\n",
    "  ]\n",
    "})\n",
    "\n",
    "for doc in collection.find({}, {\"_id\": 0, \"index\": 0}):\n",
    "  print(doc)"
   ]
  },
  {
   "cell_type": "code",
   "execution_count": null,
   "metadata": {},
   "outputs": [],
   "source": [
    "# 남은 문서 개수 출력\n",
    "\n",
    "from pymongo import MongoClient\n",
    "client = MongoClient(\"mongodb://localhost:27017\")\n",
    "db = client[\"news_db\"]\n",
    "collection = db[\"naver_it\"]\n",
    "\n",
    "for doc in collection.find({}, {\"_id\": 0, \"index\": 0}):\n",
    "  print(doc)"
   ]
  }
 ],
 "metadata": {
  "kernelspec": {
   "display_name": "Python 3",
   "language": "python",
   "name": "python3"
  },
  "language_info": {
   "codemirror_mode": {
    "name": "ipython",
    "version": 3
   },
   "file_extension": ".py",
   "mimetype": "text/x-python",
   "name": "python",
   "nbconvert_exporter": "python",
   "pygments_lexer": "ipython3",
   "version": "3.12.9"
  }
 },
 "nbformat": 4,
 "nbformat_minor": 2
}
