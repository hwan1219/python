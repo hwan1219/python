{
 "cells": [
  {
   "cell_type": "code",
   "execution_count": null,
   "metadata": {},
   "outputs": [],
   "source": [
    "# CNN"
   ]
  },
  {
   "cell_type": "code",
   "execution_count": null,
   "metadata": {},
   "outputs": [],
   "source": [
    "# Deep Learning 보충학습2\n",
    "# tensorflow.keras.datasets.mminst 학습\n",
    "\n",
    "import matplotlib.pyplot as plt\n",
    "from keras.datasets import mnist\n",
    "\n",
    "# load_data()로 데이터셋을 로드\n",
    "(x_train, y_train), (x_test, y_test) = mnist.load_data()\n",
    "\n",
    "# 로드된 데이터셋 확인\n",
    "print(f\"train set: {x_train.shape}, {y_train.shape}\")\n",
    "print(f\"test set: {x_test.shape}, {y_test.shape}\")\n",
    "\n",
    "# 데이터 시각화\n",
    "fig, axes = plt.subplots(3,5)\n",
    "fig.set_size_inches(8,5)\n",
    "\n",
    "for i in range(15):\n",
    "  ax = axes[i//5, i%5]\n",
    "  # // = 소수점을 버리고 몫만 남긴 값\n",
    "  # % = 나눗셈 후 몫을 버리고 \n",
    "  ax.imshow(x_train[i], cmap='gray')\n",
    "  ax.axis('off')\n",
    "  ax.set_title(str(y_train[i]))\n",
    "  \n",
    "plt.tight_layout()\n",
    "plt.show()\n",
    "\n",
    "# x_train 배열의 데이터 확인\n",
    "x_train[0, 10:15, 10:15] # (순서, 행, 열)"
   ]
  },
  {
   "cell_type": "code",
   "execution_count": null,
   "metadata": {},
   "outputs": [],
   "source": []
  },
  {
   "cell_type": "code",
   "execution_count": null,
   "metadata": {},
   "outputs": [],
   "source": []
  },
  {
   "cell_type": "code",
   "execution_count": null,
   "metadata": {},
   "outputs": [],
   "source": []
  },
  {
   "cell_type": "code",
   "execution_count": null,
   "metadata": {},
   "outputs": [],
   "source": []
  },
  {
   "cell_type": "code",
   "execution_count": null,
   "metadata": {},
   "outputs": [],
   "source": []
  }
 ],
 "metadata": {
  "kernelspec": {
   "display_name": "Python 3",
   "language": "python",
   "name": "python3"
  },
  "language_info": {
   "codemirror_mode": {
    "name": "ipython",
    "version": 3
   },
   "file_extension": ".py",
   "mimetype": "text/x-python",
   "name": "python",
   "nbconvert_exporter": "python",
   "pygments_lexer": "ipython3",
   "version": "3.12.9"
  }
 },
 "nbformat": 4,
 "nbformat_minor": 2
}
