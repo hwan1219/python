{
 "cells": [
  {
   "cell_type": "code",
   "execution_count": null,
   "metadata": {},
   "outputs": [],
   "source": [
    "# 전이 학습(Transfer Learning)"
   ]
  },
  {
   "cell_type": "code",
   "execution_count": null,
   "metadata": {},
   "outputs": [],
   "source": [
    "#####"
   ]
  },
  {
   "cell_type": "code",
   "execution_count": null,
   "metadata": {},
   "outputs": [],
   "source": [
    "# 1."
   ]
  },
  {
   "cell_type": "code",
   "execution_count": null,
   "metadata": {},
   "outputs": [],
   "source": [
    "#####"
   ]
  },
  {
   "cell_type": "code",
   "execution_count": null,
   "metadata": {},
   "outputs": [],
   "source": [
    "# 2. 실습1\n",
    "\n",
    "# VGG16 을 전이학습으로 사용하고, 데이터는 간단히 랜덤 이미지 데이터로 만들어서 구조 테스트\n",
    "\n",
    "from tensorflow.keras.applications import VGG16\n",
    "from tensorflow.keras.models import Model\n",
    "from tensorflow.keras.layers import Dense, Flatten\n",
    "from tensorflow.keras import Input\n",
    "import numpy as np\n",
    "\n",
    "# 1) 랜덤 이미지 데이터 생성\n",
    "# 훈련 데이터 100개, 검증 데이터 20개\n",
    "train_data = np.random.rand(100, 224, 224, 3)\n",
    "train_labels = np.random.randint(0, 2, size=(100,1))\n",
    "val_data = np.random.rand(20, 224, 224, 3)\n",
    "val_labels = np.random.randint(0, 2, size=(20,1))\n",
    "\n",
    "# 2) VGG16 사전 학습 모델 로딩\n",
    "# 모든 레이어의 가중치를 고정 (Feature Extractor 로 사용)\n",
    "# 입력 이미지에서 의미 있는 패턴(특징)을 자동 추출해주는 신경망의 앞쪽(Conv Layer) 부분\n",
    "base_model = VGG16(\n",
    "  weights='imagenet',\n",
    "  include_top=False,\n",
    "  # include_top=False: 마지막 분류층 임의 설정\n",
    "  input_shape=(224, 224, 3)\n",
    ")\n",
    "for layer in base_model.layers:\n",
    "  layer.trainable = False\n",
    "  \n",
    "# 3) 새로운 출력층 추가 (Fine-tunning Head)\n",
    "x = Flatten()(base_model.output)\n",
    "x = Dense(128, activation='relu')(x)\n",
    "output = Dense(1, activation='sigmoid')(x)\n",
    "\n",
    "# 4) 전체 모델 정의 및 컴파일\n",
    "model = Model(inputs=base_model.input, outputs=output)\n",
    "model.compile(\n",
    "\toptimizer='adam',\n",
    " loss='binary_crossentropy',\n",
    " metrics=['accuracy']\n",
    ")\n",
    "\n",
    "# 5) 모델 학습\n",
    "history = model.fit(\n",
    "  train_data, train_labels,\n",
    "  epochs=3,\n",
    "  batch_size=16,\n",
    "  validation_data=(val_data, val_labels)\n",
    ")\n",
    "\n",
    "model.summary()"
   ]
  },
  {
   "cell_type": "code",
   "execution_count": null,
   "metadata": {},
   "outputs": [],
   "source": [
    "# 3. 실습2\n",
    "\n",
    "# 분류 예측하기\n",
    "\n",
    "# 기본 환경 설정\n",
    "import pandas as pd\n",
    "import numpy as np\n",
    "import tensorflow as tf\n",
    "import matplotlib.pyplot as plt\n",
    "import random\n",
    "import tensorflow_datasets as tfds\n",
    "from tensorflow.keras.models import Sequential\n",
    "from tensorflow.keras.layers import Flatten, Dense, Dropout, Conv2D, MaxPooling2D, Reshape, BatchNormalization\n",
    "\n",
    "# 랜덤 시드 고정\n",
    "SEED = 12\n",
    "random.seed(SEED)\n",
    "np.random.seed(SEED)\n",
    "tf.random.set_seed(SEED)\n",
    "\n",
    "# CIFAR10 이미지 데이터셋\n",
    "(ds_train, ds_test), ds_info = tfds.load(\n",
    "  'cifar10',\n",
    "  split=['train', 'test'],\n",
    "  with_info=True,\n",
    "  as_supervised=True # image, Label 형태로 튜플 반환\n",
    ")\n",
    "print(ds_info.features)\n",
    "\n",
    "X_train = np.array([x for x, _ in tfds.as_numpy(ds_train)])\n",
    "y_train = np.array([y for _, y in tfds.as_numpy(ds_train)])\n",
    "X_test = np.array([x for x, _ in tfds.as_numpy(ds_test)])\n",
    "y_test = np.array([y for _, y in tfds.as_numpy(ds_test)])\n",
    "\n",
    "print(f\"train data size: {X_train.shape} {y_train.shape}\")\n",
    "print(f\"test data size: {X_test.shape} {y_test.shape}\")\n",
    "\n",
    "for i in range(1, 21):\n",
    "  plt.subplot(4, 5, i)\n",
    "  plt.imshow(X_train[i])\n",
    "  plt.axis('off')\n",
    "plt.tight_layout()\n",
    "plt.show()\n",
    "\n",
    "# def build_cnn():\n"
   ]
  },
  {
   "cell_type": "code",
   "execution_count": null,
   "metadata": {},
   "outputs": [],
   "source": []
  },
  {
   "cell_type": "code",
   "execution_count": null,
   "metadata": {},
   "outputs": [],
   "source": []
  }
 ],
 "metadata": {
  "kernelspec": {
   "display_name": "Python 3",
   "language": "python",
   "name": "python3"
  },
  "language_info": {
   "codemirror_mode": {
    "name": "ipython",
    "version": 3
   },
   "file_extension": ".py",
   "mimetype": "text/x-python",
   "name": "python",
   "nbconvert_exporter": "python",
   "pygments_lexer": "ipython3",
   "version": "3.12.9"
  }
 },
 "nbformat": 4,
 "nbformat_minor": 2
}
