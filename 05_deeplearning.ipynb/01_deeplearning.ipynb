{
 "cells": [
  {
   "cell_type": "code",
   "execution_count": null,
   "metadata": {},
   "outputs": [],
   "source": [
    "# 1. 딥러닝 개요"
   ]
  },
  {
   "cell_type": "code",
   "execution_count": null,
   "metadata": {},
   "outputs": [],
   "source": [
    "#\n",
    "#\n",
    "#\n",
    "#\n",
    "#\n",
    "# 1 내용\n",
    "#\n",
    "#\n",
    "#\n",
    "#\n",
    "#"
   ]
  },
  {
   "cell_type": "code",
   "execution_count": null,
   "metadata": {},
   "outputs": [],
   "source": [
    "# 2. 신경망의 구조\n",
    "\n",
    "# 1) 퍼셉트론 (Perceptron)\n",
    "# 인공 신경망의 기본 단위\n",
    "# 입력값에 가중치를 곱하고 합산 후, 활성화 함수로 출력을 만듦\n",
    "# 입렵값과 가중치가 선형 결합됨\n",
    "# 여기에 편향 bbb를 더하고, 활성화 함수 fff를 거쳐 결과 yyy출력\n",
    "# 가장 기본적인 신경만 단위로 AND, OR 논리 게이트 구현 가능"
   ]
  },
  {
   "cell_type": "code",
   "execution_count": null,
   "metadata": {},
   "outputs": [],
   "source": [
    "# 2 - 실습1\n",
    "\n",
    "import numpy as np\n",
    "\n",
    "# 1) 입력데이터 (AND 연산)\n",
    "# 각 행은 [x1, x2]\n",
    "x = np.array([[0,0], [0,1], [1,0], [1,1]])\n",
    "\n",
    "# 2. 정답 레이블 (AND 연산의 결과)\n",
    "# 0 AND 0 = 0,\n",
    "# 0 AND 1 = 0,\n",
    "# 1 AND 0 = 0,\n",
    "# 1 AND 1 = 1\n",
    "y = np.array([0,0,0,1])\n",
    "\n",
    "# 3. 퍼셉트론 파라미터 초기화 (y=wx+b)\n",
    "# 가중치 2개(w1, w2), 편향 b\n",
    "w = np.random.rand(2)\n",
    "b = np.random.rand()\n",
    "\n",
    "# 4. 학습률 (Learning Rate)\n",
    "# 모델이 얼마나 빠르게 학습할 지 속도 조절\n",
    "# 보통 0.01 ~ 0.1 설정 (추후 재확인)\n",
    "lr = 0.1\n",
    "\n",
    "# 5. 활성화 함수 (계단 함수 - step function)\n",
    "def step(x):\n",
    "  return 1 if x >= 0 else 0\n",
    "\n",
    "# 6. 학습 반복\n",
    "for epoch in range(20):\n",
    "  print(f\"\\nEPoch {epoch+1}\")\n",
    "  for i in range(len(x)):\n",
    "    z = np.dot(x[i], w) + b # z = w1*x1 + w2*x2 + b\n",
    "    y_pred = step(z)\n",
    "    error = y[i] - y_pred # 오차 = 정답 - 예측값\n",
    "    w = w + lr * error * x[i]\n",
    "    b = b + lr * error\n",
    "    print(f\"x:{x[i]}, y:{y[i]}, pred:{y_pred}, w:{w}, b:{b}\")\n",
    "\n",
    "for x_input in x:\n",
    "  z = np.dot(x_input, w) + b\n",
    "  y_output = step(z)\n",
    "  print(f\"입력: {x_input} -> 출력: {y_output}\")\n"
   ]
  },
  {
   "cell_type": "code",
   "execution_count": null,
   "metadata": {},
   "outputs": [],
   "source": []
  }
 ],
 "metadata": {
  "kernelspec": {
   "display_name": "Python 3",
   "language": "python",
   "name": "python3"
  },
  "language_info": {
   "codemirror_mode": {
    "name": "ipython",
    "version": 3
   },
   "file_extension": ".py",
   "mimetype": "text/x-python",
   "name": "python",
   "nbconvert_exporter": "python",
   "pygments_lexer": "ipython3",
   "version": "3.12.9"
  }
 },
 "nbformat": 4,
 "nbformat_minor": 2
}
